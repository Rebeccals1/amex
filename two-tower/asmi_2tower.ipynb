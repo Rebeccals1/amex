{
 "cells": [
  {
   "cell_type": "code",
   "execution_count": null,
   "metadata": {},
   "outputs": [],
   "source": [
    "import tensorflow as tf\n",
    "from tensorflow.keras.layers import Input, Embedding, Dense, Dot, Concatenate\n",
    "from tensorflow.keras.models import Model\n"
   ]
  },
  {
   "cell_type": "code",
   "execution_count": 1,
   "metadata": {},
   "outputs": [
    {
     "ename": "NameError",
     "evalue": "name 'Input' is not defined",
     "output_type": "error",
     "traceback": [
      "\u001b[1;31m---------------------------------------------------------------------------\u001b[0m",
      "\u001b[1;31mNameError\u001b[0m                                 Traceback (most recent call last)",
      "Cell \u001b[1;32mIn[1], line 6\u001b[0m\n\u001b[0;32m      3\u001b[0m customer_feature_dim \u001b[38;5;241m=\u001b[39m \u001b[38;5;241m15\u001b[39m  \u001b[38;5;66;03m# Example number of customer features\u001b[39;00m\n\u001b[0;32m      5\u001b[0m \u001b[38;5;66;03m# Product Tower\u001b[39;00m\n\u001b[1;32m----> 6\u001b[0m product_input \u001b[38;5;241m=\u001b[39m \u001b[43mInput\u001b[49m(shape\u001b[38;5;241m=\u001b[39m(product_feature_dim,), name\u001b[38;5;241m=\u001b[39m\u001b[38;5;124m'\u001b[39m\u001b[38;5;124mproduct_input\u001b[39m\u001b[38;5;124m'\u001b[39m)\n\u001b[0;32m      7\u001b[0m product_embedding \u001b[38;5;241m=\u001b[39m Dense(\u001b[38;5;241m128\u001b[39m, activation\u001b[38;5;241m=\u001b[39m\u001b[38;5;124m'\u001b[39m\u001b[38;5;124mrelu\u001b[39m\u001b[38;5;124m'\u001b[39m)(product_input)\n\u001b[0;32m      8\u001b[0m product_embedding \u001b[38;5;241m=\u001b[39m Dense(\u001b[38;5;241m64\u001b[39m, activation\u001b[38;5;241m=\u001b[39m\u001b[38;5;124m'\u001b[39m\u001b[38;5;124mrelu\u001b[39m\u001b[38;5;124m'\u001b[39m)(product_embedding)  \u001b[38;5;66;03m# Final product embedding\u001b[39;00m\n",
      "\u001b[1;31mNameError\u001b[0m: name 'Input' is not defined"
     ]
    }
   ],
   "source": [
    "# Define dimensions (these should match your feature dimensions)\n",
    "product_feature_dim = 10  # Example number of product features\n",
    "customer_feature_dim = 15  # Example number of customer features\n",
    "\n",
    "# Product Tower\n",
    "product_input = Input(shape=(product_feature_dim,), name='product_input')\n",
    "product_embedding = Dense(128, activation='relu')(product_input)\n",
    "product_embedding = Dense(64, activation='relu')(product_embedding)  # Final product embedding\n",
    "\n",
    "# Customer Tower\n",
    "customer_input = Input(shape=(customer_feature_dim,), name='customer_input')\n",
    "customer_embedding = Dense(128, activation='relu')(customer_input)\n",
    "customer_embedding = Dense(64, activation='relu')(customer_embedding)  # Final customer embedding\n"
   ]
  },
  {
   "cell_type": "code",
   "execution_count": 2,
   "metadata": {},
   "outputs": [
    {
     "ename": "NameError",
     "evalue": "name 'Dot' is not defined",
     "output_type": "error",
     "traceback": [
      "\u001b[1;31m---------------------------------------------------------------------------\u001b[0m",
      "\u001b[1;31mNameError\u001b[0m                                 Traceback (most recent call last)",
      "Cell \u001b[1;32mIn[2], line 2\u001b[0m\n\u001b[0;32m      1\u001b[0m \u001b[38;5;66;03m# Compute the dot product of the customer and product embeddings\u001b[39;00m\n\u001b[1;32m----> 2\u001b[0m dot_product \u001b[38;5;241m=\u001b[39m \u001b[43mDot\u001b[49m(axes\u001b[38;5;241m=\u001b[39m\u001b[38;5;241m1\u001b[39m)([product_embedding, customer_embedding])\n",
      "\u001b[1;31mNameError\u001b[0m: name 'Dot' is not defined"
     ]
    }
   ],
   "source": [
    "# Compute the dot product of the customer and product embeddings\n",
    "dot_product = Dot(axes=1)([product_embedding, customer_embedding])\n"
   ]
  },
  {
   "cell_type": "code",
   "execution_count": 3,
   "metadata": {},
   "outputs": [
    {
     "ename": "NameError",
     "evalue": "name 'Model' is not defined",
     "output_type": "error",
     "traceback": [
      "\u001b[1;31m---------------------------------------------------------------------------\u001b[0m",
      "\u001b[1;31mNameError\u001b[0m                                 Traceback (most recent call last)",
      "Cell \u001b[1;32mIn[3], line 2\u001b[0m\n\u001b[0;32m      1\u001b[0m \u001b[38;5;66;03m# Dot product as output\u001b[39;00m\n\u001b[1;32m----> 2\u001b[0m model_dot \u001b[38;5;241m=\u001b[39m \u001b[43mModel\u001b[49m(inputs\u001b[38;5;241m=\u001b[39m[product_input, customer_input], outputs\u001b[38;5;241m=\u001b[39mdot_product)\n\u001b[0;32m      4\u001b[0m \u001b[38;5;66;03m# Concatenation with additional dense layers as output\u001b[39;00m\n\u001b[0;32m      5\u001b[0m model_concat \u001b[38;5;241m=\u001b[39m Model(inputs\u001b[38;5;241m=\u001b[39m[product_input, customer_input], outputs\u001b[38;5;241m=\u001b[39moutput)\n",
      "\u001b[1;31mNameError\u001b[0m: name 'Model' is not defined"
     ]
    }
   ],
   "source": [
    "# Dot product as output\n",
    "model_dot = Model(inputs=[product_input, customer_input], outputs=dot_product)\n",
    "\n",
    "# Concatenation with additional dense layers as output\n",
    "model_concat = Model(inputs=[product_input, customer_input], outputs=output)\n",
    "\n",
    "# Compile the model (use binary_crossentropy if the task is binary classification)\n",
    "model_concat.compile(optimizer='adam', loss='binary_crossentropy', metrics=['accuracy'])\n",
    "\n",
    "# Model summary to verify the architecture\n",
    "model_concat.summary()\n"
   ]
  },
  {
   "cell_type": "code",
   "execution_count": 4,
   "metadata": {},
   "outputs": [
    {
     "ename": "NameError",
     "evalue": "name 'model_concat' is not defined",
     "output_type": "error",
     "traceback": [
      "\u001b[1;31m---------------------------------------------------------------------------\u001b[0m",
      "\u001b[1;31mNameError\u001b[0m                                 Traceback (most recent call last)",
      "Cell \u001b[1;32mIn[4], line 7\u001b[0m\n\u001b[0;32m      1\u001b[0m \u001b[38;5;66;03m# Assuming product_data, customer_data, and interaction_labels are your preprocessed datasets\u001b[39;00m\n\u001b[0;32m      2\u001b[0m \u001b[38;5;66;03m# product_data.shape = (num_samples, product_feature_dim)\u001b[39;00m\n\u001b[0;32m      3\u001b[0m \u001b[38;5;66;03m# customer_data.shape = (num_samples, customer_feature_dim)\u001b[39;00m\n\u001b[0;32m      4\u001b[0m \u001b[38;5;66;03m# interaction_labels.shape = (num_samples,)\u001b[39;00m\n\u001b[0;32m      5\u001b[0m \n\u001b[0;32m      6\u001b[0m \u001b[38;5;66;03m# Train the model\u001b[39;00m\n\u001b[1;32m----> 7\u001b[0m history \u001b[38;5;241m=\u001b[39m \u001b[43mmodel_concat\u001b[49m\u001b[38;5;241m.\u001b[39mfit([product_data, customer_data], interaction_labels, epochs\u001b[38;5;241m=\u001b[39m\u001b[38;5;241m10\u001b[39m, batch_size\u001b[38;5;241m=\u001b[39m\u001b[38;5;241m32\u001b[39m)\n\u001b[0;32m      9\u001b[0m \u001b[38;5;66;03m# Evaluate the model\u001b[39;00m\n\u001b[0;32m     10\u001b[0m loss, accuracy \u001b[38;5;241m=\u001b[39m model_concat\u001b[38;5;241m.\u001b[39mevaluate([product_data, customer_data], interaction_labels)\n",
      "\u001b[1;31mNameError\u001b[0m: name 'model_concat' is not defined"
     ]
    }
   ],
   "source": [
    "# Assuming product_data, customer_data, and interaction_labels are your preprocessed datasets\n",
    "# product_data.shape = (num_samples, product_feature_dim)\n",
    "# customer_data.shape = (num_samples, customer_feature_dim)\n",
    "# interaction_labels.shape = (num_samples,)\n",
    "\n",
    "# Train the model\n",
    "history = model_concat.fit([product_data, customer_data], interaction_labels, epochs=10, batch_size=32)\n",
    "\n",
    "# Evaluate the model\n",
    "loss, accuracy = model_concat.evaluate([product_data, customer_data], interaction_labels)\n",
    "print(f\"Model Loss: {loss}, Model Accuracy: {accuracy}\")\n"
   ]
  },
  {
   "cell_type": "code",
   "execution_count": 5,
   "metadata": {},
   "outputs": [
    {
     "ename": "NameError",
     "evalue": "name 'model_concat' is not defined",
     "output_type": "error",
     "traceback": [
      "\u001b[1;31m---------------------------------------------------------------------------\u001b[0m",
      "\u001b[1;31mNameError\u001b[0m                                 Traceback (most recent call last)",
      "Cell \u001b[1;32mIn[5], line 5\u001b[0m\n\u001b[0;32m      2\u001b[0m new_product_data \u001b[38;5;241m=\u001b[39m [[\u001b[38;5;241m.\u001b[39m\u001b[38;5;241m.\u001b[39m\u001b[38;5;241m.\u001b[39m]]  \u001b[38;5;66;03m# New product features\u001b[39;00m\n\u001b[0;32m      3\u001b[0m new_customer_data \u001b[38;5;241m=\u001b[39m [[\u001b[38;5;241m.\u001b[39m\u001b[38;5;241m.\u001b[39m\u001b[38;5;241m.\u001b[39m]]  \u001b[38;5;66;03m# New customer features\u001b[39;00m\n\u001b[1;32m----> 5\u001b[0m predictions \u001b[38;5;241m=\u001b[39m \u001b[43mmodel_concat\u001b[49m\u001b[38;5;241m.\u001b[39mpredict([new_product_data, new_customer_data])\n\u001b[0;32m      6\u001b[0m \u001b[38;5;28mprint\u001b[39m(\u001b[38;5;124m\"\u001b[39m\u001b[38;5;124mPredicted Interaction Likelihoods: \u001b[39m\u001b[38;5;124m\"\u001b[39m, predictions)\n",
      "\u001b[1;31mNameError\u001b[0m: name 'model_concat' is not defined"
     ]
    }
   ],
   "source": [
    "# Example of making predictions with new customer-product data\n",
    "new_product_data = [[...]]  # New product features\n",
    "new_customer_data = [[...]]  # New customer features\n",
    "\n",
    "predictions = model_concat.predict([new_product_data, new_customer_data])\n",
    "print(\"Predicted Interaction Likelihoods: \", predictions)\n"
   ]
  },
  {
   "cell_type": "code",
   "execution_count": null,
   "metadata": {},
   "outputs": [],
   "source": []
  }
 ],
 "metadata": {
  "kernelspec": {
   "display_name": ".venv",
   "language": "python",
   "name": "python3"
  },
  "language_info": {
   "codemirror_mode": {
    "name": "ipython",
    "version": 3
   },
   "file_extension": ".py",
   "mimetype": "text/x-python",
   "name": "python",
   "nbconvert_exporter": "python",
   "pygments_lexer": "ipython3",
   "version": "3.12.4"
  }
 },
 "nbformat": 4,
 "nbformat_minor": 2
}
