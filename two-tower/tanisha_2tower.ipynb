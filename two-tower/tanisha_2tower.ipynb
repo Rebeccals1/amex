{
 "cells": [
  {
   "cell_type": "code",
   "execution_count": 1,
   "metadata": {},
   "outputs": [],
   "source": [
    "import pandas as pd\n",
    "from sklearn.preprocessing import LabelEncoder\n",
    "import numpy as np\n",
    "import ast"
   ]
  },
  {
   "cell_type": "code",
   "execution_count": 2,
   "metadata": {},
   "outputs": [],
   "source": [
    "users = pd.read_csv('https://raw.githubusercontent.com/ardahk/amex/refs/heads/main/data/users_final.csv')\n",
    "product_embeddings = pd.read_csv('https://github.com/ardahk/amex/raw/refs/heads/main/data/name_embeddings.csv')\n",
    "products = pd.read_csv('https://github.com/ardahk/amex/raw/refs/heads/main/data/products.csv')\n",
    "order_items = pd.read_csv('https://github.com/ardahk/amex/raw/refs/heads/main/data/order_items.csv')"
   ]
  },
  {
   "cell_type": "markdown",
   "metadata": {},
   "source": [
    "### Merge name embeddings and products dataframe"
   ]
  },
  {
   "cell_type": "code",
   "execution_count": 6,
   "metadata": {},
   "outputs": [
    {
     "data": {
      "text/html": [
       "<div>\n",
       "<style scoped>\n",
       "    .dataframe tbody tr th:only-of-type {\n",
       "        vertical-align: middle;\n",
       "    }\n",
       "\n",
       "    .dataframe tbody tr th {\n",
       "        vertical-align: top;\n",
       "    }\n",
       "\n",
       "    .dataframe thead th {\n",
       "        text-align: right;\n",
       "    }\n",
       "</style>\n",
       "<table border=\"1\" class=\"dataframe\">\n",
       "  <thead>\n",
       "    <tr style=\"text-align: right;\">\n",
       "      <th></th>\n",
       "      <th>id</th>\n",
       "      <th>cost</th>\n",
       "      <th>category</th>\n",
       "      <th>name</th>\n",
       "      <th>brand</th>\n",
       "      <th>retail_price</th>\n",
       "      <th>department</th>\n",
       "      <th>sku</th>\n",
       "      <th>distribution_center_id</th>\n",
       "      <th>product_id</th>\n",
       "      <th>name_embedding</th>\n",
       "    </tr>\n",
       "  </thead>\n",
       "  <tbody>\n",
       "    <tr>\n",
       "      <th>0</th>\n",
       "      <td>13928</td>\n",
       "      <td>2.33835</td>\n",
       "      <td>Accessories</td>\n",
       "      <td>Low Profile Dyed Cotton Twill Cap - Putty W39S55D</td>\n",
       "      <td>MG</td>\n",
       "      <td>5.95</td>\n",
       "      <td>Women</td>\n",
       "      <td>2EAC42424D12436BDD6A5B8A88480CC3</td>\n",
       "      <td>1</td>\n",
       "      <td>13928</td>\n",
       "      <td>[-0.5451024770736694, -0.34113600850105286, -0...</td>\n",
       "    </tr>\n",
       "    <tr>\n",
       "      <th>1</th>\n",
       "      <td>13928</td>\n",
       "      <td>2.33835</td>\n",
       "      <td>Accessories</td>\n",
       "      <td>Low Profile Dyed Cotton Twill Cap - Putty W39S55D</td>\n",
       "      <td>MG</td>\n",
       "      <td>5.95</td>\n",
       "      <td>Women</td>\n",
       "      <td>2EAC42424D12436BDD6A5B8A88480CC3</td>\n",
       "      <td>1</td>\n",
       "      <td>13928</td>\n",
       "      <td>[-0.5451024770736694, -0.34113600850105286, -0...</td>\n",
       "    </tr>\n",
       "    <tr>\n",
       "      <th>2</th>\n",
       "      <td>14115</td>\n",
       "      <td>4.87956</td>\n",
       "      <td>Accessories</td>\n",
       "      <td>Enzyme Regular Solid Army Caps-Black W35S45D</td>\n",
       "      <td>MG</td>\n",
       "      <td>10.99</td>\n",
       "      <td>Women</td>\n",
       "      <td>EE364229B2791D1EF9355708EFF0BA34</td>\n",
       "      <td>1</td>\n",
       "      <td>14115</td>\n",
       "      <td>[0.1337980031967163, -0.20477981865406036, 0.0...</td>\n",
       "    </tr>\n",
       "    <tr>\n",
       "      <th>3</th>\n",
       "      <td>14273</td>\n",
       "      <td>6.50793</td>\n",
       "      <td>Accessories</td>\n",
       "      <td>Washed Canvas Ivy Cap - Black W11S64C</td>\n",
       "      <td>MG</td>\n",
       "      <td>15.99</td>\n",
       "      <td>Women</td>\n",
       "      <td>F531DC20FDE20B7ADF3A73F52B71D0AF</td>\n",
       "      <td>1</td>\n",
       "      <td>14273</td>\n",
       "      <td>[-0.40627333521842957, 0.14057165384292603, -0...</td>\n",
       "    </tr>\n",
       "    <tr>\n",
       "      <th>4</th>\n",
       "      <td>14273</td>\n",
       "      <td>6.50793</td>\n",
       "      <td>Accessories</td>\n",
       "      <td>Washed Canvas Ivy Cap - Black W11S64C</td>\n",
       "      <td>MG</td>\n",
       "      <td>15.99</td>\n",
       "      <td>Women</td>\n",
       "      <td>F531DC20FDE20B7ADF3A73F52B71D0AF</td>\n",
       "      <td>1</td>\n",
       "      <td>14273</td>\n",
       "      <td>[-0.40627333521842957, 0.14057165384292603, -0...</td>\n",
       "    </tr>\n",
       "  </tbody>\n",
       "</table>\n",
       "</div>"
      ],
      "text/plain": [
       "      id     cost     category  \\\n",
       "0  13928  2.33835  Accessories   \n",
       "1  13928  2.33835  Accessories   \n",
       "2  14115  4.87956  Accessories   \n",
       "3  14273  6.50793  Accessories   \n",
       "4  14273  6.50793  Accessories   \n",
       "\n",
       "                                                name brand  retail_price  \\\n",
       "0  Low Profile Dyed Cotton Twill Cap - Putty W39S55D    MG          5.95   \n",
       "1  Low Profile Dyed Cotton Twill Cap - Putty W39S55D    MG          5.95   \n",
       "2       Enzyme Regular Solid Army Caps-Black W35S45D    MG         10.99   \n",
       "3              Washed Canvas Ivy Cap - Black W11S64C    MG         15.99   \n",
       "4              Washed Canvas Ivy Cap - Black W11S64C    MG         15.99   \n",
       "\n",
       "  department                               sku  distribution_center_id  \\\n",
       "0      Women  2EAC42424D12436BDD6A5B8A88480CC3                       1   \n",
       "1      Women  2EAC42424D12436BDD6A5B8A88480CC3                       1   \n",
       "2      Women  EE364229B2791D1EF9355708EFF0BA34                       1   \n",
       "3      Women  F531DC20FDE20B7ADF3A73F52B71D0AF                       1   \n",
       "4      Women  F531DC20FDE20B7ADF3A73F52B71D0AF                       1   \n",
       "\n",
       "   product_id                                     name_embedding  \n",
       "0       13928  [-0.5451024770736694, -0.34113600850105286, -0...  \n",
       "1       13928  [-0.5451024770736694, -0.34113600850105286, -0...  \n",
       "2       14115  [0.1337980031967163, -0.20477981865406036, 0.0...  \n",
       "3       14273  [-0.40627333521842957, 0.14057165384292603, -0...  \n",
       "4       14273  [-0.40627333521842957, 0.14057165384292603, -0...  "
      ]
     },
     "execution_count": 6,
     "metadata": {},
     "output_type": "execute_result"
    }
   ],
   "source": [
    "products_final = pd.merge(left = products, right = product_embeddings, left_on='id', right_on='product_id')\n",
    "products_final.head()"
   ]
  },
  {
   "cell_type": "code",
   "execution_count": 4,
   "metadata": {},
   "outputs": [],
   "source": [
    "products_final.drop(columns = ['id', 'name', 'distribution_center_id', 'sku'], inplace = True)"
   ]
  },
  {
   "cell_type": "code",
   "execution_count": 8,
   "metadata": {},
   "outputs": [
    {
     "data": {
      "text/plain": [
       "2756"
      ]
     },
     "execution_count": 8,
     "metadata": {},
     "output_type": "execute_result"
    }
   ],
   "source": [
    "products['brand'].nunique()"
   ]
  },
  {
   "cell_type": "code",
   "execution_count": 9,
   "metadata": {},
   "outputs": [
    {
     "data": {
      "text/plain": [
       "26"
      ]
     },
     "execution_count": 9,
     "metadata": {},
     "output_type": "execute_result"
    }
   ],
   "source": [
    "products['category'].nunique()"
   ]
  },
  {
   "cell_type": "markdown",
   "metadata": {},
   "source": [
    "There are too many unique brands to one-hot encode, so label encoding will be used with a reference table"
   ]
  },
  {
   "cell_type": "code",
   "execution_count": 10,
   "metadata": {},
   "outputs": [],
   "source": [
    "label_encoder = LabelEncoder()\n",
    "\n",
    "products_final['brand_encoded'] = label_encoder.fit_transform(products_final['brand'])"
   ]
  },
  {
   "cell_type": "code",
   "execution_count": 11,
   "metadata": {},
   "outputs": [
    {
     "name": "stdout",
     "output_type": "stream",
     "text": [
      "           brand  brand_encoded\n",
      "0      !it Jeans              0\n",
      "1      '47 Brand              1\n",
      "2    007Lingerie              2\n",
      "3      106Shades              3\n",
      "4  12XLShop Inc.              4\n"
     ]
    }
   ],
   "source": [
    "brands = pd.DataFrame({\n",
    "    'brand': label_encoder.classes_,\n",
    "    'brand_encoded': range(len(label_encoder.classes_))\n",
    "})\n",
    "print(brands.head())"
   ]
  },
  {
   "cell_type": "code",
   "execution_count": 12,
   "metadata": {},
   "outputs": [
    {
     "data": {
      "text/html": [
       "<div>\n",
       "<style scoped>\n",
       "    .dataframe tbody tr th:only-of-type {\n",
       "        vertical-align: middle;\n",
       "    }\n",
       "\n",
       "    .dataframe tbody tr th {\n",
       "        vertical-align: top;\n",
       "    }\n",
       "\n",
       "    .dataframe thead th {\n",
       "        text-align: right;\n",
       "    }\n",
       "</style>\n",
       "<table border=\"1\" class=\"dataframe\">\n",
       "  <thead>\n",
       "    <tr style=\"text-align: right;\">\n",
       "      <th></th>\n",
       "      <th>id</th>\n",
       "      <th>cost</th>\n",
       "      <th>category</th>\n",
       "      <th>name</th>\n",
       "      <th>retail_price</th>\n",
       "      <th>department</th>\n",
       "      <th>sku</th>\n",
       "      <th>distribution_center_id</th>\n",
       "      <th>product_id</th>\n",
       "      <th>name_embedding</th>\n",
       "      <th>brand_encoded</th>\n",
       "    </tr>\n",
       "  </thead>\n",
       "  <tbody>\n",
       "    <tr>\n",
       "      <th>0</th>\n",
       "      <td>13928</td>\n",
       "      <td>2.33835</td>\n",
       "      <td>Accessories</td>\n",
       "      <td>Low Profile Dyed Cotton Twill Cap - Putty W39S55D</td>\n",
       "      <td>5.95</td>\n",
       "      <td>Women</td>\n",
       "      <td>2EAC42424D12436BDD6A5B8A88480CC3</td>\n",
       "      <td>1</td>\n",
       "      <td>13928</td>\n",
       "      <td>[-0.5451024770736694, -0.34113600850105286, -0...</td>\n",
       "      <td>1158</td>\n",
       "    </tr>\n",
       "    <tr>\n",
       "      <th>1</th>\n",
       "      <td>13928</td>\n",
       "      <td>2.33835</td>\n",
       "      <td>Accessories</td>\n",
       "      <td>Low Profile Dyed Cotton Twill Cap - Putty W39S55D</td>\n",
       "      <td>5.95</td>\n",
       "      <td>Women</td>\n",
       "      <td>2EAC42424D12436BDD6A5B8A88480CC3</td>\n",
       "      <td>1</td>\n",
       "      <td>13928</td>\n",
       "      <td>[-0.5451024770736694, -0.34113600850105286, -0...</td>\n",
       "      <td>1158</td>\n",
       "    </tr>\n",
       "    <tr>\n",
       "      <th>2</th>\n",
       "      <td>14115</td>\n",
       "      <td>4.87956</td>\n",
       "      <td>Accessories</td>\n",
       "      <td>Enzyme Regular Solid Army Caps-Black W35S45D</td>\n",
       "      <td>10.99</td>\n",
       "      <td>Women</td>\n",
       "      <td>EE364229B2791D1EF9355708EFF0BA34</td>\n",
       "      <td>1</td>\n",
       "      <td>14115</td>\n",
       "      <td>[0.1337980031967163, -0.20477981865406036, 0.0...</td>\n",
       "      <td>1158</td>\n",
       "    </tr>\n",
       "    <tr>\n",
       "      <th>3</th>\n",
       "      <td>14273</td>\n",
       "      <td>6.50793</td>\n",
       "      <td>Accessories</td>\n",
       "      <td>Washed Canvas Ivy Cap - Black W11S64C</td>\n",
       "      <td>15.99</td>\n",
       "      <td>Women</td>\n",
       "      <td>F531DC20FDE20B7ADF3A73F52B71D0AF</td>\n",
       "      <td>1</td>\n",
       "      <td>14273</td>\n",
       "      <td>[-0.40627333521842957, 0.14057165384292603, -0...</td>\n",
       "      <td>1158</td>\n",
       "    </tr>\n",
       "    <tr>\n",
       "      <th>4</th>\n",
       "      <td>14273</td>\n",
       "      <td>6.50793</td>\n",
       "      <td>Accessories</td>\n",
       "      <td>Washed Canvas Ivy Cap - Black W11S64C</td>\n",
       "      <td>15.99</td>\n",
       "      <td>Women</td>\n",
       "      <td>F531DC20FDE20B7ADF3A73F52B71D0AF</td>\n",
       "      <td>1</td>\n",
       "      <td>14273</td>\n",
       "      <td>[-0.40627333521842957, 0.14057165384292603, -0...</td>\n",
       "      <td>1158</td>\n",
       "    </tr>\n",
       "  </tbody>\n",
       "</table>\n",
       "</div>"
      ],
      "text/plain": [
       "      id     cost     category  \\\n",
       "0  13928  2.33835  Accessories   \n",
       "1  13928  2.33835  Accessories   \n",
       "2  14115  4.87956  Accessories   \n",
       "3  14273  6.50793  Accessories   \n",
       "4  14273  6.50793  Accessories   \n",
       "\n",
       "                                                name  retail_price department  \\\n",
       "0  Low Profile Dyed Cotton Twill Cap - Putty W39S55D          5.95      Women   \n",
       "1  Low Profile Dyed Cotton Twill Cap - Putty W39S55D          5.95      Women   \n",
       "2       Enzyme Regular Solid Army Caps-Black W35S45D         10.99      Women   \n",
       "3              Washed Canvas Ivy Cap - Black W11S64C         15.99      Women   \n",
       "4              Washed Canvas Ivy Cap - Black W11S64C         15.99      Women   \n",
       "\n",
       "                                sku  distribution_center_id  product_id  \\\n",
       "0  2EAC42424D12436BDD6A5B8A88480CC3                       1       13928   \n",
       "1  2EAC42424D12436BDD6A5B8A88480CC3                       1       13928   \n",
       "2  EE364229B2791D1EF9355708EFF0BA34                       1       14115   \n",
       "3  F531DC20FDE20B7ADF3A73F52B71D0AF                       1       14273   \n",
       "4  F531DC20FDE20B7ADF3A73F52B71D0AF                       1       14273   \n",
       "\n",
       "                                      name_embedding  brand_encoded  \n",
       "0  [-0.5451024770736694, -0.34113600850105286, -0...           1158  \n",
       "1  [-0.5451024770736694, -0.34113600850105286, -0...           1158  \n",
       "2  [0.1337980031967163, -0.20477981865406036, 0.0...           1158  \n",
       "3  [-0.40627333521842957, 0.14057165384292603, -0...           1158  \n",
       "4  [-0.40627333521842957, 0.14057165384292603, -0...           1158  "
      ]
     },
     "execution_count": 12,
     "metadata": {},
     "output_type": "execute_result"
    }
   ],
   "source": [
    "products_final.drop(columns = ['brand'], inplace = True)\n",
    "products_final.head()"
   ]
  },
  {
   "cell_type": "markdown",
   "metadata": {},
   "source": [
    "### Convert department and category to dummy variables"
   ]
  },
  {
   "cell_type": "code",
   "execution_count": 13,
   "metadata": {},
   "outputs": [
    {
     "data": {
      "text/html": [
       "<div>\n",
       "<style scoped>\n",
       "    .dataframe tbody tr th:only-of-type {\n",
       "        vertical-align: middle;\n",
       "    }\n",
       "\n",
       "    .dataframe tbody tr th {\n",
       "        vertical-align: top;\n",
       "    }\n",
       "\n",
       "    .dataframe thead th {\n",
       "        text-align: right;\n",
       "    }\n",
       "</style>\n",
       "<table border=\"1\" class=\"dataframe\">\n",
       "  <thead>\n",
       "    <tr style=\"text-align: right;\">\n",
       "      <th></th>\n",
       "      <th>id</th>\n",
       "      <th>cost</th>\n",
       "      <th>name</th>\n",
       "      <th>retail_price</th>\n",
       "      <th>sku</th>\n",
       "      <th>distribution_center_id</th>\n",
       "      <th>product_id</th>\n",
       "      <th>name_embedding</th>\n",
       "      <th>brand_encoded</th>\n",
       "      <th>department_Men</th>\n",
       "      <th>...</th>\n",
       "      <th>category_Skirts</th>\n",
       "      <th>category_Sleep &amp; Lounge</th>\n",
       "      <th>category_Socks</th>\n",
       "      <th>category_Socks &amp; Hosiery</th>\n",
       "      <th>category_Suits</th>\n",
       "      <th>category_Suits &amp; Sport Coats</th>\n",
       "      <th>category_Sweaters</th>\n",
       "      <th>category_Swim</th>\n",
       "      <th>category_Tops &amp; Tees</th>\n",
       "      <th>category_Underwear</th>\n",
       "    </tr>\n",
       "  </thead>\n",
       "  <tbody>\n",
       "    <tr>\n",
       "      <th>0</th>\n",
       "      <td>13928</td>\n",
       "      <td>2.33835</td>\n",
       "      <td>Low Profile Dyed Cotton Twill Cap - Putty W39S55D</td>\n",
       "      <td>5.95</td>\n",
       "      <td>2EAC42424D12436BDD6A5B8A88480CC3</td>\n",
       "      <td>1</td>\n",
       "      <td>13928</td>\n",
       "      <td>[-0.5451024770736694, -0.34113600850105286, -0...</td>\n",
       "      <td>1158</td>\n",
       "      <td>0</td>\n",
       "      <td>...</td>\n",
       "      <td>0</td>\n",
       "      <td>0</td>\n",
       "      <td>0</td>\n",
       "      <td>0</td>\n",
       "      <td>0</td>\n",
       "      <td>0</td>\n",
       "      <td>0</td>\n",
       "      <td>0</td>\n",
       "      <td>0</td>\n",
       "      <td>0</td>\n",
       "    </tr>\n",
       "    <tr>\n",
       "      <th>1</th>\n",
       "      <td>13928</td>\n",
       "      <td>2.33835</td>\n",
       "      <td>Low Profile Dyed Cotton Twill Cap - Putty W39S55D</td>\n",
       "      <td>5.95</td>\n",
       "      <td>2EAC42424D12436BDD6A5B8A88480CC3</td>\n",
       "      <td>1</td>\n",
       "      <td>13928</td>\n",
       "      <td>[-0.5451024770736694, -0.34113600850105286, -0...</td>\n",
       "      <td>1158</td>\n",
       "      <td>0</td>\n",
       "      <td>...</td>\n",
       "      <td>0</td>\n",
       "      <td>0</td>\n",
       "      <td>0</td>\n",
       "      <td>0</td>\n",
       "      <td>0</td>\n",
       "      <td>0</td>\n",
       "      <td>0</td>\n",
       "      <td>0</td>\n",
       "      <td>0</td>\n",
       "      <td>0</td>\n",
       "    </tr>\n",
       "    <tr>\n",
       "      <th>2</th>\n",
       "      <td>14115</td>\n",
       "      <td>4.87956</td>\n",
       "      <td>Enzyme Regular Solid Army Caps-Black W35S45D</td>\n",
       "      <td>10.99</td>\n",
       "      <td>EE364229B2791D1EF9355708EFF0BA34</td>\n",
       "      <td>1</td>\n",
       "      <td>14115</td>\n",
       "      <td>[0.1337980031967163, -0.20477981865406036, 0.0...</td>\n",
       "      <td>1158</td>\n",
       "      <td>0</td>\n",
       "      <td>...</td>\n",
       "      <td>0</td>\n",
       "      <td>0</td>\n",
       "      <td>0</td>\n",
       "      <td>0</td>\n",
       "      <td>0</td>\n",
       "      <td>0</td>\n",
       "      <td>0</td>\n",
       "      <td>0</td>\n",
       "      <td>0</td>\n",
       "      <td>0</td>\n",
       "    </tr>\n",
       "    <tr>\n",
       "      <th>3</th>\n",
       "      <td>14273</td>\n",
       "      <td>6.50793</td>\n",
       "      <td>Washed Canvas Ivy Cap - Black W11S64C</td>\n",
       "      <td>15.99</td>\n",
       "      <td>F531DC20FDE20B7ADF3A73F52B71D0AF</td>\n",
       "      <td>1</td>\n",
       "      <td>14273</td>\n",
       "      <td>[-0.40627333521842957, 0.14057165384292603, -0...</td>\n",
       "      <td>1158</td>\n",
       "      <td>0</td>\n",
       "      <td>...</td>\n",
       "      <td>0</td>\n",
       "      <td>0</td>\n",
       "      <td>0</td>\n",
       "      <td>0</td>\n",
       "      <td>0</td>\n",
       "      <td>0</td>\n",
       "      <td>0</td>\n",
       "      <td>0</td>\n",
       "      <td>0</td>\n",
       "      <td>0</td>\n",
       "    </tr>\n",
       "    <tr>\n",
       "      <th>4</th>\n",
       "      <td>14273</td>\n",
       "      <td>6.50793</td>\n",
       "      <td>Washed Canvas Ivy Cap - Black W11S64C</td>\n",
       "      <td>15.99</td>\n",
       "      <td>F531DC20FDE20B7ADF3A73F52B71D0AF</td>\n",
       "      <td>1</td>\n",
       "      <td>14273</td>\n",
       "      <td>[-0.40627333521842957, 0.14057165384292603, -0...</td>\n",
       "      <td>1158</td>\n",
       "      <td>0</td>\n",
       "      <td>...</td>\n",
       "      <td>0</td>\n",
       "      <td>0</td>\n",
       "      <td>0</td>\n",
       "      <td>0</td>\n",
       "      <td>0</td>\n",
       "      <td>0</td>\n",
       "      <td>0</td>\n",
       "      <td>0</td>\n",
       "      <td>0</td>\n",
       "      <td>0</td>\n",
       "    </tr>\n",
       "  </tbody>\n",
       "</table>\n",
       "<p>5 rows × 37 columns</p>\n",
       "</div>"
      ],
      "text/plain": [
       "      id     cost                                               name  \\\n",
       "0  13928  2.33835  Low Profile Dyed Cotton Twill Cap - Putty W39S55D   \n",
       "1  13928  2.33835  Low Profile Dyed Cotton Twill Cap - Putty W39S55D   \n",
       "2  14115  4.87956       Enzyme Regular Solid Army Caps-Black W35S45D   \n",
       "3  14273  6.50793              Washed Canvas Ivy Cap - Black W11S64C   \n",
       "4  14273  6.50793              Washed Canvas Ivy Cap - Black W11S64C   \n",
       "\n",
       "   retail_price                               sku  distribution_center_id  \\\n",
       "0          5.95  2EAC42424D12436BDD6A5B8A88480CC3                       1   \n",
       "1          5.95  2EAC42424D12436BDD6A5B8A88480CC3                       1   \n",
       "2         10.99  EE364229B2791D1EF9355708EFF0BA34                       1   \n",
       "3         15.99  F531DC20FDE20B7ADF3A73F52B71D0AF                       1   \n",
       "4         15.99  F531DC20FDE20B7ADF3A73F52B71D0AF                       1   \n",
       "\n",
       "   product_id                                     name_embedding  \\\n",
       "0       13928  [-0.5451024770736694, -0.34113600850105286, -0...   \n",
       "1       13928  [-0.5451024770736694, -0.34113600850105286, -0...   \n",
       "2       14115  [0.1337980031967163, -0.20477981865406036, 0.0...   \n",
       "3       14273  [-0.40627333521842957, 0.14057165384292603, -0...   \n",
       "4       14273  [-0.40627333521842957, 0.14057165384292603, -0...   \n",
       "\n",
       "   brand_encoded  department_Men  ...  category_Skirts  \\\n",
       "0           1158               0  ...                0   \n",
       "1           1158               0  ...                0   \n",
       "2           1158               0  ...                0   \n",
       "3           1158               0  ...                0   \n",
       "4           1158               0  ...                0   \n",
       "\n",
       "   category_Sleep & Lounge  category_Socks  category_Socks & Hosiery  \\\n",
       "0                        0               0                         0   \n",
       "1                        0               0                         0   \n",
       "2                        0               0                         0   \n",
       "3                        0               0                         0   \n",
       "4                        0               0                         0   \n",
       "\n",
       "   category_Suits  category_Suits & Sport Coats  category_Sweaters  \\\n",
       "0               0                             0                  0   \n",
       "1               0                             0                  0   \n",
       "2               0                             0                  0   \n",
       "3               0                             0                  0   \n",
       "4               0                             0                  0   \n",
       "\n",
       "   category_Swim  category_Tops & Tees  category_Underwear  \n",
       "0              0                     0                   0  \n",
       "1              0                     0                   0  \n",
       "2              0                     0                   0  \n",
       "3              0                     0                   0  \n",
       "4              0                     0                   0  \n",
       "\n",
       "[5 rows x 37 columns]"
      ]
     },
     "execution_count": 13,
     "metadata": {},
     "output_type": "execute_result"
    }
   ],
   "source": [
    "products_final = pd.get_dummies(products_final, columns = ['department', 'category'], dtype=int)\n",
    "products_final.head()"
   ]
  },
  {
   "cell_type": "code",
   "execution_count": 14,
   "metadata": {},
   "outputs": [
    {
     "data": {
      "text/plain": [
       "id                                          int64\n",
       "cost                                      float64\n",
       "name                                       object\n",
       "retail_price                              float64\n",
       "sku                                        object\n",
       "distribution_center_id                      int64\n",
       "product_id                                  int64\n",
       "name_embedding                             object\n",
       "brand_encoded                               int64\n",
       "department_Men                              int64\n",
       "department_Women                            int64\n",
       "category_Accessories                        int64\n",
       "category_Active                             int64\n",
       "category_Blazers & Jackets                  int64\n",
       "category_Clothing Sets                      int64\n",
       "category_Dresses                            int64\n",
       "category_Fashion Hoodies & Sweatshirts      int64\n",
       "category_Intimates                          int64\n",
       "category_Jeans                              int64\n",
       "category_Jumpsuits & Rompers                int64\n",
       "category_Leggings                           int64\n",
       "category_Maternity                          int64\n",
       "category_Outerwear & Coats                  int64\n",
       "category_Pants                              int64\n",
       "category_Pants & Capris                     int64\n",
       "category_Plus                               int64\n",
       "category_Shorts                             int64\n",
       "category_Skirts                             int64\n",
       "category_Sleep & Lounge                     int64\n",
       "category_Socks                              int64\n",
       "category_Socks & Hosiery                    int64\n",
       "category_Suits                              int64\n",
       "category_Suits & Sport Coats                int64\n",
       "category_Sweaters                           int64\n",
       "category_Swim                               int64\n",
       "category_Tops & Tees                        int64\n",
       "category_Underwear                          int64\n",
       "dtype: object"
      ]
     },
     "execution_count": 14,
     "metadata": {},
     "output_type": "execute_result"
    }
   ],
   "source": [
    "products_final.dtypes"
   ]
  },
  {
   "cell_type": "markdown",
   "metadata": {},
   "source": [
    "### Convert name_enbeddings to a list of floats and flattening"
   ]
  },
  {
   "cell_type": "code",
   "execution_count": 15,
   "metadata": {},
   "outputs": [],
   "source": [
    "products_final['name_embedding'] = products_final['name_embedding'].apply(lambda x: np.array(ast.literal_eval(x), dtype=np.float32) if isinstance(x, str) else x)\n",
    "\n",
    "# Step 2: Flatten the array so it can be used as a feature\n",
    "products_final['name_embedding_flat'] = products_final['name_embedding'].apply(lambda x: x.flatten() if isinstance(x, np.ndarray) else x)"
   ]
  },
  {
   "cell_type": "code",
   "execution_count": 16,
   "metadata": {},
   "outputs": [],
   "source": [
    "products_final.to_csv('products_final_numeric.csv', index=False)"
   ]
  },
  {
   "cell_type": "markdown",
   "metadata": {},
   "source": [
    "### Convert all users data to numeric"
   ]
  },
  {
   "cell_type": "code",
   "execution_count": 21,
   "metadata": {},
   "outputs": [],
   "source": [
    "users_final = pd.get_dummies(users, columns = ['gender', 'status', 'traffic_source'], dtype=int)"
   ]
  },
  {
   "cell_type": "markdown",
   "metadata": {},
   "source": [
    "### Merge with orders_items"
   ]
  },
  {
   "cell_type": "code",
   "execution_count": 17,
   "metadata": {},
   "outputs": [
    {
     "data": {
      "text/html": [
       "<div>\n",
       "<style scoped>\n",
       "    .dataframe tbody tr th:only-of-type {\n",
       "        vertical-align: middle;\n",
       "    }\n",
       "\n",
       "    .dataframe tbody tr th {\n",
       "        vertical-align: top;\n",
       "    }\n",
       "\n",
       "    .dataframe thead th {\n",
       "        text-align: right;\n",
       "    }\n",
       "</style>\n",
       "<table border=\"1\" class=\"dataframe\">\n",
       "  <thead>\n",
       "    <tr style=\"text-align: right;\">\n",
       "      <th></th>\n",
       "      <th>id</th>\n",
       "      <th>order_id</th>\n",
       "      <th>user_id</th>\n",
       "      <th>product_id</th>\n",
       "      <th>inventory_item_id</th>\n",
       "      <th>status</th>\n",
       "      <th>created_at</th>\n",
       "      <th>shipped_at</th>\n",
       "      <th>delivered_at</th>\n",
       "      <th>returned_at</th>\n",
       "      <th>sale_price</th>\n",
       "    </tr>\n",
       "  </thead>\n",
       "  <tbody>\n",
       "    <tr>\n",
       "      <th>0</th>\n",
       "      <td>152013</td>\n",
       "      <td>104663</td>\n",
       "      <td>83582</td>\n",
       "      <td>14235</td>\n",
       "      <td>410368</td>\n",
       "      <td>Cancelled</td>\n",
       "      <td>2023-05-07 06:08:40+00:00</td>\n",
       "      <td>NaN</td>\n",
       "      <td>NaN</td>\n",
       "      <td>NaN</td>\n",
       "      <td>0.02</td>\n",
       "    </tr>\n",
       "    <tr>\n",
       "      <th>1</th>\n",
       "      <td>40993</td>\n",
       "      <td>28204</td>\n",
       "      <td>22551</td>\n",
       "      <td>14235</td>\n",
       "      <td>110590</td>\n",
       "      <td>Complete</td>\n",
       "      <td>2023-03-14 03:47:21+00:00</td>\n",
       "      <td>2023-03-15 22:57:00+00:00</td>\n",
       "      <td>2023-03-18 01:08:00+00:00</td>\n",
       "      <td>NaN</td>\n",
       "      <td>0.02</td>\n",
       "    </tr>\n",
       "    <tr>\n",
       "      <th>2</th>\n",
       "      <td>51224</td>\n",
       "      <td>35223</td>\n",
       "      <td>28215</td>\n",
       "      <td>14235</td>\n",
       "      <td>138236</td>\n",
       "      <td>Complete</td>\n",
       "      <td>2023-12-05 13:25:30+00:00</td>\n",
       "      <td>2023-12-06 01:20:00+00:00</td>\n",
       "      <td>2023-12-10 10:04:00+00:00</td>\n",
       "      <td>NaN</td>\n",
       "      <td>0.02</td>\n",
       "    </tr>\n",
       "    <tr>\n",
       "      <th>3</th>\n",
       "      <td>36717</td>\n",
       "      <td>25278</td>\n",
       "      <td>20165</td>\n",
       "      <td>14235</td>\n",
       "      <td>99072</td>\n",
       "      <td>Shipped</td>\n",
       "      <td>2023-12-22 20:48:19+00:00</td>\n",
       "      <td>2023-12-24 16:44:00+00:00</td>\n",
       "      <td>NaN</td>\n",
       "      <td>NaN</td>\n",
       "      <td>0.02</td>\n",
       "    </tr>\n",
       "    <tr>\n",
       "      <th>4</th>\n",
       "      <td>131061</td>\n",
       "      <td>90241</td>\n",
       "      <td>71954</td>\n",
       "      <td>14235</td>\n",
       "      <td>353798</td>\n",
       "      <td>Shipped</td>\n",
       "      <td>2022-06-19 16:57:59+00:00</td>\n",
       "      <td>2022-06-19 19:29:00+00:00</td>\n",
       "      <td>NaN</td>\n",
       "      <td>NaN</td>\n",
       "      <td>0.02</td>\n",
       "    </tr>\n",
       "  </tbody>\n",
       "</table>\n",
       "</div>"
      ],
      "text/plain": [
       "       id  order_id  user_id  product_id  inventory_item_id     status  \\\n",
       "0  152013    104663    83582       14235             410368  Cancelled   \n",
       "1   40993     28204    22551       14235             110590   Complete   \n",
       "2   51224     35223    28215       14235             138236   Complete   \n",
       "3   36717     25278    20165       14235              99072    Shipped   \n",
       "4  131061     90241    71954       14235             353798    Shipped   \n",
       "\n",
       "                  created_at                 shipped_at  \\\n",
       "0  2023-05-07 06:08:40+00:00                        NaN   \n",
       "1  2023-03-14 03:47:21+00:00  2023-03-15 22:57:00+00:00   \n",
       "2  2023-12-05 13:25:30+00:00  2023-12-06 01:20:00+00:00   \n",
       "3  2023-12-22 20:48:19+00:00  2023-12-24 16:44:00+00:00   \n",
       "4  2022-06-19 16:57:59+00:00  2022-06-19 19:29:00+00:00   \n",
       "\n",
       "                delivered_at returned_at  sale_price  \n",
       "0                        NaN         NaN        0.02  \n",
       "1  2023-03-18 01:08:00+00:00         NaN        0.02  \n",
       "2  2023-12-10 10:04:00+00:00         NaN        0.02  \n",
       "3                        NaN         NaN        0.02  \n",
       "4                        NaN         NaN        0.02  "
      ]
     },
     "execution_count": 17,
     "metadata": {},
     "output_type": "execute_result"
    }
   ],
   "source": [
    "order_items.head()"
   ]
  },
  {
   "cell_type": "code",
   "execution_count": 22,
   "metadata": {},
   "outputs": [
    {
     "data": {
      "text/plain": [
       "Index(['id_x', 'age', 'postal_code', 'avg_sequence_number', 'order_id_x',\n",
       "       'num_of_item', 'month_day', 'gender_F', 'gender_M', 'status_Cancelled',\n",
       "       'status_Complete', 'status_Processing', 'status_Returned',\n",
       "       'status_Shipped', 'traffic_source_Display', 'traffic_source_Email',\n",
       "       'traffic_source_Facebook', 'traffic_source_Organic',\n",
       "       'traffic_source_Search', 'id_y', 'order_id_y', 'user_id', 'product_id',\n",
       "       'inventory_item_id', 'status', 'created_at', 'shipped_at',\n",
       "       'delivered_at', 'returned_at', 'sale_price'],\n",
       "      dtype='object')"
      ]
     },
     "execution_count": 22,
     "metadata": {},
     "output_type": "execute_result"
    }
   ],
   "source": [
    "users_final = pd.merge(left = users_final, right = order_items, left_on='id', right_on='user_id')\n",
    "users_final.columns"
   ]
  },
  {
   "cell_type": "code",
   "execution_count": 23,
   "metadata": {},
   "outputs": [],
   "source": [
    "users_final.drop(columns = ['id_x', 'order_id_x', 'id_y', 'order_id_y', 'user_id', 'inventory_item_id','status', 'created_at', 'shipped_at',\n",
    "       'delivered_at', 'returned_at', 'sale_price'], inplace = True)"
   ]
  },
  {
   "cell_type": "markdown",
   "metadata": {},
   "source": [
    "For formatting"
   ]
  },
  {
   "cell_type": "code",
   "execution_count": 24,
   "metadata": {},
   "outputs": [],
   "source": [
    "users_final.drop(columns = ['month_day'], inplace = True)"
   ]
  },
  {
   "cell_type": "code",
   "execution_count": 25,
   "metadata": {},
   "outputs": [],
   "source": [
    "users_final.to_csv('users_final_numeric.csv', index=False)"
   ]
  },
  {
   "cell_type": "code",
   "execution_count": 26,
   "metadata": {},
   "outputs": [],
   "source": [
    "from sklearn.preprocessing import StandardScaler\n",
    "\n",
    "numeric_features_products = ['retail_price']\n",
    "numeric_features_users = ['age']\n",
    "\n",
    "# Initialize scalers\n",
    "scaler_products = StandardScaler()\n",
    "scaler_users = StandardScaler()\n",
    "\n",
    "# Normalize the numeric features in each DataFrame\n",
    "products_final[numeric_features_products] = scaler_products.fit_transform(products_final[numeric_features_products])\n",
    "users[numeric_features_users] = scaler_users.fit_transform(users[numeric_features_users])\n",
    "\n",
    "embeddings_array = np.stack(products_final['name_embedding_flat'].values)\n",
    "products_final['name_embedding_flat_normalized'] = list(scaler_products.fit_transform(embeddings_array))"
   ]
  },
  {
   "cell_type": "markdown",
   "metadata": {},
   "source": [
    "### Baseline 2 tower model"
   ]
  },
  {
   "cell_type": "code",
   "execution_count": 27,
   "metadata": {},
   "outputs": [],
   "source": [
    "import tensorflow as tf\n",
    "from tensorflow.keras.layers import Input, Dense, Dropout, Concatenate, Dot\n",
    "from tensorflow.keras.models import Model"
   ]
  },
  {
   "cell_type": "markdown",
   "metadata": {},
   "source": [
    "Sampling for batch size equality"
   ]
  },
  {
   "cell_type": "code",
   "execution_count": 28,
   "metadata": {},
   "outputs": [],
   "source": [
    "user_input = Input(shape=(16,), name='user_input')\n",
    "item_input = Input(shape=(31,), name='item_input')"
   ]
  },
  {
   "cell_type": "code",
   "execution_count": 29,
   "metadata": {},
   "outputs": [],
   "source": [
    "user_tower = Dense(64, activation='relu')(user_input)\n",
    "user_tower = Dense(64, activation='relu')(user_tower)\n",
    "\n",
    "user_tower = Dense(128, activation='relu')(user_input)\n",
    "user_tower = Dropout(0.3)(user_tower)\n",
    "user_tower = Dense(64, activation='relu')(user_tower)"
   ]
  },
  {
   "cell_type": "code",
   "execution_count": 30,
   "metadata": {},
   "outputs": [],
   "source": [
    "item_tower = Dense(64, activation='relu')(item_input)\n",
    "item_tower = Dense(64, activation='relu')(item_tower)\n",
    "\n",
    "item_tower = Dense(128, activation='relu')(item_input)\n",
    "item_tower = Dropout(0.3)(item_tower)\n",
    "item_tower = Dense(64, activation='relu')(item_tower)"
   ]
  },
  {
   "cell_type": "code",
   "execution_count": 31,
   "metadata": {},
   "outputs": [],
   "source": [
    "dot_product = Dot(axes=1)([user_tower, item_tower])"
   ]
  },
  {
   "cell_type": "code",
   "execution_count": 32,
   "metadata": {},
   "outputs": [],
   "source": [
    "model = Model(inputs=[user_input, item_input], outputs=dot_product)"
   ]
  },
  {
   "cell_type": "code",
   "execution_count": 34,
   "metadata": {},
   "outputs": [
    {
     "data": {
      "text/html": [
       "<pre style=\"white-space:pre;overflow-x:auto;line-height:normal;font-family:Menlo,'DejaVu Sans Mono',consolas,'Courier New',monospace\"><span style=\"font-weight: bold\">Model: \"functional\"</span>\n",
       "</pre>\n"
      ],
      "text/plain": [
       "\u001b[1mModel: \"functional\"\u001b[0m\n"
      ]
     },
     "metadata": {},
     "output_type": "display_data"
    },
    {
     "data": {
      "text/html": [
       "<pre style=\"white-space:pre;overflow-x:auto;line-height:normal;font-family:Menlo,'DejaVu Sans Mono',consolas,'Courier New',monospace\">┏━━━━━━━━━━━━━━━━━━━━━┳━━━━━━━━━━━━━━━━━━━┳━━━━━━━━━━━━┳━━━━━━━━━━━━━━━━━━━┓\n",
       "┃<span style=\"font-weight: bold\"> Layer (type)        </span>┃<span style=\"font-weight: bold\"> Output Shape      </span>┃<span style=\"font-weight: bold\">    Param # </span>┃<span style=\"font-weight: bold\"> Connected to      </span>┃\n",
       "┡━━━━━━━━━━━━━━━━━━━━━╇━━━━━━━━━━━━━━━━━━━╇━━━━━━━━━━━━╇━━━━━━━━━━━━━━━━━━━┩\n",
       "│ user_input          │ (<span style=\"color: #00d7ff; text-decoration-color: #00d7ff\">None</span>, <span style=\"color: #00af00; text-decoration-color: #00af00\">16</span>)        │          <span style=\"color: #00af00; text-decoration-color: #00af00\">0</span> │ -                 │\n",
       "│ (<span style=\"color: #0087ff; text-decoration-color: #0087ff\">InputLayer</span>)        │                   │            │                   │\n",
       "├─────────────────────┼───────────────────┼────────────┼───────────────────┤\n",
       "│ item_input          │ (<span style=\"color: #00d7ff; text-decoration-color: #00d7ff\">None</span>, <span style=\"color: #00af00; text-decoration-color: #00af00\">31</span>)        │          <span style=\"color: #00af00; text-decoration-color: #00af00\">0</span> │ -                 │\n",
       "│ (<span style=\"color: #0087ff; text-decoration-color: #0087ff\">InputLayer</span>)        │                   │            │                   │\n",
       "├─────────────────────┼───────────────────┼────────────┼───────────────────┤\n",
       "│ dense_2 (<span style=\"color: #0087ff; text-decoration-color: #0087ff\">Dense</span>)     │ (<span style=\"color: #00d7ff; text-decoration-color: #00d7ff\">None</span>, <span style=\"color: #00af00; text-decoration-color: #00af00\">128</span>)       │      <span style=\"color: #00af00; text-decoration-color: #00af00\">2,176</span> │ user_input[<span style=\"color: #00af00; text-decoration-color: #00af00\">0</span>][<span style=\"color: #00af00; text-decoration-color: #00af00\">0</span>]  │\n",
       "├─────────────────────┼───────────────────┼────────────┼───────────────────┤\n",
       "│ dense_6 (<span style=\"color: #0087ff; text-decoration-color: #0087ff\">Dense</span>)     │ (<span style=\"color: #00d7ff; text-decoration-color: #00d7ff\">None</span>, <span style=\"color: #00af00; text-decoration-color: #00af00\">128</span>)       │      <span style=\"color: #00af00; text-decoration-color: #00af00\">4,096</span> │ item_input[<span style=\"color: #00af00; text-decoration-color: #00af00\">0</span>][<span style=\"color: #00af00; text-decoration-color: #00af00\">0</span>]  │\n",
       "├─────────────────────┼───────────────────┼────────────┼───────────────────┤\n",
       "│ dropout (<span style=\"color: #0087ff; text-decoration-color: #0087ff\">Dropout</span>)   │ (<span style=\"color: #00d7ff; text-decoration-color: #00d7ff\">None</span>, <span style=\"color: #00af00; text-decoration-color: #00af00\">128</span>)       │          <span style=\"color: #00af00; text-decoration-color: #00af00\">0</span> │ dense_2[<span style=\"color: #00af00; text-decoration-color: #00af00\">0</span>][<span style=\"color: #00af00; text-decoration-color: #00af00\">0</span>]     │\n",
       "├─────────────────────┼───────────────────┼────────────┼───────────────────┤\n",
       "│ dropout_1 (<span style=\"color: #0087ff; text-decoration-color: #0087ff\">Dropout</span>) │ (<span style=\"color: #00d7ff; text-decoration-color: #00d7ff\">None</span>, <span style=\"color: #00af00; text-decoration-color: #00af00\">128</span>)       │          <span style=\"color: #00af00; text-decoration-color: #00af00\">0</span> │ dense_6[<span style=\"color: #00af00; text-decoration-color: #00af00\">0</span>][<span style=\"color: #00af00; text-decoration-color: #00af00\">0</span>]     │\n",
       "├─────────────────────┼───────────────────┼────────────┼───────────────────┤\n",
       "│ dense_3 (<span style=\"color: #0087ff; text-decoration-color: #0087ff\">Dense</span>)     │ (<span style=\"color: #00d7ff; text-decoration-color: #00d7ff\">None</span>, <span style=\"color: #00af00; text-decoration-color: #00af00\">64</span>)        │      <span style=\"color: #00af00; text-decoration-color: #00af00\">8,256</span> │ dropout[<span style=\"color: #00af00; text-decoration-color: #00af00\">0</span>][<span style=\"color: #00af00; text-decoration-color: #00af00\">0</span>]     │\n",
       "├─────────────────────┼───────────────────┼────────────┼───────────────────┤\n",
       "│ dense_7 (<span style=\"color: #0087ff; text-decoration-color: #0087ff\">Dense</span>)     │ (<span style=\"color: #00d7ff; text-decoration-color: #00d7ff\">None</span>, <span style=\"color: #00af00; text-decoration-color: #00af00\">64</span>)        │      <span style=\"color: #00af00; text-decoration-color: #00af00\">8,256</span> │ dropout_1[<span style=\"color: #00af00; text-decoration-color: #00af00\">0</span>][<span style=\"color: #00af00; text-decoration-color: #00af00\">0</span>]   │\n",
       "├─────────────────────┼───────────────────┼────────────┼───────────────────┤\n",
       "│ dot (<span style=\"color: #0087ff; text-decoration-color: #0087ff\">Dot</span>)           │ (<span style=\"color: #00d7ff; text-decoration-color: #00d7ff\">None</span>, <span style=\"color: #00af00; text-decoration-color: #00af00\">1</span>)         │          <span style=\"color: #00af00; text-decoration-color: #00af00\">0</span> │ dense_3[<span style=\"color: #00af00; text-decoration-color: #00af00\">0</span>][<span style=\"color: #00af00; text-decoration-color: #00af00\">0</span>],    │\n",
       "│                     │                   │            │ dense_7[<span style=\"color: #00af00; text-decoration-color: #00af00\">0</span>][<span style=\"color: #00af00; text-decoration-color: #00af00\">0</span>]     │\n",
       "└─────────────────────┴───────────────────┴────────────┴───────────────────┘\n",
       "</pre>\n"
      ],
      "text/plain": [
       "┏━━━━━━━━━━━━━━━━━━━━━┳━━━━━━━━━━━━━━━━━━━┳━━━━━━━━━━━━┳━━━━━━━━━━━━━━━━━━━┓\n",
       "┃\u001b[1m \u001b[0m\u001b[1mLayer (type)       \u001b[0m\u001b[1m \u001b[0m┃\u001b[1m \u001b[0m\u001b[1mOutput Shape     \u001b[0m\u001b[1m \u001b[0m┃\u001b[1m \u001b[0m\u001b[1m   Param #\u001b[0m\u001b[1m \u001b[0m┃\u001b[1m \u001b[0m\u001b[1mConnected to     \u001b[0m\u001b[1m \u001b[0m┃\n",
       "┡━━━━━━━━━━━━━━━━━━━━━╇━━━━━━━━━━━━━━━━━━━╇━━━━━━━━━━━━╇━━━━━━━━━━━━━━━━━━━┩\n",
       "│ user_input          │ (\u001b[38;5;45mNone\u001b[0m, \u001b[38;5;34m16\u001b[0m)        │          \u001b[38;5;34m0\u001b[0m │ -                 │\n",
       "│ (\u001b[38;5;33mInputLayer\u001b[0m)        │                   │            │                   │\n",
       "├─────────────────────┼───────────────────┼────────────┼───────────────────┤\n",
       "│ item_input          │ (\u001b[38;5;45mNone\u001b[0m, \u001b[38;5;34m31\u001b[0m)        │          \u001b[38;5;34m0\u001b[0m │ -                 │\n",
       "│ (\u001b[38;5;33mInputLayer\u001b[0m)        │                   │            │                   │\n",
       "├─────────────────────┼───────────────────┼────────────┼───────────────────┤\n",
       "│ dense_2 (\u001b[38;5;33mDense\u001b[0m)     │ (\u001b[38;5;45mNone\u001b[0m, \u001b[38;5;34m128\u001b[0m)       │      \u001b[38;5;34m2,176\u001b[0m │ user_input[\u001b[38;5;34m0\u001b[0m][\u001b[38;5;34m0\u001b[0m]  │\n",
       "├─────────────────────┼───────────────────┼────────────┼───────────────────┤\n",
       "│ dense_6 (\u001b[38;5;33mDense\u001b[0m)     │ (\u001b[38;5;45mNone\u001b[0m, \u001b[38;5;34m128\u001b[0m)       │      \u001b[38;5;34m4,096\u001b[0m │ item_input[\u001b[38;5;34m0\u001b[0m][\u001b[38;5;34m0\u001b[0m]  │\n",
       "├─────────────────────┼───────────────────┼────────────┼───────────────────┤\n",
       "│ dropout (\u001b[38;5;33mDropout\u001b[0m)   │ (\u001b[38;5;45mNone\u001b[0m, \u001b[38;5;34m128\u001b[0m)       │          \u001b[38;5;34m0\u001b[0m │ dense_2[\u001b[38;5;34m0\u001b[0m][\u001b[38;5;34m0\u001b[0m]     │\n",
       "├─────────────────────┼───────────────────┼────────────┼───────────────────┤\n",
       "│ dropout_1 (\u001b[38;5;33mDropout\u001b[0m) │ (\u001b[38;5;45mNone\u001b[0m, \u001b[38;5;34m128\u001b[0m)       │          \u001b[38;5;34m0\u001b[0m │ dense_6[\u001b[38;5;34m0\u001b[0m][\u001b[38;5;34m0\u001b[0m]     │\n",
       "├─────────────────────┼───────────────────┼────────────┼───────────────────┤\n",
       "│ dense_3 (\u001b[38;5;33mDense\u001b[0m)     │ (\u001b[38;5;45mNone\u001b[0m, \u001b[38;5;34m64\u001b[0m)        │      \u001b[38;5;34m8,256\u001b[0m │ dropout[\u001b[38;5;34m0\u001b[0m][\u001b[38;5;34m0\u001b[0m]     │\n",
       "├─────────────────────┼───────────────────┼────────────┼───────────────────┤\n",
       "│ dense_7 (\u001b[38;5;33mDense\u001b[0m)     │ (\u001b[38;5;45mNone\u001b[0m, \u001b[38;5;34m64\u001b[0m)        │      \u001b[38;5;34m8,256\u001b[0m │ dropout_1[\u001b[38;5;34m0\u001b[0m][\u001b[38;5;34m0\u001b[0m]   │\n",
       "├─────────────────────┼───────────────────┼────────────┼───────────────────┤\n",
       "│ dot (\u001b[38;5;33mDot\u001b[0m)           │ (\u001b[38;5;45mNone\u001b[0m, \u001b[38;5;34m1\u001b[0m)         │          \u001b[38;5;34m0\u001b[0m │ dense_3[\u001b[38;5;34m0\u001b[0m][\u001b[38;5;34m0\u001b[0m],    │\n",
       "│                     │                   │            │ dense_7[\u001b[38;5;34m0\u001b[0m][\u001b[38;5;34m0\u001b[0m]     │\n",
       "└─────────────────────┴───────────────────┴────────────┴───────────────────┘\n"
      ]
     },
     "metadata": {},
     "output_type": "display_data"
    },
    {
     "data": {
      "text/html": [
       "<pre style=\"white-space:pre;overflow-x:auto;line-height:normal;font-family:Menlo,'DejaVu Sans Mono',consolas,'Courier New',monospace\"><span style=\"font-weight: bold\"> Total params: </span><span style=\"color: #00af00; text-decoration-color: #00af00\">22,784</span> (89.00 KB)\n",
       "</pre>\n"
      ],
      "text/plain": [
       "\u001b[1m Total params: \u001b[0m\u001b[38;5;34m22,784\u001b[0m (89.00 KB)\n"
      ]
     },
     "metadata": {},
     "output_type": "display_data"
    },
    {
     "data": {
      "text/html": [
       "<pre style=\"white-space:pre;overflow-x:auto;line-height:normal;font-family:Menlo,'DejaVu Sans Mono',consolas,'Courier New',monospace\"><span style=\"font-weight: bold\"> Trainable params: </span><span style=\"color: #00af00; text-decoration-color: #00af00\">22,784</span> (89.00 KB)\n",
       "</pre>\n"
      ],
      "text/plain": [
       "\u001b[1m Trainable params: \u001b[0m\u001b[38;5;34m22,784\u001b[0m (89.00 KB)\n"
      ]
     },
     "metadata": {},
     "output_type": "display_data"
    },
    {
     "data": {
      "text/html": [
       "<pre style=\"white-space:pre;overflow-x:auto;line-height:normal;font-family:Menlo,'DejaVu Sans Mono',consolas,'Courier New',monospace\"><span style=\"font-weight: bold\"> Non-trainable params: </span><span style=\"color: #00af00; text-decoration-color: #00af00\">0</span> (0.00 B)\n",
       "</pre>\n"
      ],
      "text/plain": [
       "\u001b[1m Non-trainable params: \u001b[0m\u001b[38;5;34m0\u001b[0m (0.00 B)\n"
      ]
     },
     "metadata": {},
     "output_type": "display_data"
    }
   ],
   "source": [
    "model.compile(optimizer='adam', loss='binary_crossentropy')\n",
    "model.summary()"
   ]
  },
  {
   "cell_type": "markdown",
   "metadata": {},
   "source": [
    "### Formatting inputs"
   ]
  },
  {
   "cell_type": "code",
   "execution_count": 35,
   "metadata": {},
   "outputs": [],
   "source": [
    "def create_labels_and_train(users_df, products_df, model, batch_size, num_epochs):\n",
    "    for epoch in range(num_epochs):\n",
    "        # Generate random user-item pairs through random indices for each batch\n",
    "        user_indices = np.random.randint(0, len(users_df), size=batch_size)\n",
    "        product_indices = np.random.randint(0, len(products_df), size=batch_size)\n",
    "\n",
    "        # Extract the data for the batch\n",
    "        user_data = users_df.iloc[user_indices]\n",
    "        product_data = products_df.iloc[product_indices]\n",
    "\n",
    "        # Create target similarity labels (1 if user purchased product, otherwise 0)\n",
    "        target_similarity = np.array([\n",
    "            1 if users_df.iloc[u_idx]['product_id'] == products_df.iloc[p_idx]['product_id'] else 0\n",
    "            for u_idx, p_idx in zip(user_indices, product_indices)\n",
    "        ])\n",
    "\n",
    "        # Drop 'product_id' and exclude the raw 'name_embedding' column\n",
    "        user_data = user_data.drop(columns=['product_id'])\n",
    "        product_data = product_data.drop(columns=['product_id', 'name_embedding'])\n",
    "\n",
    "        # Flattened embeddings and other numerical features should be present in product_data\n",
    "        if 'name_embedding_flat' in products_df.columns:\n",
    "            product_data = np.hstack(product_data['name_embedding_flat'].values.reshape(-1, 1))\n",
    "\n",
    "        # Train the model with the prepared batch\n",
    "        model.fit([user_data.values, product_data.values], target_similarity, epochs=1, batch_size=batch_size)"
   ]
  }
 ],
 "metadata": {
  "kernelspec": {
   "display_name": "base",
   "language": "python",
   "name": "python3"
  },
  "language_info": {
   "codemirror_mode": {
    "name": "ipython",
    "version": 3
   },
   "file_extension": ".py",
   "mimetype": "text/x-python",
   "name": "python",
   "nbconvert_exporter": "python",
   "pygments_lexer": "ipython3",
   "version": "3.11.7"
  }
 },
 "nbformat": 4,
 "nbformat_minor": 2
}
