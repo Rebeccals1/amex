{
  "cells": [
    {
      "cell_type": "code",
      "execution_count": 1,
      "metadata": {
        "id": "HmKUBX906VMy"
      },
      "outputs": [],
      "source": [
        "import pandas as pd\n",
        "from sklearn.preprocessing import LabelEncoder\n",
        "import numpy as np\n",
        "import ast"
      ]
    },
    {
      "cell_type": "code",
      "execution_count": 2,
      "metadata": {
        "id": "Z7TVtklb7Fzo"
      },
      "outputs": [],
      "source": [
        "users = pd.read_csv('https://raw.githubusercontent.com/ardahk/amex/refs/heads/main/data/users_final.csv')\n",
        "product_embeddings = pd.read_csv('https://github.com/ardahk/amex/raw/refs/heads/main/data/name_embeddings.csv')\n",
        "products = pd.read_csv('https://github.com/ardahk/amex/raw/refs/heads/main/data/products.csv')\n",
        "order_items = pd.read_csv('https://github.com/ardahk/amex/raw/refs/heads/main/data/order_items.csv')"
      ]
    },
    {
      "cell_type": "code",
      "execution_count": 3,
      "metadata": {
        "colab": {
          "base_uri": "https://localhost:8080/",
          "height": 204
        },
        "id": "AYs3PahR7KhF",
        "outputId": "c2a312c1-9073-4918-b81d-4801f734c738"
      },
      "outputs": [
        {
          "data": {
            "text/html": [
              "<div>\n",
              "<style scoped>\n",
              "    .dataframe tbody tr th:only-of-type {\n",
              "        vertical-align: middle;\n",
              "    }\n",
              "\n",
              "    .dataframe tbody tr th {\n",
              "        vertical-align: top;\n",
              "    }\n",
              "\n",
              "    .dataframe thead th {\n",
              "        text-align: right;\n",
              "    }\n",
              "</style>\n",
              "<table border=\"1\" class=\"dataframe\">\n",
              "  <thead>\n",
              "    <tr style=\"text-align: right;\">\n",
              "      <th></th>\n",
              "      <th>product_id</th>\n",
              "      <th>name_embedding</th>\n",
              "    </tr>\n",
              "  </thead>\n",
              "  <tbody>\n",
              "    <tr>\n",
              "      <th>0</th>\n",
              "      <td>9588</td>\n",
              "      <td>[-0.4065183401107788, 0.31074419617652893, -0....</td>\n",
              "    </tr>\n",
              "    <tr>\n",
              "      <th>1</th>\n",
              "      <td>1238</td>\n",
              "      <td>[-0.41240498423576355, 0.5829450488090515, -0....</td>\n",
              "    </tr>\n",
              "    <tr>\n",
              "      <th>2</th>\n",
              "      <td>5485</td>\n",
              "      <td>[-0.23880276083946228, 0.3456690013408661, -0....</td>\n",
              "    </tr>\n",
              "    <tr>\n",
              "      <th>3</th>\n",
              "      <td>5485</td>\n",
              "      <td>[-0.23880276083946228, 0.3456690013408661, -0....</td>\n",
              "    </tr>\n",
              "    <tr>\n",
              "      <th>4</th>\n",
              "      <td>5485</td>\n",
              "      <td>[-0.23880276083946228, 0.3456690013408661, -0....</td>\n",
              "    </tr>\n",
              "  </tbody>\n",
              "</table>\n",
              "</div>"
            ],
            "text/plain": [
              "   product_id                                     name_embedding\n",
              "0        9588  [-0.4065183401107788, 0.31074419617652893, -0....\n",
              "1        1238  [-0.41240498423576355, 0.5829450488090515, -0....\n",
              "2        5485  [-0.23880276083946228, 0.3456690013408661, -0....\n",
              "3        5485  [-0.23880276083946228, 0.3456690013408661, -0....\n",
              "4        5485  [-0.23880276083946228, 0.3456690013408661, -0...."
            ]
          },
          "execution_count": 3,
          "metadata": {},
          "output_type": "execute_result"
        }
      ],
      "source": [
        "product_embeddings.head()"
      ]
    },
    {
      "cell_type": "markdown",
      "metadata": {
        "id": "76AsA9yN-00W"
      },
      "source": [
        "### Merge name embeddings and products dataframe"
      ]
    },
    {
      "cell_type": "code",
      "execution_count": 4,
      "metadata": {
        "id": "ZIaBj-z773IR"
      },
      "outputs": [],
      "source": [
        "products_final = pd.merge(left = products, right = product_embeddings, left_on='id', right_on='product_id')"
      ]
    },
    {
      "cell_type": "code",
      "execution_count": 5,
      "metadata": {
        "id": "TmbDadC78wzs"
      },
      "outputs": [],
      "source": [
        "products_final.drop(columns = ['id', 'name', 'distribution_center_id', 'sku'], inplace = True)"
      ]
    },
    {
      "cell_type": "code",
      "execution_count": 6,
      "metadata": {
        "colab": {
          "base_uri": "https://localhost:8080/"
        },
        "id": "pDcHUMTT9BHo",
        "outputId": "03a59dc9-9569-4d4f-e024-7b3fa55a3ed2"
      },
      "outputs": [
        {
          "data": {
            "text/plain": [
              "2756"
            ]
          },
          "execution_count": 6,
          "metadata": {},
          "output_type": "execute_result"
        }
      ],
      "source": [
        "products['brand'].nunique()"
      ]
    },
    {
      "cell_type": "code",
      "execution_count": 7,
      "metadata": {
        "colab": {
          "base_uri": "https://localhost:8080/"
        },
        "id": "9muG3sIj9FMz",
        "outputId": "6a77c0cc-e8c5-4fb8-b717-8d2399e7c351"
      },
      "outputs": [
        {
          "data": {
            "text/plain": [
              "26"
            ]
          },
          "execution_count": 7,
          "metadata": {},
          "output_type": "execute_result"
        }
      ],
      "source": [
        "products['category'].nunique()"
      ]
    },
    {
      "cell_type": "markdown",
      "metadata": {
        "id": "4XComYb_-6Fn"
      },
      "source": [
        "### There are too many unique brands to one-hot encode, so label encoding will be used with a reference table"
      ]
    },
    {
      "cell_type": "code",
      "execution_count": 8,
      "metadata": {
        "id": "R3SwTids9TY9"
      },
      "outputs": [],
      "source": [
        "label_encoder = LabelEncoder()\n",
        "\n",
        "products_final['brand_encoded'] = label_encoder.fit_transform(products_final['brand'])"
      ]
    },
    {
      "cell_type": "code",
      "execution_count": 9,
      "metadata": {
        "colab": {
          "base_uri": "https://localhost:8080/"
        },
        "id": "B8J061J0_ehr",
        "outputId": "f714f6ac-0392-4858-d72c-5a8b14b32d69"
      },
      "outputs": [
        {
          "name": "stdout",
          "output_type": "stream",
          "text": [
            "           brand  brand_encoded\n",
            "0      !it Jeans              0\n",
            "1      '47 Brand              1\n",
            "2    007Lingerie              2\n",
            "3      106Shades              3\n",
            "4  12XLShop Inc.              4\n"
          ]
        }
      ],
      "source": [
        "brands = pd.DataFrame({\n",
        "    'brand': label_encoder.classes_,\n",
        "    'brand_encoded': range(len(label_encoder.classes_))\n",
        "})\n",
        "print(brands.head())\n"
      ]
    },
    {
      "cell_type": "code",
      "execution_count": 10,
      "metadata": {
        "id": "uwyZS2PwAkcj"
      },
      "outputs": [],
      "source": [
        "products_final.drop(columns = ['brand'], inplace = True)"
      ]
    },
    {
      "cell_type": "code",
      "execution_count": 11,
      "metadata": {
        "id": "sQOEBacgAzh4"
      },
      "outputs": [],
      "source": [
        "brands.to_csv('brand_reference.csv', index=False)"
      ]
    },
    {
      "cell_type": "markdown",
      "metadata": {
        "id": "f8r_tN-dAmo6"
      },
      "source": [
        "### Convert department and category to dummy variables"
      ]
    },
    {
      "cell_type": "code",
      "execution_count": 12,
      "metadata": {
        "id": "2dqXXPfnBCuI"
      },
      "outputs": [],
      "source": [
        "products_final = pd.get_dummies(products_final, columns = ['department', 'category'], dtype=int)"
      ]
    },
    {
      "cell_type": "code",
      "execution_count": 13,
      "metadata": {
        "colab": {
          "base_uri": "https://localhost:8080/",
          "height": 1000
        },
        "id": "HLAhKfBj_tsj",
        "outputId": "7c3e95d1-ee07-41cd-d0da-76b22cc12071"
      },
      "outputs": [
        {
          "data": {
            "text/plain": [
              "cost                                      float64\n",
              "retail_price                              float64\n",
              "product_id                                  int64\n",
              "name_embedding                             object\n",
              "brand_encoded                               int32\n",
              "department_Men                              int32\n",
              "department_Women                            int32\n",
              "category_Accessories                        int32\n",
              "category_Active                             int32\n",
              "category_Blazers & Jackets                  int32\n",
              "category_Clothing Sets                      int32\n",
              "category_Dresses                            int32\n",
              "category_Fashion Hoodies & Sweatshirts      int32\n",
              "category_Intimates                          int32\n",
              "category_Jeans                              int32\n",
              "category_Jumpsuits & Rompers                int32\n",
              "category_Leggings                           int32\n",
              "category_Maternity                          int32\n",
              "category_Outerwear & Coats                  int32\n",
              "category_Pants                              int32\n",
              "category_Pants & Capris                     int32\n",
              "category_Plus                               int32\n",
              "category_Shorts                             int32\n",
              "category_Skirts                             int32\n",
              "category_Sleep & Lounge                     int32\n",
              "category_Socks                              int32\n",
              "category_Socks & Hosiery                    int32\n",
              "category_Suits                              int32\n",
              "category_Suits & Sport Coats                int32\n",
              "category_Sweaters                           int32\n",
              "category_Swim                               int32\n",
              "category_Tops & Tees                        int32\n",
              "category_Underwear                          int32\n",
              "dtype: object"
            ]
          },
          "execution_count": 13,
          "metadata": {},
          "output_type": "execute_result"
        }
      ],
      "source": [
        "products_final.dtypes"
      ]
    },
    {
      "cell_type": "markdown",
      "metadata": {
        "id": "9vh1XfPeSwC0"
      },
      "source": [
        "### Convert name_enbeddings to a list of floats"
      ]
    },
    {
      "cell_type": "code",
      "execution_count": 14,
      "metadata": {
        "id": "rfwMAKOKSzCg"
      },
      "outputs": [],
      "source": [
        "products_final['name_embedding'] = products_final['name_embedding'].apply(ast.literal_eval)\n",
        "products_final['name_embedding'] = products_final['name_embedding'].apply(lambda x: np.array(x, dtype=np.float32))"
      ]
    },
    {
      "cell_type": "code",
      "execution_count": 15,
      "metadata": {
        "colab": {
          "base_uri": "https://localhost:8080/",
          "height": 1000
        },
        "id": "lI05DiqCTAqb",
        "outputId": "f66e8fc6-36a6-4e6c-a73f-696a3c8952d0"
      },
      "outputs": [
        {
          "data": {
            "text/plain": [
              "cost                                      float64\n",
              "retail_price                              float64\n",
              "product_id                                  int64\n",
              "name_embedding                             object\n",
              "brand_encoded                               int32\n",
              "department_Men                              int32\n",
              "department_Women                            int32\n",
              "category_Accessories                        int32\n",
              "category_Active                             int32\n",
              "category_Blazers & Jackets                  int32\n",
              "category_Clothing Sets                      int32\n",
              "category_Dresses                            int32\n",
              "category_Fashion Hoodies & Sweatshirts      int32\n",
              "category_Intimates                          int32\n",
              "category_Jeans                              int32\n",
              "category_Jumpsuits & Rompers                int32\n",
              "category_Leggings                           int32\n",
              "category_Maternity                          int32\n",
              "category_Outerwear & Coats                  int32\n",
              "category_Pants                              int32\n",
              "category_Pants & Capris                     int32\n",
              "category_Plus                               int32\n",
              "category_Shorts                             int32\n",
              "category_Skirts                             int32\n",
              "category_Sleep & Lounge                     int32\n",
              "category_Socks                              int32\n",
              "category_Socks & Hosiery                    int32\n",
              "category_Suits                              int32\n",
              "category_Suits & Sport Coats                int32\n",
              "category_Sweaters                           int32\n",
              "category_Swim                               int32\n",
              "category_Tops & Tees                        int32\n",
              "category_Underwear                          int32\n",
              "dtype: object"
            ]
          },
          "execution_count": 15,
          "metadata": {},
          "output_type": "execute_result"
        }
      ],
      "source": [
        "products_final.dtypes"
      ]
    },
    {
      "cell_type": "code",
      "execution_count": 16,
      "metadata": {
        "id": "3V46orS7Dfpn"
      },
      "outputs": [],
      "source": [
        "products_final.to_csv('products_final_numeric.csv', index=False)"
      ]
    },
    {
      "cell_type": "markdown",
      "metadata": {
        "id": "KzGtsvEVD5KN"
      },
      "source": [
        "### Convert all users data to numeric"
      ]
    },
    {
      "cell_type": "code",
      "execution_count": 17,
      "metadata": {
        "id": "HGoNooC2D1sZ"
      },
      "outputs": [],
      "source": [
        "users_final = pd.get_dummies(users, columns = ['gender', 'status', 'traffic_source'], dtype=int)"
      ]
    },
    {
      "cell_type": "markdown",
      "metadata": {
        "id": "Ry0VaJ88MM3B"
      },
      "source": [
        "### We need to use 'order_items' in order to extract product id. This is used to make the label for the user and items dataset (engineer a feature that indicates whether the user has interacted with the item or not)"
      ]
    },
    {
      "cell_type": "code",
      "execution_count": 18,
      "metadata": {
        "id": "NVtyq2WZNZEg"
      },
      "outputs": [],
      "source": [
        "users_final = pd.merge(left = users_final, right = order_items, left_on='id', right_on='user_id')"
      ]
    },
    {
      "cell_type": "code",
      "execution_count": 19,
      "metadata": {
        "colab": {
          "base_uri": "https://localhost:8080/"
        },
        "id": "5sQlpe0yNnSq",
        "outputId": "e4e75990-d01f-4c45-de12-fdbdecd6a687"
      },
      "outputs": [
        {
          "data": {
            "text/plain": [
              "Index(['id_x', 'age', 'postal_code', 'avg_sequence_number', 'order_id_x',\n",
              "       'num_of_item', 'month_day', 'gender_F', 'gender_M', 'status_Cancelled',\n",
              "       'status_Complete', 'status_Processing', 'status_Returned',\n",
              "       'status_Shipped', 'traffic_source_Display', 'traffic_source_Email',\n",
              "       'traffic_source_Facebook', 'traffic_source_Organic',\n",
              "       'traffic_source_Search', 'id_y', 'order_id_y', 'user_id', 'product_id',\n",
              "       'inventory_item_id', 'status', 'created_at', 'shipped_at',\n",
              "       'delivered_at', 'returned_at', 'sale_price'],\n",
              "      dtype='object')"
            ]
          },
          "execution_count": 19,
          "metadata": {},
          "output_type": "execute_result"
        }
      ],
      "source": [
        "users_final.columns"
      ]
    },
    {
      "cell_type": "code",
      "execution_count": 20,
      "metadata": {
        "id": "B9nl9AIONqPY"
      },
      "outputs": [],
      "source": [
        "users_final.drop(columns = ['id_x', 'order_id_x', 'id_y', 'order_id_y', 'user_id', 'inventory_item_id','status', 'created_at', 'shipped_at',\n",
        "       'delivered_at', 'returned_at', 'sale_price'], inplace = True)"
      ]
    },
    {
      "cell_type": "markdown",
      "metadata": {
        "id": "FYWJ_akBUL6L"
      },
      "source": [
        "dropping 'month-day' now for formatting purposes, however we can add it back in later if we think it has value"
      ]
    },
    {
      "cell_type": "code",
      "execution_count": 21,
      "metadata": {
        "id": "g7i_MRhVTkKW"
      },
      "outputs": [],
      "source": [
        "users_final.drop(columns = ['month_day'], inplace = True)"
      ]
    },
    {
      "cell_type": "code",
      "execution_count": 22,
      "metadata": {
        "colab": {
          "base_uri": "https://localhost:8080/"
        },
        "id": "5T_XvIYwOH1L",
        "outputId": "340935d8-8bd1-41e8-d7ab-475827838858"
      },
      "outputs": [
        {
          "data": {
            "text/plain": [
              "Index(['age', 'postal_code', 'avg_sequence_number', 'num_of_item', 'gender_F',\n",
              "       'gender_M', 'status_Cancelled', 'status_Complete', 'status_Processing',\n",
              "       'status_Returned', 'status_Shipped', 'traffic_source_Display',\n",
              "       'traffic_source_Email', 'traffic_source_Facebook',\n",
              "       'traffic_source_Organic', 'traffic_source_Search', 'product_id'],\n",
              "      dtype='object')"
            ]
          },
          "execution_count": 22,
          "metadata": {},
          "output_type": "execute_result"
        }
      ],
      "source": [
        "users_final.columns"
      ]
    },
    {
      "cell_type": "code",
      "execution_count": 23,
      "metadata": {
        "colab": {
          "base_uri": "https://localhost:8080/",
          "height": 610
        },
        "id": "KwzhFzseTdZi",
        "outputId": "d9c7acd4-0ab8-4eac-fc8d-fb257f50171a"
      },
      "outputs": [
        {
          "data": {
            "text/plain": [
              "age                          int64\n",
              "postal_code                  int64\n",
              "avg_sequence_number        float64\n",
              "num_of_item                  int64\n",
              "gender_F                     int32\n",
              "gender_M                     int32\n",
              "status_Cancelled             int32\n",
              "status_Complete              int32\n",
              "status_Processing            int32\n",
              "status_Returned              int32\n",
              "status_Shipped               int32\n",
              "traffic_source_Display       int32\n",
              "traffic_source_Email         int32\n",
              "traffic_source_Facebook      int32\n",
              "traffic_source_Organic       int32\n",
              "traffic_source_Search        int32\n",
              "product_id                   int64\n",
              "dtype: object"
            ]
          },
          "execution_count": 23,
          "metadata": {},
          "output_type": "execute_result"
        }
      ],
      "source": [
        "users_final.dtypes"
      ]
    },
    {
      "cell_type": "code",
      "execution_count": 24,
      "metadata": {
        "id": "Fmb3UVONEcew"
      },
      "outputs": [],
      "source": [
        "users_final.to_csv('users_final_numeric.csv', index=False)"
      ]
    },
    {
      "cell_type": "markdown",
      "metadata": {
        "id": "Bi51sP00F99X"
      },
      "source": [
        "## Building baseline 2 tower model"
      ]
    },
    {
      "cell_type": "code",
      "execution_count": 25,
      "metadata": {
        "colab": {
          "base_uri": "https://localhost:8080/"
        },
        "id": "3tyZPZxMGzSA",
        "outputId": "aeb487ec-b24e-40c5-93ef-4453c097fdf3"
      },
      "outputs": [
        {
          "data": {
            "text/plain": [
              "(80000, 17)"
            ]
          },
          "execution_count": 25,
          "metadata": {},
          "output_type": "execute_result"
        }
      ],
      "source": [
        "users_final.shape"
      ]
    },
    {
      "cell_type": "code",
      "execution_count": 26,
      "metadata": {
        "colab": {
          "base_uri": "https://localhost:8080/",
          "height": 610
        },
        "id": "PIiPhPuuPPPE",
        "outputId": "147a5177-371c-48e1-a199-45a2b8a912b9"
      },
      "outputs": [
        {
          "data": {
            "text/plain": [
              "age                        0\n",
              "postal_code                0\n",
              "avg_sequence_number        0\n",
              "num_of_item                0\n",
              "gender_F                   0\n",
              "gender_M                   0\n",
              "status_Cancelled           0\n",
              "status_Complete            0\n",
              "status_Processing          0\n",
              "status_Returned            0\n",
              "status_Shipped             0\n",
              "traffic_source_Display     0\n",
              "traffic_source_Email       0\n",
              "traffic_source_Facebook    0\n",
              "traffic_source_Organic     0\n",
              "traffic_source_Search      0\n",
              "product_id                 0\n",
              "dtype: int64"
            ]
          },
          "execution_count": 26,
          "metadata": {},
          "output_type": "execute_result"
        }
      ],
      "source": [
        "users_final.isna().sum()"
      ]
    },
    {
      "cell_type": "code",
      "execution_count": 27,
      "metadata": {
        "colab": {
          "base_uri": "https://localhost:8080/"
        },
        "id": "4ZxKU_eCLIlI",
        "outputId": "fbf024ea-6353-4305-d109-00d53bc9a29c"
      },
      "outputs": [
        {
          "data": {
            "text/plain": [
              "Index(['age', 'postal_code', 'avg_sequence_number', 'num_of_item', 'gender_F',\n",
              "       'gender_M', 'status_Cancelled', 'status_Complete', 'status_Processing',\n",
              "       'status_Returned', 'status_Shipped', 'traffic_source_Display',\n",
              "       'traffic_source_Email', 'traffic_source_Facebook',\n",
              "       'traffic_source_Organic', 'traffic_source_Search', 'product_id'],\n",
              "      dtype='object')"
            ]
          },
          "execution_count": 27,
          "metadata": {},
          "output_type": "execute_result"
        }
      ],
      "source": [
        "users_final.columns"
      ]
    },
    {
      "cell_type": "code",
      "execution_count": 28,
      "metadata": {
        "colab": {
          "base_uri": "https://localhost:8080/"
        },
        "id": "R_zBYlhHG5jX",
        "outputId": "552dd0ea-528b-4352-88bb-067a70644ee4"
      },
      "outputs": [
        {
          "data": {
            "text/plain": [
              "(19696, 33)"
            ]
          },
          "execution_count": 28,
          "metadata": {},
          "output_type": "execute_result"
        }
      ],
      "source": [
        "products_final.shape"
      ]
    },
    {
      "cell_type": "code",
      "execution_count": 29,
      "metadata": {
        "colab": {
          "base_uri": "https://localhost:8080/",
          "height": 1000
        },
        "id": "awT9rSlBPUdx",
        "outputId": "3eb99695-cb97-4c64-cecd-b8fd392a7315"
      },
      "outputs": [
        {
          "data": {
            "text/plain": [
              "cost                                      0\n",
              "retail_price                              0\n",
              "product_id                                0\n",
              "name_embedding                            0\n",
              "brand_encoded                             0\n",
              "department_Men                            0\n",
              "department_Women                          0\n",
              "category_Accessories                      0\n",
              "category_Active                           0\n",
              "category_Blazers & Jackets                0\n",
              "category_Clothing Sets                    0\n",
              "category_Dresses                          0\n",
              "category_Fashion Hoodies & Sweatshirts    0\n",
              "category_Intimates                        0\n",
              "category_Jeans                            0\n",
              "category_Jumpsuits & Rompers              0\n",
              "category_Leggings                         0\n",
              "category_Maternity                        0\n",
              "category_Outerwear & Coats                0\n",
              "category_Pants                            0\n",
              "category_Pants & Capris                   0\n",
              "category_Plus                             0\n",
              "category_Shorts                           0\n",
              "category_Skirts                           0\n",
              "category_Sleep & Lounge                   0\n",
              "category_Socks                            0\n",
              "category_Socks & Hosiery                  0\n",
              "category_Suits                            0\n",
              "category_Suits & Sport Coats              0\n",
              "category_Sweaters                         0\n",
              "category_Swim                             0\n",
              "category_Tops & Tees                      0\n",
              "category_Underwear                        0\n",
              "dtype: int64"
            ]
          },
          "execution_count": 29,
          "metadata": {},
          "output_type": "execute_result"
        }
      ],
      "source": [
        "products_final.isna().sum()"
      ]
    },
    {
      "cell_type": "markdown",
      "metadata": {
        "id": "fABVEyuHHrcS"
      },
      "source": [
        "### The first issue is that for each training batch, we need to have the same amount of user-item pairs as input. This means we need to use some sort of sampling for each batch in order to make sure they're both the same size."
      ]
    },
    {
      "cell_type": "code",
      "execution_count": 33,
      "metadata": {
        "id": "Ci_eiOHmGp5-"
      },
      "outputs": [],
      "source": [
        "import tensorflow as tf\n",
        "from tensorflow.keras.layers import Input, Dense, Concatenate, Dot, Dropout\n",
        "from tensorflow.keras.models import Model"
      ]
    },
    {
      "cell_type": "code",
      "execution_count": 34,
      "metadata": {
        "id": "VtJdhlpvGtLl"
      },
      "outputs": [],
      "source": [
        "user_input = Input(shape=(16,), name='user_input')\n",
        "item_input = Input(shape=(31,), name='item_input')"
      ]
    },
    {
      "cell_type": "code",
      "execution_count": 39,
      "metadata": {
        "id": "qq3EkB2QKFcW"
      },
      "outputs": [],
      "source": [
        "#Changed from baseline\n",
        "user_tower = Dense(128, activation='relu')(user_input)\n",
        "user_tower = Dropout(0.3)(user_tower)"
      ]
    },
    {
      "cell_type": "code",
      "execution_count": 45,
      "metadata": {
        "id": "JAkg1EEFKHkI"
      },
      "outputs": [],
      "source": [
        "item_tower = Dense(128, activation='relu')(item_input)\n",
        "item_tower = Dropout(0.3)(item_tower)"
      ]
    },
    {
      "cell_type": "code",
      "execution_count": 46,
      "metadata": {
        "id": "5eUzjcX2KLL1"
      },
      "outputs": [],
      "source": [
        "dot_product = Dot(axes=1)([user_tower, item_tower])"
      ]
    },
    {
      "cell_type": "code",
      "execution_count": 47,
      "metadata": {
        "id": "GavRe9ZyKTih"
      },
      "outputs": [],
      "source": [
        "model = Model(inputs=[user_input, item_input], outputs=dot_product)"
      ]
    },
    {
      "cell_type": "code",
      "execution_count": 48,
      "metadata": {
        "id": "dSzg_ncqKU-S"
      },
      "outputs": [],
      "source": [
        "model.compile(optimizer='adam', loss='mse')"
      ]
    },
    {
      "cell_type": "code",
      "execution_count": 49,
      "metadata": {
        "colab": {
          "base_uri": "https://localhost:8080/",
          "height": 369
        },
        "id": "Tx5fID2aKmB8",
        "outputId": "b2a0b00c-e299-41ed-f19b-8cf259598826"
      },
      "outputs": [
        {
          "data": {
            "text/html": [
              "<pre style=\"white-space:pre;overflow-x:auto;line-height:normal;font-family:Menlo,'DejaVu Sans Mono',consolas,'Courier New',monospace\"><span style=\"font-weight: bold\">Model: \"functional\"</span>\n",
              "</pre>\n"
            ],
            "text/plain": [
              "\u001b[1mModel: \"functional\"\u001b[0m\n"
            ]
          },
          "metadata": {},
          "output_type": "display_data"
        },
        {
          "data": {
            "text/html": [
              "<pre style=\"white-space:pre;overflow-x:auto;line-height:normal;font-family:Menlo,'DejaVu Sans Mono',consolas,'Courier New',monospace\">┏━━━━━━━━━━━━━━━━━━━━━┳━━━━━━━━━━━━━━━━━━━┳━━━━━━━━━━━━┳━━━━━━━━━━━━━━━━━━━┓\n",
              "┃<span style=\"font-weight: bold\"> Layer (type)        </span>┃<span style=\"font-weight: bold\"> Output Shape      </span>┃<span style=\"font-weight: bold\">    Param # </span>┃<span style=\"font-weight: bold\"> Connected to      </span>┃\n",
              "┡━━━━━━━━━━━━━━━━━━━━━╇━━━━━━━━━━━━━━━━━━━╇━━━━━━━━━━━━╇━━━━━━━━━━━━━━━━━━━┩\n",
              "│ user_input          │ (<span style=\"color: #00d7ff; text-decoration-color: #00d7ff\">None</span>, <span style=\"color: #00af00; text-decoration-color: #00af00\">16</span>)        │          <span style=\"color: #00af00; text-decoration-color: #00af00\">0</span> │ -                 │\n",
              "│ (<span style=\"color: #0087ff; text-decoration-color: #0087ff\">InputLayer</span>)        │                   │            │                   │\n",
              "├─────────────────────┼───────────────────┼────────────┼───────────────────┤\n",
              "│ item_input          │ (<span style=\"color: #00d7ff; text-decoration-color: #00d7ff\">None</span>, <span style=\"color: #00af00; text-decoration-color: #00af00\">31</span>)        │          <span style=\"color: #00af00; text-decoration-color: #00af00\">0</span> │ -                 │\n",
              "│ (<span style=\"color: #0087ff; text-decoration-color: #0087ff\">InputLayer</span>)        │                   │            │                   │\n",
              "├─────────────────────┼───────────────────┼────────────┼───────────────────┤\n",
              "│ dense_5 (<span style=\"color: #0087ff; text-decoration-color: #0087ff\">Dense</span>)     │ (<span style=\"color: #00d7ff; text-decoration-color: #00d7ff\">None</span>, <span style=\"color: #00af00; text-decoration-color: #00af00\">128</span>)       │      <span style=\"color: #00af00; text-decoration-color: #00af00\">2,176</span> │ user_input[<span style=\"color: #00af00; text-decoration-color: #00af00\">0</span>][<span style=\"color: #00af00; text-decoration-color: #00af00\">0</span>]  │\n",
              "├─────────────────────┼───────────────────┼────────────┼───────────────────┤\n",
              "│ dense_7 (<span style=\"color: #0087ff; text-decoration-color: #0087ff\">Dense</span>)     │ (<span style=\"color: #00d7ff; text-decoration-color: #00d7ff\">None</span>, <span style=\"color: #00af00; text-decoration-color: #00af00\">128</span>)       │      <span style=\"color: #00af00; text-decoration-color: #00af00\">4,096</span> │ item_input[<span style=\"color: #00af00; text-decoration-color: #00af00\">0</span>][<span style=\"color: #00af00; text-decoration-color: #00af00\">0</span>]  │\n",
              "├─────────────────────┼───────────────────┼────────────┼───────────────────┤\n",
              "│ dropout_3 (<span style=\"color: #0087ff; text-decoration-color: #0087ff\">Dropout</span>) │ (<span style=\"color: #00d7ff; text-decoration-color: #00d7ff\">None</span>, <span style=\"color: #00af00; text-decoration-color: #00af00\">128</span>)       │          <span style=\"color: #00af00; text-decoration-color: #00af00\">0</span> │ dense_5[<span style=\"color: #00af00; text-decoration-color: #00af00\">0</span>][<span style=\"color: #00af00; text-decoration-color: #00af00\">0</span>]     │\n",
              "├─────────────────────┼───────────────────┼────────────┼───────────────────┤\n",
              "│ dropout_6 (<span style=\"color: #0087ff; text-decoration-color: #0087ff\">Dropout</span>) │ (<span style=\"color: #00d7ff; text-decoration-color: #00d7ff\">None</span>, <span style=\"color: #00af00; text-decoration-color: #00af00\">128</span>)       │          <span style=\"color: #00af00; text-decoration-color: #00af00\">0</span> │ dense_7[<span style=\"color: #00af00; text-decoration-color: #00af00\">0</span>][<span style=\"color: #00af00; text-decoration-color: #00af00\">0</span>]     │\n",
              "├─────────────────────┼───────────────────┼────────────┼───────────────────┤\n",
              "│ dot_4 (<span style=\"color: #0087ff; text-decoration-color: #0087ff\">Dot</span>)         │ (<span style=\"color: #00d7ff; text-decoration-color: #00d7ff\">None</span>, <span style=\"color: #00af00; text-decoration-color: #00af00\">1</span>)         │          <span style=\"color: #00af00; text-decoration-color: #00af00\">0</span> │ dropout_3[<span style=\"color: #00af00; text-decoration-color: #00af00\">0</span>][<span style=\"color: #00af00; text-decoration-color: #00af00\">0</span>],  │\n",
              "│                     │                   │            │ dropout_6[<span style=\"color: #00af00; text-decoration-color: #00af00\">0</span>][<span style=\"color: #00af00; text-decoration-color: #00af00\">0</span>]   │\n",
              "└─────────────────────┴───────────────────┴────────────┴───────────────────┘\n",
              "</pre>\n"
            ],
            "text/plain": [
              "┏━━━━━━━━━━━━━━━━━━━━━┳━━━━━━━━━━━━━━━━━━━┳━━━━━━━━━━━━┳━━━━━━━━━━━━━━━━━━━┓\n",
              "┃\u001b[1m \u001b[0m\u001b[1mLayer (type)       \u001b[0m\u001b[1m \u001b[0m┃\u001b[1m \u001b[0m\u001b[1mOutput Shape     \u001b[0m\u001b[1m \u001b[0m┃\u001b[1m \u001b[0m\u001b[1m   Param #\u001b[0m\u001b[1m \u001b[0m┃\u001b[1m \u001b[0m\u001b[1mConnected to     \u001b[0m\u001b[1m \u001b[0m┃\n",
              "┡━━━━━━━━━━━━━━━━━━━━━╇━━━━━━━━━━━━━━━━━━━╇━━━━━━━━━━━━╇━━━━━━━━━━━━━━━━━━━┩\n",
              "│ user_input          │ (\u001b[38;5;45mNone\u001b[0m, \u001b[38;5;34m16\u001b[0m)        │          \u001b[38;5;34m0\u001b[0m │ -                 │\n",
              "│ (\u001b[38;5;33mInputLayer\u001b[0m)        │                   │            │                   │\n",
              "├─────────────────────┼───────────────────┼────────────┼───────────────────┤\n",
              "│ item_input          │ (\u001b[38;5;45mNone\u001b[0m, \u001b[38;5;34m31\u001b[0m)        │          \u001b[38;5;34m0\u001b[0m │ -                 │\n",
              "│ (\u001b[38;5;33mInputLayer\u001b[0m)        │                   │            │                   │\n",
              "├─────────────────────┼───────────────────┼────────────┼───────────────────┤\n",
              "│ dense_5 (\u001b[38;5;33mDense\u001b[0m)     │ (\u001b[38;5;45mNone\u001b[0m, \u001b[38;5;34m128\u001b[0m)       │      \u001b[38;5;34m2,176\u001b[0m │ user_input[\u001b[38;5;34m0\u001b[0m][\u001b[38;5;34m0\u001b[0m]  │\n",
              "├─────────────────────┼───────────────────┼────────────┼───────────────────┤\n",
              "│ dense_7 (\u001b[38;5;33mDense\u001b[0m)     │ (\u001b[38;5;45mNone\u001b[0m, \u001b[38;5;34m128\u001b[0m)       │      \u001b[38;5;34m4,096\u001b[0m │ item_input[\u001b[38;5;34m0\u001b[0m][\u001b[38;5;34m0\u001b[0m]  │\n",
              "├─────────────────────┼───────────────────┼────────────┼───────────────────┤\n",
              "│ dropout_3 (\u001b[38;5;33mDropout\u001b[0m) │ (\u001b[38;5;45mNone\u001b[0m, \u001b[38;5;34m128\u001b[0m)       │          \u001b[38;5;34m0\u001b[0m │ dense_5[\u001b[38;5;34m0\u001b[0m][\u001b[38;5;34m0\u001b[0m]     │\n",
              "├─────────────────────┼───────────────────┼────────────┼───────────────────┤\n",
              "│ dropout_6 (\u001b[38;5;33mDropout\u001b[0m) │ (\u001b[38;5;45mNone\u001b[0m, \u001b[38;5;34m128\u001b[0m)       │          \u001b[38;5;34m0\u001b[0m │ dense_7[\u001b[38;5;34m0\u001b[0m][\u001b[38;5;34m0\u001b[0m]     │\n",
              "├─────────────────────┼───────────────────┼────────────┼───────────────────┤\n",
              "│ dot_4 (\u001b[38;5;33mDot\u001b[0m)         │ (\u001b[38;5;45mNone\u001b[0m, \u001b[38;5;34m1\u001b[0m)         │          \u001b[38;5;34m0\u001b[0m │ dropout_3[\u001b[38;5;34m0\u001b[0m][\u001b[38;5;34m0\u001b[0m],  │\n",
              "│                     │                   │            │ dropout_6[\u001b[38;5;34m0\u001b[0m][\u001b[38;5;34m0\u001b[0m]   │\n",
              "└─────────────────────┴───────────────────┴────────────┴───────────────────┘\n"
            ]
          },
          "metadata": {},
          "output_type": "display_data"
        },
        {
          "data": {
            "text/html": [
              "<pre style=\"white-space:pre;overflow-x:auto;line-height:normal;font-family:Menlo,'DejaVu Sans Mono',consolas,'Courier New',monospace\"><span style=\"font-weight: bold\"> Total params: </span><span style=\"color: #00af00; text-decoration-color: #00af00\">6,272</span> (24.50 KB)\n",
              "</pre>\n"
            ],
            "text/plain": [
              "\u001b[1m Total params: \u001b[0m\u001b[38;5;34m6,272\u001b[0m (24.50 KB)\n"
            ]
          },
          "metadata": {},
          "output_type": "display_data"
        },
        {
          "data": {
            "text/html": [
              "<pre style=\"white-space:pre;overflow-x:auto;line-height:normal;font-family:Menlo,'DejaVu Sans Mono',consolas,'Courier New',monospace\"><span style=\"font-weight: bold\"> Trainable params: </span><span style=\"color: #00af00; text-decoration-color: #00af00\">6,272</span> (24.50 KB)\n",
              "</pre>\n"
            ],
            "text/plain": [
              "\u001b[1m Trainable params: \u001b[0m\u001b[38;5;34m6,272\u001b[0m (24.50 KB)\n"
            ]
          },
          "metadata": {},
          "output_type": "display_data"
        },
        {
          "data": {
            "text/html": [
              "<pre style=\"white-space:pre;overflow-x:auto;line-height:normal;font-family:Menlo,'DejaVu Sans Mono',consolas,'Courier New',monospace\"><span style=\"font-weight: bold\"> Non-trainable params: </span><span style=\"color: #00af00; text-decoration-color: #00af00\">0</span> (0.00 B)\n",
              "</pre>\n"
            ],
            "text/plain": [
              "\u001b[1m Non-trainable params: \u001b[0m\u001b[38;5;34m0\u001b[0m (0.00 B)\n"
            ]
          },
          "metadata": {},
          "output_type": "display_data"
        }
      ],
      "source": [
        "model.summary()"
      ]
    },
    {
      "cell_type": "markdown",
      "metadata": {
        "id": "mpWQ97JvKpmv"
      },
      "source": [
        "### Formatting inputs"
      ]
    },
    {
      "cell_type": "code",
      "execution_count": 50,
      "metadata": {
        "colab": {
          "base_uri": "https://localhost:8080/"
        },
        "id": "vPgKJCIxQnmp",
        "outputId": "dc1c6bb4-31fc-4802-ff94-b3b6c90cdcee"
      },
      "outputs": [
        {
          "name": "stderr",
          "output_type": "stream",
          "text": [
            "c:\\Users\\asmi_\\Asmi's Documents\\Academics\\2022-26_UCLA\\Projects\\amex\\.venv\\Lib\\site-packages\\keras\\src\\models\\functional.py:225: UserWarning: The structure of `inputs` doesn't match the expected structure: ['user_input', 'item_input']. Received: the structure of inputs=('*', '*')\n",
            "  warnings.warn(\n"
          ]
        },
        {
          "name": "stdout",
          "output_type": "stream",
          "text": [
            "\u001b[1m1/1\u001b[0m \u001b[32m━━━━━━━━━━━━━━━━━━━━\u001b[0m\u001b[37m\u001b[0m \u001b[1m1s\u001b[0m 705ms/step - loss: 916276645986304.0000\n",
            "\u001b[1m1/1\u001b[0m \u001b[32m━━━━━━━━━━━━━━━━━━━━\u001b[0m\u001b[37m\u001b[0m \u001b[1m0s\u001b[0m 20ms/step - loss: 942215094337536.0000\n",
            "\u001b[1m1/1\u001b[0m \u001b[32m━━━━━━━━━━━━━━━━━━━━\u001b[0m\u001b[37m\u001b[0m \u001b[1m0s\u001b[0m 19ms/step - loss: 718133094514688.0000\n",
            "\u001b[1m1/1\u001b[0m \u001b[32m━━━━━━━━━━━━━━━━━━━━\u001b[0m\u001b[37m\u001b[0m \u001b[1m0s\u001b[0m 19ms/step - loss: 744788533968896.0000\n",
            "\u001b[1m1/1\u001b[0m \u001b[32m━━━━━━━━━━━━━━━━━━━━\u001b[0m\u001b[37m\u001b[0m \u001b[1m0s\u001b[0m 20ms/step - loss: 686837010006016.0000\n",
            "\u001b[1m1/1\u001b[0m \u001b[32m━━━━━━━━━━━━━━━━━━━━\u001b[0m\u001b[37m\u001b[0m \u001b[1m0s\u001b[0m 19ms/step - loss: 664993141882880.0000\n",
            "\u001b[1m1/1\u001b[0m \u001b[32m━━━━━━━━━━━━━━━━━━━━\u001b[0m\u001b[37m\u001b[0m \u001b[1m0s\u001b[0m 18ms/step - loss: 658780404580352.0000\n",
            "\u001b[1m1/1\u001b[0m \u001b[32m━━━━━━━━━━━━━━━━━━━━\u001b[0m\u001b[37m\u001b[0m \u001b[1m0s\u001b[0m 19ms/step - loss: 772460874039296.0000\n",
            "\u001b[1m1/1\u001b[0m \u001b[32m━━━━━━━━━━━━━━━━━━━━\u001b[0m\u001b[37m\u001b[0m \u001b[1m0s\u001b[0m 19ms/step - loss: 568043918852096.0000\n",
            "\u001b[1m1/1\u001b[0m \u001b[32m━━━━━━━━━━━━━━━━━━━━\u001b[0m\u001b[37m\u001b[0m \u001b[1m0s\u001b[0m 33ms/step - loss: 577066370072576.0000\n",
            "\u001b[1m1/1\u001b[0m \u001b[32m━━━━━━━━━━━━━━━━━━━━\u001b[0m\u001b[37m\u001b[0m \u001b[1m0s\u001b[0m 21ms/step - loss: 548024841404416.0000\n",
            "\u001b[1m1/1\u001b[0m \u001b[32m━━━━━━━━━━━━━━━━━━━━\u001b[0m\u001b[37m\u001b[0m \u001b[1m0s\u001b[0m 20ms/step - loss: 622743481483264.0000\n",
            "\u001b[1m1/1\u001b[0m \u001b[32m━━━━━━━━━━━━━━━━━━━━\u001b[0m\u001b[37m\u001b[0m \u001b[1m0s\u001b[0m 22ms/step - loss: 602884693557248.0000\n",
            "\u001b[1m1/1\u001b[0m \u001b[32m━━━━━━━━━━━━━━━━━━━━\u001b[0m\u001b[37m\u001b[0m \u001b[1m0s\u001b[0m 20ms/step - loss: 537693096247296.0000\n",
            "\u001b[1m1/1\u001b[0m \u001b[32m━━━━━━━━━━━━━━━━━━━━\u001b[0m\u001b[37m\u001b[0m \u001b[1m0s\u001b[0m 22ms/step - loss: 559203433316352.0000\n",
            "\u001b[1m1/1\u001b[0m \u001b[32m━━━━━━━━━━━━━━━━━━━━\u001b[0m\u001b[37m\u001b[0m \u001b[1m0s\u001b[0m 19ms/step - loss: 621744566042624.0000\n",
            "\u001b[1m1/1\u001b[0m \u001b[32m━━━━━━━━━━━━━━━━━━━━\u001b[0m\u001b[37m\u001b[0m \u001b[1m0s\u001b[0m 19ms/step - loss: 458424810733568.0000\n",
            "\u001b[1m1/1\u001b[0m \u001b[32m━━━━━━━━━━━━━━━━━━━━\u001b[0m\u001b[37m\u001b[0m \u001b[1m0s\u001b[0m 19ms/step - loss: 481967942402048.0000\n",
            "\u001b[1m1/1\u001b[0m \u001b[32m━━━━━━━━━━━━━━━━━━━━\u001b[0m\u001b[37m\u001b[0m \u001b[1m0s\u001b[0m 19ms/step - loss: 470284926713856.0000\n",
            "\u001b[1m1/1\u001b[0m \u001b[32m━━━━━━━━━━━━━━━━━━━━\u001b[0m\u001b[37m\u001b[0m \u001b[1m0s\u001b[0m 20ms/step - loss: 364557730054144.0000\n",
            "\u001b[1m1/1\u001b[0m \u001b[32m━━━━━━━━━━━━━━━━━━━━\u001b[0m\u001b[37m\u001b[0m \u001b[1m0s\u001b[0m 20ms/step - loss: 408378811613184.0000\n",
            "\u001b[1m1/1\u001b[0m \u001b[32m━━━━━━━━━━━━━━━━━━━━\u001b[0m\u001b[37m\u001b[0m \u001b[1m0s\u001b[0m 19ms/step - loss: 416193034846208.0000\n",
            "\u001b[1m1/1\u001b[0m \u001b[32m━━━━━━━━━━━━━━━━━━━━\u001b[0m\u001b[37m\u001b[0m \u001b[1m0s\u001b[0m 20ms/step - loss: 418857122529280.0000\n",
            "\u001b[1m1/1\u001b[0m \u001b[32m━━━━━━━━━━━━━━━━━━━━\u001b[0m\u001b[37m\u001b[0m \u001b[1m0s\u001b[0m 19ms/step - loss: 365195700469760.0000\n",
            "\u001b[1m1/1\u001b[0m \u001b[32m━━━━━━━━━━━━━━━━━━━━\u001b[0m\u001b[37m\u001b[0m \u001b[1m0s\u001b[0m 19ms/step - loss: 385511667531776.0000\n"
          ]
        }
      ],
      "source": [
        "def create_labels_and_train(users_df, products_df, model, batch_size, num_epochs):\n",
        "    for epoch in range(num_epochs):\n",
        "        # generate random user-item pairs through random indices for each batch\n",
        "        user_indices = np.random.randint(0, len(users_df), size=batch_size)\n",
        "        product_indices = np.random.randint(0, len(products_df), size=batch_size)\n",
        "\n",
        "        # extract the data\n",
        "        user_data = users_df.iloc[user_indices]#.copy()  # copy to avoid SettingWithCopyWarning\n",
        "        product_data = products_df.iloc[product_indices]#.copy()\n",
        "\n",
        "        # we will be creating target similarity labels\n",
        "        target_similarity = []\n",
        "\n",
        "        # loop through user and product indices to create labels\n",
        "        for user_idx, product_idx in zip(user_indices, product_indices):\n",
        "            user_product_id = users_df.iloc[user_idx]['product_id']\n",
        "            item_product_id = products_df.iloc[product_idx]['product_id']\n",
        "\n",
        "            # if the user and item product id match, it means the user purchased the product\n",
        "            # otherwise, there is no interaction and the target similarity would be 0\n",
        "            target_similarity.append(1 if user_product_id == item_product_id else 0)\n",
        "\n",
        "        # convert to a numpy array\n",
        "        target_similarity = np.array(target_similarity)\n",
        "\n",
        "        # drop 'product_id' from both dataframes\n",
        "        user_data = user_data.drop(columns=['product_id'])\n",
        "        product_data = product_data.drop(columns=['product_id', 'name_embedding'])\n",
        "\n",
        "\n",
        "        # train the model with the pairs\n",
        "        model.fit([user_data.values, product_data.values], target_similarity, epochs=1, batch_size=batch_size)\n",
        "\n",
        "# parameters\n",
        "batch_size = 500\n",
        "num_epochs = 25\n",
        "\n",
        "create_labels_and_train(users_final, products_final, model, batch_size, num_epochs)\n"
      ]
    },
    {
      "cell_type": "code",
      "execution_count": null,
      "metadata": {
        "id": "zuL_Z2V-R_p5"
      },
      "outputs": [],
      "source": []
    }
  ],
  "metadata": {
    "colab": {
      "provenance": []
    },
    "kernelspec": {
      "display_name": ".venv",
      "language": "python",
      "name": "python3"
    },
    "language_info": {
      "codemirror_mode": {
        "name": "ipython",
        "version": 3
      },
      "file_extension": ".py",
      "mimetype": "text/x-python",
      "name": "python",
      "nbconvert_exporter": "python",
      "pygments_lexer": "ipython3",
      "version": "3.12.4"
    }
  },
  "nbformat": 4,
  "nbformat_minor": 0
}
