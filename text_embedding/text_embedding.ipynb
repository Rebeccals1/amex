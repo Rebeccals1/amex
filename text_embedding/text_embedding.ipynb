{
 "cells": [
  {
   "cell_type": "code",
   "execution_count": 7,
   "metadata": {},
   "outputs": [],
   "source": [
    "# Takes a long time to download (1.6GB)\n",
    "#import gensim.downloader as api\n",
    "\n",
    "#print(api.info())\n",
    "\n",
    "#model = api.load(\"word2vec-google-news-300\")\n"
   ]
  },
  {
   "cell_type": "code",
   "execution_count": 1,
   "metadata": {},
   "outputs": [
    {
     "name": "stderr",
     "output_type": "stream",
     "text": [
      "/Users/arda/amex/amex/.venv/lib/python3.9/site-packages/urllib3/__init__.py:35: NotOpenSSLWarning: urllib3 v2 only supports OpenSSL 1.1.1+, currently the 'ssl' module is compiled with 'LibreSSL 2.8.3'. See: https://github.com/urllib3/urllib3/issues/3020\n",
      "  warnings.warn(\n"
     ]
    }
   ],
   "source": [
    "import re\n",
    "import numpy as np\n",
    "import pandas as pd\n",
    "import gensim.downloader as api\n",
    "from tqdm import tqdm \n",
    "import os"
   ]
  },
  {
   "cell_type": "code",
   "execution_count": 2,
   "metadata": {},
   "outputs": [],
   "source": [
    "# pre processing function \n",
    "def preprocess_text(text):\n",
    "    if pd.isnull(text):\n",
    "        return []\n",
    "    # lowercase the text\n",
    "    text = text.lower()\n",
    "    \n",
    "    # remove special characters and numbers\n",
    "    text = re.sub(r'[^a-zA-Z\\s]', '', text)\n",
    "    \n",
    "    # tokenize (split into words)\n",
    "    tokens = text.split()\n",
    "\n",
    "    return tokens"
   ]
  },
  {
   "cell_type": "code",
   "execution_count": 3,
   "metadata": {},
   "outputs": [],
   "source": [
    "# sentence embedding generator by averaging word vectors for each token\n",
    "def get_word2vec_embeddings(tokens, model):\n",
    "    word_vectors = []\n",
    "    for word in tokens:\n",
    "        if word in model:\n",
    "            word_vectors.append(model[word])\n",
    "        \n",
    "    \n",
    "    if word_vectors:\n",
    "        # compute the mean of all word vectors\n",
    "        sentence_embedding = np.mean(word_vectors, axis=0)\n",
    "    else:\n",
    "        # if there are no valid words return a vector of zeros\n",
    "        sentence_embedding = np.zeros(model.vector_size)\n",
    "    \n",
    "    return sentence_embedding"
   ]
  },
  {
   "cell_type": "code",
   "execution_count": 4,
   "metadata": {},
   "outputs": [
    {
     "name": "stdout",
     "output_type": "stream",
     "text": [
      "Available models:\n",
      "dict_keys(['fasttext-wiki-news-subwords-300', 'conceptnet-numberbatch-17-06-300', 'word2vec-ruscorpora-300', 'word2vec-google-news-300', 'glove-wiki-gigaword-50', 'glove-wiki-gigaword-100', 'glove-wiki-gigaword-200', 'glove-wiki-gigaword-300', 'glove-twitter-25', 'glove-twitter-50', 'glove-twitter-100', 'glove-twitter-200', '__testing_word2vec-matrix-synopsis'])\n"
     ]
    }
   ],
   "source": [
    "print(\"Available models:\")\n",
    "print(api.info()['models'].keys())"
   ]
  },
  {
   "cell_type": "code",
   "execution_count": 5,
   "metadata": {},
   "outputs": [],
   "source": [
    "# choosed a smaller model to save time and space\n",
    "model_name = \"glove-wiki-gigaword-50\"  # 70MB\n",
    "\n",
    "# load the model\n",
    "model = api.load(model_name)"
   ]
  },
  {
   "cell_type": "code",
   "execution_count": 26,
   "metadata": {},
   "outputs": [],
   "source": [
    "# TEST RUN WITH EXAMPLE WORDS FOR TESTING WORD AND SENTENCE EMBEDDINGS\n",
    "# # example words\n",
    "# words = [\"arda\", \"asmi\", \"paige\", \"tanisha\", \"rebecca\", \"vaishnavi\"]\n",
    "# for word in words:\n",
    "#     embedding = model[word]\n",
    "#     print(f\"Embedding for '{word}':\")\n",
    "#     print(embedding)\n",
    "#     print(embedding.shape)\n",
    "# # Example of preprocessing and generating sentence embedding\n",
    "# sample_text = \"american express team 1 is the best team\"\n",
    "# tokens = preprocess_text(sample_text)\n",
    "# print(f\"preprocessed tokens: {tokens}\")\n",
    "\n",
    "# sentence_embedding = get_word2vec_embeddings(tokens, model)\n",
    "# print(sentence_embedding.shape)\n",
    "# print(f\"Sentence embedding: {sentence_embedding}\")\n"
   ]
  },
  {
   "cell_type": "code",
   "execution_count": 6,
   "metadata": {},
   "outputs": [],
   "source": [
    "input_path = \"../data/products.csv\"\n",
    "output_path = \"../data/brand_embeddings.csv\"\n",
    "chunk_size = 10000\n",
    "embeddings_list = []"
   ]
  },
  {
   "cell_type": "code",
   "execution_count": 7,
   "metadata": {},
   "outputs": [
    {
     "name": "stderr",
     "output_type": "stream",
     "text": [
      "Processing Chunks: 3it [00:01,  2.66it/s]\n"
     ]
    }
   ],
   "source": [
    "with pd.read_csv(input_path, chunksize=chunk_size) as reader:\n",
    "        for chunk_number, chunk in enumerate(tqdm(reader, desc=\"Processing Chunks\")):\n",
    "            # preprocess name column\n",
    "            chunk['tokens'] = chunk['brand'].apply(preprocess_text)\n",
    "            \n",
    "            # sentence embeddings\n",
    "            embeddings = chunk['tokens'].apply(lambda tokens: get_word2vec_embeddings(tokens, model))\n",
    "            \n",
    "            # convert embeddings to lists for storing in df\n",
    "            embeddings = embeddings.apply(lambda x: x.tolist())\n",
    "            \n",
    "            embeddings_df = pd.DataFrame({\n",
    "                'brand': chunk['brand'],\n",
    "                'brand_embedding': embeddings\n",
    "            })\n",
    "            \n",
    "            # Save \n",
    "            if chunk_number == 0:\n",
    "                # header for the first chunk\n",
    "                embeddings_df.to_csv(output_path, index=False, mode='w')\n",
    "            else:\n",
    "                # no header for the rest\n",
    "                embeddings_df.to_csv(output_path, index=False, header=False, mode='a')\n",
    "            \n",
    "            # free memory\n",
    "            del chunk['tokens']\n",
    "            del embeddings\n",
    "            del embeddings_df\n"
   ]
  },
  {
   "cell_type": "code",
   "execution_count": null,
   "metadata": {},
   "outputs": [],
   "source": []
  }
 ],
 "metadata": {
  "kernelspec": {
   "display_name": ".venv",
   "language": "python",
   "name": "python3"
  },
  "language_info": {
   "codemirror_mode": {
    "name": "ipython",
    "version": 3
   },
   "file_extension": ".py",
   "mimetype": "text/x-python",
   "name": "python",
   "nbconvert_exporter": "python",
   "pygments_lexer": "ipython3",
   "version": "3.9.6"
  }
 },
 "nbformat": 4,
 "nbformat_minor": 2
}
