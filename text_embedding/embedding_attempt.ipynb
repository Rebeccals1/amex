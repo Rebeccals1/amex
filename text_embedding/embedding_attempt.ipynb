{
 "cells": [
  {
   "cell_type": "code",
   "execution_count": 2,
   "metadata": {},
   "outputs": [],
   "source": [
    "import pandas as pd\n",
    "import numpy as np\n",
    "import seaborn as sns\n",
    "import matplotlib as mpl\n",
    "import matplotlib.pyplot as plt\n",
    "import gensim.downloader as api"
   ]
  },
  {
   "cell_type": "markdown",
   "metadata": {},
   "source": [
    "Note that using word2vec or GloVe without an API involves downloading a large model file (~1.5Gb), which is why I used the API. \n",
    "\n",
    "ChatGPT suggested that gensim provides some smaller, pre-trained models that you can pull directly using the gensim.downloader API without manually downloading large files.\n",
    "\n",
    "Running the code cell below will download the model (take a long time to run) but handles it automatically so we don't need to manage the file manually. "
   ]
  },
  {
   "cell_type": "markdown",
   "metadata": {},
   "source": [
    "### This cell takes a long time to run\n",
    "\n",
    "Kernel crashed the last time I tried to run this"
   ]
  },
  {
   "cell_type": "code",
   "execution_count": 3,
   "metadata": {},
   "outputs": [
    {
     "ename": "",
     "evalue": "",
     "output_type": "error",
     "traceback": [
      "\u001b[1;31mThe Kernel crashed while executing code in the current cell or a previous cell. \n",
      "\u001b[1;31mPlease review the code in the cell(s) to identify a possible cause of the failure. \n",
      "\u001b[1;31mClick <a href='https://aka.ms/vscodeJupyterKernelCrash'>here</a> for more info. \n",
      "\u001b[1;31mView Jupyter <a href='command:jupyter.viewOutput'>log</a> for further details."
     ]
    }
   ],
   "source": [
    "#Load pretrained word2vec model\n",
    "#Suggestion: should use either word2vec or GloVe\n",
    "\n",
    "# Load a smaller Word2Vec model from gensim's dataset\n",
    "model = api.load('word2vec-google-news-300')  # This pulls the Google News Word2Vec model\n"
   ]
  },
  {
   "cell_type": "markdown",
   "metadata": {},
   "source": [
    "### Using a lighter model"
   ]
  },
  {
   "cell_type": "code",
   "execution_count": 3,
   "metadata": {},
   "outputs": [
    {
     "name": "stdout",
     "output_type": "stream",
     "text": [
      "[==================================================] 100.0% 31.6/31.6MB downloaded\n"
     ]
    }
   ],
   "source": [
    "# Example using Text8 corpus\n",
    "model = api.load('text8')\n"
   ]
  },
  {
   "cell_type": "markdown",
   "metadata": {},
   "source": [
    "### Text Preprocessing Steps\n",
    "\n",
    "1. Tokenization: split the text into individual words\n",
    "2. Lowercasing: convert all text into lowercase\n",
    "3. Remove punctuation and special characters\n",
    "4. Filter out  out of vocabulary words (OOV) - not doing this here"
   ]
  },
  {
   "cell_type": "code",
   "execution_count": 4,
   "metadata": {},
   "outputs": [],
   "source": [
    "import re\n",
    "def preprocess_text(text):\n",
    "    # Lowercase the text\n",
    "    text = text.lower()\n",
    "    \n",
    "    # Remove special characters and numbers\n",
    "    text = re.sub(r'[^a-zA-Z\\s]', '', text)\n",
    "    \n",
    "    # Tokenize (split into words)\n",
    "    tokens = text.split()\n",
    "\n",
    "    return tokens"
   ]
  },
  {
   "cell_type": "markdown",
   "metadata": {},
   "source": [
    "Converting text to word2vec embeddings"
   ]
  },
  {
   "cell_type": "code",
   "execution_count": 5,
   "metadata": {},
   "outputs": [],
   "source": [
    "def get_word2vec_embeddings(tokens, model):\n",
    "    # Get vectors for each word in the sentence\n",
    "    word_vectors = [model[word] for word in tokens]\n",
    "    \n",
    "    # Compute the mean of all word vectors to represent the sentence\n",
    "    if len(word_vectors) > 0:\n",
    "        sentence_embedding = np.mean(word_vectors, axis=0)\n",
    "    else:\n",
    "        # If there are no valid words, return a vector of zeros\n",
    "        sentence_embedding = np.zeros(model.vector_size)\n",
    "    \n",
    "    return sentence_embedding"
   ]
  }
 ],
 "metadata": {
  "kernelspec": {
   "display_name": ".venv",
   "language": "python",
   "name": "python3"
  },
  "language_info": {
   "codemirror_mode": {
    "name": "ipython",
    "version": 3
   },
   "file_extension": ".py",
   "mimetype": "text/x-python",
   "name": "python",
   "nbconvert_exporter": "python",
   "pygments_lexer": "ipython3",
   "version": "3.12.4"
  }
 },
 "nbformat": 4,
 "nbformat_minor": 2
}
