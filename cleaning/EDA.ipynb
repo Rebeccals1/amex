{
 "cells": [
  {
   "cell_type": "code",
   "execution_count": 1,
   "id": "dbbdbc34-641f-4b2b-8a84-2b3ae15afe64",
   "metadata": {},
   "outputs": [],
   "source": [
    "#Importing libraries \n",
    "\n",
    "\n",
    "import pandas as pd\n",
    "import numpy as np\n",
    "import matplotlib.pyplot as plt\n",
    "import os"
   ]
  },
  {
   "cell_type": "code",
   "execution_count": 2,
   "id": "974695ff-2343-40a1-9951-412ffa7af9ed",
   "metadata": {},
   "outputs": [],
   "source": [
    "filename_data = os.path.join(os.getcwd(),\"all_data.csv\")\n",
    "filename_orders = os.path.join(os.getcwd(),\"all_orders.csv\")\n",
    "\n",
    "all_data = pd.read_csv(filename_data)\n",
    "all_orders = pd.read_csv(filename_orders)"
   ]
  },
  {
   "cell_type": "markdown",
   "id": "2d55fec2-f107-49db-b3dd-1f76d6466611",
   "metadata": {
    "jp-MarkdownHeadingCollapsed": true
   },
   "source": [
    "### What are the top selling products?"
   ]
  },
  {
   "cell_type": "code",
   "execution_count": 3,
   "id": "39e57465-faa7-4606-9880-af37827c8f0d",
   "metadata": {},
   "outputs": [
    {
     "name": "stdout",
     "output_type": "stream",
     "text": [
      "<class 'pandas.core.frame.DataFrame'>\n",
      "Index: 97626 entries, 1 to 177353\n",
      "Data columns (total 38 columns):\n",
      " #   Column                   Non-Null Count  Dtype  \n",
      "---  ------                   --------------  -----  \n",
      " 0   id_orderproducts         97626 non-null  int64  \n",
      " 1   order_id_all             97626 non-null  int64  \n",
      " 2   user_id_all              97626 non-null  int64  \n",
      " 3   product_id_all           97626 non-null  int64  \n",
      " 4   inventory_item_id_all    97626 non-null  int64  \n",
      " 5   status_item              97626 non-null  object \n",
      " 6   created_at_item          97626 non-null  object \n",
      " 7   shipped_at_item          97626 non-null  object \n",
      " 8   delivered_at_item        44502 non-null  object \n",
      " 9   returned_at_item         0 non-null      object \n",
      " 10  sale_price_all           97626 non-null  float64\n",
      " 11  status_order             97626 non-null  object \n",
      " 12  gender                   97626 non-null  object \n",
      " 13  created_at_order         97626 non-null  object \n",
      " 14  returned_at_order        0 non-null      object \n",
      " 15  shipped_at_order         97626 non-null  object \n",
      " 16  delivered_at_order       44502 non-null  object \n",
      " 17  num_of_item              97626 non-null  int64  \n",
      " 18  id_products              97626 non-null  int64  \n",
      " 19  cost                     97626 non-null  float64\n",
      " 20  category                 97626 non-null  object \n",
      " 21  name                     97623 non-null  object \n",
      " 22  brand                    97547 non-null  object \n",
      " 23  retail_price             97626 non-null  float64\n",
      " 24  department               97626 non-null  object \n",
      " 25  sku                      97626 non-null  object \n",
      " 26  distribution_center_id   97626 non-null  int64  \n",
      " 27  id                       35360 non-null  float64\n",
      " 28  order_id_items           35360 non-null  float64\n",
      " 29  user_id_items            35360 non-null  float64\n",
      " 30  product_id_items         35360 non-null  float64\n",
      " 31  inventory_item_id_items  35360 non-null  float64\n",
      " 32  status                   35360 non-null  object \n",
      " 33  created_at               35360 non-null  object \n",
      " 34  shipped_at               23063 non-null  object \n",
      " 35  delivered_at             12465 non-null  object \n",
      " 36  returned_at              3513 non-null   object \n",
      " 37  sale_price_items         35360 non-null  float64\n",
      "dtypes: float64(9), int64(8), object(21)\n",
      "memory usage: 29.0+ MB\n"
     ]
    }
   ],
   "source": [
    "cancelled_orders = all_orders[all_orders['status_item'] == 'Cancelled'].copy()\n",
    "returned_orders = all_orders[all_orders['status_item'] == 'Returned'].copy()\n",
    "complete_orders = all_orders[all_orders['status_item'].isin(['Complete', 'Shipped'])].copy()\n",
    "complete_orders.info()"
   ]
  },
  {
   "cell_type": "code",
   "execution_count": 4,
   "id": "245e159d-f0df-4988-bd4f-49d11d66f567",
   "metadata": {},
   "outputs": [
    {
     "data": {
      "text/html": [
       "<div>\n",
       "<style scoped>\n",
       "    .dataframe tbody tr th:only-of-type {\n",
       "        vertical-align: middle;\n",
       "    }\n",
       "\n",
       "    .dataframe tbody tr th {\n",
       "        vertical-align: top;\n",
       "    }\n",
       "\n",
       "    .dataframe thead th {\n",
       "        text-align: right;\n",
       "    }\n",
       "</style>\n",
       "<table border=\"1\" class=\"dataframe\">\n",
       "  <thead>\n",
       "    <tr style=\"text-align: right;\">\n",
       "      <th></th>\n",
       "      <th>product_id_all</th>\n",
       "      <th>name</th>\n",
       "      <th>num_of_item</th>\n",
       "    </tr>\n",
       "  </thead>\n",
       "  <tbody>\n",
       "    <tr>\n",
       "      <th>17973</th>\n",
       "      <td>18795</td>\n",
       "      <td>Life is Good Men's King Of The Grill Short Sle...</td>\n",
       "      <td>30</td>\n",
       "    </tr>\n",
       "    <tr>\n",
       "      <th>16252</th>\n",
       "      <td>17045</td>\n",
       "      <td>Bayside Apparel Adult USA-Made Long-Sleeve Poc...</td>\n",
       "      <td>29</td>\n",
       "    </tr>\n",
       "    <tr>\n",
       "      <th>7933</th>\n",
       "      <td>8344</td>\n",
       "      <td>Port AuthorityÂ® - Ladies CRBNÂ® Trench</td>\n",
       "      <td>29</td>\n",
       "    </tr>\n",
       "    <tr>\n",
       "      <th>23575</th>\n",
       "      <td>24560</td>\n",
       "      <td>Wigwam Men's King  Cotton Crew Length Crew Sock</td>\n",
       "      <td>27</td>\n",
       "    </tr>\n",
       "    <tr>\n",
       "      <th>23716</th>\n",
       "      <td>24705</td>\n",
       "      <td>San Francisco 49ers NFL Mens Sherpa Slide Slip...</td>\n",
       "      <td>27</td>\n",
       "    </tr>\n",
       "    <tr>\n",
       "      <th>7523</th>\n",
       "      <td>7911</td>\n",
       "      <td>Allegra K Ladies Long Sleeve Double Breasted S...</td>\n",
       "      <td>26</td>\n",
       "    </tr>\n",
       "    <tr>\n",
       "      <th>26932</th>\n",
       "      <td>28012</td>\n",
       "      <td>Free Country Men's Island Palm Plaid Free C Bo...</td>\n",
       "      <td>26</td>\n",
       "    </tr>\n",
       "    <tr>\n",
       "      <th>8203</th>\n",
       "      <td>8624</td>\n",
       "      <td>United Face Womens New Leather Moto Jacket</td>\n",
       "      <td>26</td>\n",
       "    </tr>\n",
       "    <tr>\n",
       "      <th>24036</th>\n",
       "      <td>25030</td>\n",
       "      <td>Kentwool Men's Tour Standard Sock</td>\n",
       "      <td>26</td>\n",
       "    </tr>\n",
       "    <tr>\n",
       "      <th>26007</th>\n",
       "      <td>27059</td>\n",
       "      <td>ESPN Men's Microfleece Lounge Pants</td>\n",
       "      <td>26</td>\n",
       "    </tr>\n",
       "  </tbody>\n",
       "</table>\n",
       "</div>"
      ],
      "text/plain": [
       "       product_id_all                                               name  \\\n",
       "17973           18795  Life is Good Men's King Of The Grill Short Sle...   \n",
       "16252           17045  Bayside Apparel Adult USA-Made Long-Sleeve Poc...   \n",
       "7933             8344            Port AuthorityÂ® - Ladies CRBNÂ® Trench   \n",
       "23575           24560    Wigwam Men's King  Cotton Crew Length Crew Sock   \n",
       "23716           24705  San Francisco 49ers NFL Mens Sherpa Slide Slip...   \n",
       "7523             7911  Allegra K Ladies Long Sleeve Double Breasted S...   \n",
       "26932           28012  Free Country Men's Island Palm Plaid Free C Bo...   \n",
       "8203             8624         United Face Womens New Leather Moto Jacket   \n",
       "24036           25030                  Kentwool Men's Tour Standard Sock   \n",
       "26007           27059                ESPN Men's Microfleece Lounge Pants   \n",
       "\n",
       "       num_of_item  \n",
       "17973           30  \n",
       "16252           29  \n",
       "7933            29  \n",
       "23575           27  \n",
       "23716           27  \n",
       "7523            26  \n",
       "26932           26  \n",
       "8203            26  \n",
       "24036           26  \n",
       "26007           26  "
      ]
     },
     "execution_count": 4,
     "metadata": {},
     "output_type": "execute_result"
    }
   ],
   "source": [
    "top_selling_products = complete_orders.groupby(['product_id_all', 'name'])['num_of_item'].sum().reset_index().sort_values('num_of_item', ascending=False)\n",
    "top_selling_products.head(10)"
   ]
  },
  {
   "cell_type": "markdown",
   "id": "e49477f4-7c74-43c3-b1fb-c848e2692c7a",
   "metadata": {},
   "source": [
    "### Summarizing US Events Data"
   ]
  },
  {
   "cell_type": "code",
   "execution_count": 13,
   "id": "1c11ee83-6035-4cc9-be25-3ceb3c17c2ce",
   "metadata": {},
   "outputs": [
    {
     "data": {
      "text/html": [
       "<div>\n",
       "<style scoped>\n",
       "    .dataframe tbody tr th:only-of-type {\n",
       "        vertical-align: middle;\n",
       "    }\n",
       "\n",
       "    .dataframe tbody tr th {\n",
       "        vertical-align: top;\n",
       "    }\n",
       "\n",
       "    .dataframe thead th {\n",
       "        text-align: right;\n",
       "    }\n",
       "</style>\n",
       "<table border=\"1\" class=\"dataframe\">\n",
       "  <thead>\n",
       "    <tr style=\"text-align: right;\">\n",
       "      <th></th>\n",
       "      <th>id</th>\n",
       "      <th>user_id</th>\n",
       "      <th>sequence_number</th>\n",
       "      <th>session_id</th>\n",
       "      <th>created_at</th>\n",
       "      <th>ip_address</th>\n",
       "      <th>city</th>\n",
       "      <th>state</th>\n",
       "      <th>postal_code</th>\n",
       "      <th>browser</th>\n",
       "      <th>traffic_source</th>\n",
       "      <th>uri</th>\n",
       "      <th>event_type</th>\n",
       "    </tr>\n",
       "  </thead>\n",
       "  <tbody>\n",
       "    <tr>\n",
       "      <th>0</th>\n",
       "      <td>2244720</td>\n",
       "      <td>NaN</td>\n",
       "      <td>3</td>\n",
       "      <td>9cadf286-9b30-459e-9a57-14fc2dac8cc9</td>\n",
       "      <td>2022-06-19 12:07:00+00:00</td>\n",
       "      <td>3.149.42.105</td>\n",
       "      <td>New York</td>\n",
       "      <td>New York</td>\n",
       "      <td>10023</td>\n",
       "      <td>Chrome</td>\n",
       "      <td>Adwords</td>\n",
       "      <td>/cancel</td>\n",
       "      <td>cancel</td>\n",
       "    </tr>\n",
       "    <tr>\n",
       "      <th>1</th>\n",
       "      <td>1347063</td>\n",
       "      <td>NaN</td>\n",
       "      <td>3</td>\n",
       "      <td>84ae95f4-d7cd-4bde-a003-21d305b2e824</td>\n",
       "      <td>2023-10-11 01:41:00+00:00</td>\n",
       "      <td>68.124.172.198</td>\n",
       "      <td>New York</td>\n",
       "      <td>New York</td>\n",
       "      <td>10306</td>\n",
       "      <td>Firefox</td>\n",
       "      <td>Email</td>\n",
       "      <td>/cancel</td>\n",
       "      <td>cancel</td>\n",
       "    </tr>\n",
       "    <tr>\n",
       "      <th>2</th>\n",
       "      <td>1670844</td>\n",
       "      <td>NaN</td>\n",
       "      <td>3</td>\n",
       "      <td>94c3d822-49e6-4fb7-8ed7-713667f99d68</td>\n",
       "      <td>2021-03-18 19:20:00+00:00</td>\n",
       "      <td>177.217.215.96</td>\n",
       "      <td>New York</td>\n",
       "      <td>New York</td>\n",
       "      <td>10457</td>\n",
       "      <td>Chrome</td>\n",
       "      <td>YouTube</td>\n",
       "      <td>/cancel</td>\n",
       "      <td>cancel</td>\n",
       "    </tr>\n",
       "    <tr>\n",
       "      <th>3</th>\n",
       "      <td>2007823</td>\n",
       "      <td>NaN</td>\n",
       "      <td>3</td>\n",
       "      <td>4c248995-3e0b-41b5-a81a-2705279aeab9</td>\n",
       "      <td>2023-09-26 08:45:00+00:00</td>\n",
       "      <td>37.255.80.241</td>\n",
       "      <td>New York</td>\n",
       "      <td>New York</td>\n",
       "      <td>10457</td>\n",
       "      <td>Firefox</td>\n",
       "      <td>Adwords</td>\n",
       "      <td>/cancel</td>\n",
       "      <td>cancel</td>\n",
       "    </tr>\n",
       "    <tr>\n",
       "      <th>4</th>\n",
       "      <td>1517051</td>\n",
       "      <td>NaN</td>\n",
       "      <td>3</td>\n",
       "      <td>36b7879c-523f-4ec8-9a90-d1ac9fae1166</td>\n",
       "      <td>2022-04-19 08:36:00+00:00</td>\n",
       "      <td>76.11.158.90</td>\n",
       "      <td>New York</td>\n",
       "      <td>New York</td>\n",
       "      <td>10469</td>\n",
       "      <td>Other</td>\n",
       "      <td>Adwords</td>\n",
       "      <td>/cancel</td>\n",
       "      <td>cancel</td>\n",
       "    </tr>\n",
       "  </tbody>\n",
       "</table>\n",
       "</div>"
      ],
      "text/plain": [
       "        id  user_id  sequence_number                            session_id  \\\n",
       "0  2244720      NaN                3  9cadf286-9b30-459e-9a57-14fc2dac8cc9   \n",
       "1  1347063      NaN                3  84ae95f4-d7cd-4bde-a003-21d305b2e824   \n",
       "2  1670844      NaN                3  94c3d822-49e6-4fb7-8ed7-713667f99d68   \n",
       "3  2007823      NaN                3  4c248995-3e0b-41b5-a81a-2705279aeab9   \n",
       "4  1517051      NaN                3  36b7879c-523f-4ec8-9a90-d1ac9fae1166   \n",
       "\n",
       "                  created_at      ip_address      city     state  postal_code  \\\n",
       "0  2022-06-19 12:07:00+00:00    3.149.42.105  New York  New York        10023   \n",
       "1  2023-10-11 01:41:00+00:00  68.124.172.198  New York  New York        10306   \n",
       "2  2021-03-18 19:20:00+00:00  177.217.215.96  New York  New York        10457   \n",
       "3  2023-09-26 08:45:00+00:00   37.255.80.241  New York  New York        10457   \n",
       "4  2022-04-19 08:36:00+00:00    76.11.158.90  New York  New York        10469   \n",
       "\n",
       "   browser traffic_source      uri event_type  \n",
       "0   Chrome        Adwords  /cancel     cancel  \n",
       "1  Firefox          Email  /cancel     cancel  \n",
       "2   Chrome        YouTube  /cancel     cancel  \n",
       "3  Firefox        Adwords  /cancel     cancel  \n",
       "4    Other        Adwords  /cancel     cancel  "
      ]
     },
     "execution_count": 13,
     "metadata": {},
     "output_type": "execute_result"
    }
   ],
   "source": [
    "parent_dir = os.path.abspath(os.path.join(os.getcwd(), os.pardir))\n",
    "filename = os.path.join(parent_dir, 'data', 'us_events.csv')\n",
    "us_events = pd.read_csv(filename)\n",
    "us_events.head()"
   ]
  },
  {
   "cell_type": "code",
   "execution_count": 15,
   "id": "3f0b903e",
   "metadata": {},
   "outputs": [
    {
     "data": {
      "text/plain": [
       "array(['cancel', 'cart', 'department', 'home', 'product', 'purchase'],\n",
       "      dtype=object)"
      ]
     },
     "execution_count": 15,
     "metadata": {},
     "output_type": "execute_result"
    }
   ],
   "source": [
    "us_events['event_type'].unique()"
   ]
  },
  {
   "cell_type": "markdown",
   "id": "326b3ecf",
   "metadata": {},
   "source": [
    "Maybe `cancel` and `home` are less important - could be dropped."
   ]
  },
  {
   "cell_type": "code",
   "execution_count": 16,
   "id": "d602237e",
   "metadata": {},
   "outputs": [
    {
     "data": {
      "text/plain": [
       "array(['Adwords', 'Email', 'YouTube', 'Facebook', 'Organic'], dtype=object)"
      ]
     },
     "execution_count": 16,
     "metadata": {},
     "output_type": "execute_result"
    }
   ],
   "source": [
    "us_events['traffic_source'].unique()"
   ]
  },
  {
   "cell_type": "code",
   "execution_count": 17,
   "id": "ed0b778f",
   "metadata": {},
   "outputs": [
    {
     "data": {
      "text/plain": [
       "array(['Chrome', 'Firefox', 'Other', 'Safari', 'IE'], dtype=object)"
      ]
     },
     "execution_count": 17,
     "metadata": {},
     "output_type": "execute_result"
    }
   ],
   "source": [
    "us_events['browser'].unique()"
   ]
  },
  {
   "cell_type": "code",
   "execution_count": 20,
   "id": "bc754fb6",
   "metadata": {},
   "outputs": [
    {
     "data": {
      "text/plain": [
       "13"
      ]
     },
     "execution_count": 20,
     "metadata": {},
     "output_type": "execute_result"
    }
   ],
   "source": [
    "us_events['sequence_number'].nunique()"
   ]
  },
  {
   "cell_type": "markdown",
   "id": "3b9fb328",
   "metadata": {},
   "source": [
    "* ` sequence_number` seems to be computing the seqence of events for each userID/Session_ID\n",
    "* Notice that some of the user_id in events are NaN - guest browsing"
   ]
  },
  {
   "cell_type": "code",
   "execution_count": 23,
   "id": "5fb04b01",
   "metadata": {},
   "outputs": [
    {
     "name": "stdout",
     "output_type": "stream",
     "text": [
      "46.600044652494724\n"
     ]
    }
   ],
   "source": [
    "print(us_events['user_id'].isnull().mean()*100)"
   ]
  },
  {
   "cell_type": "markdown",
   "id": "d33006c9",
   "metadata": {},
   "source": []
  },
  {
   "cell_type": "code",
   "execution_count": null,
   "id": "e7ea5c78",
   "metadata": {},
   "outputs": [],
   "source": []
  }
 ],
 "metadata": {
  "kernelspec": {
   "display_name": "Python 3 (ipykernel)",
   "language": "python",
   "name": "python3"
  },
  "language_info": {
   "codemirror_mode": {
    "name": "ipython",
    "version": 3
   },
   "file_extension": ".py",
   "mimetype": "text/x-python",
   "name": "python",
   "nbconvert_exporter": "python",
   "pygments_lexer": "ipython3",
   "version": "3.12.4"
  }
 },
 "nbformat": 4,
 "nbformat_minor": 5
}
