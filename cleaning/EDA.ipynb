{
 "cells": [
  {
   "cell_type": "code",
   "execution_count": 3,
   "id": "dbbdbc34-641f-4b2b-8a84-2b3ae15afe64",
   "metadata": {},
   "outputs": [],
   "source": [
    "#Importing libraries \n",
    "\n",
    "\n",
    "import pandas as pd\n",
    "import numpy as np\n",
    "import matplotlib.pyplot as plt\n",
    "import os"
   ]
  },
  {
   "cell_type": "code",
   "execution_count": 16,
   "id": "974695ff-2343-40a1-9951-412ffa7af9ed",
   "metadata": {},
   "outputs": [],
   "source": [
    "filename_data = os.path.join(os.getcwd(),\"all_data.csv\")\n",
    "filename_orders = os.path.join(os.getcwd(),\"all_orders.csv\")\n",
    "\n",
    "all_data = pd.read_csv(filename_data)\n",
    "all_orders = pd.read_csv(filename_orders)"
   ]
  },
  {
   "cell_type": "markdown",
   "id": "2d55fec2-f107-49db-b3dd-1f76d6466611",
   "metadata": {
    "jp-MarkdownHeadingCollapsed": true
   },
   "source": [
    "### What are the top selling products?"
   ]
  },
  {
   "cell_type": "code",
   "execution_count": 21,
   "id": "39e57465-faa7-4606-9880-af37827c8f0d",
   "metadata": {},
   "outputs": [
    {
     "name": "stdout",
     "output_type": "stream",
     "text": [
      "<class 'pandas.core.frame.DataFrame'>\n",
      "Index: 97626 entries, 1 to 177353\n",
      "Data columns (total 38 columns):\n",
      " #   Column                   Non-Null Count  Dtype  \n",
      "---  ------                   --------------  -----  \n",
      " 0   id_orderproducts         97626 non-null  int64  \n",
      " 1   order_id_all             97626 non-null  int64  \n",
      " 2   user_id_all              97626 non-null  int64  \n",
      " 3   product_id_all           97626 non-null  int64  \n",
      " 4   inventory_item_id_all    97626 non-null  int64  \n",
      " 5   status_item              97626 non-null  object \n",
      " 6   created_at_item          97626 non-null  object \n",
      " 7   shipped_at_item          97626 non-null  object \n",
      " 8   delivered_at_item        44502 non-null  object \n",
      " 9   returned_at_item         0 non-null      object \n",
      " 10  sale_price_all           97626 non-null  float64\n",
      " 11  status_order             97626 non-null  object \n",
      " 12  gender                   97626 non-null  object \n",
      " 13  created_at_order         97626 non-null  object \n",
      " 14  returned_at_order        0 non-null      object \n",
      " 15  shipped_at_order         97626 non-null  object \n",
      " 16  delivered_at_order       44502 non-null  object \n",
      " 17  num_of_item              97626 non-null  int64  \n",
      " 18  id_products              97626 non-null  int64  \n",
      " 19  cost                     97626 non-null  float64\n",
      " 20  category                 97626 non-null  object \n",
      " 21  name                     97623 non-null  object \n",
      " 22  brand                    97547 non-null  object \n",
      " 23  retail_price             97626 non-null  float64\n",
      " 24  department               97626 non-null  object \n",
      " 25  sku                      97626 non-null  object \n",
      " 26  distribution_center_id   97626 non-null  int64  \n",
      " 27  id                       35360 non-null  float64\n",
      " 28  order_id_items           35360 non-null  float64\n",
      " 29  user_id_items            35360 non-null  float64\n",
      " 30  product_id_items         35360 non-null  float64\n",
      " 31  inventory_item_id_items  35360 non-null  float64\n",
      " 32  status                   35360 non-null  object \n",
      " 33  created_at               35360 non-null  object \n",
      " 34  shipped_at               23063 non-null  object \n",
      " 35  delivered_at             12465 non-null  object \n",
      " 36  returned_at              3513 non-null   object \n",
      " 37  sale_price_items         35360 non-null  float64\n",
      "dtypes: float64(9), int64(8), object(21)\n",
      "memory usage: 29.0+ MB\n"
     ]
    }
   ],
   "source": [
    "cancelled_orders = all_orders[all_orders['status_item'] == 'Cancelled'].copy()\n",
    "returned_orders = all_orders[all_orders['status_item'] == 'Returned'].copy()\n",
    "complete_orders = all_orders[all_orders['status_item'].isin(['Complete', 'Shipped'])].copy()\n",
    "complete_orders.info()"
   ]
  },
  {
   "cell_type": "code",
   "execution_count": 24,
   "id": "245e159d-f0df-4988-bd4f-49d11d66f567",
   "metadata": {},
   "outputs": [
    {
     "data": {
      "text/html": [
       "<div>\n",
       "<style scoped>\n",
       "    .dataframe tbody tr th:only-of-type {\n",
       "        vertical-align: middle;\n",
       "    }\n",
       "\n",
       "    .dataframe tbody tr th {\n",
       "        vertical-align: top;\n",
       "    }\n",
       "\n",
       "    .dataframe thead th {\n",
       "        text-align: right;\n",
       "    }\n",
       "</style>\n",
       "<table border=\"1\" class=\"dataframe\">\n",
       "  <thead>\n",
       "    <tr style=\"text-align: right;\">\n",
       "      <th></th>\n",
       "      <th>product_id_all</th>\n",
       "      <th>name</th>\n",
       "      <th>num_of_item</th>\n",
       "    </tr>\n",
       "  </thead>\n",
       "  <tbody>\n",
       "    <tr>\n",
       "      <th>17973</th>\n",
       "      <td>18795</td>\n",
       "      <td>Life is Good Men's King Of The Grill Short Sle...</td>\n",
       "      <td>30</td>\n",
       "    </tr>\n",
       "    <tr>\n",
       "      <th>16252</th>\n",
       "      <td>17045</td>\n",
       "      <td>Bayside Apparel Adult USA-Made Long-Sleeve Poc...</td>\n",
       "      <td>29</td>\n",
       "    </tr>\n",
       "    <tr>\n",
       "      <th>7933</th>\n",
       "      <td>8344</td>\n",
       "      <td>Port AuthorityÂ® - Ladies CRBNÂ® Trench</td>\n",
       "      <td>29</td>\n",
       "    </tr>\n",
       "    <tr>\n",
       "      <th>23575</th>\n",
       "      <td>24560</td>\n",
       "      <td>Wigwam Men's King  Cotton Crew Length Crew Sock</td>\n",
       "      <td>27</td>\n",
       "    </tr>\n",
       "    <tr>\n",
       "      <th>23716</th>\n",
       "      <td>24705</td>\n",
       "      <td>San Francisco 49ers NFL Mens Sherpa Slide Slip...</td>\n",
       "      <td>27</td>\n",
       "    </tr>\n",
       "    <tr>\n",
       "      <th>26007</th>\n",
       "      <td>27059</td>\n",
       "      <td>ESPN Men's Microfleece Lounge Pants</td>\n",
       "      <td>26</td>\n",
       "    </tr>\n",
       "    <tr>\n",
       "      <th>8203</th>\n",
       "      <td>8624</td>\n",
       "      <td>United Face Womens New Leather Moto Jacket</td>\n",
       "      <td>26</td>\n",
       "    </tr>\n",
       "    <tr>\n",
       "      <th>24036</th>\n",
       "      <td>25030</td>\n",
       "      <td>Kentwool Men's Tour Standard Sock</td>\n",
       "      <td>26</td>\n",
       "    </tr>\n",
       "    <tr>\n",
       "      <th>19583</th>\n",
       "      <td>20450</td>\n",
       "      <td>7 For All Mankind Men's Ombre Plaid Blazer</td>\n",
       "      <td>26</td>\n",
       "    </tr>\n",
       "    <tr>\n",
       "      <th>26932</th>\n",
       "      <td>28012</td>\n",
       "      <td>Free Country Men's Island Palm Plaid Free C Bo...</td>\n",
       "      <td>26</td>\n",
       "    </tr>\n",
       "  </tbody>\n",
       "</table>\n",
       "</div>"
      ],
      "text/plain": [
       "       product_id_all                                               name  \\\n",
       "17973           18795  Life is Good Men's King Of The Grill Short Sle...   \n",
       "16252           17045  Bayside Apparel Adult USA-Made Long-Sleeve Poc...   \n",
       "7933             8344            Port AuthorityÂ® - Ladies CRBNÂ® Trench   \n",
       "23575           24560    Wigwam Men's King  Cotton Crew Length Crew Sock   \n",
       "23716           24705  San Francisco 49ers NFL Mens Sherpa Slide Slip...   \n",
       "26007           27059                ESPN Men's Microfleece Lounge Pants   \n",
       "8203             8624         United Face Womens New Leather Moto Jacket   \n",
       "24036           25030                  Kentwool Men's Tour Standard Sock   \n",
       "19583           20450         7 For All Mankind Men's Ombre Plaid Blazer   \n",
       "26932           28012  Free Country Men's Island Palm Plaid Free C Bo...   \n",
       "\n",
       "       num_of_item  \n",
       "17973           30  \n",
       "16252           29  \n",
       "7933            29  \n",
       "23575           27  \n",
       "23716           27  \n",
       "26007           26  \n",
       "8203            26  \n",
       "24036           26  \n",
       "19583           26  \n",
       "26932           26  "
      ]
     },
     "execution_count": 24,
     "metadata": {},
     "output_type": "execute_result"
    }
   ],
   "source": [
    "top_selling_products = complete_orders.groupby(['product_id_all', 'name'])['num_of_item'].sum().reset_index().sort_values('num_of_item', ascending=False)\n",
    "top_selling_products.head(10)"
   ]
  },
  {
   "cell_type": "markdown",
   "id": "e49477f4-7c74-43c3-b1fb-c848e2692c7a",
   "metadata": {},
   "source": [
    "### Summarizing Order Data"
   ]
  },
  {
   "cell_type": "code",
   "execution_count": null,
   "id": "1c11ee83-6035-4cc9-be25-3ceb3c17c2ce",
   "metadata": {},
   "outputs": [],
   "source": [
    "us_events = "
   ]
  }
 ],
 "metadata": {
  "kernelspec": {
   "display_name": "Python 3 (ipykernel)",
   "language": "python",
   "name": "python3"
  },
  "language_info": {
   "codemirror_mode": {
    "name": "ipython",
    "version": 3
   },
   "file_extension": ".py",
   "mimetype": "text/x-python",
   "name": "python",
   "nbconvert_exporter": "python",
   "pygments_lexer": "ipython3",
   "version": "3.12.4"
  }
 },
 "nbformat": 4,
 "nbformat_minor": 5
}
