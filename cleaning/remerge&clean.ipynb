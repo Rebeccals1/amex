{
  "cells": [
    {
      "cell_type": "code",
      "execution_count": 3,
      "metadata": {
        "id": "nHyAgeS--0JD"
      },
      "outputs": [
        {
          "ename": "URLError",
          "evalue": "<urlopen error [WinError 10060] A connection attempt failed because the connected party did not properly respond after a period of time, or established connection failed because connected host has failed to respond>",
          "output_type": "error",
          "traceback": [
            "\u001b[1;31m---------------------------------------------------------------------------\u001b[0m",
            "\u001b[1;31mTimeoutError\u001b[0m                              Traceback (most recent call last)",
            "File \u001b[1;32m~\\AppData\\Local\\Programs\\Python\\Python312\\Lib\\urllib\\request.py:1344\u001b[0m, in \u001b[0;36mAbstractHTTPHandler.do_open\u001b[1;34m(self, http_class, req, **http_conn_args)\u001b[0m\n\u001b[0;32m   1343\u001b[0m \u001b[38;5;28;01mtry\u001b[39;00m:\n\u001b[1;32m-> 1344\u001b[0m     \u001b[43mh\u001b[49m\u001b[38;5;241;43m.\u001b[39;49m\u001b[43mrequest\u001b[49m\u001b[43m(\u001b[49m\u001b[43mreq\u001b[49m\u001b[38;5;241;43m.\u001b[39;49m\u001b[43mget_method\u001b[49m\u001b[43m(\u001b[49m\u001b[43m)\u001b[49m\u001b[43m,\u001b[49m\u001b[43m \u001b[49m\u001b[43mreq\u001b[49m\u001b[38;5;241;43m.\u001b[39;49m\u001b[43mselector\u001b[49m\u001b[43m,\u001b[49m\u001b[43m \u001b[49m\u001b[43mreq\u001b[49m\u001b[38;5;241;43m.\u001b[39;49m\u001b[43mdata\u001b[49m\u001b[43m,\u001b[49m\u001b[43m \u001b[49m\u001b[43mheaders\u001b[49m\u001b[43m,\u001b[49m\n\u001b[0;32m   1345\u001b[0m \u001b[43m              \u001b[49m\u001b[43mencode_chunked\u001b[49m\u001b[38;5;241;43m=\u001b[39;49m\u001b[43mreq\u001b[49m\u001b[38;5;241;43m.\u001b[39;49m\u001b[43mhas_header\u001b[49m\u001b[43m(\u001b[49m\u001b[38;5;124;43m'\u001b[39;49m\u001b[38;5;124;43mTransfer-encoding\u001b[39;49m\u001b[38;5;124;43m'\u001b[39;49m\u001b[43m)\u001b[49m\u001b[43m)\u001b[49m\n\u001b[0;32m   1346\u001b[0m \u001b[38;5;28;01mexcept\u001b[39;00m \u001b[38;5;167;01mOSError\u001b[39;00m \u001b[38;5;28;01mas\u001b[39;00m err: \u001b[38;5;66;03m# timeout error\u001b[39;00m\n",
            "File \u001b[1;32m~\\AppData\\Local\\Programs\\Python\\Python312\\Lib\\http\\client.py:1336\u001b[0m, in \u001b[0;36mHTTPConnection.request\u001b[1;34m(self, method, url, body, headers, encode_chunked)\u001b[0m\n\u001b[0;32m   1335\u001b[0m \u001b[38;5;250m\u001b[39m\u001b[38;5;124;03m\"\"\"Send a complete request to the server.\"\"\"\u001b[39;00m\n\u001b[1;32m-> 1336\u001b[0m \u001b[38;5;28;43mself\u001b[39;49m\u001b[38;5;241;43m.\u001b[39;49m\u001b[43m_send_request\u001b[49m\u001b[43m(\u001b[49m\u001b[43mmethod\u001b[49m\u001b[43m,\u001b[49m\u001b[43m \u001b[49m\u001b[43murl\u001b[49m\u001b[43m,\u001b[49m\u001b[43m \u001b[49m\u001b[43mbody\u001b[49m\u001b[43m,\u001b[49m\u001b[43m \u001b[49m\u001b[43mheaders\u001b[49m\u001b[43m,\u001b[49m\u001b[43m \u001b[49m\u001b[43mencode_chunked\u001b[49m\u001b[43m)\u001b[49m\n",
            "File \u001b[1;32m~\\AppData\\Local\\Programs\\Python\\Python312\\Lib\\http\\client.py:1382\u001b[0m, in \u001b[0;36mHTTPConnection._send_request\u001b[1;34m(self, method, url, body, headers, encode_chunked)\u001b[0m\n\u001b[0;32m   1381\u001b[0m     body \u001b[38;5;241m=\u001b[39m _encode(body, \u001b[38;5;124m'\u001b[39m\u001b[38;5;124mbody\u001b[39m\u001b[38;5;124m'\u001b[39m)\n\u001b[1;32m-> 1382\u001b[0m \u001b[38;5;28;43mself\u001b[39;49m\u001b[38;5;241;43m.\u001b[39;49m\u001b[43mendheaders\u001b[49m\u001b[43m(\u001b[49m\u001b[43mbody\u001b[49m\u001b[43m,\u001b[49m\u001b[43m \u001b[49m\u001b[43mencode_chunked\u001b[49m\u001b[38;5;241;43m=\u001b[39;49m\u001b[43mencode_chunked\u001b[49m\u001b[43m)\u001b[49m\n",
            "File \u001b[1;32m~\\AppData\\Local\\Programs\\Python\\Python312\\Lib\\http\\client.py:1331\u001b[0m, in \u001b[0;36mHTTPConnection.endheaders\u001b[1;34m(self, message_body, encode_chunked)\u001b[0m\n\u001b[0;32m   1330\u001b[0m     \u001b[38;5;28;01mraise\u001b[39;00m CannotSendHeader()\n\u001b[1;32m-> 1331\u001b[0m \u001b[38;5;28;43mself\u001b[39;49m\u001b[38;5;241;43m.\u001b[39;49m\u001b[43m_send_output\u001b[49m\u001b[43m(\u001b[49m\u001b[43mmessage_body\u001b[49m\u001b[43m,\u001b[49m\u001b[43m \u001b[49m\u001b[43mencode_chunked\u001b[49m\u001b[38;5;241;43m=\u001b[39;49m\u001b[43mencode_chunked\u001b[49m\u001b[43m)\u001b[49m\n",
            "File \u001b[1;32m~\\AppData\\Local\\Programs\\Python\\Python312\\Lib\\http\\client.py:1091\u001b[0m, in \u001b[0;36mHTTPConnection._send_output\u001b[1;34m(self, message_body, encode_chunked)\u001b[0m\n\u001b[0;32m   1090\u001b[0m \u001b[38;5;28;01mdel\u001b[39;00m \u001b[38;5;28mself\u001b[39m\u001b[38;5;241m.\u001b[39m_buffer[:]\n\u001b[1;32m-> 1091\u001b[0m \u001b[38;5;28;43mself\u001b[39;49m\u001b[38;5;241;43m.\u001b[39;49m\u001b[43msend\u001b[49m\u001b[43m(\u001b[49m\u001b[43mmsg\u001b[49m\u001b[43m)\u001b[49m\n\u001b[0;32m   1093\u001b[0m \u001b[38;5;28;01mif\u001b[39;00m message_body \u001b[38;5;129;01mis\u001b[39;00m \u001b[38;5;129;01mnot\u001b[39;00m \u001b[38;5;28;01mNone\u001b[39;00m:\n\u001b[0;32m   1094\u001b[0m \n\u001b[0;32m   1095\u001b[0m     \u001b[38;5;66;03m# create a consistent interface to message_body\u001b[39;00m\n",
            "File \u001b[1;32m~\\AppData\\Local\\Programs\\Python\\Python312\\Lib\\http\\client.py:1035\u001b[0m, in \u001b[0;36mHTTPConnection.send\u001b[1;34m(self, data)\u001b[0m\n\u001b[0;32m   1034\u001b[0m \u001b[38;5;28;01mif\u001b[39;00m \u001b[38;5;28mself\u001b[39m\u001b[38;5;241m.\u001b[39mauto_open:\n\u001b[1;32m-> 1035\u001b[0m     \u001b[38;5;28;43mself\u001b[39;49m\u001b[38;5;241;43m.\u001b[39;49m\u001b[43mconnect\u001b[49m\u001b[43m(\u001b[49m\u001b[43m)\u001b[49m\n\u001b[0;32m   1036\u001b[0m \u001b[38;5;28;01melse\u001b[39;00m:\n",
            "File \u001b[1;32m~\\AppData\\Local\\Programs\\Python\\Python312\\Lib\\http\\client.py:1477\u001b[0m, in \u001b[0;36mHTTPSConnection.connect\u001b[1;34m(self)\u001b[0m\n\u001b[0;32m   1475\u001b[0m     server_hostname \u001b[38;5;241m=\u001b[39m \u001b[38;5;28mself\u001b[39m\u001b[38;5;241m.\u001b[39mhost\n\u001b[1;32m-> 1477\u001b[0m \u001b[38;5;28mself\u001b[39m\u001b[38;5;241m.\u001b[39msock \u001b[38;5;241m=\u001b[39m \u001b[38;5;28;43mself\u001b[39;49m\u001b[38;5;241;43m.\u001b[39;49m\u001b[43m_context\u001b[49m\u001b[38;5;241;43m.\u001b[39;49m\u001b[43mwrap_socket\u001b[49m\u001b[43m(\u001b[49m\u001b[38;5;28;43mself\u001b[39;49m\u001b[38;5;241;43m.\u001b[39;49m\u001b[43msock\u001b[49m\u001b[43m,\u001b[49m\n\u001b[0;32m   1478\u001b[0m \u001b[43m                                      \u001b[49m\u001b[43mserver_hostname\u001b[49m\u001b[38;5;241;43m=\u001b[39;49m\u001b[43mserver_hostname\u001b[49m\u001b[43m)\u001b[49m\n",
            "File \u001b[1;32m~\\AppData\\Local\\Programs\\Python\\Python312\\Lib\\ssl.py:455\u001b[0m, in \u001b[0;36mSSLContext.wrap_socket\u001b[1;34m(self, sock, server_side, do_handshake_on_connect, suppress_ragged_eofs, server_hostname, session)\u001b[0m\n\u001b[0;32m    449\u001b[0m \u001b[38;5;28;01mdef\u001b[39;00m \u001b[38;5;21mwrap_socket\u001b[39m(\u001b[38;5;28mself\u001b[39m, sock, server_side\u001b[38;5;241m=\u001b[39m\u001b[38;5;28;01mFalse\u001b[39;00m,\n\u001b[0;32m    450\u001b[0m                 do_handshake_on_connect\u001b[38;5;241m=\u001b[39m\u001b[38;5;28;01mTrue\u001b[39;00m,\n\u001b[0;32m    451\u001b[0m                 suppress_ragged_eofs\u001b[38;5;241m=\u001b[39m\u001b[38;5;28;01mTrue\u001b[39;00m,\n\u001b[0;32m    452\u001b[0m                 server_hostname\u001b[38;5;241m=\u001b[39m\u001b[38;5;28;01mNone\u001b[39;00m, session\u001b[38;5;241m=\u001b[39m\u001b[38;5;28;01mNone\u001b[39;00m):\n\u001b[0;32m    453\u001b[0m     \u001b[38;5;66;03m# SSLSocket class handles server_hostname encoding before it calls\u001b[39;00m\n\u001b[0;32m    454\u001b[0m     \u001b[38;5;66;03m# ctx._wrap_socket()\u001b[39;00m\n\u001b[1;32m--> 455\u001b[0m     \u001b[38;5;28;01mreturn\u001b[39;00m \u001b[38;5;28;43mself\u001b[39;49m\u001b[38;5;241;43m.\u001b[39;49m\u001b[43msslsocket_class\u001b[49m\u001b[38;5;241;43m.\u001b[39;49m\u001b[43m_create\u001b[49m\u001b[43m(\u001b[49m\n\u001b[0;32m    456\u001b[0m \u001b[43m        \u001b[49m\u001b[43msock\u001b[49m\u001b[38;5;241;43m=\u001b[39;49m\u001b[43msock\u001b[49m\u001b[43m,\u001b[49m\n\u001b[0;32m    457\u001b[0m \u001b[43m        \u001b[49m\u001b[43mserver_side\u001b[49m\u001b[38;5;241;43m=\u001b[39;49m\u001b[43mserver_side\u001b[49m\u001b[43m,\u001b[49m\n\u001b[0;32m    458\u001b[0m \u001b[43m        \u001b[49m\u001b[43mdo_handshake_on_connect\u001b[49m\u001b[38;5;241;43m=\u001b[39;49m\u001b[43mdo_handshake_on_connect\u001b[49m\u001b[43m,\u001b[49m\n\u001b[0;32m    459\u001b[0m \u001b[43m        \u001b[49m\u001b[43msuppress_ragged_eofs\u001b[49m\u001b[38;5;241;43m=\u001b[39;49m\u001b[43msuppress_ragged_eofs\u001b[49m\u001b[43m,\u001b[49m\n\u001b[0;32m    460\u001b[0m \u001b[43m        \u001b[49m\u001b[43mserver_hostname\u001b[49m\u001b[38;5;241;43m=\u001b[39;49m\u001b[43mserver_hostname\u001b[49m\u001b[43m,\u001b[49m\n\u001b[0;32m    461\u001b[0m \u001b[43m        \u001b[49m\u001b[43mcontext\u001b[49m\u001b[38;5;241;43m=\u001b[39;49m\u001b[38;5;28;43mself\u001b[39;49m\u001b[43m,\u001b[49m\n\u001b[0;32m    462\u001b[0m \u001b[43m        \u001b[49m\u001b[43msession\u001b[49m\u001b[38;5;241;43m=\u001b[39;49m\u001b[43msession\u001b[49m\n\u001b[0;32m    463\u001b[0m \u001b[43m    \u001b[49m\u001b[43m)\u001b[49m\n",
            "File \u001b[1;32m~\\AppData\\Local\\Programs\\Python\\Python312\\Lib\\ssl.py:1042\u001b[0m, in \u001b[0;36mSSLSocket._create\u001b[1;34m(cls, sock, server_side, do_handshake_on_connect, suppress_ragged_eofs, server_hostname, context, session)\u001b[0m\n\u001b[0;32m   1041\u001b[0m                 \u001b[38;5;28;01mraise\u001b[39;00m \u001b[38;5;167;01mValueError\u001b[39;00m(\u001b[38;5;124m\"\u001b[39m\u001b[38;5;124mdo_handshake_on_connect should not be specified for non-blocking sockets\u001b[39m\u001b[38;5;124m\"\u001b[39m)\n\u001b[1;32m-> 1042\u001b[0m             \u001b[38;5;28;43mself\u001b[39;49m\u001b[38;5;241;43m.\u001b[39;49m\u001b[43mdo_handshake\u001b[49m\u001b[43m(\u001b[49m\u001b[43m)\u001b[49m\n\u001b[0;32m   1043\u001b[0m \u001b[38;5;28;01mexcept\u001b[39;00m:\n",
            "File \u001b[1;32m~\\AppData\\Local\\Programs\\Python\\Python312\\Lib\\ssl.py:1320\u001b[0m, in \u001b[0;36mSSLSocket.do_handshake\u001b[1;34m(self, block)\u001b[0m\n\u001b[0;32m   1319\u001b[0m         \u001b[38;5;28mself\u001b[39m\u001b[38;5;241m.\u001b[39msettimeout(\u001b[38;5;28;01mNone\u001b[39;00m)\n\u001b[1;32m-> 1320\u001b[0m     \u001b[38;5;28;43mself\u001b[39;49m\u001b[38;5;241;43m.\u001b[39;49m\u001b[43m_sslobj\u001b[49m\u001b[38;5;241;43m.\u001b[39;49m\u001b[43mdo_handshake\u001b[49m\u001b[43m(\u001b[49m\u001b[43m)\u001b[49m\n\u001b[0;32m   1321\u001b[0m \u001b[38;5;28;01mfinally\u001b[39;00m:\n",
            "\u001b[1;31mTimeoutError\u001b[0m: [WinError 10060] A connection attempt failed because the connected party did not properly respond after a period of time, or established connection failed because connected host has failed to respond",
            "\nDuring handling of the above exception, another exception occurred:\n",
            "\u001b[1;31mURLError\u001b[0m                                  Traceback (most recent call last)",
            "Cell \u001b[1;32mIn[3], line 12\u001b[0m\n\u001b[0;32m     10\u001b[0m US_events_3 \u001b[38;5;241m=\u001b[39m pd\u001b[38;5;241m.\u001b[39mread_csv(\u001b[38;5;124m'\u001b[39m\u001b[38;5;124mhttps://github.com/ardahk/amex/raw/main/data/US_events_3.csv\u001b[39m\u001b[38;5;124m'\u001b[39m)\n\u001b[0;32m     11\u001b[0m US_events_4 \u001b[38;5;241m=\u001b[39m pd\u001b[38;5;241m.\u001b[39mread_csv(\u001b[38;5;124m'\u001b[39m\u001b[38;5;124mhttps://github.com/ardahk/amex/raw/main/data/US_events_4.csv\u001b[39m\u001b[38;5;124m'\u001b[39m)\n\u001b[1;32m---> 12\u001b[0m US_events_5 \u001b[38;5;241m=\u001b[39m \u001b[43mpd\u001b[49m\u001b[38;5;241;43m.\u001b[39;49m\u001b[43mread_csv\u001b[49m\u001b[43m(\u001b[49m\u001b[38;5;124;43m'\u001b[39;49m\u001b[38;5;124;43mhttps://github.com/ardahk/amex/raw/main/data/US_events_5.csv\u001b[39;49m\u001b[38;5;124;43m'\u001b[39;49m\u001b[43m)\u001b[49m\n",
            "File \u001b[1;32mc:\\Users\\asmi_\\Asmi's Documents\\Academics\\2022-26_UCLA\\Projects\\amex\\.venv\\Lib\\site-packages\\pandas\\io\\parsers\\readers.py:1026\u001b[0m, in \u001b[0;36mread_csv\u001b[1;34m(filepath_or_buffer, sep, delimiter, header, names, index_col, usecols, dtype, engine, converters, true_values, false_values, skipinitialspace, skiprows, skipfooter, nrows, na_values, keep_default_na, na_filter, verbose, skip_blank_lines, parse_dates, infer_datetime_format, keep_date_col, date_parser, date_format, dayfirst, cache_dates, iterator, chunksize, compression, thousands, decimal, lineterminator, quotechar, quoting, doublequote, escapechar, comment, encoding, encoding_errors, dialect, on_bad_lines, delim_whitespace, low_memory, memory_map, float_precision, storage_options, dtype_backend)\u001b[0m\n\u001b[0;32m   1013\u001b[0m kwds_defaults \u001b[38;5;241m=\u001b[39m _refine_defaults_read(\n\u001b[0;32m   1014\u001b[0m     dialect,\n\u001b[0;32m   1015\u001b[0m     delimiter,\n\u001b[1;32m   (...)\u001b[0m\n\u001b[0;32m   1022\u001b[0m     dtype_backend\u001b[38;5;241m=\u001b[39mdtype_backend,\n\u001b[0;32m   1023\u001b[0m )\n\u001b[0;32m   1024\u001b[0m kwds\u001b[38;5;241m.\u001b[39mupdate(kwds_defaults)\n\u001b[1;32m-> 1026\u001b[0m \u001b[38;5;28;01mreturn\u001b[39;00m \u001b[43m_read\u001b[49m\u001b[43m(\u001b[49m\u001b[43mfilepath_or_buffer\u001b[49m\u001b[43m,\u001b[49m\u001b[43m \u001b[49m\u001b[43mkwds\u001b[49m\u001b[43m)\u001b[49m\n",
            "File \u001b[1;32mc:\\Users\\asmi_\\Asmi's Documents\\Academics\\2022-26_UCLA\\Projects\\amex\\.venv\\Lib\\site-packages\\pandas\\io\\parsers\\readers.py:620\u001b[0m, in \u001b[0;36m_read\u001b[1;34m(filepath_or_buffer, kwds)\u001b[0m\n\u001b[0;32m    617\u001b[0m _validate_names(kwds\u001b[38;5;241m.\u001b[39mget(\u001b[38;5;124m\"\u001b[39m\u001b[38;5;124mnames\u001b[39m\u001b[38;5;124m\"\u001b[39m, \u001b[38;5;28;01mNone\u001b[39;00m))\n\u001b[0;32m    619\u001b[0m \u001b[38;5;66;03m# Create the parser.\u001b[39;00m\n\u001b[1;32m--> 620\u001b[0m parser \u001b[38;5;241m=\u001b[39m \u001b[43mTextFileReader\u001b[49m\u001b[43m(\u001b[49m\u001b[43mfilepath_or_buffer\u001b[49m\u001b[43m,\u001b[49m\u001b[43m \u001b[49m\u001b[38;5;241;43m*\u001b[39;49m\u001b[38;5;241;43m*\u001b[39;49m\u001b[43mkwds\u001b[49m\u001b[43m)\u001b[49m\n\u001b[0;32m    622\u001b[0m \u001b[38;5;28;01mif\u001b[39;00m chunksize \u001b[38;5;129;01mor\u001b[39;00m iterator:\n\u001b[0;32m    623\u001b[0m     \u001b[38;5;28;01mreturn\u001b[39;00m parser\n",
            "File \u001b[1;32mc:\\Users\\asmi_\\Asmi's Documents\\Academics\\2022-26_UCLA\\Projects\\amex\\.venv\\Lib\\site-packages\\pandas\\io\\parsers\\readers.py:1620\u001b[0m, in \u001b[0;36mTextFileReader.__init__\u001b[1;34m(self, f, engine, **kwds)\u001b[0m\n\u001b[0;32m   1617\u001b[0m     \u001b[38;5;28mself\u001b[39m\u001b[38;5;241m.\u001b[39moptions[\u001b[38;5;124m\"\u001b[39m\u001b[38;5;124mhas_index_names\u001b[39m\u001b[38;5;124m\"\u001b[39m] \u001b[38;5;241m=\u001b[39m kwds[\u001b[38;5;124m\"\u001b[39m\u001b[38;5;124mhas_index_names\u001b[39m\u001b[38;5;124m\"\u001b[39m]\n\u001b[0;32m   1619\u001b[0m \u001b[38;5;28mself\u001b[39m\u001b[38;5;241m.\u001b[39mhandles: IOHandles \u001b[38;5;241m|\u001b[39m \u001b[38;5;28;01mNone\u001b[39;00m \u001b[38;5;241m=\u001b[39m \u001b[38;5;28;01mNone\u001b[39;00m\n\u001b[1;32m-> 1620\u001b[0m \u001b[38;5;28mself\u001b[39m\u001b[38;5;241m.\u001b[39m_engine \u001b[38;5;241m=\u001b[39m \u001b[38;5;28;43mself\u001b[39;49m\u001b[38;5;241;43m.\u001b[39;49m\u001b[43m_make_engine\u001b[49m\u001b[43m(\u001b[49m\u001b[43mf\u001b[49m\u001b[43m,\u001b[49m\u001b[43m \u001b[49m\u001b[38;5;28;43mself\u001b[39;49m\u001b[38;5;241;43m.\u001b[39;49m\u001b[43mengine\u001b[49m\u001b[43m)\u001b[49m\n",
            "File \u001b[1;32mc:\\Users\\asmi_\\Asmi's Documents\\Academics\\2022-26_UCLA\\Projects\\amex\\.venv\\Lib\\site-packages\\pandas\\io\\parsers\\readers.py:1880\u001b[0m, in \u001b[0;36mTextFileReader._make_engine\u001b[1;34m(self, f, engine)\u001b[0m\n\u001b[0;32m   1878\u001b[0m     \u001b[38;5;28;01mif\u001b[39;00m \u001b[38;5;124m\"\u001b[39m\u001b[38;5;124mb\u001b[39m\u001b[38;5;124m\"\u001b[39m \u001b[38;5;129;01mnot\u001b[39;00m \u001b[38;5;129;01min\u001b[39;00m mode:\n\u001b[0;32m   1879\u001b[0m         mode \u001b[38;5;241m+\u001b[39m\u001b[38;5;241m=\u001b[39m \u001b[38;5;124m\"\u001b[39m\u001b[38;5;124mb\u001b[39m\u001b[38;5;124m\"\u001b[39m\n\u001b[1;32m-> 1880\u001b[0m \u001b[38;5;28mself\u001b[39m\u001b[38;5;241m.\u001b[39mhandles \u001b[38;5;241m=\u001b[39m \u001b[43mget_handle\u001b[49m\u001b[43m(\u001b[49m\n\u001b[0;32m   1881\u001b[0m \u001b[43m    \u001b[49m\u001b[43mf\u001b[49m\u001b[43m,\u001b[49m\n\u001b[0;32m   1882\u001b[0m \u001b[43m    \u001b[49m\u001b[43mmode\u001b[49m\u001b[43m,\u001b[49m\n\u001b[0;32m   1883\u001b[0m \u001b[43m    \u001b[49m\u001b[43mencoding\u001b[49m\u001b[38;5;241;43m=\u001b[39;49m\u001b[38;5;28;43mself\u001b[39;49m\u001b[38;5;241;43m.\u001b[39;49m\u001b[43moptions\u001b[49m\u001b[38;5;241;43m.\u001b[39;49m\u001b[43mget\u001b[49m\u001b[43m(\u001b[49m\u001b[38;5;124;43m\"\u001b[39;49m\u001b[38;5;124;43mencoding\u001b[39;49m\u001b[38;5;124;43m\"\u001b[39;49m\u001b[43m,\u001b[49m\u001b[43m \u001b[49m\u001b[38;5;28;43;01mNone\u001b[39;49;00m\u001b[43m)\u001b[49m\u001b[43m,\u001b[49m\n\u001b[0;32m   1884\u001b[0m \u001b[43m    \u001b[49m\u001b[43mcompression\u001b[49m\u001b[38;5;241;43m=\u001b[39;49m\u001b[38;5;28;43mself\u001b[39;49m\u001b[38;5;241;43m.\u001b[39;49m\u001b[43moptions\u001b[49m\u001b[38;5;241;43m.\u001b[39;49m\u001b[43mget\u001b[49m\u001b[43m(\u001b[49m\u001b[38;5;124;43m\"\u001b[39;49m\u001b[38;5;124;43mcompression\u001b[39;49m\u001b[38;5;124;43m\"\u001b[39;49m\u001b[43m,\u001b[49m\u001b[43m \u001b[49m\u001b[38;5;28;43;01mNone\u001b[39;49;00m\u001b[43m)\u001b[49m\u001b[43m,\u001b[49m\n\u001b[0;32m   1885\u001b[0m \u001b[43m    \u001b[49m\u001b[43mmemory_map\u001b[49m\u001b[38;5;241;43m=\u001b[39;49m\u001b[38;5;28;43mself\u001b[39;49m\u001b[38;5;241;43m.\u001b[39;49m\u001b[43moptions\u001b[49m\u001b[38;5;241;43m.\u001b[39;49m\u001b[43mget\u001b[49m\u001b[43m(\u001b[49m\u001b[38;5;124;43m\"\u001b[39;49m\u001b[38;5;124;43mmemory_map\u001b[39;49m\u001b[38;5;124;43m\"\u001b[39;49m\u001b[43m,\u001b[49m\u001b[43m \u001b[49m\u001b[38;5;28;43;01mFalse\u001b[39;49;00m\u001b[43m)\u001b[49m\u001b[43m,\u001b[49m\n\u001b[0;32m   1886\u001b[0m \u001b[43m    \u001b[49m\u001b[43mis_text\u001b[49m\u001b[38;5;241;43m=\u001b[39;49m\u001b[43mis_text\u001b[49m\u001b[43m,\u001b[49m\n\u001b[0;32m   1887\u001b[0m \u001b[43m    \u001b[49m\u001b[43merrors\u001b[49m\u001b[38;5;241;43m=\u001b[39;49m\u001b[38;5;28;43mself\u001b[39;49m\u001b[38;5;241;43m.\u001b[39;49m\u001b[43moptions\u001b[49m\u001b[38;5;241;43m.\u001b[39;49m\u001b[43mget\u001b[49m\u001b[43m(\u001b[49m\u001b[38;5;124;43m\"\u001b[39;49m\u001b[38;5;124;43mencoding_errors\u001b[39;49m\u001b[38;5;124;43m\"\u001b[39;49m\u001b[43m,\u001b[49m\u001b[43m \u001b[49m\u001b[38;5;124;43m\"\u001b[39;49m\u001b[38;5;124;43mstrict\u001b[39;49m\u001b[38;5;124;43m\"\u001b[39;49m\u001b[43m)\u001b[49m\u001b[43m,\u001b[49m\n\u001b[0;32m   1888\u001b[0m \u001b[43m    \u001b[49m\u001b[43mstorage_options\u001b[49m\u001b[38;5;241;43m=\u001b[39;49m\u001b[38;5;28;43mself\u001b[39;49m\u001b[38;5;241;43m.\u001b[39;49m\u001b[43moptions\u001b[49m\u001b[38;5;241;43m.\u001b[39;49m\u001b[43mget\u001b[49m\u001b[43m(\u001b[49m\u001b[38;5;124;43m\"\u001b[39;49m\u001b[38;5;124;43mstorage_options\u001b[39;49m\u001b[38;5;124;43m\"\u001b[39;49m\u001b[43m,\u001b[49m\u001b[43m \u001b[49m\u001b[38;5;28;43;01mNone\u001b[39;49;00m\u001b[43m)\u001b[49m\u001b[43m,\u001b[49m\n\u001b[0;32m   1889\u001b[0m \u001b[43m\u001b[49m\u001b[43m)\u001b[49m\n\u001b[0;32m   1890\u001b[0m \u001b[38;5;28;01massert\u001b[39;00m \u001b[38;5;28mself\u001b[39m\u001b[38;5;241m.\u001b[39mhandles \u001b[38;5;129;01mis\u001b[39;00m \u001b[38;5;129;01mnot\u001b[39;00m \u001b[38;5;28;01mNone\u001b[39;00m\n\u001b[0;32m   1891\u001b[0m f \u001b[38;5;241m=\u001b[39m \u001b[38;5;28mself\u001b[39m\u001b[38;5;241m.\u001b[39mhandles\u001b[38;5;241m.\u001b[39mhandle\n",
            "File \u001b[1;32mc:\\Users\\asmi_\\Asmi's Documents\\Academics\\2022-26_UCLA\\Projects\\amex\\.venv\\Lib\\site-packages\\pandas\\io\\common.py:728\u001b[0m, in \u001b[0;36mget_handle\u001b[1;34m(path_or_buf, mode, encoding, compression, memory_map, is_text, errors, storage_options)\u001b[0m\n\u001b[0;32m    725\u001b[0m     codecs\u001b[38;5;241m.\u001b[39mlookup_error(errors)\n\u001b[0;32m    727\u001b[0m \u001b[38;5;66;03m# open URLs\u001b[39;00m\n\u001b[1;32m--> 728\u001b[0m ioargs \u001b[38;5;241m=\u001b[39m \u001b[43m_get_filepath_or_buffer\u001b[49m\u001b[43m(\u001b[49m\n\u001b[0;32m    729\u001b[0m \u001b[43m    \u001b[49m\u001b[43mpath_or_buf\u001b[49m\u001b[43m,\u001b[49m\n\u001b[0;32m    730\u001b[0m \u001b[43m    \u001b[49m\u001b[43mencoding\u001b[49m\u001b[38;5;241;43m=\u001b[39;49m\u001b[43mencoding\u001b[49m\u001b[43m,\u001b[49m\n\u001b[0;32m    731\u001b[0m \u001b[43m    \u001b[49m\u001b[43mcompression\u001b[49m\u001b[38;5;241;43m=\u001b[39;49m\u001b[43mcompression\u001b[49m\u001b[43m,\u001b[49m\n\u001b[0;32m    732\u001b[0m \u001b[43m    \u001b[49m\u001b[43mmode\u001b[49m\u001b[38;5;241;43m=\u001b[39;49m\u001b[43mmode\u001b[49m\u001b[43m,\u001b[49m\n\u001b[0;32m    733\u001b[0m \u001b[43m    \u001b[49m\u001b[43mstorage_options\u001b[49m\u001b[38;5;241;43m=\u001b[39;49m\u001b[43mstorage_options\u001b[49m\u001b[43m,\u001b[49m\n\u001b[0;32m    734\u001b[0m \u001b[43m\u001b[49m\u001b[43m)\u001b[49m\n\u001b[0;32m    736\u001b[0m handle \u001b[38;5;241m=\u001b[39m ioargs\u001b[38;5;241m.\u001b[39mfilepath_or_buffer\n\u001b[0;32m    737\u001b[0m handles: \u001b[38;5;28mlist\u001b[39m[BaseBuffer]\n",
            "File \u001b[1;32mc:\\Users\\asmi_\\Asmi's Documents\\Academics\\2022-26_UCLA\\Projects\\amex\\.venv\\Lib\\site-packages\\pandas\\io\\common.py:384\u001b[0m, in \u001b[0;36m_get_filepath_or_buffer\u001b[1;34m(filepath_or_buffer, encoding, compression, mode, storage_options)\u001b[0m\n\u001b[0;32m    382\u001b[0m \u001b[38;5;66;03m# assuming storage_options is to be interpreted as headers\u001b[39;00m\n\u001b[0;32m    383\u001b[0m req_info \u001b[38;5;241m=\u001b[39m urllib\u001b[38;5;241m.\u001b[39mrequest\u001b[38;5;241m.\u001b[39mRequest(filepath_or_buffer, headers\u001b[38;5;241m=\u001b[39mstorage_options)\n\u001b[1;32m--> 384\u001b[0m \u001b[38;5;28;01mwith\u001b[39;00m \u001b[43murlopen\u001b[49m\u001b[43m(\u001b[49m\u001b[43mreq_info\u001b[49m\u001b[43m)\u001b[49m \u001b[38;5;28;01mas\u001b[39;00m req:\n\u001b[0;32m    385\u001b[0m     content_encoding \u001b[38;5;241m=\u001b[39m req\u001b[38;5;241m.\u001b[39mheaders\u001b[38;5;241m.\u001b[39mget(\u001b[38;5;124m\"\u001b[39m\u001b[38;5;124mContent-Encoding\u001b[39m\u001b[38;5;124m\"\u001b[39m, \u001b[38;5;28;01mNone\u001b[39;00m)\n\u001b[0;32m    386\u001b[0m     \u001b[38;5;28;01mif\u001b[39;00m content_encoding \u001b[38;5;241m==\u001b[39m \u001b[38;5;124m\"\u001b[39m\u001b[38;5;124mgzip\u001b[39m\u001b[38;5;124m\"\u001b[39m:\n\u001b[0;32m    387\u001b[0m         \u001b[38;5;66;03m# Override compression based on Content-Encoding header\u001b[39;00m\n",
            "File \u001b[1;32mc:\\Users\\asmi_\\Asmi's Documents\\Academics\\2022-26_UCLA\\Projects\\amex\\.venv\\Lib\\site-packages\\pandas\\io\\common.py:289\u001b[0m, in \u001b[0;36murlopen\u001b[1;34m(*args, **kwargs)\u001b[0m\n\u001b[0;32m    283\u001b[0m \u001b[38;5;250m\u001b[39m\u001b[38;5;124;03m\"\"\"\u001b[39;00m\n\u001b[0;32m    284\u001b[0m \u001b[38;5;124;03mLazy-import wrapper for stdlib urlopen, as that imports a big chunk of\u001b[39;00m\n\u001b[0;32m    285\u001b[0m \u001b[38;5;124;03mthe stdlib.\u001b[39;00m\n\u001b[0;32m    286\u001b[0m \u001b[38;5;124;03m\"\"\"\u001b[39;00m\n\u001b[0;32m    287\u001b[0m \u001b[38;5;28;01mimport\u001b[39;00m \u001b[38;5;21;01murllib\u001b[39;00m\u001b[38;5;21;01m.\u001b[39;00m\u001b[38;5;21;01mrequest\u001b[39;00m\n\u001b[1;32m--> 289\u001b[0m \u001b[38;5;28;01mreturn\u001b[39;00m \u001b[43murllib\u001b[49m\u001b[38;5;241;43m.\u001b[39;49m\u001b[43mrequest\u001b[49m\u001b[38;5;241;43m.\u001b[39;49m\u001b[43murlopen\u001b[49m\u001b[43m(\u001b[49m\u001b[38;5;241;43m*\u001b[39;49m\u001b[43margs\u001b[49m\u001b[43m,\u001b[49m\u001b[43m \u001b[49m\u001b[38;5;241;43m*\u001b[39;49m\u001b[38;5;241;43m*\u001b[39;49m\u001b[43mkwargs\u001b[49m\u001b[43m)\u001b[49m\n",
            "File \u001b[1;32m~\\AppData\\Local\\Programs\\Python\\Python312\\Lib\\urllib\\request.py:215\u001b[0m, in \u001b[0;36murlopen\u001b[1;34m(url, data, timeout, cafile, capath, cadefault, context)\u001b[0m\n\u001b[0;32m    213\u001b[0m \u001b[38;5;28;01melse\u001b[39;00m:\n\u001b[0;32m    214\u001b[0m     opener \u001b[38;5;241m=\u001b[39m _opener\n\u001b[1;32m--> 215\u001b[0m \u001b[38;5;28;01mreturn\u001b[39;00m \u001b[43mopener\u001b[49m\u001b[38;5;241;43m.\u001b[39;49m\u001b[43mopen\u001b[49m\u001b[43m(\u001b[49m\u001b[43murl\u001b[49m\u001b[43m,\u001b[49m\u001b[43m \u001b[49m\u001b[43mdata\u001b[49m\u001b[43m,\u001b[49m\u001b[43m \u001b[49m\u001b[43mtimeout\u001b[49m\u001b[43m)\u001b[49m\n",
            "File \u001b[1;32m~\\AppData\\Local\\Programs\\Python\\Python312\\Lib\\urllib\\request.py:521\u001b[0m, in \u001b[0;36mOpenerDirector.open\u001b[1;34m(self, fullurl, data, timeout)\u001b[0m\n\u001b[0;32m    519\u001b[0m \u001b[38;5;28;01mfor\u001b[39;00m processor \u001b[38;5;129;01min\u001b[39;00m \u001b[38;5;28mself\u001b[39m\u001b[38;5;241m.\u001b[39mprocess_response\u001b[38;5;241m.\u001b[39mget(protocol, []):\n\u001b[0;32m    520\u001b[0m     meth \u001b[38;5;241m=\u001b[39m \u001b[38;5;28mgetattr\u001b[39m(processor, meth_name)\n\u001b[1;32m--> 521\u001b[0m     response \u001b[38;5;241m=\u001b[39m \u001b[43mmeth\u001b[49m\u001b[43m(\u001b[49m\u001b[43mreq\u001b[49m\u001b[43m,\u001b[49m\u001b[43m \u001b[49m\u001b[43mresponse\u001b[49m\u001b[43m)\u001b[49m\n\u001b[0;32m    523\u001b[0m \u001b[38;5;28;01mreturn\u001b[39;00m response\n",
            "File \u001b[1;32m~\\AppData\\Local\\Programs\\Python\\Python312\\Lib\\urllib\\request.py:630\u001b[0m, in \u001b[0;36mHTTPErrorProcessor.http_response\u001b[1;34m(self, request, response)\u001b[0m\n\u001b[0;32m    627\u001b[0m \u001b[38;5;66;03m# According to RFC 2616, \"2xx\" code indicates that the client's\u001b[39;00m\n\u001b[0;32m    628\u001b[0m \u001b[38;5;66;03m# request was successfully received, understood, and accepted.\u001b[39;00m\n\u001b[0;32m    629\u001b[0m \u001b[38;5;28;01mif\u001b[39;00m \u001b[38;5;129;01mnot\u001b[39;00m (\u001b[38;5;241m200\u001b[39m \u001b[38;5;241m<\u001b[39m\u001b[38;5;241m=\u001b[39m code \u001b[38;5;241m<\u001b[39m \u001b[38;5;241m300\u001b[39m):\n\u001b[1;32m--> 630\u001b[0m     response \u001b[38;5;241m=\u001b[39m \u001b[38;5;28;43mself\u001b[39;49m\u001b[38;5;241;43m.\u001b[39;49m\u001b[43mparent\u001b[49m\u001b[38;5;241;43m.\u001b[39;49m\u001b[43merror\u001b[49m\u001b[43m(\u001b[49m\n\u001b[0;32m    631\u001b[0m \u001b[43m        \u001b[49m\u001b[38;5;124;43m'\u001b[39;49m\u001b[38;5;124;43mhttp\u001b[39;49m\u001b[38;5;124;43m'\u001b[39;49m\u001b[43m,\u001b[49m\u001b[43m \u001b[49m\u001b[43mrequest\u001b[49m\u001b[43m,\u001b[49m\u001b[43m \u001b[49m\u001b[43mresponse\u001b[49m\u001b[43m,\u001b[49m\u001b[43m \u001b[49m\u001b[43mcode\u001b[49m\u001b[43m,\u001b[49m\u001b[43m \u001b[49m\u001b[43mmsg\u001b[49m\u001b[43m,\u001b[49m\u001b[43m \u001b[49m\u001b[43mhdrs\u001b[49m\u001b[43m)\u001b[49m\n\u001b[0;32m    633\u001b[0m \u001b[38;5;28;01mreturn\u001b[39;00m response\n",
            "File \u001b[1;32m~\\AppData\\Local\\Programs\\Python\\Python312\\Lib\\urllib\\request.py:553\u001b[0m, in \u001b[0;36mOpenerDirector.error\u001b[1;34m(self, proto, *args)\u001b[0m\n\u001b[0;32m    551\u001b[0m     http_err \u001b[38;5;241m=\u001b[39m \u001b[38;5;241m0\u001b[39m\n\u001b[0;32m    552\u001b[0m args \u001b[38;5;241m=\u001b[39m (\u001b[38;5;28mdict\u001b[39m, proto, meth_name) \u001b[38;5;241m+\u001b[39m args\n\u001b[1;32m--> 553\u001b[0m result \u001b[38;5;241m=\u001b[39m \u001b[38;5;28;43mself\u001b[39;49m\u001b[38;5;241;43m.\u001b[39;49m\u001b[43m_call_chain\u001b[49m\u001b[43m(\u001b[49m\u001b[38;5;241;43m*\u001b[39;49m\u001b[43margs\u001b[49m\u001b[43m)\u001b[49m\n\u001b[0;32m    554\u001b[0m \u001b[38;5;28;01mif\u001b[39;00m result:\n\u001b[0;32m    555\u001b[0m     \u001b[38;5;28;01mreturn\u001b[39;00m result\n",
            "File \u001b[1;32m~\\AppData\\Local\\Programs\\Python\\Python312\\Lib\\urllib\\request.py:492\u001b[0m, in \u001b[0;36mOpenerDirector._call_chain\u001b[1;34m(self, chain, kind, meth_name, *args)\u001b[0m\n\u001b[0;32m    490\u001b[0m \u001b[38;5;28;01mfor\u001b[39;00m handler \u001b[38;5;129;01min\u001b[39;00m handlers:\n\u001b[0;32m    491\u001b[0m     func \u001b[38;5;241m=\u001b[39m \u001b[38;5;28mgetattr\u001b[39m(handler, meth_name)\n\u001b[1;32m--> 492\u001b[0m     result \u001b[38;5;241m=\u001b[39m \u001b[43mfunc\u001b[49m\u001b[43m(\u001b[49m\u001b[38;5;241;43m*\u001b[39;49m\u001b[43margs\u001b[49m\u001b[43m)\u001b[49m\n\u001b[0;32m    493\u001b[0m     \u001b[38;5;28;01mif\u001b[39;00m result \u001b[38;5;129;01mis\u001b[39;00m \u001b[38;5;129;01mnot\u001b[39;00m \u001b[38;5;28;01mNone\u001b[39;00m:\n\u001b[0;32m    494\u001b[0m         \u001b[38;5;28;01mreturn\u001b[39;00m result\n",
            "File \u001b[1;32m~\\AppData\\Local\\Programs\\Python\\Python312\\Lib\\urllib\\request.py:745\u001b[0m, in \u001b[0;36mHTTPRedirectHandler.http_error_302\u001b[1;34m(self, req, fp, code, msg, headers)\u001b[0m\n\u001b[0;32m    742\u001b[0m fp\u001b[38;5;241m.\u001b[39mread()\n\u001b[0;32m    743\u001b[0m fp\u001b[38;5;241m.\u001b[39mclose()\n\u001b[1;32m--> 745\u001b[0m \u001b[38;5;28;01mreturn\u001b[39;00m \u001b[38;5;28;43mself\u001b[39;49m\u001b[38;5;241;43m.\u001b[39;49m\u001b[43mparent\u001b[49m\u001b[38;5;241;43m.\u001b[39;49m\u001b[43mopen\u001b[49m\u001b[43m(\u001b[49m\u001b[43mnew\u001b[49m\u001b[43m,\u001b[49m\u001b[43m \u001b[49m\u001b[43mtimeout\u001b[49m\u001b[38;5;241;43m=\u001b[39;49m\u001b[43mreq\u001b[49m\u001b[38;5;241;43m.\u001b[39;49m\u001b[43mtimeout\u001b[49m\u001b[43m)\u001b[49m\n",
            "File \u001b[1;32m~\\AppData\\Local\\Programs\\Python\\Python312\\Lib\\urllib\\request.py:515\u001b[0m, in \u001b[0;36mOpenerDirector.open\u001b[1;34m(self, fullurl, data, timeout)\u001b[0m\n\u001b[0;32m    512\u001b[0m     req \u001b[38;5;241m=\u001b[39m meth(req)\n\u001b[0;32m    514\u001b[0m sys\u001b[38;5;241m.\u001b[39maudit(\u001b[38;5;124m'\u001b[39m\u001b[38;5;124murllib.Request\u001b[39m\u001b[38;5;124m'\u001b[39m, req\u001b[38;5;241m.\u001b[39mfull_url, req\u001b[38;5;241m.\u001b[39mdata, req\u001b[38;5;241m.\u001b[39mheaders, req\u001b[38;5;241m.\u001b[39mget_method())\n\u001b[1;32m--> 515\u001b[0m response \u001b[38;5;241m=\u001b[39m \u001b[38;5;28;43mself\u001b[39;49m\u001b[38;5;241;43m.\u001b[39;49m\u001b[43m_open\u001b[49m\u001b[43m(\u001b[49m\u001b[43mreq\u001b[49m\u001b[43m,\u001b[49m\u001b[43m \u001b[49m\u001b[43mdata\u001b[49m\u001b[43m)\u001b[49m\n\u001b[0;32m    517\u001b[0m \u001b[38;5;66;03m# post-process response\u001b[39;00m\n\u001b[0;32m    518\u001b[0m meth_name \u001b[38;5;241m=\u001b[39m protocol\u001b[38;5;241m+\u001b[39m\u001b[38;5;124m\"\u001b[39m\u001b[38;5;124m_response\u001b[39m\u001b[38;5;124m\"\u001b[39m\n",
            "File \u001b[1;32m~\\AppData\\Local\\Programs\\Python\\Python312\\Lib\\urllib\\request.py:532\u001b[0m, in \u001b[0;36mOpenerDirector._open\u001b[1;34m(self, req, data)\u001b[0m\n\u001b[0;32m    529\u001b[0m     \u001b[38;5;28;01mreturn\u001b[39;00m result\n\u001b[0;32m    531\u001b[0m protocol \u001b[38;5;241m=\u001b[39m req\u001b[38;5;241m.\u001b[39mtype\n\u001b[1;32m--> 532\u001b[0m result \u001b[38;5;241m=\u001b[39m \u001b[38;5;28;43mself\u001b[39;49m\u001b[38;5;241;43m.\u001b[39;49m\u001b[43m_call_chain\u001b[49m\u001b[43m(\u001b[49m\u001b[38;5;28;43mself\u001b[39;49m\u001b[38;5;241;43m.\u001b[39;49m\u001b[43mhandle_open\u001b[49m\u001b[43m,\u001b[49m\u001b[43m \u001b[49m\u001b[43mprotocol\u001b[49m\u001b[43m,\u001b[49m\u001b[43m \u001b[49m\u001b[43mprotocol\u001b[49m\u001b[43m \u001b[49m\u001b[38;5;241;43m+\u001b[39;49m\n\u001b[0;32m    533\u001b[0m \u001b[43m                          \u001b[49m\u001b[38;5;124;43m'\u001b[39;49m\u001b[38;5;124;43m_open\u001b[39;49m\u001b[38;5;124;43m'\u001b[39;49m\u001b[43m,\u001b[49m\u001b[43m \u001b[49m\u001b[43mreq\u001b[49m\u001b[43m)\u001b[49m\n\u001b[0;32m    534\u001b[0m \u001b[38;5;28;01mif\u001b[39;00m result:\n\u001b[0;32m    535\u001b[0m     \u001b[38;5;28;01mreturn\u001b[39;00m result\n",
            "File \u001b[1;32m~\\AppData\\Local\\Programs\\Python\\Python312\\Lib\\urllib\\request.py:492\u001b[0m, in \u001b[0;36mOpenerDirector._call_chain\u001b[1;34m(self, chain, kind, meth_name, *args)\u001b[0m\n\u001b[0;32m    490\u001b[0m \u001b[38;5;28;01mfor\u001b[39;00m handler \u001b[38;5;129;01min\u001b[39;00m handlers:\n\u001b[0;32m    491\u001b[0m     func \u001b[38;5;241m=\u001b[39m \u001b[38;5;28mgetattr\u001b[39m(handler, meth_name)\n\u001b[1;32m--> 492\u001b[0m     result \u001b[38;5;241m=\u001b[39m \u001b[43mfunc\u001b[49m\u001b[43m(\u001b[49m\u001b[38;5;241;43m*\u001b[39;49m\u001b[43margs\u001b[49m\u001b[43m)\u001b[49m\n\u001b[0;32m    493\u001b[0m     \u001b[38;5;28;01mif\u001b[39;00m result \u001b[38;5;129;01mis\u001b[39;00m \u001b[38;5;129;01mnot\u001b[39;00m \u001b[38;5;28;01mNone\u001b[39;00m:\n\u001b[0;32m    494\u001b[0m         \u001b[38;5;28;01mreturn\u001b[39;00m result\n",
            "File \u001b[1;32m~\\AppData\\Local\\Programs\\Python\\Python312\\Lib\\urllib\\request.py:1392\u001b[0m, in \u001b[0;36mHTTPSHandler.https_open\u001b[1;34m(self, req)\u001b[0m\n\u001b[0;32m   1391\u001b[0m \u001b[38;5;28;01mdef\u001b[39;00m \u001b[38;5;21mhttps_open\u001b[39m(\u001b[38;5;28mself\u001b[39m, req):\n\u001b[1;32m-> 1392\u001b[0m     \u001b[38;5;28;01mreturn\u001b[39;00m \u001b[38;5;28;43mself\u001b[39;49m\u001b[38;5;241;43m.\u001b[39;49m\u001b[43mdo_open\u001b[49m\u001b[43m(\u001b[49m\u001b[43mhttp\u001b[49m\u001b[38;5;241;43m.\u001b[39;49m\u001b[43mclient\u001b[49m\u001b[38;5;241;43m.\u001b[39;49m\u001b[43mHTTPSConnection\u001b[49m\u001b[43m,\u001b[49m\u001b[43m \u001b[49m\u001b[43mreq\u001b[49m\u001b[43m,\u001b[49m\n\u001b[0;32m   1393\u001b[0m \u001b[43m                        \u001b[49m\u001b[43mcontext\u001b[49m\u001b[38;5;241;43m=\u001b[39;49m\u001b[38;5;28;43mself\u001b[39;49m\u001b[38;5;241;43m.\u001b[39;49m\u001b[43m_context\u001b[49m\u001b[43m)\u001b[49m\n",
            "File \u001b[1;32m~\\AppData\\Local\\Programs\\Python\\Python312\\Lib\\urllib\\request.py:1347\u001b[0m, in \u001b[0;36mAbstractHTTPHandler.do_open\u001b[1;34m(self, http_class, req, **http_conn_args)\u001b[0m\n\u001b[0;32m   1344\u001b[0m         h\u001b[38;5;241m.\u001b[39mrequest(req\u001b[38;5;241m.\u001b[39mget_method(), req\u001b[38;5;241m.\u001b[39mselector, req\u001b[38;5;241m.\u001b[39mdata, headers,\n\u001b[0;32m   1345\u001b[0m                   encode_chunked\u001b[38;5;241m=\u001b[39mreq\u001b[38;5;241m.\u001b[39mhas_header(\u001b[38;5;124m'\u001b[39m\u001b[38;5;124mTransfer-encoding\u001b[39m\u001b[38;5;124m'\u001b[39m))\n\u001b[0;32m   1346\u001b[0m     \u001b[38;5;28;01mexcept\u001b[39;00m \u001b[38;5;167;01mOSError\u001b[39;00m \u001b[38;5;28;01mas\u001b[39;00m err: \u001b[38;5;66;03m# timeout error\u001b[39;00m\n\u001b[1;32m-> 1347\u001b[0m         \u001b[38;5;28;01mraise\u001b[39;00m URLError(err)\n\u001b[0;32m   1348\u001b[0m     r \u001b[38;5;241m=\u001b[39m h\u001b[38;5;241m.\u001b[39mgetresponse()\n\u001b[0;32m   1349\u001b[0m \u001b[38;5;28;01mexcept\u001b[39;00m:\n",
            "\u001b[1;31mURLError\u001b[0m: <urlopen error [WinError 10060] A connection attempt failed because the connected party did not properly respond after a period of time, or established connection failed because connected host has failed to respond>"
          ]
        }
      ],
      "source": [
        "import pandas as pd\n",
        "all_data = pd.read_csv('https://github.com/ardahk/amex/raw/main/cleaning/all_data.csv')\n",
        "users = pd.read_csv('https://github.com/ardahk/amex/raw/main/data/users.csv')\n",
        "products = pd.read_csv('https://github.com/ardahk/amex/raw/main/data/products.csv')\n",
        "orders = pd.read_csv('https://github.com/ardahk/amex/raw/main/data/orders.csv')\n",
        "order_items = pd.read_csv('https://github.com/ardahk/amex/raw/main/data/order_items.csv')\n",
        "US_events_0 = pd.read_csv('https://github.com/ardahk/amex/raw/main/data/US_events_0.csv')\n",
        "US_events_1 = pd.read_csv('https://github.com/ardahk/amex/raw/main/data/US_events_1.csv')\n",
        "US_events_2 = pd.read_csv('https://github.com/ardahk/amex/raw/main/data/US_events_2.csv')\n",
        "US_events_3 = pd.read_csv('https://github.com/ardahk/amex/raw/main/data/US_events_3.csv')\n",
        "US_events_4 = pd.read_csv('https://github.com/ardahk/amex/raw/main/data/US_events_4.csv')\n",
        "US_events_5 = pd.read_csv('https://github.com/ardahk/amex/raw/main/data/US_events_5.csv')"
      ]
    },
    {
      "cell_type": "code",
      "execution_count": 2,
      "metadata": {
        "id": "bKA7l9nEEyNX"
      },
      "outputs": [],
      "source": [
        "US_events = pd.concat([US_events_0, US_events_1, US_events_2, US_events_3, US_events_4, US_events_5])"
      ]
    },
    {
      "cell_type": "code",
      "execution_count": 3,
      "metadata": {
        "colab": {
          "base_uri": "https://localhost:8080/",
          "height": 479
        },
        "id": "j-lltBBvqpGQ",
        "outputId": "a2e21ee6-cfce-4c30-8a7f-3d75a0ad1f44"
      },
      "outputs": [
        {
          "data": {
            "text/html": [
              "<div>\n",
              "<style scoped>\n",
              "    .dataframe tbody tr th:only-of-type {\n",
              "        vertical-align: middle;\n",
              "    }\n",
              "\n",
              "    .dataframe tbody tr th {\n",
              "        vertical-align: top;\n",
              "    }\n",
              "\n",
              "    .dataframe thead th {\n",
              "        text-align: right;\n",
              "    }\n",
              "</style>\n",
              "<table border=\"1\" class=\"dataframe\">\n",
              "  <thead>\n",
              "    <tr style=\"text-align: right;\">\n",
              "      <th></th>\n",
              "      <th>id</th>\n",
              "      <th>user_id</th>\n",
              "      <th>sequence_number</th>\n",
              "      <th>session_id</th>\n",
              "      <th>created_at</th>\n",
              "      <th>ip_address</th>\n",
              "      <th>city</th>\n",
              "      <th>state</th>\n",
              "      <th>postal_code</th>\n",
              "      <th>browser</th>\n",
              "      <th>traffic_source</th>\n",
              "      <th>uri</th>\n",
              "      <th>event_type</th>\n",
              "    </tr>\n",
              "  </thead>\n",
              "  <tbody>\n",
              "    <tr>\n",
              "      <th>0</th>\n",
              "      <td>2244720</td>\n",
              "      <td>NaN</td>\n",
              "      <td>3</td>\n",
              "      <td>9cadf286-9b30-459e-9a57-14fc2dac8cc9</td>\n",
              "      <td>2022-06-19 12:07:00+00:00</td>\n",
              "      <td>3.149.42.105</td>\n",
              "      <td>New York</td>\n",
              "      <td>New York</td>\n",
              "      <td>10023</td>\n",
              "      <td>Chrome</td>\n",
              "      <td>Adwords</td>\n",
              "      <td>/cancel</td>\n",
              "      <td>cancel</td>\n",
              "    </tr>\n",
              "    <tr>\n",
              "      <th>1</th>\n",
              "      <td>1347063</td>\n",
              "      <td>NaN</td>\n",
              "      <td>3</td>\n",
              "      <td>84ae95f4-d7cd-4bde-a003-21d305b2e824</td>\n",
              "      <td>2023-10-11 01:41:00+00:00</td>\n",
              "      <td>68.124.172.198</td>\n",
              "      <td>New York</td>\n",
              "      <td>New York</td>\n",
              "      <td>10306</td>\n",
              "      <td>Firefox</td>\n",
              "      <td>Email</td>\n",
              "      <td>/cancel</td>\n",
              "      <td>cancel</td>\n",
              "    </tr>\n",
              "    <tr>\n",
              "      <th>2</th>\n",
              "      <td>1670844</td>\n",
              "      <td>NaN</td>\n",
              "      <td>3</td>\n",
              "      <td>94c3d822-49e6-4fb7-8ed7-713667f99d68</td>\n",
              "      <td>2021-03-18 19:20:00+00:00</td>\n",
              "      <td>177.217.215.96</td>\n",
              "      <td>New York</td>\n",
              "      <td>New York</td>\n",
              "      <td>10457</td>\n",
              "      <td>Chrome</td>\n",
              "      <td>YouTube</td>\n",
              "      <td>/cancel</td>\n",
              "      <td>cancel</td>\n",
              "    </tr>\n",
              "    <tr>\n",
              "      <th>3</th>\n",
              "      <td>2007823</td>\n",
              "      <td>NaN</td>\n",
              "      <td>3</td>\n",
              "      <td>4c248995-3e0b-41b5-a81a-2705279aeab9</td>\n",
              "      <td>2023-09-26 08:45:00+00:00</td>\n",
              "      <td>37.255.80.241</td>\n",
              "      <td>New York</td>\n",
              "      <td>New York</td>\n",
              "      <td>10457</td>\n",
              "      <td>Firefox</td>\n",
              "      <td>Adwords</td>\n",
              "      <td>/cancel</td>\n",
              "      <td>cancel</td>\n",
              "    </tr>\n",
              "    <tr>\n",
              "      <th>4</th>\n",
              "      <td>1517051</td>\n",
              "      <td>NaN</td>\n",
              "      <td>3</td>\n",
              "      <td>36b7879c-523f-4ec8-9a90-d1ac9fae1166</td>\n",
              "      <td>2022-04-19 08:36:00+00:00</td>\n",
              "      <td>76.11.158.90</td>\n",
              "      <td>New York</td>\n",
              "      <td>New York</td>\n",
              "      <td>10469</td>\n",
              "      <td>Other</td>\n",
              "      <td>Adwords</td>\n",
              "      <td>/cancel</td>\n",
              "      <td>cancel</td>\n",
              "    </tr>\n",
              "  </tbody>\n",
              "</table>\n",
              "</div>"
            ],
            "text/plain": [
              "        id  user_id  sequence_number                            session_id  \\\n",
              "0  2244720      NaN                3  9cadf286-9b30-459e-9a57-14fc2dac8cc9   \n",
              "1  1347063      NaN                3  84ae95f4-d7cd-4bde-a003-21d305b2e824   \n",
              "2  1670844      NaN                3  94c3d822-49e6-4fb7-8ed7-713667f99d68   \n",
              "3  2007823      NaN                3  4c248995-3e0b-41b5-a81a-2705279aeab9   \n",
              "4  1517051      NaN                3  36b7879c-523f-4ec8-9a90-d1ac9fae1166   \n",
              "\n",
              "                  created_at      ip_address      city     state  postal_code  \\\n",
              "0  2022-06-19 12:07:00+00:00    3.149.42.105  New York  New York        10023   \n",
              "1  2023-10-11 01:41:00+00:00  68.124.172.198  New York  New York        10306   \n",
              "2  2021-03-18 19:20:00+00:00  177.217.215.96  New York  New York        10457   \n",
              "3  2023-09-26 08:45:00+00:00   37.255.80.241  New York  New York        10457   \n",
              "4  2022-04-19 08:36:00+00:00    76.11.158.90  New York  New York        10469   \n",
              "\n",
              "   browser traffic_source      uri event_type  \n",
              "0   Chrome        Adwords  /cancel     cancel  \n",
              "1  Firefox          Email  /cancel     cancel  \n",
              "2   Chrome        YouTube  /cancel     cancel  \n",
              "3  Firefox        Adwords  /cancel     cancel  \n",
              "4    Other        Adwords  /cancel     cancel  "
            ]
          },
          "execution_count": 3,
          "metadata": {},
          "output_type": "execute_result"
        }
      ],
      "source": [
        "US_events.head()"
      ]
    },
    {
      "cell_type": "code",
      "execution_count": 4,
      "metadata": {
        "colab": {
          "base_uri": "https://localhost:8080/"
        },
        "id": "EAJgViYFsHwM",
        "outputId": "4761c480-1042-4166-f411-6bac85d7aeab"
      },
      "outputs": [
        {
          "data": {
            "text/plain": [
              "(541963, 13)"
            ]
          },
          "execution_count": 4,
          "metadata": {},
          "output_type": "execute_result"
        }
      ],
      "source": [
        "US_events.shape"
      ]
    },
    {
      "cell_type": "code",
      "execution_count": 5,
      "metadata": {
        "colab": {
          "base_uri": "https://localhost:8080/"
        },
        "id": "R9-NNkGOsNus",
        "outputId": "3a533174-ae14-4c67-de7d-22b39dd817f5"
      },
      "outputs": [
        {
          "data": {
            "text/plain": [
              "(181759, 11)"
            ]
          },
          "execution_count": 5,
          "metadata": {},
          "output_type": "execute_result"
        }
      ],
      "source": [
        "order_items.shape"
      ]
    },
    {
      "cell_type": "code",
      "execution_count": 6,
      "metadata": {
        "colab": {
          "base_uri": "https://localhost:8080/"
        },
        "id": "OG65SK-LsSF_",
        "outputId": "ef9b73b8-231b-43a5-aba4-4e155ff8544b"
      },
      "outputs": [
        {
          "data": {
            "text/plain": [
              "(125226, 9)"
            ]
          },
          "execution_count": 6,
          "metadata": {},
          "output_type": "execute_result"
        }
      ],
      "source": [
        "orders.shape"
      ]
    },
    {
      "cell_type": "code",
      "execution_count": 7,
      "metadata": {
        "colab": {
          "base_uri": "https://localhost:8080/",
          "height": 309
        },
        "id": "6gexBiZCq_WI",
        "outputId": "4ecaa9b1-1521-4168-c17f-0b724b316076"
      },
      "outputs": [
        {
          "data": {
            "text/html": [
              "<div>\n",
              "<style scoped>\n",
              "    .dataframe tbody tr th:only-of-type {\n",
              "        vertical-align: middle;\n",
              "    }\n",
              "\n",
              "    .dataframe tbody tr th {\n",
              "        vertical-align: top;\n",
              "    }\n",
              "\n",
              "    .dataframe thead th {\n",
              "        text-align: right;\n",
              "    }\n",
              "</style>\n",
              "<table border=\"1\" class=\"dataframe\">\n",
              "  <thead>\n",
              "    <tr style=\"text-align: right;\">\n",
              "      <th></th>\n",
              "      <th>id</th>\n",
              "      <th>first_name</th>\n",
              "      <th>last_name</th>\n",
              "      <th>email</th>\n",
              "      <th>age</th>\n",
              "      <th>gender</th>\n",
              "      <th>state</th>\n",
              "      <th>street_address</th>\n",
              "      <th>postal_code</th>\n",
              "      <th>city</th>\n",
              "      <th>country</th>\n",
              "      <th>latitude</th>\n",
              "      <th>longitude</th>\n",
              "      <th>traffic_source</th>\n",
              "      <th>created_at</th>\n",
              "    </tr>\n",
              "  </thead>\n",
              "  <tbody>\n",
              "    <tr>\n",
              "      <th>0</th>\n",
              "      <td>457</td>\n",
              "      <td>Timothy</td>\n",
              "      <td>Bush</td>\n",
              "      <td>timothybush@example.net</td>\n",
              "      <td>65</td>\n",
              "      <td>M</td>\n",
              "      <td>Acre</td>\n",
              "      <td>87620 Johnson Hills</td>\n",
              "      <td>69917-400</td>\n",
              "      <td>Rio Branco</td>\n",
              "      <td>Brasil</td>\n",
              "      <td>-9.945568</td>\n",
              "      <td>-67.83561</td>\n",
              "      <td>Search</td>\n",
              "      <td>2022-07-19 13:51:00+00:00</td>\n",
              "    </tr>\n",
              "    <tr>\n",
              "      <th>1</th>\n",
              "      <td>6578</td>\n",
              "      <td>Elizabeth</td>\n",
              "      <td>Martinez</td>\n",
              "      <td>elizabethmartinez@example.com</td>\n",
              "      <td>34</td>\n",
              "      <td>F</td>\n",
              "      <td>Acre</td>\n",
              "      <td>1705 Nielsen Land</td>\n",
              "      <td>69917-400</td>\n",
              "      <td>Rio Branco</td>\n",
              "      <td>Brasil</td>\n",
              "      <td>-9.945568</td>\n",
              "      <td>-67.83561</td>\n",
              "      <td>Search</td>\n",
              "      <td>2023-11-08 18:49:00+00:00</td>\n",
              "    </tr>\n",
              "    <tr>\n",
              "      <th>2</th>\n",
              "      <td>36280</td>\n",
              "      <td>Christopher</td>\n",
              "      <td>Mendoza</td>\n",
              "      <td>christophermendoza@example.net</td>\n",
              "      <td>13</td>\n",
              "      <td>M</td>\n",
              "      <td>Acre</td>\n",
              "      <td>125 Turner Isle Apt. 264</td>\n",
              "      <td>69917-400</td>\n",
              "      <td>Rio Branco</td>\n",
              "      <td>Brasil</td>\n",
              "      <td>-9.945568</td>\n",
              "      <td>-67.83561</td>\n",
              "      <td>Email</td>\n",
              "      <td>2019-08-24 06:10:00+00:00</td>\n",
              "    </tr>\n",
              "    <tr>\n",
              "      <th>3</th>\n",
              "      <td>60193</td>\n",
              "      <td>Jimmy</td>\n",
              "      <td>Conner</td>\n",
              "      <td>jimmyconner@example.com</td>\n",
              "      <td>64</td>\n",
              "      <td>M</td>\n",
              "      <td>Acre</td>\n",
              "      <td>0966 Jose Branch Apt. 008</td>\n",
              "      <td>69917-400</td>\n",
              "      <td>Rio Branco</td>\n",
              "      <td>Brasil</td>\n",
              "      <td>-9.945568</td>\n",
              "      <td>-67.83561</td>\n",
              "      <td>Search</td>\n",
              "      <td>2020-02-15 11:26:00+00:00</td>\n",
              "    </tr>\n",
              "    <tr>\n",
              "      <th>4</th>\n",
              "      <td>64231</td>\n",
              "      <td>Natasha</td>\n",
              "      <td>Wilson</td>\n",
              "      <td>natashawilson@example.net</td>\n",
              "      <td>25</td>\n",
              "      <td>F</td>\n",
              "      <td>Acre</td>\n",
              "      <td>20798 Phillip Trail Apt. 392</td>\n",
              "      <td>69917-400</td>\n",
              "      <td>Rio Branco</td>\n",
              "      <td>Brasil</td>\n",
              "      <td>-9.945568</td>\n",
              "      <td>-67.83561</td>\n",
              "      <td>Search</td>\n",
              "      <td>2020-03-13 06:45:00+00:00</td>\n",
              "    </tr>\n",
              "  </tbody>\n",
              "</table>\n",
              "</div>"
            ],
            "text/plain": [
              "      id   first_name last_name                           email  age gender  \\\n",
              "0    457      Timothy      Bush         timothybush@example.net   65      M   \n",
              "1   6578    Elizabeth  Martinez   elizabethmartinez@example.com   34      F   \n",
              "2  36280  Christopher   Mendoza  christophermendoza@example.net   13      M   \n",
              "3  60193        Jimmy    Conner         jimmyconner@example.com   64      M   \n",
              "4  64231      Natasha    Wilson       natashawilson@example.net   25      F   \n",
              "\n",
              "  state                street_address postal_code        city country  \\\n",
              "0  Acre           87620 Johnson Hills   69917-400  Rio Branco  Brasil   \n",
              "1  Acre             1705 Nielsen Land   69917-400  Rio Branco  Brasil   \n",
              "2  Acre      125 Turner Isle Apt. 264   69917-400  Rio Branco  Brasil   \n",
              "3  Acre     0966 Jose Branch Apt. 008   69917-400  Rio Branco  Brasil   \n",
              "4  Acre  20798 Phillip Trail Apt. 392   69917-400  Rio Branco  Brasil   \n",
              "\n",
              "   latitude  longitude traffic_source                 created_at  \n",
              "0 -9.945568  -67.83561         Search  2022-07-19 13:51:00+00:00  \n",
              "1 -9.945568  -67.83561         Search  2023-11-08 18:49:00+00:00  \n",
              "2 -9.945568  -67.83561          Email  2019-08-24 06:10:00+00:00  \n",
              "3 -9.945568  -67.83561         Search  2020-02-15 11:26:00+00:00  \n",
              "4 -9.945568  -67.83561         Search  2020-03-13 06:45:00+00:00  "
            ]
          },
          "execution_count": 7,
          "metadata": {},
          "output_type": "execute_result"
        }
      ],
      "source": [
        "users.head()"
      ]
    },
    {
      "cell_type": "code",
      "execution_count": 8,
      "metadata": {
        "colab": {
          "base_uri": "https://localhost:8080/",
          "height": 479
        },
        "id": "Fs8D3GY75Q2y",
        "outputId": "385438c6-ce0b-4e6c-d128-abcaa03aab7f"
      },
      "outputs": [
        {
          "data": {
            "text/html": [
              "<div>\n",
              "<style scoped>\n",
              "    .dataframe tbody tr th:only-of-type {\n",
              "        vertical-align: middle;\n",
              "    }\n",
              "\n",
              "    .dataframe tbody tr th {\n",
              "        vertical-align: top;\n",
              "    }\n",
              "\n",
              "    .dataframe thead th {\n",
              "        text-align: right;\n",
              "    }\n",
              "</style>\n",
              "<table border=\"1\" class=\"dataframe\">\n",
              "  <thead>\n",
              "    <tr style=\"text-align: right;\">\n",
              "      <th></th>\n",
              "      <th>id_orderproducts</th>\n",
              "      <th>order_id_all</th>\n",
              "      <th>user_id_all</th>\n",
              "      <th>product_id_all</th>\n",
              "      <th>inventory_item_id_all</th>\n",
              "      <th>status_item</th>\n",
              "      <th>created_at_item</th>\n",
              "      <th>shipped_at_item</th>\n",
              "      <th>delivered_at_item</th>\n",
              "      <th>returned_at_item</th>\n",
              "      <th>...</th>\n",
              "      <th>gender_user</th>\n",
              "      <th>state</th>\n",
              "      <th>street_address</th>\n",
              "      <th>postal_code</th>\n",
              "      <th>city</th>\n",
              "      <th>country</th>\n",
              "      <th>latitude</th>\n",
              "      <th>longitude</th>\n",
              "      <th>traffic_source</th>\n",
              "      <th>created_at_user</th>\n",
              "    </tr>\n",
              "  </thead>\n",
              "  <tbody>\n",
              "    <tr>\n",
              "      <th>0</th>\n",
              "      <td>152013</td>\n",
              "      <td>104663</td>\n",
              "      <td>83582</td>\n",
              "      <td>14235</td>\n",
              "      <td>410368</td>\n",
              "      <td>Cancelled</td>\n",
              "      <td>2023-05-07 06:08:40+00:00</td>\n",
              "      <td>NaN</td>\n",
              "      <td>NaN</td>\n",
              "      <td>NaN</td>\n",
              "      <td>...</td>\n",
              "      <td>F</td>\n",
              "      <td>Hebei</td>\n",
              "      <td>3863 Johnson Brooks Suite 474</td>\n",
              "      <td>74199</td>\n",
              "      <td>Jinhua</td>\n",
              "      <td>China</td>\n",
              "      <td>39.388173</td>\n",
              "      <td>115.731465</td>\n",
              "      <td>Search</td>\n",
              "      <td>2021-11-27 07:33:00+00:00</td>\n",
              "    </tr>\n",
              "    <tr>\n",
              "      <th>1</th>\n",
              "      <td>40993</td>\n",
              "      <td>28204</td>\n",
              "      <td>22551</td>\n",
              "      <td>14235</td>\n",
              "      <td>110590</td>\n",
              "      <td>Complete</td>\n",
              "      <td>2023-03-14 03:47:21+00:00</td>\n",
              "      <td>2023-03-15 22:57:00+00:00</td>\n",
              "      <td>2023-03-18 01:08:00+00:00</td>\n",
              "      <td>NaN</td>\n",
              "      <td>...</td>\n",
              "      <td>F</td>\n",
              "      <td>Jiangsu</td>\n",
              "      <td>5374 Courtney Parkway</td>\n",
              "      <td>215007</td>\n",
              "      <td>Yulin</td>\n",
              "      <td>China</td>\n",
              "      <td>31.278607</td>\n",
              "      <td>120.642997</td>\n",
              "      <td>Organic</td>\n",
              "      <td>2022-07-15 03:59:00+00:00</td>\n",
              "    </tr>\n",
              "    <tr>\n",
              "      <th>2</th>\n",
              "      <td>51224</td>\n",
              "      <td>35223</td>\n",
              "      <td>28215</td>\n",
              "      <td>14235</td>\n",
              "      <td>138236</td>\n",
              "      <td>Complete</td>\n",
              "      <td>2023-12-05 13:25:30+00:00</td>\n",
              "      <td>2023-12-06 01:20:00+00:00</td>\n",
              "      <td>2023-12-10 10:04:00+00:00</td>\n",
              "      <td>NaN</td>\n",
              "      <td>...</td>\n",
              "      <td>F</td>\n",
              "      <td>Texas</td>\n",
              "      <td>7187 Michael Forge Apt. 777</td>\n",
              "      <td>75604</td>\n",
              "      <td>Longview</td>\n",
              "      <td>United States</td>\n",
              "      <td>32.512434</td>\n",
              "      <td>-94.825486</td>\n",
              "      <td>Organic</td>\n",
              "      <td>2019-06-22 13:23:00+00:00</td>\n",
              "    </tr>\n",
              "    <tr>\n",
              "      <th>3</th>\n",
              "      <td>36717</td>\n",
              "      <td>25278</td>\n",
              "      <td>20165</td>\n",
              "      <td>14235</td>\n",
              "      <td>99072</td>\n",
              "      <td>Shipped</td>\n",
              "      <td>2023-12-22 20:48:19+00:00</td>\n",
              "      <td>2023-12-24 16:44:00+00:00</td>\n",
              "      <td>NaN</td>\n",
              "      <td>NaN</td>\n",
              "      <td>...</td>\n",
              "      <td>F</td>\n",
              "      <td>Hyogo</td>\n",
              "      <td>6970 Cherry Extension Apt. 442</td>\n",
              "      <td>675-0137</td>\n",
              "      <td>Kakogawa City</td>\n",
              "      <td>Japan</td>\n",
              "      <td>34.718505</td>\n",
              "      <td>134.825010</td>\n",
              "      <td>Search</td>\n",
              "      <td>2022-05-17 00:17:00+00:00</td>\n",
              "    </tr>\n",
              "    <tr>\n",
              "      <th>4</th>\n",
              "      <td>131061</td>\n",
              "      <td>90241</td>\n",
              "      <td>71954</td>\n",
              "      <td>14235</td>\n",
              "      <td>353798</td>\n",
              "      <td>Shipped</td>\n",
              "      <td>2022-06-19 16:57:59+00:00</td>\n",
              "      <td>2022-06-19 19:29:00+00:00</td>\n",
              "      <td>NaN</td>\n",
              "      <td>NaN</td>\n",
              "      <td>...</td>\n",
              "      <td>F</td>\n",
              "      <td>England</td>\n",
              "      <td>6522 Stephens Meadows Suite 475</td>\n",
              "      <td>LA1</td>\n",
              "      <td>Lancaster</td>\n",
              "      <td>United Kingdom</td>\n",
              "      <td>54.045973</td>\n",
              "      <td>-2.794106</td>\n",
              "      <td>Search</td>\n",
              "      <td>2021-06-23 17:21:00+00:00</td>\n",
              "    </tr>\n",
              "  </tbody>\n",
              "</table>\n",
              "<p>5 rows × 53 columns</p>\n",
              "</div>"
            ],
            "text/plain": [
              "   id_orderproducts  order_id_all  user_id_all  product_id_all  \\\n",
              "0            152013        104663        83582           14235   \n",
              "1             40993         28204        22551           14235   \n",
              "2             51224         35223        28215           14235   \n",
              "3             36717         25278        20165           14235   \n",
              "4            131061         90241        71954           14235   \n",
              "\n",
              "   inventory_item_id_all status_item            created_at_item  \\\n",
              "0                 410368   Cancelled  2023-05-07 06:08:40+00:00   \n",
              "1                 110590    Complete  2023-03-14 03:47:21+00:00   \n",
              "2                 138236    Complete  2023-12-05 13:25:30+00:00   \n",
              "3                  99072     Shipped  2023-12-22 20:48:19+00:00   \n",
              "4                 353798     Shipped  2022-06-19 16:57:59+00:00   \n",
              "\n",
              "             shipped_at_item          delivered_at_item returned_at_item  ...  \\\n",
              "0                        NaN                        NaN              NaN  ...   \n",
              "1  2023-03-15 22:57:00+00:00  2023-03-18 01:08:00+00:00              NaN  ...   \n",
              "2  2023-12-06 01:20:00+00:00  2023-12-10 10:04:00+00:00              NaN  ...   \n",
              "3  2023-12-24 16:44:00+00:00                        NaN              NaN  ...   \n",
              "4  2022-06-19 19:29:00+00:00                        NaN              NaN  ...   \n",
              "\n",
              "   gender_user    state                   street_address postal_code  \\\n",
              "0            F    Hebei    3863 Johnson Brooks Suite 474       74199   \n",
              "1            F  Jiangsu            5374 Courtney Parkway      215007   \n",
              "2            F    Texas      7187 Michael Forge Apt. 777       75604   \n",
              "3            F    Hyogo   6970 Cherry Extension Apt. 442    675-0137   \n",
              "4            F  England  6522 Stephens Meadows Suite 475         LA1   \n",
              "\n",
              "            city         country   latitude   longitude  traffic_source  \\\n",
              "0         Jinhua           China  39.388173  115.731465          Search   \n",
              "1          Yulin           China  31.278607  120.642997         Organic   \n",
              "2       Longview   United States  32.512434  -94.825486         Organic   \n",
              "3  Kakogawa City           Japan  34.718505  134.825010          Search   \n",
              "4      Lancaster  United Kingdom  54.045973   -2.794106          Search   \n",
              "\n",
              "             created_at_user  \n",
              "0  2021-11-27 07:33:00+00:00  \n",
              "1  2022-07-15 03:59:00+00:00  \n",
              "2  2019-06-22 13:23:00+00:00  \n",
              "3  2022-05-17 00:17:00+00:00  \n",
              "4  2021-06-23 17:21:00+00:00  \n",
              "\n",
              "[5 rows x 53 columns]"
            ]
          },
          "execution_count": 8,
          "metadata": {},
          "output_type": "execute_result"
        }
      ],
      "source": [
        "all_data.head()"
      ]
    },
    {
      "cell_type": "code",
      "execution_count": 9,
      "metadata": {
        "colab": {
          "base_uri": "https://localhost:8080/"
        },
        "id": "DxBOlA3qLrSq",
        "outputId": "0cdce8cd-434f-4469-fd92-7a567f3c71d3"
      },
      "outputs": [
        {
          "data": {
            "text/plain": [
              "(177354, 53)"
            ]
          },
          "execution_count": 9,
          "metadata": {},
          "output_type": "execute_result"
        }
      ],
      "source": [
        "all_data.shape"
      ]
    },
    {
      "cell_type": "code",
      "execution_count": 10,
      "metadata": {
        "colab": {
          "base_uri": "https://localhost:8080/",
          "height": 1000
        },
        "id": "B_a73COd1r40",
        "outputId": "67530777-8ff8-4680-96f5-ad5f711cb1d0"
      },
      "outputs": [
        {
          "data": {
            "text/plain": [
              "id_orderproducts                0\n",
              "order_id_all                    0\n",
              "user_id_all                     0\n",
              "product_id_all                  0\n",
              "inventory_item_id_all           0\n",
              "status_item                     0\n",
              "created_at_item                 0\n",
              "shipped_at_item             61944\n",
              "delivered_at_item          115068\n",
              "returned_at_item           159570\n",
              "sale_price_all                  0\n",
              "status_order                    0\n",
              "gender_orders                   0\n",
              "created_at_order                0\n",
              "returned_at_order          159570\n",
              "shipped_at_order            61944\n",
              "delivered_at_order         115068\n",
              "num_of_item                     0\n",
              "id_products                     0\n",
              "cost                            0\n",
              "category                        0\n",
              "name                           10\n",
              "brand                         144\n",
              "retail_price                    0\n",
              "department                      0\n",
              "sku                             0\n",
              "distribution_center_id          0\n",
              "id_orders                  113214\n",
              "order_id_items             113214\n",
              "user_id_items              113214\n",
              "product_id_items           113214\n",
              "inventory_item_id_items    113214\n",
              "status                     113214\n",
              "created_at_orders          113214\n",
              "shipped_at                 135484\n",
              "delivered_at               154801\n",
              "returned_at                170920\n",
              "sale_price_items           113214\n",
              "id_user                         0\n",
              "first_name                      0\n",
              "last_name                       0\n",
              "email                           0\n",
              "age                             0\n",
              "gender_user                     0\n",
              "state                           0\n",
              "street_address                  0\n",
              "postal_code                     0\n",
              "city                         1638\n",
              "country                         0\n",
              "latitude                        0\n",
              "longitude                       0\n",
              "traffic_source                  0\n",
              "created_at_user                 0\n",
              "dtype: int64"
            ]
          },
          "execution_count": 10,
          "metadata": {},
          "output_type": "execute_result"
        }
      ],
      "source": [
        "all_data.isna().sum()"
      ]
    },
    {
      "cell_type": "code",
      "execution_count": 11,
      "metadata": {
        "colab": {
          "base_uri": "https://localhost:8080/"
        },
        "id": "7QO3C53ZM_Dt",
        "outputId": "25c9cc19-0099-4f85-b1a6-a8c17f6d3886"
      },
      "outputs": [
        {
          "data": {
            "text/plain": [
              "Index(['id_orderproducts', 'order_id_all', 'user_id_all', 'product_id_all',\n",
              "       'inventory_item_id_all', 'status_item', 'created_at_item',\n",
              "       'shipped_at_item', 'delivered_at_item', 'returned_at_item',\n",
              "       'sale_price_all', 'status_order', 'gender_orders', 'created_at_order',\n",
              "       'returned_at_order', 'shipped_at_order', 'delivered_at_order',\n",
              "       'num_of_item', 'id_products', 'cost', 'category', 'name', 'brand',\n",
              "       'retail_price', 'department', 'sku', 'distribution_center_id',\n",
              "       'id_orders', 'order_id_items', 'user_id_items', 'product_id_items',\n",
              "       'inventory_item_id_items', 'status', 'created_at_orders', 'shipped_at',\n",
              "       'delivered_at', 'returned_at', 'sale_price_items', 'id_user',\n",
              "       'first_name', 'last_name', 'email', 'age', 'gender_user', 'state',\n",
              "       'street_address', 'postal_code', 'city', 'country', 'latitude',\n",
              "       'longitude', 'traffic_source', 'created_at_user'],\n",
              "      dtype='object')"
            ]
          },
          "execution_count": 11,
          "metadata": {},
          "output_type": "execute_result"
        }
      ],
      "source": [
        "all_data.columns"
      ]
    },
    {
      "cell_type": "markdown",
      "metadata": {},
      "source": [
        "# **USERS**"
      ]
    },
    {
      "cell_type": "markdown",
      "metadata": {
        "id": "ftlTUyjmR5pZ"
      },
      "source": [
        "\n",
        "- *id: Unique identifier for each user.*\n",
        "- *first_name: First name of the user.*\n",
        "- *last_name: Last name of the user.*\n",
        "- *email: Email address of the user.*\n",
        "- age: Age of the user.\n",
        "- gender: Gender of the user.\n",
        "- state: State where the user is located.\n",
        "- *street_address: Street address of the user.*\n",
        "- postal_code: Postal code of the user.\n",
        "- city: City where the user is located.\n",
        "- country: Country where the user is located.\n",
        "- *latitude: Latitude coordinate of the user.*\n",
        "- *longitude: Longitude coordinate of the user.*\n",
        "- traffic_source: Source of the traffic leading to the user.\n",
        "- created_at: Timestamp indicating when the user account was created."
      ]
    },
    {
      "cell_type": "code",
      "execution_count": 12,
      "metadata": {
        "colab": {
          "base_uri": "https://localhost:8080/",
          "height": 309
        },
        "id": "TvGIwtk5XeLi",
        "outputId": "919bdb38-12f4-412e-8095-0931d3c815a3"
      },
      "outputs": [
        {
          "data": {
            "text/html": [
              "<div>\n",
              "<style scoped>\n",
              "    .dataframe tbody tr th:only-of-type {\n",
              "        vertical-align: middle;\n",
              "    }\n",
              "\n",
              "    .dataframe tbody tr th {\n",
              "        vertical-align: top;\n",
              "    }\n",
              "\n",
              "    .dataframe thead th {\n",
              "        text-align: right;\n",
              "    }\n",
              "</style>\n",
              "<table border=\"1\" class=\"dataframe\">\n",
              "  <thead>\n",
              "    <tr style=\"text-align: right;\">\n",
              "      <th></th>\n",
              "      <th>id</th>\n",
              "      <th>first_name</th>\n",
              "      <th>last_name</th>\n",
              "      <th>email</th>\n",
              "      <th>age</th>\n",
              "      <th>gender</th>\n",
              "      <th>state</th>\n",
              "      <th>street_address</th>\n",
              "      <th>postal_code</th>\n",
              "      <th>city</th>\n",
              "      <th>country</th>\n",
              "      <th>latitude</th>\n",
              "      <th>longitude</th>\n",
              "      <th>traffic_source</th>\n",
              "      <th>created_at</th>\n",
              "    </tr>\n",
              "  </thead>\n",
              "  <tbody>\n",
              "    <tr>\n",
              "      <th>0</th>\n",
              "      <td>457</td>\n",
              "      <td>Timothy</td>\n",
              "      <td>Bush</td>\n",
              "      <td>timothybush@example.net</td>\n",
              "      <td>65</td>\n",
              "      <td>M</td>\n",
              "      <td>Acre</td>\n",
              "      <td>87620 Johnson Hills</td>\n",
              "      <td>69917-400</td>\n",
              "      <td>Rio Branco</td>\n",
              "      <td>Brasil</td>\n",
              "      <td>-9.945568</td>\n",
              "      <td>-67.83561</td>\n",
              "      <td>Search</td>\n",
              "      <td>2022-07-19 13:51:00+00:00</td>\n",
              "    </tr>\n",
              "    <tr>\n",
              "      <th>1</th>\n",
              "      <td>6578</td>\n",
              "      <td>Elizabeth</td>\n",
              "      <td>Martinez</td>\n",
              "      <td>elizabethmartinez@example.com</td>\n",
              "      <td>34</td>\n",
              "      <td>F</td>\n",
              "      <td>Acre</td>\n",
              "      <td>1705 Nielsen Land</td>\n",
              "      <td>69917-400</td>\n",
              "      <td>Rio Branco</td>\n",
              "      <td>Brasil</td>\n",
              "      <td>-9.945568</td>\n",
              "      <td>-67.83561</td>\n",
              "      <td>Search</td>\n",
              "      <td>2023-11-08 18:49:00+00:00</td>\n",
              "    </tr>\n",
              "    <tr>\n",
              "      <th>2</th>\n",
              "      <td>36280</td>\n",
              "      <td>Christopher</td>\n",
              "      <td>Mendoza</td>\n",
              "      <td>christophermendoza@example.net</td>\n",
              "      <td>13</td>\n",
              "      <td>M</td>\n",
              "      <td>Acre</td>\n",
              "      <td>125 Turner Isle Apt. 264</td>\n",
              "      <td>69917-400</td>\n",
              "      <td>Rio Branco</td>\n",
              "      <td>Brasil</td>\n",
              "      <td>-9.945568</td>\n",
              "      <td>-67.83561</td>\n",
              "      <td>Email</td>\n",
              "      <td>2019-08-24 06:10:00+00:00</td>\n",
              "    </tr>\n",
              "    <tr>\n",
              "      <th>3</th>\n",
              "      <td>60193</td>\n",
              "      <td>Jimmy</td>\n",
              "      <td>Conner</td>\n",
              "      <td>jimmyconner@example.com</td>\n",
              "      <td>64</td>\n",
              "      <td>M</td>\n",
              "      <td>Acre</td>\n",
              "      <td>0966 Jose Branch Apt. 008</td>\n",
              "      <td>69917-400</td>\n",
              "      <td>Rio Branco</td>\n",
              "      <td>Brasil</td>\n",
              "      <td>-9.945568</td>\n",
              "      <td>-67.83561</td>\n",
              "      <td>Search</td>\n",
              "      <td>2020-02-15 11:26:00+00:00</td>\n",
              "    </tr>\n",
              "    <tr>\n",
              "      <th>4</th>\n",
              "      <td>64231</td>\n",
              "      <td>Natasha</td>\n",
              "      <td>Wilson</td>\n",
              "      <td>natashawilson@example.net</td>\n",
              "      <td>25</td>\n",
              "      <td>F</td>\n",
              "      <td>Acre</td>\n",
              "      <td>20798 Phillip Trail Apt. 392</td>\n",
              "      <td>69917-400</td>\n",
              "      <td>Rio Branco</td>\n",
              "      <td>Brasil</td>\n",
              "      <td>-9.945568</td>\n",
              "      <td>-67.83561</td>\n",
              "      <td>Search</td>\n",
              "      <td>2020-03-13 06:45:00+00:00</td>\n",
              "    </tr>\n",
              "  </tbody>\n",
              "</table>\n",
              "</div>"
            ],
            "text/plain": [
              "      id   first_name last_name                           email  age gender  \\\n",
              "0    457      Timothy      Bush         timothybush@example.net   65      M   \n",
              "1   6578    Elizabeth  Martinez   elizabethmartinez@example.com   34      F   \n",
              "2  36280  Christopher   Mendoza  christophermendoza@example.net   13      M   \n",
              "3  60193        Jimmy    Conner         jimmyconner@example.com   64      M   \n",
              "4  64231      Natasha    Wilson       natashawilson@example.net   25      F   \n",
              "\n",
              "  state                street_address postal_code        city country  \\\n",
              "0  Acre           87620 Johnson Hills   69917-400  Rio Branco  Brasil   \n",
              "1  Acre             1705 Nielsen Land   69917-400  Rio Branco  Brasil   \n",
              "2  Acre      125 Turner Isle Apt. 264   69917-400  Rio Branco  Brasil   \n",
              "3  Acre     0966 Jose Branch Apt. 008   69917-400  Rio Branco  Brasil   \n",
              "4  Acre  20798 Phillip Trail Apt. 392   69917-400  Rio Branco  Brasil   \n",
              "\n",
              "   latitude  longitude traffic_source                 created_at  \n",
              "0 -9.945568  -67.83561         Search  2022-07-19 13:51:00+00:00  \n",
              "1 -9.945568  -67.83561         Search  2023-11-08 18:49:00+00:00  \n",
              "2 -9.945568  -67.83561          Email  2019-08-24 06:10:00+00:00  \n",
              "3 -9.945568  -67.83561         Search  2020-02-15 11:26:00+00:00  \n",
              "4 -9.945568  -67.83561         Search  2020-03-13 06:45:00+00:00  "
            ]
          },
          "execution_count": 12,
          "metadata": {},
          "output_type": "execute_result"
        }
      ],
      "source": [
        "users.head()"
      ]
    },
    {
      "cell_type": "code",
      "execution_count": 13,
      "metadata": {
        "colab": {
          "base_uri": "https://localhost:8080/"
        },
        "id": "HcPbzwUpz-ln",
        "outputId": "b4cfd99b-b91a-4c1d-e332-dd3403b2d57c"
      },
      "outputs": [
        {
          "data": {
            "text/plain": [
              "Index(['id', 'first_name', 'last_name', 'email', 'age', 'gender', 'state',\n",
              "       'street_address', 'postal_code', 'city', 'country', 'latitude',\n",
              "       'longitude', 'traffic_source', 'created_at'],\n",
              "      dtype='object')"
            ]
          },
          "execution_count": 13,
          "metadata": {},
          "output_type": "execute_result"
        }
      ],
      "source": [
        "users.columns"
      ]
    },
    {
      "cell_type": "code",
      "execution_count": 14,
      "metadata": {
        "colab": {
          "base_uri": "https://localhost:8080/"
        },
        "id": "5coQQ5lz0Rvp",
        "outputId": "9d6d94a0-aa46-4ae1-accc-f14c2d13837c"
      },
      "outputs": [
        {
          "data": {
            "text/plain": [
              "(100000, 15)"
            ]
          },
          "execution_count": 14,
          "metadata": {},
          "output_type": "execute_result"
        }
      ],
      "source": [
        "users.shape"
      ]
    },
    {
      "cell_type": "markdown",
      "metadata": {
        "id": "xK-cmtkY0W6e"
      },
      "source": [
        "100,000 instances"
      ]
    },
    {
      "cell_type": "markdown",
      "metadata": {
        "id": "cWgeG8hASqUm"
      },
      "source": [
        "* Drop first_name, last_name, email, street_address, latitude, longitutde, & created_at\n",
        "* Remove all non-US instances\n",
        "\n",
        "* 'City' has 170 null values.\n",
        "  * we can either drop the null values, or remove the city column all together since it's probably highly correlated/related to zip code ?"
      ]
    },
    {
      "cell_type": "markdown",
      "metadata": {
        "id": "MGtmZPMHNxp9"
      },
      "source": [
        "### CITY COLUMN\n",
        "* I think it would be a good idea to drop the city column, there are 170 missing instances here and 2078 missing instances in 'events'\n",
        "* It's likely highly correlated with zip code and would be repetitive anyways\n",
        "* We would have to convert it to numerical/use dummy values, while zip code is already numerical"
      ]
    },
    {
      "cell_type": "code",
      "execution_count": 15,
      "metadata": {
        "colab": {
          "base_uri": "https://localhost:8080/",
          "height": 548
        },
        "id": "OguAahdf0T1T",
        "outputId": "807b2b6a-6844-4da0-b766-ce01a3f1957a"
      },
      "outputs": [
        {
          "data": {
            "text/plain": [
              "id                  0\n",
              "first_name          0\n",
              "last_name           0\n",
              "email               0\n",
              "age                 0\n",
              "gender              0\n",
              "state               0\n",
              "street_address      0\n",
              "postal_code         0\n",
              "city              958\n",
              "country             0\n",
              "latitude            0\n",
              "longitude           0\n",
              "traffic_source      0\n",
              "created_at          0\n",
              "dtype: int64"
            ]
          },
          "execution_count": 15,
          "metadata": {},
          "output_type": "execute_result"
        }
      ],
      "source": [
        "users.isna().sum()"
      ]
    },
    {
      "cell_type": "code",
      "execution_count": 16,
      "metadata": {
        "id": "7mAel8sD0bEt"
      },
      "outputs": [],
      "source": [
        "users = users.loc[users['country'] == 'United States']"
      ]
    },
    {
      "cell_type": "code",
      "execution_count": 17,
      "metadata": {
        "colab": {
          "base_uri": "https://localhost:8080/"
        },
        "id": "JXu9TZhV2XZE",
        "outputId": "89ad42b7-0542-4a96-ac4c-33e1386aa459"
      },
      "outputs": [
        {
          "data": {
            "text/plain": [
              "array(['United States'], dtype=object)"
            ]
          },
          "execution_count": 17,
          "metadata": {},
          "output_type": "execute_result"
        }
      ],
      "source": [
        "users['country'].unique()"
      ]
    },
    {
      "cell_type": "markdown",
      "metadata": {
        "id": "Q19photX2a7p"
      },
      "source": [
        "We can drop country now since it only include one value"
      ]
    },
    {
      "cell_type": "code",
      "execution_count": 18,
      "metadata": {
        "colab": {
          "base_uri": "https://localhost:8080/"
        },
        "id": "u06cjJfR2erz",
        "outputId": "89baaf48-517a-4e1b-8922-bd8153033f37"
      },
      "outputs": [],
      "source": [
        "users.drop(columns = ['country'], inplace=True)"
      ]
    },
    {
      "cell_type": "code",
      "execution_count": 19,
      "metadata": {
        "colab": {
          "base_uri": "https://localhost:8080/"
        },
        "id": "CzQeuXqY0j-x",
        "outputId": "1753dd3d-6413-4b49-d0df-5bdfc1148023"
      },
      "outputs": [
        {
          "data": {
            "text/plain": [
              "(22522, 14)"
            ]
          },
          "execution_count": 19,
          "metadata": {},
          "output_type": "execute_result"
        }
      ],
      "source": [
        "users.shape"
      ]
    },
    {
      "cell_type": "code",
      "execution_count": 20,
      "metadata": {
        "colab": {
          "base_uri": "https://localhost:8080/",
          "height": 517
        },
        "id": "kr5MWIIQ0lJw",
        "outputId": "cfea5fec-34ff-4fac-8281-a60c8a6cd876"
      },
      "outputs": [
        {
          "data": {
            "text/plain": [
              "id                  0\n",
              "first_name          0\n",
              "last_name           0\n",
              "email               0\n",
              "age                 0\n",
              "gender              0\n",
              "state               0\n",
              "street_address      0\n",
              "postal_code         0\n",
              "city              170\n",
              "latitude            0\n",
              "longitude           0\n",
              "traffic_source      0\n",
              "created_at          0\n",
              "dtype: int64"
            ]
          },
          "execution_count": 20,
          "metadata": {},
          "output_type": "execute_result"
        }
      ],
      "source": [
        "users.isna().sum()"
      ]
    },
    {
      "cell_type": "code",
      "execution_count": 21,
      "metadata": {
        "colab": {
          "base_uri": "https://localhost:8080/"
        },
        "id": "HrvfUbHc0sEb",
        "outputId": "fa4110ee-deb3-4ab4-d352-4659fbf77b88"
      },
      "outputs": [],
      "source": [
        "users.drop(columns=['first_name', 'last_name', 'email', 'street_address', 'latitude', 'longitude', 'created_at', 'city'], inplace=True)"
      ]
    },
    {
      "cell_type": "code",
      "execution_count": 22,
      "metadata": {
        "colab": {
          "base_uri": "https://localhost:8080/",
          "height": 204
        },
        "id": "5Io5LcZRTMD5",
        "outputId": "25a9b88e-9063-43f1-dca6-574bb7c9d4a8"
      },
      "outputs": [
        {
          "data": {
            "text/html": [
              "<div>\n",
              "<style scoped>\n",
              "    .dataframe tbody tr th:only-of-type {\n",
              "        vertical-align: middle;\n",
              "    }\n",
              "\n",
              "    .dataframe tbody tr th {\n",
              "        vertical-align: top;\n",
              "    }\n",
              "\n",
              "    .dataframe thead th {\n",
              "        text-align: right;\n",
              "    }\n",
              "</style>\n",
              "<table border=\"1\" class=\"dataframe\">\n",
              "  <thead>\n",
              "    <tr style=\"text-align: right;\">\n",
              "      <th></th>\n",
              "      <th>id</th>\n",
              "      <th>age</th>\n",
              "      <th>gender</th>\n",
              "      <th>state</th>\n",
              "      <th>postal_code</th>\n",
              "      <th>traffic_source</th>\n",
              "    </tr>\n",
              "  </thead>\n",
              "  <tbody>\n",
              "    <tr>\n",
              "      <th>113</th>\n",
              "      <td>5399</td>\n",
              "      <td>44</td>\n",
              "      <td>M</td>\n",
              "      <td>Alabama</td>\n",
              "      <td>36303</td>\n",
              "      <td>Organic</td>\n",
              "    </tr>\n",
              "    <tr>\n",
              "      <th>114</th>\n",
              "      <td>42412</td>\n",
              "      <td>55</td>\n",
              "      <td>F</td>\n",
              "      <td>Alabama</td>\n",
              "      <td>36303</td>\n",
              "      <td>Facebook</td>\n",
              "    </tr>\n",
              "    <tr>\n",
              "      <th>115</th>\n",
              "      <td>60930</td>\n",
              "      <td>38</td>\n",
              "      <td>M</td>\n",
              "      <td>Alabama</td>\n",
              "      <td>36303</td>\n",
              "      <td>Search</td>\n",
              "    </tr>\n",
              "    <tr>\n",
              "      <th>116</th>\n",
              "      <td>72320</td>\n",
              "      <td>18</td>\n",
              "      <td>F</td>\n",
              "      <td>Alabama</td>\n",
              "      <td>36303</td>\n",
              "      <td>Search</td>\n",
              "    </tr>\n",
              "    <tr>\n",
              "      <th>117</th>\n",
              "      <td>88924</td>\n",
              "      <td>38</td>\n",
              "      <td>M</td>\n",
              "      <td>Alabama</td>\n",
              "      <td>36303</td>\n",
              "      <td>Search</td>\n",
              "    </tr>\n",
              "  </tbody>\n",
              "</table>\n",
              "</div>"
            ],
            "text/plain": [
              "        id  age gender    state postal_code traffic_source\n",
              "113   5399   44      M  Alabama       36303        Organic\n",
              "114  42412   55      F  Alabama       36303       Facebook\n",
              "115  60930   38      M  Alabama       36303         Search\n",
              "116  72320   18      F  Alabama       36303         Search\n",
              "117  88924   38      M  Alabama       36303         Search"
            ]
          },
          "execution_count": 22,
          "metadata": {},
          "output_type": "execute_result"
        }
      ],
      "source": [
        "users.head()"
      ]
    },
    {
      "cell_type": "code",
      "execution_count": 32,
      "metadata": {
        "colab": {
          "base_uri": "https://localhost:8080/"
        },
        "id": "dBpX6u9TDLuN",
        "outputId": "dcc8d396-02cd-4477-c696-740b69688e34"
      },
      "outputs": [
        {
          "data": {
            "text/plain": [
              "Index(['id', 'age', 'gender', 'state', 'postal_code', 'traffic_source'], dtype='object')"
            ]
          },
          "execution_count": 32,
          "metadata": {},
          "output_type": "execute_result"
        }
      ],
      "source": [
        "users.columns"
      ]
    },
    {
      "cell_type": "code",
      "execution_count": 34,
      "metadata": {},
      "outputs": [
        {
          "name": "stdout",
          "output_type": "stream",
          "text": [
            "<class 'pandas.core.frame.DataFrame'>\n",
            "Index: 22522 entries, 113 to 95608\n",
            "Data columns (total 6 columns):\n",
            " #   Column          Non-Null Count  Dtype \n",
            "---  ------          --------------  ----- \n",
            " 0   id              22522 non-null  int64 \n",
            " 1   age             22522 non-null  int64 \n",
            " 2   gender          22522 non-null  object\n",
            " 3   state           22522 non-null  object\n",
            " 4   postal_code     22522 non-null  object\n",
            " 5   traffic_source  22522 non-null  object\n",
            "dtypes: int64(2), object(4)\n",
            "memory usage: 1.2+ MB\n"
          ]
        }
      ],
      "source": [
        "users.info()"
      ]
    },
    {
      "cell_type": "markdown",
      "metadata": {
        "id": "rB2I8RyceDvI"
      },
      "source": [
        "## OVERVIEW OF WHAT WAS DONE\n",
        "\n",
        "*   Dropped first_name, last_name, email, street_address, latitude, longitutde, created_at, city\n",
        "*   No columns contain any null values in the users dataset anymore\n",
        "\n",
        "## QUESTIONS\n",
        "*   Missing values in 'city' - We can drop the missing values (170 instances) or we can drop the city column all together\n",
        "  * It is probably highly correlated with zip code and zip code has more unique values, so if we drop it we likely won't be losing information\n",
        "* We can also just remove the null values, it's only 170 instances\n",
        "  * if we remove 170 users, when we merge the datasets later, any order places by a user that was dropped will have to be dropped as well.\n",
        "\n",
        "\n",
        "\n"
      ]
    },
    {
      "cell_type": "markdown",
      "metadata": {
        "id": "_Z8MVf2pDGRw"
      },
      "source": [
        "# **PRODUCTS**"
      ]
    },
    {
      "cell_type": "markdown",
      "metadata": {
        "id": "R2oNvN9LcSJO"
      },
      "source": [
        "- id: Unique identifier for each product.\n",
        "- cost: Cost of the product.\n",
        "- category: Category to which the product belongs.\n",
        "- name: Name of the product.\n",
        "- brand: Brand of the product.\n",
        "- retail_price: Retail price of the product.\n",
        "- department: Department to which the product belongs.\n",
        "- *sku: Stock Keeping Unit (SKU) of the product.*\n",
        "- *distribution_center_id: Identifier for the distribution center associated with the product.*"
      ]
    },
    {
      "cell_type": "code",
      "execution_count": 24,
      "metadata": {
        "colab": {
          "base_uri": "https://localhost:8080/",
          "height": 717
        },
        "id": "namnCJkXW9OV",
        "outputId": "4e9591e9-675b-413c-e955-4eb78472a228"
      },
      "outputs": [
        {
          "data": {
            "text/html": [
              "<div>\n",
              "<style scoped>\n",
              "    .dataframe tbody tr th:only-of-type {\n",
              "        vertical-align: middle;\n",
              "    }\n",
              "\n",
              "    .dataframe tbody tr th {\n",
              "        vertical-align: top;\n",
              "    }\n",
              "\n",
              "    .dataframe thead th {\n",
              "        text-align: right;\n",
              "    }\n",
              "</style>\n",
              "<table border=\"1\" class=\"dataframe\">\n",
              "  <thead>\n",
              "    <tr style=\"text-align: right;\">\n",
              "      <th></th>\n",
              "      <th>id</th>\n",
              "      <th>cost</th>\n",
              "      <th>category</th>\n",
              "      <th>name</th>\n",
              "      <th>brand</th>\n",
              "      <th>retail_price</th>\n",
              "      <th>department</th>\n",
              "      <th>sku</th>\n",
              "      <th>distribution_center_id</th>\n",
              "    </tr>\n",
              "  </thead>\n",
              "  <tbody>\n",
              "    <tr>\n",
              "      <th>0</th>\n",
              "      <td>13842</td>\n",
              "      <td>2.51875</td>\n",
              "      <td>Accessories</td>\n",
              "      <td>Low Profile Dyed Cotton Twill Cap - Navy W39S55D</td>\n",
              "      <td>MG</td>\n",
              "      <td>6.25</td>\n",
              "      <td>Women</td>\n",
              "      <td>EBD58B8A3F1D72F4206201DA62FB1204</td>\n",
              "      <td>1</td>\n",
              "    </tr>\n",
              "    <tr>\n",
              "      <th>1</th>\n",
              "      <td>13928</td>\n",
              "      <td>2.33835</td>\n",
              "      <td>Accessories</td>\n",
              "      <td>Low Profile Dyed Cotton Twill Cap - Putty W39S55D</td>\n",
              "      <td>MG</td>\n",
              "      <td>5.95</td>\n",
              "      <td>Women</td>\n",
              "      <td>2EAC42424D12436BDD6A5B8A88480CC3</td>\n",
              "      <td>1</td>\n",
              "    </tr>\n",
              "    <tr>\n",
              "      <th>2</th>\n",
              "      <td>14115</td>\n",
              "      <td>4.87956</td>\n",
              "      <td>Accessories</td>\n",
              "      <td>Enzyme Regular Solid Army Caps-Black W35S45D</td>\n",
              "      <td>MG</td>\n",
              "      <td>10.99</td>\n",
              "      <td>Women</td>\n",
              "      <td>EE364229B2791D1EF9355708EFF0BA34</td>\n",
              "      <td>1</td>\n",
              "    </tr>\n",
              "    <tr>\n",
              "      <th>3</th>\n",
              "      <td>14157</td>\n",
              "      <td>4.64877</td>\n",
              "      <td>Accessories</td>\n",
              "      <td>Enzyme Regular Solid Army Caps-Olive W35S45D (...</td>\n",
              "      <td>MG</td>\n",
              "      <td>10.99</td>\n",
              "      <td>Women</td>\n",
              "      <td>00BD13095D06C20B11A2993CA419D16B</td>\n",
              "      <td>1</td>\n",
              "    </tr>\n",
              "    <tr>\n",
              "      <th>4</th>\n",
              "      <td>14273</td>\n",
              "      <td>6.50793</td>\n",
              "      <td>Accessories</td>\n",
              "      <td>Washed Canvas Ivy Cap - Black W11S64C</td>\n",
              "      <td>MG</td>\n",
              "      <td>15.99</td>\n",
              "      <td>Women</td>\n",
              "      <td>F531DC20FDE20B7ADF3A73F52B71D0AF</td>\n",
              "      <td>1</td>\n",
              "    </tr>\n",
              "  </tbody>\n",
              "</table>\n",
              "</div>"
            ],
            "text/plain": [
              "      id     cost     category  \\\n",
              "0  13842  2.51875  Accessories   \n",
              "1  13928  2.33835  Accessories   \n",
              "2  14115  4.87956  Accessories   \n",
              "3  14157  4.64877  Accessories   \n",
              "4  14273  6.50793  Accessories   \n",
              "\n",
              "                                                name brand  retail_price  \\\n",
              "0   Low Profile Dyed Cotton Twill Cap - Navy W39S55D    MG          6.25   \n",
              "1  Low Profile Dyed Cotton Twill Cap - Putty W39S55D    MG          5.95   \n",
              "2       Enzyme Regular Solid Army Caps-Black W35S45D    MG         10.99   \n",
              "3  Enzyme Regular Solid Army Caps-Olive W35S45D (...    MG         10.99   \n",
              "4              Washed Canvas Ivy Cap - Black W11S64C    MG         15.99   \n",
              "\n",
              "  department                               sku  distribution_center_id  \n",
              "0      Women  EBD58B8A3F1D72F4206201DA62FB1204                       1  \n",
              "1      Women  2EAC42424D12436BDD6A5B8A88480CC3                       1  \n",
              "2      Women  EE364229B2791D1EF9355708EFF0BA34                       1  \n",
              "3      Women  00BD13095D06C20B11A2993CA419D16B                       1  \n",
              "4      Women  F531DC20FDE20B7ADF3A73F52B71D0AF                       1  "
            ]
          },
          "execution_count": 24,
          "metadata": {},
          "output_type": "execute_result"
        }
      ],
      "source": [
        "products.head()"
      ]
    },
    {
      "cell_type": "code",
      "execution_count": 25,
      "metadata": {
        "colab": {
          "base_uri": "https://localhost:8080/"
        },
        "id": "Ej1mLVj2dB7_",
        "outputId": "f8ab442c-276b-4486-9bc0-c434ce3839cb"
      },
      "outputs": [
        {
          "data": {
            "text/plain": [
              "(29120, 9)"
            ]
          },
          "execution_count": 25,
          "metadata": {},
          "output_type": "execute_result"
        }
      ],
      "source": [
        "products.shape"
      ]
    },
    {
      "cell_type": "code",
      "execution_count": 26,
      "metadata": {
        "colab": {
          "base_uri": "https://localhost:8080/",
          "height": 362
        },
        "id": "LuNFqw8tdGiU",
        "outputId": "3d165c56-b2c4-4d7f-a7ac-5d87d89a1f22"
      },
      "outputs": [
        {
          "data": {
            "text/plain": [
              "id                         0\n",
              "cost                       0\n",
              "category                   0\n",
              "name                       2\n",
              "brand                     24\n",
              "retail_price               0\n",
              "department                 0\n",
              "sku                        0\n",
              "distribution_center_id     0\n",
              "dtype: int64"
            ]
          },
          "execution_count": 26,
          "metadata": {},
          "output_type": "execute_result"
        }
      ],
      "source": [
        "products.isna().sum()"
      ]
    },
    {
      "cell_type": "markdown",
      "metadata": {
        "id": "vgMqgxUrck7Z"
      },
      "source": [
        "- Drop distribution center id.\n",
        "- Check for outliers / skewed distributions\n",
        "- Drop SKU, since it was used for distribution centers and isn't needed since we have product id"
      ]
    },
    {
      "cell_type": "code",
      "execution_count": 27,
      "metadata": {
        "colab": {
          "base_uri": "https://localhost:8080/"
        },
        "id": "TkO2CwHXdQkt",
        "outputId": "5ea4fc00-504a-460b-9b50-d556a51a87ca"
      },
      "outputs": [
        {
          "data": {
            "text/plain": [
              "29120"
            ]
          },
          "execution_count": 27,
          "metadata": {},
          "output_type": "execute_result"
        }
      ],
      "source": [
        "products['sku'].nunique()"
      ]
    },
    {
      "cell_type": "code",
      "execution_count": 28,
      "metadata": {
        "colab": {
          "base_uri": "https://localhost:8080/"
        },
        "id": "Uch5RxT-dUhI",
        "outputId": "808717c7-3fc1-40c9-fb5d-aaa818b50868"
      },
      "outputs": [
        {
          "data": {
            "text/plain": [
              "29120"
            ]
          },
          "execution_count": 28,
          "metadata": {},
          "output_type": "execute_result"
        }
      ],
      "source": [
        "products['id'].nunique()"
      ]
    },
    {
      "cell_type": "markdown",
      "metadata": {
        "id": "Rym2AbzhdZF2"
      },
      "source": [
        "Both 'sku' and 'id' are completely unique values for each product. We should drop 'sku' instead of 'id' because in the 'order_items' dataframe, the items are represented in the order by their id number. 'sku' is only used in the inventory_items dataframe, which we aren't using."
      ]
    },
    {
      "cell_type": "code",
      "execution_count": 29,
      "metadata": {
        "id": "JJKqUrICdYCp"
      },
      "outputs": [],
      "source": [
        "products.drop(columns=['distribution_center_id', 'sku'], inplace=True)"
      ]
    },
    {
      "cell_type": "markdown",
      "metadata": {
        "id": "Zt3US_KieNtT"
      },
      "source": [
        "### Check Continuous Values & Outliers"
      ]
    },
    {
      "cell_type": "code",
      "execution_count": 30,
      "metadata": {
        "colab": {
          "base_uri": "https://localhost:8080/",
          "height": 297
        },
        "id": "D1fjbJ2deKLT",
        "outputId": "1362ae8c-0e2c-4ff8-87cd-264be63ecf9c"
      },
      "outputs": [
        {
          "data": {
            "text/html": [
              "<div>\n",
              "<style scoped>\n",
              "    .dataframe tbody tr th:only-of-type {\n",
              "        vertical-align: middle;\n",
              "    }\n",
              "\n",
              "    .dataframe tbody tr th {\n",
              "        vertical-align: top;\n",
              "    }\n",
              "\n",
              "    .dataframe thead th {\n",
              "        text-align: right;\n",
              "    }\n",
              "</style>\n",
              "<table border=\"1\" class=\"dataframe\">\n",
              "  <thead>\n",
              "    <tr style=\"text-align: right;\">\n",
              "      <th></th>\n",
              "      <th>id</th>\n",
              "      <th>cost</th>\n",
              "      <th>retail_price</th>\n",
              "    </tr>\n",
              "  </thead>\n",
              "  <tbody>\n",
              "    <tr>\n",
              "      <th>count</th>\n",
              "      <td>29120.000000</td>\n",
              "      <td>29120.000000</td>\n",
              "      <td>29120.000000</td>\n",
              "    </tr>\n",
              "    <tr>\n",
              "      <th>mean</th>\n",
              "      <td>14560.500000</td>\n",
              "      <td>28.481774</td>\n",
              "      <td>59.220164</td>\n",
              "    </tr>\n",
              "    <tr>\n",
              "      <th>std</th>\n",
              "      <td>8406.364256</td>\n",
              "      <td>30.624681</td>\n",
              "      <td>65.888927</td>\n",
              "    </tr>\n",
              "    <tr>\n",
              "      <th>min</th>\n",
              "      <td>1.000000</td>\n",
              "      <td>0.008300</td>\n",
              "      <td>0.020000</td>\n",
              "    </tr>\n",
              "    <tr>\n",
              "      <th>25%</th>\n",
              "      <td>7280.750000</td>\n",
              "      <td>11.275613</td>\n",
              "      <td>24.000000</td>\n",
              "    </tr>\n",
              "    <tr>\n",
              "      <th>50%</th>\n",
              "      <td>14560.500000</td>\n",
              "      <td>19.675081</td>\n",
              "      <td>39.990002</td>\n",
              "    </tr>\n",
              "    <tr>\n",
              "      <th>75%</th>\n",
              "      <td>21840.250000</td>\n",
              "      <td>34.440000</td>\n",
              "      <td>69.949997</td>\n",
              "    </tr>\n",
              "    <tr>\n",
              "      <th>max</th>\n",
              "      <td>29120.000000</td>\n",
              "      <td>557.151002</td>\n",
              "      <td>999.000000</td>\n",
              "    </tr>\n",
              "  </tbody>\n",
              "</table>\n",
              "</div>"
            ],
            "text/plain": [
              "                 id          cost  retail_price\n",
              "count  29120.000000  29120.000000  29120.000000\n",
              "mean   14560.500000     28.481774     59.220164\n",
              "std     8406.364256     30.624681     65.888927\n",
              "min        1.000000      0.008300      0.020000\n",
              "25%     7280.750000     11.275613     24.000000\n",
              "50%    14560.500000     19.675081     39.990002\n",
              "75%    21840.250000     34.440000     69.949997\n",
              "max    29120.000000    557.151002    999.000000"
            ]
          },
          "execution_count": 30,
          "metadata": {},
          "output_type": "execute_result"
        }
      ],
      "source": [
        "products.describe()"
      ]
    },
    {
      "cell_type": "code",
      "execution_count": 35,
      "metadata": {
        "colab": {
          "base_uri": "https://localhost:8080/",
          "height": 466
        },
        "id": "t7MtUWymeLXt",
        "outputId": "13c6e543-8472-4d1d-a244-f38f61beb213"
      },
      "outputs": [
        {
          "data": {
            "text/plain": [
              "<Axes: xlabel='cost', ylabel='Count'>"
            ]
          },
          "execution_count": 35,
          "metadata": {},
          "output_type": "execute_result"
        },
        {
          "data": {
            "image/png": "[encoded data removed]",
            "text/plain": [
              "<Figure size 640x480 with 1 Axes>"
            ]
          },
          "metadata": {},
          "output_type": "display_data"
        }
      ],
      "source": [
        "import seaborn as sns\n",
        "sns.histplot(products['cost'], bins=30, kde=True)"
      ]
    },
    {
      "cell_type": "code",
      "execution_count": 36,
      "metadata": {
        "colab": {
          "base_uri": "https://localhost:8080/",
          "height": 467
        },
        "id": "rz94LNpnhT8p",
        "outputId": "9ab39a35-4f33-4254-d2dd-a52db79a8e3d"
      },
      "outputs": [
        {
          "data": {
            "text/plain": [
              "<Axes: xlabel='retail_price', ylabel='Count'>"
            ]
          },
          "execution_count": 36,
          "metadata": {},
          "output_type": "execute_result"
        },
        {
          "data": {
            "image/png": "[encoded data removed]",
            "text/plain": [
              "<Figure size 640x480 with 1 Axes>"
            ]
          },
          "metadata": {},
          "output_type": "display_data"
        }
      ],
      "source": [
        "sns.histplot(products['retail_price'], bins=30, kde=True)"
      ]
    },
    {
      "cell_type": "code",
      "execution_count": 37,
      "metadata": {
        "colab": {
          "base_uri": "https://localhost:8080/",
          "height": 204
        },
        "id": "z3G8_ntyk7MR",
        "outputId": "9d71a8db-065e-4360-f8fb-f96c45d02db9"
      },
      "outputs": [
        {
          "data": {
            "text/html": [
              "<div>\n",
              "<style scoped>\n",
              "    .dataframe tbody tr th:only-of-type {\n",
              "        vertical-align: middle;\n",
              "    }\n",
              "\n",
              "    .dataframe tbody tr th {\n",
              "        vertical-align: top;\n",
              "    }\n",
              "\n",
              "    .dataframe thead th {\n",
              "        text-align: right;\n",
              "    }\n",
              "</style>\n",
              "<table border=\"1\" class=\"dataframe\">\n",
              "  <thead>\n",
              "    <tr style=\"text-align: right;\">\n",
              "      <th></th>\n",
              "      <th>id</th>\n",
              "      <th>cost</th>\n",
              "      <th>category</th>\n",
              "      <th>name</th>\n",
              "      <th>brand</th>\n",
              "      <th>retail_price</th>\n",
              "      <th>department</th>\n",
              "    </tr>\n",
              "  </thead>\n",
              "  <tbody>\n",
              "    <tr>\n",
              "      <th>216</th>\n",
              "      <td>2796</td>\n",
              "      <td>373.842002</td>\n",
              "      <td>Active</td>\n",
              "      <td>ASCIS Cushion Low Socks (Pack of 3)</td>\n",
              "      <td>ASICS</td>\n",
              "      <td>903.000000</td>\n",
              "      <td>Women</td>\n",
              "    </tr>\n",
              "    <tr>\n",
              "      <th>315</th>\n",
              "      <td>21574</td>\n",
              "      <td>180.520897</td>\n",
              "      <td>Jeans</td>\n",
              "      <td>Evisu European edition Vintage cut denim jeans</td>\n",
              "      <td>Evisu</td>\n",
              "      <td>349.170013</td>\n",
              "      <td>Men</td>\n",
              "    </tr>\n",
              "    <tr>\n",
              "      <th>1313</th>\n",
              "      <td>23864</td>\n",
              "      <td>238.150001</td>\n",
              "      <td>Outerwear &amp; Coats</td>\n",
              "      <td>Men's Moncler Down Vest Tib</td>\n",
              "      <td>Moncler</td>\n",
              "      <td>550.000000</td>\n",
              "      <td>Men</td>\n",
              "    </tr>\n",
              "    <tr>\n",
              "      <th>1997</th>\n",
              "      <td>18681</td>\n",
              "      <td>149.200001</td>\n",
              "      <td>Active</td>\n",
              "      <td>Icebreaker Men's Legacy Hood</td>\n",
              "      <td>Icebreaker</td>\n",
              "      <td>400.000000</td>\n",
              "      <td>Men</td>\n",
              "    </tr>\n",
              "    <tr>\n",
              "      <th>2010</th>\n",
              "      <td>24059</td>\n",
              "      <td>140.000001</td>\n",
              "      <td>Outerwear &amp; Coats</td>\n",
              "      <td>Icebreaker Men's Legacy Coat</td>\n",
              "      <td>Icebreaker</td>\n",
              "      <td>350.000000</td>\n",
              "      <td>Men</td>\n",
              "    </tr>\n",
              "  </tbody>\n",
              "</table>\n",
              "</div>"
            ],
            "text/plain": [
              "         id        cost           category  \\\n",
              "216    2796  373.842002             Active   \n",
              "315   21574  180.520897              Jeans   \n",
              "1313  23864  238.150001  Outerwear & Coats   \n",
              "1997  18681  149.200001             Active   \n",
              "2010  24059  140.000001  Outerwear & Coats   \n",
              "\n",
              "                                                name       brand  \\\n",
              "216              ASCIS Cushion Low Socks (Pack of 3)       ASICS   \n",
              "315   Evisu European edition Vintage cut denim jeans       Evisu   \n",
              "1313                     Men's Moncler Down Vest Tib     Moncler   \n",
              "1997                    Icebreaker Men's Legacy Hood  Icebreaker   \n",
              "2010                    Icebreaker Men's Legacy Coat  Icebreaker   \n",
              "\n",
              "      retail_price department  \n",
              "216     903.000000      Women  \n",
              "315     349.170013        Men  \n",
              "1313    550.000000        Men  \n",
              "1997    400.000000        Men  \n",
              "2010    350.000000        Men  "
            ]
          },
          "execution_count": 37,
          "metadata": {},
          "output_type": "execute_result"
        }
      ],
      "source": [
        "high_price = products[products['retail_price'] > 300]\n",
        "high_price.head()"
      ]
    },
    {
      "cell_type": "code",
      "execution_count": 38,
      "metadata": {
        "colab": {
          "base_uri": "https://localhost:8080/",
          "height": 204
        },
        "id": "ejvUN6pRmCOn",
        "outputId": "1d48603a-1a8d-4e3d-87f1-d15e91a249e9"
      },
      "outputs": [
        {
          "data": {
            "text/html": [
              "<div>\n",
              "<style scoped>\n",
              "    .dataframe tbody tr th:only-of-type {\n",
              "        vertical-align: middle;\n",
              "    }\n",
              "\n",
              "    .dataframe tbody tr th {\n",
              "        vertical-align: top;\n",
              "    }\n",
              "\n",
              "    .dataframe thead th {\n",
              "        text-align: right;\n",
              "    }\n",
              "</style>\n",
              "<table border=\"1\" class=\"dataframe\">\n",
              "  <thead>\n",
              "    <tr style=\"text-align: right;\">\n",
              "      <th></th>\n",
              "      <th>id</th>\n",
              "      <th>cost</th>\n",
              "      <th>category</th>\n",
              "      <th>name</th>\n",
              "      <th>brand</th>\n",
              "      <th>retail_price</th>\n",
              "      <th>department</th>\n",
              "    </tr>\n",
              "  </thead>\n",
              "  <tbody>\n",
              "    <tr>\n",
              "      <th>216</th>\n",
              "      <td>2796</td>\n",
              "      <td>373.842002</td>\n",
              "      <td>Active</td>\n",
              "      <td>ASCIS Cushion Low Socks (Pack of 3)</td>\n",
              "      <td>ASICS</td>\n",
              "      <td>903.000000</td>\n",
              "      <td>Women</td>\n",
              "    </tr>\n",
              "    <tr>\n",
              "      <th>315</th>\n",
              "      <td>21574</td>\n",
              "      <td>180.520897</td>\n",
              "      <td>Jeans</td>\n",
              "      <td>Evisu European edition Vintage cut denim jeans</td>\n",
              "      <td>Evisu</td>\n",
              "      <td>349.170013</td>\n",
              "      <td>Men</td>\n",
              "    </tr>\n",
              "    <tr>\n",
              "      <th>1313</th>\n",
              "      <td>23864</td>\n",
              "      <td>238.150001</td>\n",
              "      <td>Outerwear &amp; Coats</td>\n",
              "      <td>Men's Moncler Down Vest Tib</td>\n",
              "      <td>Moncler</td>\n",
              "      <td>550.000000</td>\n",
              "      <td>Men</td>\n",
              "    </tr>\n",
              "    <tr>\n",
              "      <th>2061</th>\n",
              "      <td>799</td>\n",
              "      <td>159.360000</td>\n",
              "      <td>Sweaters</td>\n",
              "      <td>Magaschoni Women's 100% Cashmere Turtleneck Tu...</td>\n",
              "      <td>Magaschoni</td>\n",
              "      <td>320.000000</td>\n",
              "      <td>Women</td>\n",
              "    </tr>\n",
              "    <tr>\n",
              "      <th>2062</th>\n",
              "      <td>899</td>\n",
              "      <td>182.952000</td>\n",
              "      <td>Sweaters</td>\n",
              "      <td>Magaschoni Women's 100% Cashmere Peplum Back S...</td>\n",
              "      <td>Magaschoni</td>\n",
              "      <td>378.000000</td>\n",
              "      <td>Women</td>\n",
              "    </tr>\n",
              "  </tbody>\n",
              "</table>\n",
              "</div>"
            ],
            "text/plain": [
              "         id        cost           category  \\\n",
              "216    2796  373.842002             Active   \n",
              "315   21574  180.520897              Jeans   \n",
              "1313  23864  238.150001  Outerwear & Coats   \n",
              "2061    799  159.360000           Sweaters   \n",
              "2062    899  182.952000           Sweaters   \n",
              "\n",
              "                                                   name       brand  \\\n",
              "216                 ASCIS Cushion Low Socks (Pack of 3)       ASICS   \n",
              "315      Evisu European edition Vintage cut denim jeans       Evisu   \n",
              "1313                        Men's Moncler Down Vest Tib     Moncler   \n",
              "2061  Magaschoni Women's 100% Cashmere Turtleneck Tu...  Magaschoni   \n",
              "2062  Magaschoni Women's 100% Cashmere Peplum Back S...  Magaschoni   \n",
              "\n",
              "      retail_price department  \n",
              "216     903.000000      Women  \n",
              "315     349.170013        Men  \n",
              "1313    550.000000        Men  \n",
              "2061    320.000000      Women  \n",
              "2062    378.000000      Women  "
            ]
          },
          "execution_count": 38,
          "metadata": {},
          "output_type": "execute_result"
        }
      ],
      "source": [
        "high_cost = products[products['cost'] > 150]\n",
        "high_cost.head()"
      ]
    },
    {
      "cell_type": "code",
      "execution_count": 39,
      "metadata": {
        "colab": {
          "base_uri": "https://localhost:8080/"
        },
        "id": "AhX6QTctn6oC",
        "outputId": "c0215e50-f8be-46cf-b1fd-8fdaa8ebc0be"
      },
      "outputs": [
        {
          "data": {
            "text/plain": [
              "np.float64(50.961428710392546)"
            ]
          },
          "execution_count": 39,
          "metadata": {},
          "output_type": "execute_result"
        }
      ],
      "source": [
        "products[products['brand'] == 'ASICS']['retail_price'].mean()"
      ]
    },
    {
      "cell_type": "code",
      "execution_count": 40,
      "metadata": {
        "colab": {
          "base_uri": "https://localhost:8080/"
        },
        "id": "6juZRR1EoUig",
        "outputId": "e7404b45-590b-47da-ac2c-5cab13a298eb"
      },
      "outputs": [
        {
          "data": {
            "text/plain": [
              "np.float64(550.0)"
            ]
          },
          "execution_count": 40,
          "metadata": {},
          "output_type": "execute_result"
        }
      ],
      "source": [
        "products[products['brand'] == 'Moncler']['retail_price'].mean()"
      ]
    },
    {
      "cell_type": "code",
      "execution_count": 41,
      "metadata": {
        "colab": {
          "base_uri": "https://localhost:8080/"
        },
        "id": "j_tlcmPcoaB5",
        "outputId": "1e7cefd8-2281-4149-a5d7-5710ffefc0f5"
      },
      "outputs": [
        {
          "data": {
            "text/plain": [
              "np.float64(408.5)"
            ]
          },
          "execution_count": 41,
          "metadata": {},
          "output_type": "execute_result"
        }
      ],
      "source": [
        "products[products['brand'] == 'Magaschoni']['retail_price'].mean()"
      ]
    },
    {
      "cell_type": "code",
      "execution_count": 42,
      "metadata": {
        "colab": {
          "base_uri": "https://localhost:8080/"
        },
        "id": "XPBfn8CxogCk",
        "outputId": "64f67d21-75ee-405e-8395-50ae5a2c2092"
      },
      "outputs": [
        {
          "data": {
            "text/plain": [
              "np.float64(349.1700134277344)"
            ]
          },
          "execution_count": 42,
          "metadata": {},
          "output_type": "execute_result"
        }
      ],
      "source": [
        "products[products['brand'] == 'Evisu']['retail_price'].mean()"
      ]
    },
    {
      "cell_type": "markdown",
      "metadata": {
        "id": "oxIihLYPg9Jn"
      },
      "source": [
        "#### OUTLIERS\n",
        "You can see that asics has an average brand price of 50, so having a product that costs 900 is definitely a mistake. However, Moncler has an average brand price of 550, along with the others shown above, so these values are probably correct.\n",
        "\n",
        "However, even though these values are correct, they're still likely to skew the distribution."
      ]
    },
    {
      "cell_type": "code",
      "execution_count": 43,
      "metadata": {
        "colab": {
          "base_uri": "https://localhost:8080/"
        },
        "id": "sSo1kD2gnHIZ",
        "outputId": "1a322774-9c5d-48fa-b475-b80d2fd54c55"
      },
      "outputs": [
        {
          "data": {
            "text/plain": [
              "array(['Active', 'Jeans', 'Outerwear & Coats', 'Sweaters',\n",
              "       'Blazers & Jackets', 'Dresses', 'Skirts', 'Pants & Capris',\n",
              "       'Leggings', 'Suits & Sport Coats', 'Intimates', 'Plus',\n",
              "       'Fashion Hoodies & Sweatshirts', 'Jumpsuits & Rompers', 'Shorts',\n",
              "       'Socks', 'Sleep & Lounge'], dtype=object)"
            ]
          },
          "execution_count": 43,
          "metadata": {},
          "output_type": "execute_result"
        }
      ],
      "source": [
        "high_price['category'].unique()"
      ]
    },
    {
      "cell_type": "code",
      "execution_count": 44,
      "metadata": {
        "colab": {
          "base_uri": "https://localhost:8080/"
        },
        "id": "XDxE-leEnOPW",
        "outputId": "663d5f3e-7766-4ed6-f79d-24039dc076e5"
      },
      "outputs": [
        {
          "data": {
            "text/plain": [
              "array(['Active', 'Jeans', 'Outerwear & Coats', 'Sweaters',\n",
              "       'Blazers & Jackets', 'Intimates', 'Skirts', 'Dresses',\n",
              "       'Sleep & Lounge', 'Pants & Capris', 'Leggings', 'Plus',\n",
              "       'Suits & Sport Coats', 'Tops & Tees',\n",
              "       'Fashion Hoodies & Sweatshirts', 'Jumpsuits & Rompers', 'Swim',\n",
              "       'Shorts', 'Socks'], dtype=object)"
            ]
          },
          "execution_count": 44,
          "metadata": {},
          "output_type": "execute_result"
        }
      ],
      "source": [
        "high_cost['category'].unique()"
      ]
    },
    {
      "cell_type": "code",
      "execution_count": 45,
      "metadata": {
        "colab": {
          "base_uri": "https://localhost:8080/",
          "height": 466
        },
        "id": "reJTvYt9lxk8",
        "outputId": "e26d8cf3-19c6-4a6f-e92e-a16fd485fe2c"
      },
      "outputs": [
        {
          "data": {
            "text/plain": [
              "<Axes: xlabel='cost', ylabel='retail_price'>"
            ]
          },
          "execution_count": 45,
          "metadata": {},
          "output_type": "execute_result"
        },
        {
          "data": {
            "image/png": "[encoded data removed]",
            "text/plain": [
              "<Figure size 640x480 with 1 Axes>"
            ]
          },
          "metadata": {},
          "output_type": "display_data"
        }
      ],
      "source": [
        "sns.scatterplot(x='cost', y='retail_price', data=products, color='blue')"
      ]
    },
    {
      "cell_type": "markdown",
      "metadata": {
        "id": "vTEHTBS5qVEc"
      },
      "source": [
        "We could make a function to remove the rows who's price/cost is way above their brands average.\n",
        "\n",
        "For now just clip off the end (remove values where cost or retail price is aboce the 95th percentile)"
      ]
    },
    {
      "cell_type": "code",
      "execution_count": 46,
      "metadata": {
        "colab": {
          "base_uri": "https://localhost:8080/"
        },
        "id": "iba1e-f-hcqp",
        "outputId": "14597954-dbd2-40af-e1b0-0dbe4dadacb2"
      },
      "outputs": [
        {
          "name": "stdout",
          "output_type": "stream",
          "text": [
            "83.32412784158394\n",
            "170.00999450683594\n"
          ]
        }
      ],
      "source": [
        "cost_threshold = products['cost'].quantile(0.95)\n",
        "retail_price_threshold = products['retail_price'].quantile(0.95)\n",
        "\n",
        "products = products[(products['cost'] <= cost_threshold) & (products['retail_price'] <= retail_price_threshold)]\n",
        "\n",
        "print(cost_threshold)\n",
        "print(retail_price_threshold)\n"
      ]
    },
    {
      "cell_type": "code",
      "execution_count": 47,
      "metadata": {
        "colab": {
          "base_uri": "https://localhost:8080/",
          "height": 466
        },
        "id": "e09DIlWZi2dl",
        "outputId": "437da5d1-da74-46a2-c804-5f3945cbc10a"
      },
      "outputs": [
        {
          "data": {
            "text/plain": [
              "<Axes: xlabel='cost', ylabel='Count'>"
            ]
          },
          "execution_count": 47,
          "metadata": {},
          "output_type": "execute_result"
        },
        {
          "data": {
            "image/png": "[encoded data removed]",
            "text/plain": [
              "<Figure size 640x480 with 1 Axes>"
            ]
          },
          "metadata": {},
          "output_type": "display_data"
        }
      ],
      "source": [
        "sns.histplot(products['cost'], bins=30, kde=True)"
      ]
    },
    {
      "cell_type": "code",
      "execution_count": 48,
      "metadata": {
        "colab": {
          "base_uri": "https://localhost:8080/",
          "height": 467
        },
        "id": "6EUp9Dl8jp2P",
        "outputId": "f7e38d2c-9f73-4164-88c0-52f0826c8962"
      },
      "outputs": [
        {
          "data": {
            "text/plain": [
              "<Axes: xlabel='retail_price', ylabel='Count'>"
            ]
          },
          "execution_count": 48,
          "metadata": {},
          "output_type": "execute_result"
        },
        {
          "data": {
            "image/png": "[encoded data removed]",
            "text/plain": [
              "<Figure size 640x480 with 1 Axes>"
            ]
          },
          "metadata": {},
          "output_type": "display_data"
        }
      ],
      "source": [
        "sns.histplot(products['retail_price'], bins=30, kde=True)"
      ]
    },
    {
      "cell_type": "code",
      "execution_count": 49,
      "metadata": {
        "colab": {
          "base_uri": "https://localhost:8080/"
        },
        "id": "OP35G8bWkhr0",
        "outputId": "0143f805-0c1e-45a6-9d1a-1ae097c9ac07"
      },
      "outputs": [
        {
          "data": {
            "text/plain": [
              "(27429, 7)"
            ]
          },
          "execution_count": 49,
          "metadata": {},
          "output_type": "execute_result"
        }
      ],
      "source": [
        "products.shape"
      ]
    },
    {
      "cell_type": "markdown",
      "metadata": {
        "id": "SCQhyHCdh35Z"
      },
      "source": [
        "### MISSING VALUES\n",
        "THere are 24 missing values in brand and 2 in name. Since this is a small percentage of our data, we can drop them.\n",
        "\n",
        "First, make sure name values are missing at random"
      ]
    },
    {
      "cell_type": "code",
      "execution_count": 50,
      "metadata": {
        "colab": {
          "base_uri": "https://localhost:8080/",
          "height": 793
        },
        "id": "k-lvhc9LiOx5",
        "outputId": "8c541652-d553-4826-dcc6-449688c5eabc"
      },
      "outputs": [
        {
          "data": {
            "text/html": [
              "<div>\n",
              "<style scoped>\n",
              "    .dataframe tbody tr th:only-of-type {\n",
              "        vertical-align: middle;\n",
              "    }\n",
              "\n",
              "    .dataframe tbody tr th {\n",
              "        vertical-align: top;\n",
              "    }\n",
              "\n",
              "    .dataframe thead th {\n",
              "        text-align: right;\n",
              "    }\n",
              "</style>\n",
              "<table border=\"1\" class=\"dataframe\">\n",
              "  <thead>\n",
              "    <tr style=\"text-align: right;\">\n",
              "      <th></th>\n",
              "      <th>id</th>\n",
              "      <th>cost</th>\n",
              "      <th>category</th>\n",
              "      <th>name</th>\n",
              "      <th>brand</th>\n",
              "      <th>retail_price</th>\n",
              "      <th>department</th>\n",
              "    </tr>\n",
              "  </thead>\n",
              "  <tbody>\n",
              "    <tr>\n",
              "      <th>7820</th>\n",
              "      <td>755</td>\n",
              "      <td>15.140850</td>\n",
              "      <td>Tops &amp; Tees</td>\n",
              "      <td>The Very Hungry Caterpillar Classic Book Women...</td>\n",
              "      <td>NaN</td>\n",
              "      <td>28.950001</td>\n",
              "      <td>Women</td>\n",
              "    </tr>\n",
              "    <tr>\n",
              "      <th>7821</th>\n",
              "      <td>1629</td>\n",
              "      <td>23.572350</td>\n",
              "      <td>Fashion Hoodies &amp; Sweatshirts</td>\n",
              "      <td>Carhartt Women's Hooded Knit Jacket</td>\n",
              "      <td>NaN</td>\n",
              "      <td>45.950001</td>\n",
              "      <td>Women</td>\n",
              "    </tr>\n",
              "    <tr>\n",
              "      <th>7822</th>\n",
              "      <td>8600</td>\n",
              "      <td>16.015551</td>\n",
              "      <td>Outerwear &amp; Coats</td>\n",
              "      <td>Women's Micro Fleece Vest (up to size 4X)</td>\n",
              "      <td>NaN</td>\n",
              "      <td>35.990002</td>\n",
              "      <td>Women</td>\n",
              "    </tr>\n",
              "    <tr>\n",
              "      <th>7823</th>\n",
              "      <td>9482</td>\n",
              "      <td>5.712000</td>\n",
              "      <td>Socks &amp; Hosiery</td>\n",
              "      <td>KEEN Women Bellingham Low Ultralite Sock</td>\n",
              "      <td>NaN</td>\n",
              "      <td>16.000000</td>\n",
              "      <td>Women</td>\n",
              "    </tr>\n",
              "    <tr>\n",
              "      <th>7824</th>\n",
              "      <td>10598</td>\n",
              "      <td>9.616400</td>\n",
              "      <td>Intimates</td>\n",
              "      <td>JMS Comfort Lace with Hidden Shaper</td>\n",
              "      <td>NaN</td>\n",
              "      <td>16.580000</td>\n",
              "      <td>Women</td>\n",
              "    </tr>\n",
              "    <tr>\n",
              "      <th>7825</th>\n",
              "      <td>11389</td>\n",
              "      <td>12.512000</td>\n",
              "      <td>Intimates</td>\n",
              "      <td>Shadowline 36 Flare Half Slip (47116)</td>\n",
              "      <td>NaN</td>\n",
              "      <td>23.000000</td>\n",
              "      <td>Women</td>\n",
              "    </tr>\n",
              "    <tr>\n",
              "      <th>7826</th>\n",
              "      <td>11668</td>\n",
              "      <td>18.662401</td>\n",
              "      <td>Intimates</td>\n",
              "      <td>Everyday Comfort Cami</td>\n",
              "      <td>NaN</td>\n",
              "      <td>38.400002</td>\n",
              "      <td>Women</td>\n",
              "    </tr>\n",
              "    <tr>\n",
              "      <th>7827</th>\n",
              "      <td>11843</td>\n",
              "      <td>33.900000</td>\n",
              "      <td>Intimates</td>\n",
              "      <td>Wendy Glez Rose Cami Black</td>\n",
              "      <td>NaN</td>\n",
              "      <td>60.000000</td>\n",
              "      <td>Women</td>\n",
              "    </tr>\n",
              "    <tr>\n",
              "      <th>7828</th>\n",
              "      <td>13863</td>\n",
              "      <td>9.554500</td>\n",
              "      <td>Accessories</td>\n",
              "      <td>Husky Animal Hat with Mittens</td>\n",
              "      <td>NaN</td>\n",
              "      <td>24.250000</td>\n",
              "      <td>Women</td>\n",
              "    </tr>\n",
              "    <tr>\n",
              "      <th>7829</th>\n",
              "      <td>13921</td>\n",
              "      <td>1.641900</td>\n",
              "      <td>Accessories</td>\n",
              "      <td>NEW Aluminum Credit Card Wallet - RFID Blockin...</td>\n",
              "      <td>NaN</td>\n",
              "      <td>4.210000</td>\n",
              "      <td>Women</td>\n",
              "    </tr>\n",
              "    <tr>\n",
              "      <th>7830</th>\n",
              "      <td>15723</td>\n",
              "      <td>4.875120</td>\n",
              "      <td>Plus</td>\n",
              "      <td>Vintage Wayfarer Nerd Retro 80s Mirrored Sungl...</td>\n",
              "      <td>NaN</td>\n",
              "      <td>9.990000</td>\n",
              "      <td>Women</td>\n",
              "    </tr>\n",
              "    <tr>\n",
              "      <th>7831</th>\n",
              "      <td>15757</td>\n",
              "      <td>2.235510</td>\n",
              "      <td>Plus</td>\n",
              "      <td>NEW Aluminum Credit Card Wallet - RFID Blockin...</td>\n",
              "      <td>NaN</td>\n",
              "      <td>4.210000</td>\n",
              "      <td>Women</td>\n",
              "    </tr>\n",
              "    <tr>\n",
              "      <th>7832</th>\n",
              "      <td>16309</td>\n",
              "      <td>11.520000</td>\n",
              "      <td>Tops &amp; Tees</td>\n",
              "      <td>Hurley Men's One and Only Short Sleeve Tee</td>\n",
              "      <td>NaN</td>\n",
              "      <td>20.000000</td>\n",
              "      <td>Men</td>\n",
              "    </tr>\n",
              "    <tr>\n",
              "      <th>7833</th>\n",
              "      <td>16559</td>\n",
              "      <td>14.944250</td>\n",
              "      <td>Tops &amp; Tees</td>\n",
              "      <td>Gildan Adult Ultra CottonTM Sleeveless T-Shirt</td>\n",
              "      <td>NaN</td>\n",
              "      <td>25.990000</td>\n",
              "      <td>Men</td>\n",
              "    </tr>\n",
              "    <tr>\n",
              "      <th>7834</th>\n",
              "      <td>16898</td>\n",
              "      <td>13.925000</td>\n",
              "      <td>Tops &amp; Tees</td>\n",
              "      <td>Quiksilver Waterman Men's On The Rise</td>\n",
              "      <td>NaN</td>\n",
              "      <td>25.000000</td>\n",
              "      <td>Men</td>\n",
              "    </tr>\n",
              "    <tr>\n",
              "      <th>7835</th>\n",
              "      <td>21207</td>\n",
              "      <td>30.754350</td>\n",
              "      <td>Jeans</td>\n",
              "      <td>Ariat 9424 Men's M4 Low Rise Boot Tumbled</td>\n",
              "      <td>NaN</td>\n",
              "      <td>59.950001</td>\n",
              "      <td>Men</td>\n",
              "    </tr>\n",
              "    <tr>\n",
              "      <th>7836</th>\n",
              "      <td>21484</td>\n",
              "      <td>30.285500</td>\n",
              "      <td>Jeans</td>\n",
              "      <td>True Nation Big &amp; Tall Relaxed-Fit Jeans</td>\n",
              "      <td>NaN</td>\n",
              "      <td>59.500000</td>\n",
              "      <td>Men</td>\n",
              "    </tr>\n",
              "    <tr>\n",
              "      <th>7837</th>\n",
              "      <td>23769</td>\n",
              "      <td>18.540000</td>\n",
              "      <td>Outerwear &amp; Coats</td>\n",
              "      <td>Stormtech Men's Chinook Fleece Vest</td>\n",
              "      <td>NaN</td>\n",
              "      <td>45.000000</td>\n",
              "      <td>Men</td>\n",
              "    </tr>\n",
              "    <tr>\n",
              "      <th>7838</th>\n",
              "      <td>24287</td>\n",
              "      <td>39.488049</td>\n",
              "      <td>Outerwear &amp; Coats</td>\n",
              "      <td>Adidas Men's Hiking Hooded 1Side Fleece Jacket</td>\n",
              "      <td>NaN</td>\n",
              "      <td>89.949997</td>\n",
              "      <td>Men</td>\n",
              "    </tr>\n",
              "    <tr>\n",
              "      <th>7839</th>\n",
              "      <td>25135</td>\n",
              "      <td>12.476400</td>\n",
              "      <td>Socks</td>\n",
              "      <td>Volcom Men's Argyle Socks</td>\n",
              "      <td>NaN</td>\n",
              "      <td>22.480000</td>\n",
              "      <td>Men</td>\n",
              "    </tr>\n",
              "    <tr>\n",
              "      <th>7840</th>\n",
              "      <td>25187</td>\n",
              "      <td>14.425000</td>\n",
              "      <td>Socks</td>\n",
              "      <td>SockGuy Men's Kokopelli Socks</td>\n",
              "      <td>NaN</td>\n",
              "      <td>25.000000</td>\n",
              "      <td>Men</td>\n",
              "    </tr>\n",
              "    <tr>\n",
              "      <th>7841</th>\n",
              "      <td>27288</td>\n",
              "      <td>12.726610</td>\n",
              "      <td>Sleep &amp; Lounge</td>\n",
              "      <td>White and Black Check Dot VIP Flannel Pants fo...</td>\n",
              "      <td>NaN</td>\n",
              "      <td>28.990000</td>\n",
              "      <td>Men</td>\n",
              "    </tr>\n",
              "    <tr>\n",
              "      <th>7842</th>\n",
              "      <td>27543</td>\n",
              "      <td>19.872000</td>\n",
              "      <td>Swim</td>\n",
              "      <td>Harbor Bay Big &amp; Tall Swim Rash Guard</td>\n",
              "      <td>NaN</td>\n",
              "      <td>36.000000</td>\n",
              "      <td>Men</td>\n",
              "    </tr>\n",
              "    <tr>\n",
              "      <th>7843</th>\n",
              "      <td>27640</td>\n",
              "      <td>29.353500</td>\n",
              "      <td>Swim</td>\n",
              "      <td>O'Neill Hangover Boardshorts</td>\n",
              "      <td>NaN</td>\n",
              "      <td>49.500000</td>\n",
              "      <td>Men</td>\n",
              "    </tr>\n",
              "  </tbody>\n",
              "</table>\n",
              "</div>"
            ],
            "text/plain": [
              "         id       cost                       category  \\\n",
              "7820    755  15.140850                    Tops & Tees   \n",
              "7821   1629  23.572350  Fashion Hoodies & Sweatshirts   \n",
              "7822   8600  16.015551              Outerwear & Coats   \n",
              "7823   9482   5.712000                Socks & Hosiery   \n",
              "7824  10598   9.616400                      Intimates   \n",
              "7825  11389  12.512000                      Intimates   \n",
              "7826  11668  18.662401                      Intimates   \n",
              "7827  11843  33.900000                      Intimates   \n",
              "7828  13863   9.554500                    Accessories   \n",
              "7829  13921   1.641900                    Accessories   \n",
              "7830  15723   4.875120                           Plus   \n",
              "7831  15757   2.235510                           Plus   \n",
              "7832  16309  11.520000                    Tops & Tees   \n",
              "7833  16559  14.944250                    Tops & Tees   \n",
              "7834  16898  13.925000                    Tops & Tees   \n",
              "7835  21207  30.754350                          Jeans   \n",
              "7836  21484  30.285500                          Jeans   \n",
              "7837  23769  18.540000              Outerwear & Coats   \n",
              "7838  24287  39.488049              Outerwear & Coats   \n",
              "7839  25135  12.476400                          Socks   \n",
              "7840  25187  14.425000                          Socks   \n",
              "7841  27288  12.726610                 Sleep & Lounge   \n",
              "7842  27543  19.872000                           Swim   \n",
              "7843  27640  29.353500                           Swim   \n",
              "\n",
              "                                                   name brand  retail_price  \\\n",
              "7820  The Very Hungry Caterpillar Classic Book Women...   NaN     28.950001   \n",
              "7821                Carhartt Women's Hooded Knit Jacket   NaN     45.950001   \n",
              "7822          Women's Micro Fleece Vest (up to size 4X)   NaN     35.990002   \n",
              "7823           KEEN Women Bellingham Low Ultralite Sock   NaN     16.000000   \n",
              "7824                JMS Comfort Lace with Hidden Shaper   NaN     16.580000   \n",
              "7825              Shadowline 36 Flare Half Slip (47116)   NaN     23.000000   \n",
              "7826                              Everyday Comfort Cami   NaN     38.400002   \n",
              "7827                         Wendy Glez Rose Cami Black   NaN     60.000000   \n",
              "7828                      Husky Animal Hat with Mittens   NaN     24.250000   \n",
              "7829  NEW Aluminum Credit Card Wallet - RFID Blockin...   NaN      4.210000   \n",
              "7830  Vintage Wayfarer Nerd Retro 80s Mirrored Sungl...   NaN      9.990000   \n",
              "7831  NEW Aluminum Credit Card Wallet - RFID Blockin...   NaN      4.210000   \n",
              "7832         Hurley Men's One and Only Short Sleeve Tee   NaN     20.000000   \n",
              "7833     Gildan Adult Ultra CottonTM Sleeveless T-Shirt   NaN     25.990000   \n",
              "7834              Quiksilver Waterman Men's On The Rise   NaN     25.000000   \n",
              "7835          Ariat 9424 Men's M4 Low Rise Boot Tumbled   NaN     59.950001   \n",
              "7836           True Nation Big & Tall Relaxed-Fit Jeans   NaN     59.500000   \n",
              "7837                Stormtech Men's Chinook Fleece Vest   NaN     45.000000   \n",
              "7838     Adidas Men's Hiking Hooded 1Side Fleece Jacket   NaN     89.949997   \n",
              "7839                          Volcom Men's Argyle Socks   NaN     22.480000   \n",
              "7840                      SockGuy Men's Kokopelli Socks   NaN     25.000000   \n",
              "7841  White and Black Check Dot VIP Flannel Pants fo...   NaN     28.990000   \n",
              "7842              Harbor Bay Big & Tall Swim Rash Guard   NaN     36.000000   \n",
              "7843                       O'Neill Hangover Boardshorts   NaN     49.500000   \n",
              "\n",
              "     department  \n",
              "7820      Women  \n",
              "7821      Women  \n",
              "7822      Women  \n",
              "7823      Women  \n",
              "7824      Women  \n",
              "7825      Women  \n",
              "7826      Women  \n",
              "7827      Women  \n",
              "7828      Women  \n",
              "7829      Women  \n",
              "7830      Women  \n",
              "7831      Women  \n",
              "7832        Men  \n",
              "7833        Men  \n",
              "7834        Men  \n",
              "7835        Men  \n",
              "7836        Men  \n",
              "7837        Men  \n",
              "7838        Men  \n",
              "7839        Men  \n",
              "7840        Men  \n",
              "7841        Men  \n",
              "7842        Men  \n",
              "7843        Men  "
            ]
          },
          "execution_count": 50,
          "metadata": {},
          "output_type": "execute_result"
        }
      ],
      "source": [
        "products.loc[products['brand'].isna()]"
      ]
    },
    {
      "cell_type": "code",
      "execution_count": 51,
      "metadata": {
        "colab": {
          "base_uri": "https://localhost:8080/",
          "height": 111
        },
        "id": "71gK0lJFjMLT",
        "outputId": "e5325d32-3c73-4ac7-cc7a-b4c0e6707c50"
      },
      "outputs": [
        {
          "data": {
            "text/html": [
              "<div>\n",
              "<style scoped>\n",
              "    .dataframe tbody tr th:only-of-type {\n",
              "        vertical-align: middle;\n",
              "    }\n",
              "\n",
              "    .dataframe tbody tr th {\n",
              "        vertical-align: top;\n",
              "    }\n",
              "\n",
              "    .dataframe thead th {\n",
              "        text-align: right;\n",
              "    }\n",
              "</style>\n",
              "<table border=\"1\" class=\"dataframe\">\n",
              "  <thead>\n",
              "    <tr style=\"text-align: right;\">\n",
              "      <th></th>\n",
              "      <th>id</th>\n",
              "      <th>cost</th>\n",
              "      <th>category</th>\n",
              "      <th>name</th>\n",
              "      <th>brand</th>\n",
              "      <th>retail_price</th>\n",
              "      <th>department</th>\n",
              "    </tr>\n",
              "  </thead>\n",
              "  <tbody>\n",
              "    <tr>\n",
              "      <th>3247</th>\n",
              "      <td>12586</td>\n",
              "      <td>18.972000</td>\n",
              "      <td>Intimates</td>\n",
              "      <td>NaN</td>\n",
              "      <td>Josie by Natori</td>\n",
              "      <td>36.000000</td>\n",
              "      <td>Women</td>\n",
              "    </tr>\n",
              "    <tr>\n",
              "      <th>5588</th>\n",
              "      <td>24455</td>\n",
              "      <td>67.335453</td>\n",
              "      <td>Outerwear &amp; Coats</td>\n",
              "      <td>NaN</td>\n",
              "      <td>Tru-Spec</td>\n",
              "      <td>147.990005</td>\n",
              "      <td>Men</td>\n",
              "    </tr>\n",
              "  </tbody>\n",
              "</table>\n",
              "</div>"
            ],
            "text/plain": [
              "         id       cost           category name            brand  retail_price  \\\n",
              "3247  12586  18.972000          Intimates  NaN  Josie by Natori     36.000000   \n",
              "5588  24455  67.335453  Outerwear & Coats  NaN         Tru-Spec    147.990005   \n",
              "\n",
              "     department  \n",
              "3247      Women  \n",
              "5588        Men  "
            ]
          },
          "execution_count": 51,
          "metadata": {},
          "output_type": "execute_result"
        }
      ],
      "source": [
        "products.loc[products['name'].isna()]"
      ]
    },
    {
      "cell_type": "markdown",
      "metadata": {
        "id": "yifd9R3yjQOT"
      },
      "source": [
        "Both values seem to be missing at random, so dropping them shouldn't be a problem"
      ]
    },
    {
      "cell_type": "code",
      "execution_count": 52,
      "metadata": {
        "id": "8VAwodRwjVvn"
      },
      "outputs": [],
      "source": [
        "products.dropna(subset = ['brand', 'name'], inplace = True)"
      ]
    },
    {
      "cell_type": "code",
      "execution_count": 120,
      "metadata": {
        "colab": {
          "base_uri": "https://localhost:8080/"
        },
        "id": "jPnBwjZOkDSy",
        "outputId": "cf71555c-c9ce-439f-c955-c6887e1bf5bd"
      },
      "outputs": [
        {
          "data": {
            "text/plain": [
              "Index(['product_id', 'cost', 'category', 'name', 'brand', 'retail_price',\n",
              "       'department'],\n",
              "      dtype='object')"
            ]
          },
          "execution_count": 120,
          "metadata": {},
          "output_type": "execute_result"
        }
      ],
      "source": [
        "products.columns"
      ]
    },
    {
      "cell_type": "markdown",
      "metadata": {
        "id": "wKqpFMIIkQi8"
      },
      "source": [
        "## OVERVIEW OF WHAT WAS DONE\n",
        "* Dropped 'distribution_center_id' and 'sku'\n",
        "* Dropped instances where 'cost' and 'retail_price' was above the 95th percentile\n",
        "* Dropped instances where 'brand' and 'name' were missing\n",
        "\n",
        "## QUESTIONS\n",
        "* We could go back and make a function to keep rows where the price/cost is within the brands average\n",
        "  * However, even if the high price/cost was valid for the brand, it's still likely to skew the distribution"
      ]
    },
    {
      "cell_type": "markdown",
      "metadata": {
        "id": "7igFx25LtX2t"
      },
      "source": [
        "# **ORDERS**"
      ]
    },
    {
      "cell_type": "markdown",
      "metadata": {
        "id": "vbAKLQ3Xtlis"
      },
      "source": [
        "- order_id: Unique identifier for each order.\n",
        "- user_id: Identifier for the user who placed the order.\n",
        "- status: Status of the order.\n",
        "- gender: Gender information of the user.\n",
        "- created_at: Timestamp indicating when the order was created.\n",
        "- returned_at: Timestamp indicating when the order was returned.\n",
        "- shipped_at: Timestamp indicating when the order was shipped.\n",
        "- delivered_at: Timestamp indicating when the order was delivered.\n",
        "- num_of_item: Number of items in the order."
      ]
    },
    {
      "cell_type": "code",
      "execution_count": 54,
      "metadata": {
        "colab": {
          "base_uri": "https://localhost:8080/",
          "height": 204
        },
        "id": "VNb_mpPfkkOy",
        "outputId": "fedf7709-4937-4221-ff28-761f0a0ca09a"
      },
      "outputs": [
        {
          "data": {
            "text/html": [
              "<div>\n",
              "<style scoped>\n",
              "    .dataframe tbody tr th:only-of-type {\n",
              "        vertical-align: middle;\n",
              "    }\n",
              "\n",
              "    .dataframe tbody tr th {\n",
              "        vertical-align: top;\n",
              "    }\n",
              "\n",
              "    .dataframe thead th {\n",
              "        text-align: right;\n",
              "    }\n",
              "</style>\n",
              "<table border=\"1\" class=\"dataframe\">\n",
              "  <thead>\n",
              "    <tr style=\"text-align: right;\">\n",
              "      <th></th>\n",
              "      <th>order_id</th>\n",
              "      <th>user_id</th>\n",
              "      <th>status</th>\n",
              "      <th>gender</th>\n",
              "      <th>created_at</th>\n",
              "      <th>returned_at</th>\n",
              "      <th>shipped_at</th>\n",
              "      <th>delivered_at</th>\n",
              "      <th>num_of_item</th>\n",
              "    </tr>\n",
              "  </thead>\n",
              "  <tbody>\n",
              "    <tr>\n",
              "      <th>0</th>\n",
              "      <td>8</td>\n",
              "      <td>5</td>\n",
              "      <td>Cancelled</td>\n",
              "      <td>F</td>\n",
              "      <td>2022-10-20 10:03:00+00:00</td>\n",
              "      <td>NaN</td>\n",
              "      <td>NaN</td>\n",
              "      <td>NaN</td>\n",
              "      <td>3</td>\n",
              "    </tr>\n",
              "    <tr>\n",
              "      <th>1</th>\n",
              "      <td>60</td>\n",
              "      <td>44</td>\n",
              "      <td>Cancelled</td>\n",
              "      <td>F</td>\n",
              "      <td>2023-01-20 02:12:00+00:00</td>\n",
              "      <td>NaN</td>\n",
              "      <td>NaN</td>\n",
              "      <td>NaN</td>\n",
              "      <td>1</td>\n",
              "    </tr>\n",
              "    <tr>\n",
              "      <th>2</th>\n",
              "      <td>64</td>\n",
              "      <td>46</td>\n",
              "      <td>Cancelled</td>\n",
              "      <td>F</td>\n",
              "      <td>2021-12-06 09:11:00+00:00</td>\n",
              "      <td>NaN</td>\n",
              "      <td>NaN</td>\n",
              "      <td>NaN</td>\n",
              "      <td>1</td>\n",
              "    </tr>\n",
              "    <tr>\n",
              "      <th>3</th>\n",
              "      <td>89</td>\n",
              "      <td>65</td>\n",
              "      <td>Cancelled</td>\n",
              "      <td>F</td>\n",
              "      <td>2020-08-13 09:58:00+00:00</td>\n",
              "      <td>NaN</td>\n",
              "      <td>NaN</td>\n",
              "      <td>NaN</td>\n",
              "      <td>1</td>\n",
              "    </tr>\n",
              "    <tr>\n",
              "      <th>4</th>\n",
              "      <td>102</td>\n",
              "      <td>76</td>\n",
              "      <td>Cancelled</td>\n",
              "      <td>F</td>\n",
              "      <td>2023-01-17 08:17:00+00:00</td>\n",
              "      <td>NaN</td>\n",
              "      <td>NaN</td>\n",
              "      <td>NaN</td>\n",
              "      <td>2</td>\n",
              "    </tr>\n",
              "  </tbody>\n",
              "</table>\n",
              "</div>"
            ],
            "text/plain": [
              "   order_id  user_id     status gender                 created_at returned_at  \\\n",
              "0         8        5  Cancelled      F  2022-10-20 10:03:00+00:00         NaN   \n",
              "1        60       44  Cancelled      F  2023-01-20 02:12:00+00:00         NaN   \n",
              "2        64       46  Cancelled      F  2021-12-06 09:11:00+00:00         NaN   \n",
              "3        89       65  Cancelled      F  2020-08-13 09:58:00+00:00         NaN   \n",
              "4       102       76  Cancelled      F  2023-01-17 08:17:00+00:00         NaN   \n",
              "\n",
              "  shipped_at delivered_at  num_of_item  \n",
              "0        NaN          NaN            3  \n",
              "1        NaN          NaN            1  \n",
              "2        NaN          NaN            1  \n",
              "3        NaN          NaN            1  \n",
              "4        NaN          NaN            2  "
            ]
          },
          "execution_count": 54,
          "metadata": {},
          "output_type": "execute_result"
        }
      ],
      "source": [
        "orders.head()"
      ]
    },
    {
      "cell_type": "code",
      "execution_count": 55,
      "metadata": {
        "colab": {
          "base_uri": "https://localhost:8080/"
        },
        "id": "H-8vKpwatdgg",
        "outputId": "e523a720-919a-41cb-9ef1-8584dc980b66"
      },
      "outputs": [
        {
          "data": {
            "text/plain": [
              "(125226, 9)"
            ]
          },
          "execution_count": 55,
          "metadata": {},
          "output_type": "execute_result"
        }
      ],
      "source": [
        "orders.shape"
      ]
    },
    {
      "cell_type": "code",
      "execution_count": 56,
      "metadata": {
        "colab": {
          "base_uri": "https://localhost:8080/",
          "height": 362
        },
        "id": "f1mp0h2Otzan",
        "outputId": "5ddd512d-4859-4fc8-e10e-6333f3a48c1b"
      },
      "outputs": [
        {
          "data": {
            "text/plain": [
              "order_id             0\n",
              "user_id              0\n",
              "status               0\n",
              "gender               0\n",
              "created_at           0\n",
              "returned_at     112696\n",
              "shipped_at       43765\n",
              "delivered_at     81342\n",
              "num_of_item          0\n",
              "dtype: int64"
            ]
          },
          "execution_count": 56,
          "metadata": {},
          "output_type": "execute_result"
        }
      ],
      "source": [
        "orders.isna().sum()"
      ]
    },
    {
      "cell_type": "markdown",
      "metadata": {
        "id": "5I6-yvn9wP6V"
      },
      "source": [
        "Turn status into dummy variables and then drop returned at, shipped at, and delivered at. Extract month and year from created at."
      ]
    },
    {
      "cell_type": "code",
      "execution_count": 57,
      "metadata": {
        "id": "89HpEXT2t3tC"
      },
      "outputs": [],
      "source": [
        "dummies = pd.get_dummies(orders['status'], prefix='orderStatus_').astype(int)\n",
        "orders = pd.concat([orders, dummies], axis=1)\n",
        "orders.drop(columns=['status', 'returned_at', 'shipped_at', 'delivered_at', 'created_at'], inplace=True)"
      ]
    },
    {
      "cell_type": "code",
      "execution_count": 58,
      "metadata": {
        "colab": {
          "base_uri": "https://localhost:8080/",
          "height": 224
        },
        "id": "IdcFn2KhuXt3",
        "outputId": "535d0ed7-c658-4b31-d640-1a833ba5d664"
      },
      "outputs": [
        {
          "data": {
            "text/html": [
              "<div>\n",
              "<style scoped>\n",
              "    .dataframe tbody tr th:only-of-type {\n",
              "        vertical-align: middle;\n",
              "    }\n",
              "\n",
              "    .dataframe tbody tr th {\n",
              "        vertical-align: top;\n",
              "    }\n",
              "\n",
              "    .dataframe thead th {\n",
              "        text-align: right;\n",
              "    }\n",
              "</style>\n",
              "<table border=\"1\" class=\"dataframe\">\n",
              "  <thead>\n",
              "    <tr style=\"text-align: right;\">\n",
              "      <th></th>\n",
              "      <th>order_id</th>\n",
              "      <th>user_id</th>\n",
              "      <th>gender</th>\n",
              "      <th>num_of_item</th>\n",
              "      <th>orderStatus__Cancelled</th>\n",
              "      <th>orderStatus__Complete</th>\n",
              "      <th>orderStatus__Processing</th>\n",
              "      <th>orderStatus__Returned</th>\n",
              "      <th>orderStatus__Shipped</th>\n",
              "    </tr>\n",
              "  </thead>\n",
              "  <tbody>\n",
              "    <tr>\n",
              "      <th>0</th>\n",
              "      <td>8</td>\n",
              "      <td>5</td>\n",
              "      <td>F</td>\n",
              "      <td>3</td>\n",
              "      <td>1</td>\n",
              "      <td>0</td>\n",
              "      <td>0</td>\n",
              "      <td>0</td>\n",
              "      <td>0</td>\n",
              "    </tr>\n",
              "    <tr>\n",
              "      <th>1</th>\n",
              "      <td>60</td>\n",
              "      <td>44</td>\n",
              "      <td>F</td>\n",
              "      <td>1</td>\n",
              "      <td>1</td>\n",
              "      <td>0</td>\n",
              "      <td>0</td>\n",
              "      <td>0</td>\n",
              "      <td>0</td>\n",
              "    </tr>\n",
              "    <tr>\n",
              "      <th>2</th>\n",
              "      <td>64</td>\n",
              "      <td>46</td>\n",
              "      <td>F</td>\n",
              "      <td>1</td>\n",
              "      <td>1</td>\n",
              "      <td>0</td>\n",
              "      <td>0</td>\n",
              "      <td>0</td>\n",
              "      <td>0</td>\n",
              "    </tr>\n",
              "    <tr>\n",
              "      <th>3</th>\n",
              "      <td>89</td>\n",
              "      <td>65</td>\n",
              "      <td>F</td>\n",
              "      <td>1</td>\n",
              "      <td>1</td>\n",
              "      <td>0</td>\n",
              "      <td>0</td>\n",
              "      <td>0</td>\n",
              "      <td>0</td>\n",
              "    </tr>\n",
              "    <tr>\n",
              "      <th>4</th>\n",
              "      <td>102</td>\n",
              "      <td>76</td>\n",
              "      <td>F</td>\n",
              "      <td>2</td>\n",
              "      <td>1</td>\n",
              "      <td>0</td>\n",
              "      <td>0</td>\n",
              "      <td>0</td>\n",
              "      <td>0</td>\n",
              "    </tr>\n",
              "  </tbody>\n",
              "</table>\n",
              "</div>"
            ],
            "text/plain": [
              "   order_id  user_id gender  num_of_item  orderStatus__Cancelled  \\\n",
              "0         8        5      F            3                       1   \n",
              "1        60       44      F            1                       1   \n",
              "2        64       46      F            1                       1   \n",
              "3        89       65      F            1                       1   \n",
              "4       102       76      F            2                       1   \n",
              "\n",
              "   orderStatus__Complete  orderStatus__Processing  orderStatus__Returned  \\\n",
              "0                      0                        0                      0   \n",
              "1                      0                        0                      0   \n",
              "2                      0                        0                      0   \n",
              "3                      0                        0                      0   \n",
              "4                      0                        0                      0   \n",
              "\n",
              "   orderStatus__Shipped  \n",
              "0                     0  \n",
              "1                     0  \n",
              "2                     0  \n",
              "3                     0  \n",
              "4                     0  "
            ]
          },
          "execution_count": 58,
          "metadata": {},
          "output_type": "execute_result"
        }
      ],
      "source": [
        "orders.head()"
      ]
    },
    {
      "cell_type": "code",
      "execution_count": 59,
      "metadata": {
        "colab": {
          "base_uri": "https://localhost:8080/",
          "height": 362
        },
        "id": "voBi6i-_zebi",
        "outputId": "0695a7c1-1b51-4f79-ffde-e804c99809f6"
      },
      "outputs": [
        {
          "data": {
            "text/plain": [
              "order_id                   0\n",
              "user_id                    0\n",
              "gender                     0\n",
              "num_of_item                0\n",
              "orderStatus__Cancelled     0\n",
              "orderStatus__Complete      0\n",
              "orderStatus__Processing    0\n",
              "orderStatus__Returned      0\n",
              "orderStatus__Shipped       0\n",
              "dtype: int64"
            ]
          },
          "execution_count": 59,
          "metadata": {},
          "output_type": "execute_result"
        }
      ],
      "source": [
        "orders.isna().sum()"
      ]
    },
    {
      "cell_type": "code",
      "execution_count": 121,
      "metadata": {},
      "outputs": [
        {
          "data": {
            "text/plain": [
              "Index(['order_id', 'user_id', 'gender', 'num_of_item',\n",
              "       'orderStatus__Cancelled', 'orderStatus__Complete',\n",
              "       'orderStatus__Processing', 'orderStatus__Returned',\n",
              "       'orderStatus__Shipped'],\n",
              "      dtype='object')"
            ]
          },
          "execution_count": 121,
          "metadata": {},
          "output_type": "execute_result"
        }
      ],
      "source": [
        "orders.columns"
      ]
    },
    {
      "cell_type": "markdown",
      "metadata": {
        "id": "ON_5nDBln6f3"
      },
      "source": [
        "### OVERVIEW OF WHAT WAS DONE\n",
        "* Converted 'status' to dummy variables, dropped returned_at, shipped_at, delivered_at\n",
        "* Renamed created_at' to 'order_created'"
      ]
    },
    {
      "cell_type": "markdown",
      "metadata": {
        "id": "xB_ul0E3I5Lg"
      },
      "source": [
        "# **ORDER ITEMS**"
      ]
    },
    {
      "cell_type": "markdown",
      "metadata": {
        "id": "lSBbNcuHN_Ge"
      },
      "source": [
        "\n",
        "\n",
        "*   'inventory_item_id' won't be used can be dropped\n",
        "*   Drop 'created_at' in 'order_items' because it can be used from 'orders'\n",
        "\n"
      ]
    },
    {
      "cell_type": "code",
      "execution_count": 60,
      "metadata": {
        "colab": {
          "base_uri": "https://localhost:8080/",
          "height": 309
        },
        "id": "7xdSBRWUuZ2E",
        "outputId": "e1f8dd1a-22ff-4557-abd7-50ba54a4287e"
      },
      "outputs": [
        {
          "data": {
            "text/html": [
              "<div>\n",
              "<style scoped>\n",
              "    .dataframe tbody tr th:only-of-type {\n",
              "        vertical-align: middle;\n",
              "    }\n",
              "\n",
              "    .dataframe tbody tr th {\n",
              "        vertical-align: top;\n",
              "    }\n",
              "\n",
              "    .dataframe thead th {\n",
              "        text-align: right;\n",
              "    }\n",
              "</style>\n",
              "<table border=\"1\" class=\"dataframe\">\n",
              "  <thead>\n",
              "    <tr style=\"text-align: right;\">\n",
              "      <th></th>\n",
              "      <th>id</th>\n",
              "      <th>order_id</th>\n",
              "      <th>user_id</th>\n",
              "      <th>product_id</th>\n",
              "      <th>inventory_item_id</th>\n",
              "      <th>status</th>\n",
              "      <th>created_at</th>\n",
              "      <th>shipped_at</th>\n",
              "      <th>delivered_at</th>\n",
              "      <th>returned_at</th>\n",
              "      <th>sale_price</th>\n",
              "    </tr>\n",
              "  </thead>\n",
              "  <tbody>\n",
              "    <tr>\n",
              "      <th>0</th>\n",
              "      <td>152013</td>\n",
              "      <td>104663</td>\n",
              "      <td>83582</td>\n",
              "      <td>14235</td>\n",
              "      <td>410368</td>\n",
              "      <td>Cancelled</td>\n",
              "      <td>2023-05-07 06:08:40+00:00</td>\n",
              "      <td>NaN</td>\n",
              "      <td>NaN</td>\n",
              "      <td>NaN</td>\n",
              "      <td>0.02</td>\n",
              "    </tr>\n",
              "    <tr>\n",
              "      <th>1</th>\n",
              "      <td>40993</td>\n",
              "      <td>28204</td>\n",
              "      <td>22551</td>\n",
              "      <td>14235</td>\n",
              "      <td>110590</td>\n",
              "      <td>Complete</td>\n",
              "      <td>2023-03-14 03:47:21+00:00</td>\n",
              "      <td>2023-03-15 22:57:00+00:00</td>\n",
              "      <td>2023-03-18 01:08:00+00:00</td>\n",
              "      <td>NaN</td>\n",
              "      <td>0.02</td>\n",
              "    </tr>\n",
              "    <tr>\n",
              "      <th>2</th>\n",
              "      <td>51224</td>\n",
              "      <td>35223</td>\n",
              "      <td>28215</td>\n",
              "      <td>14235</td>\n",
              "      <td>138236</td>\n",
              "      <td>Complete</td>\n",
              "      <td>2023-12-05 13:25:30+00:00</td>\n",
              "      <td>2023-12-06 01:20:00+00:00</td>\n",
              "      <td>2023-12-10 10:04:00+00:00</td>\n",
              "      <td>NaN</td>\n",
              "      <td>0.02</td>\n",
              "    </tr>\n",
              "    <tr>\n",
              "      <th>3</th>\n",
              "      <td>36717</td>\n",
              "      <td>25278</td>\n",
              "      <td>20165</td>\n",
              "      <td>14235</td>\n",
              "      <td>99072</td>\n",
              "      <td>Shipped</td>\n",
              "      <td>2023-12-22 20:48:19+00:00</td>\n",
              "      <td>2023-12-24 16:44:00+00:00</td>\n",
              "      <td>NaN</td>\n",
              "      <td>NaN</td>\n",
              "      <td>0.02</td>\n",
              "    </tr>\n",
              "    <tr>\n",
              "      <th>4</th>\n",
              "      <td>131061</td>\n",
              "      <td>90241</td>\n",
              "      <td>71954</td>\n",
              "      <td>14235</td>\n",
              "      <td>353798</td>\n",
              "      <td>Shipped</td>\n",
              "      <td>2022-06-19 16:57:59+00:00</td>\n",
              "      <td>2022-06-19 19:29:00+00:00</td>\n",
              "      <td>NaN</td>\n",
              "      <td>NaN</td>\n",
              "      <td>0.02</td>\n",
              "    </tr>\n",
              "  </tbody>\n",
              "</table>\n",
              "</div>"
            ],
            "text/plain": [
              "       id  order_id  user_id  product_id  inventory_item_id     status  \\\n",
              "0  152013    104663    83582       14235             410368  Cancelled   \n",
              "1   40993     28204    22551       14235             110590   Complete   \n",
              "2   51224     35223    28215       14235             138236   Complete   \n",
              "3   36717     25278    20165       14235              99072    Shipped   \n",
              "4  131061     90241    71954       14235             353798    Shipped   \n",
              "\n",
              "                  created_at                 shipped_at  \\\n",
              "0  2023-05-07 06:08:40+00:00                        NaN   \n",
              "1  2023-03-14 03:47:21+00:00  2023-03-15 22:57:00+00:00   \n",
              "2  2023-12-05 13:25:30+00:00  2023-12-06 01:20:00+00:00   \n",
              "3  2023-12-22 20:48:19+00:00  2023-12-24 16:44:00+00:00   \n",
              "4  2022-06-19 16:57:59+00:00  2022-06-19 19:29:00+00:00   \n",
              "\n",
              "                delivered_at returned_at  sale_price  \n",
              "0                        NaN         NaN        0.02  \n",
              "1  2023-03-18 01:08:00+00:00         NaN        0.02  \n",
              "2  2023-12-10 10:04:00+00:00         NaN        0.02  \n",
              "3                        NaN         NaN        0.02  \n",
              "4                        NaN         NaN        0.02  "
            ]
          },
          "execution_count": 60,
          "metadata": {},
          "output_type": "execute_result"
        }
      ],
      "source": [
        "order_items.head()"
      ]
    },
    {
      "cell_type": "code",
      "execution_count": 61,
      "metadata": {
        "colab": {
          "base_uri": "https://localhost:8080/"
        },
        "id": "OxtTAeGpJFLq",
        "outputId": "0b418de4-fd3e-4c13-a6a7-815d9bdd834b"
      },
      "outputs": [
        {
          "data": {
            "text/plain": [
              "(181759, 11)"
            ]
          },
          "execution_count": 61,
          "metadata": {},
          "output_type": "execute_result"
        }
      ],
      "source": [
        "order_items.shape"
      ]
    },
    {
      "cell_type": "code",
      "execution_count": 62,
      "metadata": {
        "id": "gdrwrMNFJYOg"
      },
      "outputs": [],
      "source": [
        "dummies = pd.get_dummies(order_items['status'], prefix='itemStatus_').astype(int)\n",
        "order_items = pd.concat([order_items, dummies], axis=1)\n",
        "order_items.drop(columns=['status', 'returned_at', 'shipped_at', 'delivered_at'], inplace=True)"
      ]
    },
    {
      "cell_type": "code",
      "execution_count": 63,
      "metadata": {
        "colab": {
          "base_uri": "https://localhost:8080/",
          "height": 309
        },
        "id": "Gmg0oJjHJkYJ",
        "outputId": "b04bf2c2-c6be-40fb-d9b6-984888b6abc3"
      },
      "outputs": [
        {
          "data": {
            "text/html": [
              "<div>\n",
              "<style scoped>\n",
              "    .dataframe tbody tr th:only-of-type {\n",
              "        vertical-align: middle;\n",
              "    }\n",
              "\n",
              "    .dataframe tbody tr th {\n",
              "        vertical-align: top;\n",
              "    }\n",
              "\n",
              "    .dataframe thead th {\n",
              "        text-align: right;\n",
              "    }\n",
              "</style>\n",
              "<table border=\"1\" class=\"dataframe\">\n",
              "  <thead>\n",
              "    <tr style=\"text-align: right;\">\n",
              "      <th></th>\n",
              "      <th>id</th>\n",
              "      <th>order_id</th>\n",
              "      <th>user_id</th>\n",
              "      <th>product_id</th>\n",
              "      <th>inventory_item_id</th>\n",
              "      <th>created_at</th>\n",
              "      <th>sale_price</th>\n",
              "      <th>itemStatus__Cancelled</th>\n",
              "      <th>itemStatus__Complete</th>\n",
              "      <th>itemStatus__Processing</th>\n",
              "      <th>itemStatus__Returned</th>\n",
              "      <th>itemStatus__Shipped</th>\n",
              "    </tr>\n",
              "  </thead>\n",
              "  <tbody>\n",
              "    <tr>\n",
              "      <th>0</th>\n",
              "      <td>152013</td>\n",
              "      <td>104663</td>\n",
              "      <td>83582</td>\n",
              "      <td>14235</td>\n",
              "      <td>410368</td>\n",
              "      <td>2023-05-07 06:08:40+00:00</td>\n",
              "      <td>0.02</td>\n",
              "      <td>1</td>\n",
              "      <td>0</td>\n",
              "      <td>0</td>\n",
              "      <td>0</td>\n",
              "      <td>0</td>\n",
              "    </tr>\n",
              "    <tr>\n",
              "      <th>1</th>\n",
              "      <td>40993</td>\n",
              "      <td>28204</td>\n",
              "      <td>22551</td>\n",
              "      <td>14235</td>\n",
              "      <td>110590</td>\n",
              "      <td>2023-03-14 03:47:21+00:00</td>\n",
              "      <td>0.02</td>\n",
              "      <td>0</td>\n",
              "      <td>1</td>\n",
              "      <td>0</td>\n",
              "      <td>0</td>\n",
              "      <td>0</td>\n",
              "    </tr>\n",
              "    <tr>\n",
              "      <th>2</th>\n",
              "      <td>51224</td>\n",
              "      <td>35223</td>\n",
              "      <td>28215</td>\n",
              "      <td>14235</td>\n",
              "      <td>138236</td>\n",
              "      <td>2023-12-05 13:25:30+00:00</td>\n",
              "      <td>0.02</td>\n",
              "      <td>0</td>\n",
              "      <td>1</td>\n",
              "      <td>0</td>\n",
              "      <td>0</td>\n",
              "      <td>0</td>\n",
              "    </tr>\n",
              "    <tr>\n",
              "      <th>3</th>\n",
              "      <td>36717</td>\n",
              "      <td>25278</td>\n",
              "      <td>20165</td>\n",
              "      <td>14235</td>\n",
              "      <td>99072</td>\n",
              "      <td>2023-12-22 20:48:19+00:00</td>\n",
              "      <td>0.02</td>\n",
              "      <td>0</td>\n",
              "      <td>0</td>\n",
              "      <td>0</td>\n",
              "      <td>0</td>\n",
              "      <td>1</td>\n",
              "    </tr>\n",
              "    <tr>\n",
              "      <th>4</th>\n",
              "      <td>131061</td>\n",
              "      <td>90241</td>\n",
              "      <td>71954</td>\n",
              "      <td>14235</td>\n",
              "      <td>353798</td>\n",
              "      <td>2022-06-19 16:57:59+00:00</td>\n",
              "      <td>0.02</td>\n",
              "      <td>0</td>\n",
              "      <td>0</td>\n",
              "      <td>0</td>\n",
              "      <td>0</td>\n",
              "      <td>1</td>\n",
              "    </tr>\n",
              "  </tbody>\n",
              "</table>\n",
              "</div>"
            ],
            "text/plain": [
              "       id  order_id  user_id  product_id  inventory_item_id  \\\n",
              "0  152013    104663    83582       14235             410368   \n",
              "1   40993     28204    22551       14235             110590   \n",
              "2   51224     35223    28215       14235             138236   \n",
              "3   36717     25278    20165       14235              99072   \n",
              "4  131061     90241    71954       14235             353798   \n",
              "\n",
              "                  created_at  sale_price  itemStatus__Cancelled  \\\n",
              "0  2023-05-07 06:08:40+00:00        0.02                      1   \n",
              "1  2023-03-14 03:47:21+00:00        0.02                      0   \n",
              "2  2023-12-05 13:25:30+00:00        0.02                      0   \n",
              "3  2023-12-22 20:48:19+00:00        0.02                      0   \n",
              "4  2022-06-19 16:57:59+00:00        0.02                      0   \n",
              "\n",
              "   itemStatus__Complete  itemStatus__Processing  itemStatus__Returned  \\\n",
              "0                     0                       0                     0   \n",
              "1                     1                       0                     0   \n",
              "2                     1                       0                     0   \n",
              "3                     0                       0                     0   \n",
              "4                     0                       0                     0   \n",
              "\n",
              "   itemStatus__Shipped  \n",
              "0                    0  \n",
              "1                    0  \n",
              "2                    0  \n",
              "3                    1  \n",
              "4                    1  "
            ]
          },
          "execution_count": 63,
          "metadata": {},
          "output_type": "execute_result"
        }
      ],
      "source": [
        "order_items.head()"
      ]
    },
    {
      "cell_type": "code",
      "execution_count": 64,
      "metadata": {
        "colab": {
          "base_uri": "https://localhost:8080/",
          "height": 317
        },
        "id": "ouAjhWStJmM4",
        "outputId": "d43bfcde-503a-4b19-e9a9-4ac8696e68ba"
      },
      "outputs": [
        {
          "data": {
            "text/html": [
              "<div>\n",
              "<style scoped>\n",
              "    .dataframe tbody tr th:only-of-type {\n",
              "        vertical-align: middle;\n",
              "    }\n",
              "\n",
              "    .dataframe tbody tr th {\n",
              "        vertical-align: top;\n",
              "    }\n",
              "\n",
              "    .dataframe thead th {\n",
              "        text-align: right;\n",
              "    }\n",
              "</style>\n",
              "<table border=\"1\" class=\"dataframe\">\n",
              "  <thead>\n",
              "    <tr style=\"text-align: right;\">\n",
              "      <th></th>\n",
              "      <th>id</th>\n",
              "      <th>order_id</th>\n",
              "      <th>user_id</th>\n",
              "      <th>product_id</th>\n",
              "      <th>inventory_item_id</th>\n",
              "      <th>sale_price</th>\n",
              "      <th>itemStatus__Cancelled</th>\n",
              "      <th>itemStatus__Complete</th>\n",
              "      <th>itemStatus__Processing</th>\n",
              "      <th>itemStatus__Returned</th>\n",
              "      <th>itemStatus__Shipped</th>\n",
              "    </tr>\n",
              "  </thead>\n",
              "  <tbody>\n",
              "    <tr>\n",
              "      <th>count</th>\n",
              "      <td>181759.000000</td>\n",
              "      <td>181759.000000</td>\n",
              "      <td>181759.000000</td>\n",
              "      <td>181759.000000</td>\n",
              "      <td>181759.000000</td>\n",
              "      <td>181759.000000</td>\n",
              "      <td>181759.000000</td>\n",
              "      <td>181759.000000</td>\n",
              "      <td>181759.000000</td>\n",
              "      <td>181759.000000</td>\n",
              "      <td>181759.000000</td>\n",
              "    </tr>\n",
              "    <tr>\n",
              "      <th>mean</th>\n",
              "      <td>90880.000000</td>\n",
              "      <td>62579.982609</td>\n",
              "      <td>49983.272020</td>\n",
              "      <td>15254.151838</td>\n",
              "      <td>245291.860007</td>\n",
              "      <td>59.568544</td>\n",
              "      <td>0.149044</td>\n",
              "      <td>0.250931</td>\n",
              "      <td>0.200199</td>\n",
              "      <td>0.100309</td>\n",
              "      <td>0.299517</td>\n",
              "    </tr>\n",
              "    <tr>\n",
              "      <th>std</th>\n",
              "      <td>52469.448126</td>\n",
              "      <td>36125.987285</td>\n",
              "      <td>28830.895739</td>\n",
              "      <td>8413.482833</td>\n",
              "      <td>141661.912894</td>\n",
              "      <td>66.657262</td>\n",
              "      <td>0.356132</td>\n",
              "      <td>0.433550</td>\n",
              "      <td>0.400150</td>\n",
              "      <td>0.300412</td>\n",
              "      <td>0.458048</td>\n",
              "    </tr>\n",
              "    <tr>\n",
              "      <th>min</th>\n",
              "      <td>1.000000</td>\n",
              "      <td>1.000000</td>\n",
              "      <td>1.000000</td>\n",
              "      <td>1.000000</td>\n",
              "      <td>3.000000</td>\n",
              "      <td>0.020000</td>\n",
              "      <td>0.000000</td>\n",
              "      <td>0.000000</td>\n",
              "      <td>0.000000</td>\n",
              "      <td>0.000000</td>\n",
              "      <td>0.000000</td>\n",
              "    </tr>\n",
              "    <tr>\n",
              "      <th>25%</th>\n",
              "      <td>45440.500000</td>\n",
              "      <td>31266.500000</td>\n",
              "      <td>25031.500000</td>\n",
              "      <td>7979.500000</td>\n",
              "      <td>122565.000000</td>\n",
              "      <td>24.500000</td>\n",
              "      <td>0.000000</td>\n",
              "      <td>0.000000</td>\n",
              "      <td>0.000000</td>\n",
              "      <td>0.000000</td>\n",
              "      <td>0.000000</td>\n",
              "    </tr>\n",
              "    <tr>\n",
              "      <th>50%</th>\n",
              "      <td>90880.000000</td>\n",
              "      <td>62529.000000</td>\n",
              "      <td>49983.000000</td>\n",
              "      <td>15966.000000</td>\n",
              "      <td>245284.000000</td>\n",
              "      <td>39.990002</td>\n",
              "      <td>0.000000</td>\n",
              "      <td>0.000000</td>\n",
              "      <td>0.000000</td>\n",
              "      <td>0.000000</td>\n",
              "      <td>0.000000</td>\n",
              "    </tr>\n",
              "    <tr>\n",
              "      <th>75%</th>\n",
              "      <td>136319.500000</td>\n",
              "      <td>93845.500000</td>\n",
              "      <td>74867.500000</td>\n",
              "      <td>22504.000000</td>\n",
              "      <td>367983.000000</td>\n",
              "      <td>69.949997</td>\n",
              "      <td>0.000000</td>\n",
              "      <td>1.000000</td>\n",
              "      <td>0.000000</td>\n",
              "      <td>0.000000</td>\n",
              "      <td>1.000000</td>\n",
              "    </tr>\n",
              "    <tr>\n",
              "      <th>max</th>\n",
              "      <td>181759.000000</td>\n",
              "      <td>125226.000000</td>\n",
              "      <td>100000.000000</td>\n",
              "      <td>29120.000000</td>\n",
              "      <td>490705.000000</td>\n",
              "      <td>999.000000</td>\n",
              "      <td>1.000000</td>\n",
              "      <td>1.000000</td>\n",
              "      <td>1.000000</td>\n",
              "      <td>1.000000</td>\n",
              "      <td>1.000000</td>\n",
              "    </tr>\n",
              "  </tbody>\n",
              "</table>\n",
              "</div>"
            ],
            "text/plain": [
              "                  id       order_id        user_id     product_id  \\\n",
              "count  181759.000000  181759.000000  181759.000000  181759.000000   \n",
              "mean    90880.000000   62579.982609   49983.272020   15254.151838   \n",
              "std     52469.448126   36125.987285   28830.895739    8413.482833   \n",
              "min         1.000000       1.000000       1.000000       1.000000   \n",
              "25%     45440.500000   31266.500000   25031.500000    7979.500000   \n",
              "50%     90880.000000   62529.000000   49983.000000   15966.000000   \n",
              "75%    136319.500000   93845.500000   74867.500000   22504.000000   \n",
              "max    181759.000000  125226.000000  100000.000000   29120.000000   \n",
              "\n",
              "       inventory_item_id     sale_price  itemStatus__Cancelled  \\\n",
              "count      181759.000000  181759.000000          181759.000000   \n",
              "mean       245291.860007      59.568544               0.149044   \n",
              "std        141661.912894      66.657262               0.356132   \n",
              "min             3.000000       0.020000               0.000000   \n",
              "25%        122565.000000      24.500000               0.000000   \n",
              "50%        245284.000000      39.990002               0.000000   \n",
              "75%        367983.000000      69.949997               0.000000   \n",
              "max        490705.000000     999.000000               1.000000   \n",
              "\n",
              "       itemStatus__Complete  itemStatus__Processing  itemStatus__Returned  \\\n",
              "count         181759.000000           181759.000000         181759.000000   \n",
              "mean               0.250931                0.200199              0.100309   \n",
              "std                0.433550                0.400150              0.300412   \n",
              "min                0.000000                0.000000              0.000000   \n",
              "25%                0.000000                0.000000              0.000000   \n",
              "50%                0.000000                0.000000              0.000000   \n",
              "75%                1.000000                0.000000              0.000000   \n",
              "max                1.000000                1.000000              1.000000   \n",
              "\n",
              "       itemStatus__Shipped  \n",
              "count        181759.000000  \n",
              "mean              0.299517  \n",
              "std               0.458048  \n",
              "min               0.000000  \n",
              "25%               0.000000  \n",
              "50%               0.000000  \n",
              "75%               1.000000  \n",
              "max               1.000000  "
            ]
          },
          "execution_count": 64,
          "metadata": {},
          "output_type": "execute_result"
        }
      ],
      "source": [
        "order_items.describe()"
      ]
    },
    {
      "cell_type": "markdown",
      "metadata": {
        "id": "hC7bmCQOo6SO"
      },
      "source": [
        "### COLUMNS\n",
        "* In 'order_items', a lot of the information is redundant. Ex. 'sale_price' is equivelent to 'retial_price' from the 'products' df (see below)"
      ]
    },
    {
      "cell_type": "code",
      "execution_count": 65,
      "metadata": {
        "colab": {
          "base_uri": "https://localhost:8080/",
          "height": 213
        },
        "id": "Zyp0vCQsKQdw",
        "outputId": "72931d67-8b90-4efd-95c3-9e2da7186305"
      },
      "outputs": [
        {
          "data": {
            "text/html": [
              "<div>\n",
              "<style scoped>\n",
              "    .dataframe tbody tr th:only-of-type {\n",
              "        vertical-align: middle;\n",
              "    }\n",
              "\n",
              "    .dataframe tbody tr th {\n",
              "        vertical-align: top;\n",
              "    }\n",
              "\n",
              "    .dataframe thead th {\n",
              "        text-align: right;\n",
              "    }\n",
              "</style>\n",
              "<table border=\"1\" class=\"dataframe\">\n",
              "  <thead>\n",
              "    <tr style=\"text-align: right;\">\n",
              "      <th></th>\n",
              "      <th>id</th>\n",
              "      <th>order_id</th>\n",
              "      <th>user_id</th>\n",
              "      <th>product_id</th>\n",
              "      <th>inventory_item_id</th>\n",
              "      <th>created_at</th>\n",
              "      <th>sale_price</th>\n",
              "      <th>itemStatus__Cancelled</th>\n",
              "      <th>itemStatus__Complete</th>\n",
              "      <th>itemStatus__Processing</th>\n",
              "      <th>itemStatus__Returned</th>\n",
              "      <th>itemStatus__Shipped</th>\n",
              "    </tr>\n",
              "  </thead>\n",
              "  <tbody>\n",
              "    <tr>\n",
              "      <th>41441</th>\n",
              "      <td>69053</td>\n",
              "      <td>47470</td>\n",
              "      <td>37981</td>\n",
              "      <td>101</td>\n",
              "      <td>186304</td>\n",
              "      <td>2022-07-24 07:44:00+00:00</td>\n",
              "      <td>22.950001</td>\n",
              "      <td>0</td>\n",
              "      <td>1</td>\n",
              "      <td>0</td>\n",
              "      <td>0</td>\n",
              "      <td>0</td>\n",
              "    </tr>\n",
              "    <tr>\n",
              "      <th>41475</th>\n",
              "      <td>91213</td>\n",
              "      <td>62766</td>\n",
              "      <td>50167</td>\n",
              "      <td>101</td>\n",
              "      <td>246172</td>\n",
              "      <td>2023-02-18 01:22:01+00:00</td>\n",
              "      <td>22.950001</td>\n",
              "      <td>0</td>\n",
              "      <td>0</td>\n",
              "      <td>1</td>\n",
              "      <td>0</td>\n",
              "      <td>0</td>\n",
              "    </tr>\n",
              "    <tr>\n",
              "      <th>41479</th>\n",
              "      <td>100477</td>\n",
              "      <td>69167</td>\n",
              "      <td>55282</td>\n",
              "      <td>101</td>\n",
              "      <td>271087</td>\n",
              "      <td>2020-07-09 14:25:14+00:00</td>\n",
              "      <td>22.950001</td>\n",
              "      <td>0</td>\n",
              "      <td>0</td>\n",
              "      <td>1</td>\n",
              "      <td>0</td>\n",
              "      <td>0</td>\n",
              "    </tr>\n",
              "  </tbody>\n",
              "</table>\n",
              "</div>"
            ],
            "text/plain": [
              "           id  order_id  user_id  product_id  inventory_item_id  \\\n",
              "41441   69053     47470    37981         101             186304   \n",
              "41475   91213     62766    50167         101             246172   \n",
              "41479  100477     69167    55282         101             271087   \n",
              "\n",
              "                      created_at  sale_price  itemStatus__Cancelled  \\\n",
              "41441  2022-07-24 07:44:00+00:00   22.950001                      0   \n",
              "41475  2023-02-18 01:22:01+00:00   22.950001                      0   \n",
              "41479  2020-07-09 14:25:14+00:00   22.950001                      0   \n",
              "\n",
              "       itemStatus__Complete  itemStatus__Processing  itemStatus__Returned  \\\n",
              "41441                     1                       0                     0   \n",
              "41475                     0                       1                     0   \n",
              "41479                     0                       1                     0   \n",
              "\n",
              "       itemStatus__Shipped  \n",
              "41441                    0  \n",
              "41475                    0  \n",
              "41479                    0  "
            ]
          },
          "execution_count": 65,
          "metadata": {},
          "output_type": "execute_result"
        }
      ],
      "source": [
        "order_items[order_items['product_id'] == 101]"
      ]
    },
    {
      "cell_type": "code",
      "execution_count": 66,
      "metadata": {
        "colab": {
          "base_uri": "https://localhost:8080/",
          "height": 80
        },
        "id": "fLzDEXgHLdJN",
        "outputId": "0a0f51a0-e261-46bc-f086-df841ba45717"
      },
      "outputs": [
        {
          "data": {
            "text/html": [
              "<div>\n",
              "<style scoped>\n",
              "    .dataframe tbody tr th:only-of-type {\n",
              "        vertical-align: middle;\n",
              "    }\n",
              "\n",
              "    .dataframe tbody tr th {\n",
              "        vertical-align: top;\n",
              "    }\n",
              "\n",
              "    .dataframe thead th {\n",
              "        text-align: right;\n",
              "    }\n",
              "</style>\n",
              "<table border=\"1\" class=\"dataframe\">\n",
              "  <thead>\n",
              "    <tr style=\"text-align: right;\">\n",
              "      <th></th>\n",
              "      <th>id</th>\n",
              "      <th>cost</th>\n",
              "      <th>category</th>\n",
              "      <th>name</th>\n",
              "      <th>brand</th>\n",
              "      <th>retail_price</th>\n",
              "      <th>department</th>\n",
              "    </tr>\n",
              "  </thead>\n",
              "  <tbody>\n",
              "    <tr>\n",
              "      <th>15118</th>\n",
              "      <td>101</td>\n",
              "      <td>12.23235</td>\n",
              "      <td>Tops &amp; Tees</td>\n",
              "      <td>2B Chrystal Hi Low Shadow Stripe Top</td>\n",
              "      <td>2b by bebe</td>\n",
              "      <td>22.950001</td>\n",
              "      <td>Women</td>\n",
              "    </tr>\n",
              "  </tbody>\n",
              "</table>\n",
              "</div>"
            ],
            "text/plain": [
              "        id      cost     category                                  name  \\\n",
              "15118  101  12.23235  Tops & Tees  2B Chrystal Hi Low Shadow Stripe Top   \n",
              "\n",
              "            brand  retail_price department  \n",
              "15118  2b by bebe     22.950001      Women  "
            ]
          },
          "execution_count": 66,
          "metadata": {},
          "output_type": "execute_result"
        }
      ],
      "source": [
        "products[products['id'] == 101]"
      ]
    },
    {
      "cell_type": "markdown",
      "metadata": {
        "id": "HrmYH95Hphkq"
      },
      "source": [
        "^^^^ products[retail_price] == order_items[sale_price]. We can drop 'sale_price' from order_items because when we merge the dataframes, we will get this information from the products dataframe"
      ]
    },
    {
      "cell_type": "code",
      "execution_count": 67,
      "metadata": {
        "colab": {
          "base_uri": "https://localhost:8080/",
          "height": 117
        },
        "id": "es1EWK6NLk3E",
        "outputId": "991e1eaf-74f1-42a7-9ca5-0da66eff857c"
      },
      "outputs": [
        {
          "data": {
            "text/html": [
              "<div>\n",
              "<style scoped>\n",
              "    .dataframe tbody tr th:only-of-type {\n",
              "        vertical-align: middle;\n",
              "    }\n",
              "\n",
              "    .dataframe tbody tr th {\n",
              "        vertical-align: top;\n",
              "    }\n",
              "\n",
              "    .dataframe thead th {\n",
              "        text-align: right;\n",
              "    }\n",
              "</style>\n",
              "<table border=\"1\" class=\"dataframe\">\n",
              "  <thead>\n",
              "    <tr style=\"text-align: right;\">\n",
              "      <th></th>\n",
              "      <th>id</th>\n",
              "      <th>order_id</th>\n",
              "      <th>user_id</th>\n",
              "      <th>product_id</th>\n",
              "      <th>inventory_item_id</th>\n",
              "      <th>created_at</th>\n",
              "      <th>sale_price</th>\n",
              "      <th>itemStatus__Cancelled</th>\n",
              "      <th>itemStatus__Complete</th>\n",
              "      <th>itemStatus__Processing</th>\n",
              "      <th>itemStatus__Returned</th>\n",
              "      <th>itemStatus__Shipped</th>\n",
              "    </tr>\n",
              "  </thead>\n",
              "  <tbody>\n",
              "    <tr>\n",
              "      <th>12076</th>\n",
              "      <td>154</td>\n",
              "      <td>101</td>\n",
              "      <td>75</td>\n",
              "      <td>25127</td>\n",
              "      <td>439</td>\n",
              "      <td>2023-12-23 11:46:44+00:00</td>\n",
              "      <td>11.99</td>\n",
              "      <td>1</td>\n",
              "      <td>0</td>\n",
              "      <td>0</td>\n",
              "      <td>0</td>\n",
              "      <td>0</td>\n",
              "    </tr>\n",
              "  </tbody>\n",
              "</table>\n",
              "</div>"
            ],
            "text/plain": [
              "        id  order_id  user_id  product_id  inventory_item_id  \\\n",
              "12076  154       101       75       25127                439   \n",
              "\n",
              "                      created_at  sale_price  itemStatus__Cancelled  \\\n",
              "12076  2023-12-23 11:46:44+00:00       11.99                      1   \n",
              "\n",
              "       itemStatus__Complete  itemStatus__Processing  itemStatus__Returned  \\\n",
              "12076                     0                       0                     0   \n",
              "\n",
              "       itemStatus__Shipped  \n",
              "12076                    0  "
            ]
          },
          "execution_count": 67,
          "metadata": {},
          "output_type": "execute_result"
        }
      ],
      "source": [
        "order_items[order_items['order_id'] == 101]"
      ]
    },
    {
      "cell_type": "code",
      "execution_count": 68,
      "metadata": {
        "colab": {
          "base_uri": "https://localhost:8080/",
          "height": 100
        },
        "id": "fU-uJkdVO50x",
        "outputId": "016cdeec-ee60-496f-af88-ba096403d286"
      },
      "outputs": [
        {
          "data": {
            "text/html": [
              "<div>\n",
              "<style scoped>\n",
              "    .dataframe tbody tr th:only-of-type {\n",
              "        vertical-align: middle;\n",
              "    }\n",
              "\n",
              "    .dataframe tbody tr th {\n",
              "        vertical-align: top;\n",
              "    }\n",
              "\n",
              "    .dataframe thead th {\n",
              "        text-align: right;\n",
              "    }\n",
              "</style>\n",
              "<table border=\"1\" class=\"dataframe\">\n",
              "  <thead>\n",
              "    <tr style=\"text-align: right;\">\n",
              "      <th></th>\n",
              "      <th>order_id</th>\n",
              "      <th>user_id</th>\n",
              "      <th>gender</th>\n",
              "      <th>num_of_item</th>\n",
              "      <th>orderStatus__Cancelled</th>\n",
              "      <th>orderStatus__Complete</th>\n",
              "      <th>orderStatus__Processing</th>\n",
              "      <th>orderStatus__Returned</th>\n",
              "      <th>orderStatus__Shipped</th>\n",
              "    </tr>\n",
              "  </thead>\n",
              "  <tbody>\n",
              "    <tr>\n",
              "      <th>62710</th>\n",
              "      <td>101</td>\n",
              "      <td>75</td>\n",
              "      <td>M</td>\n",
              "      <td>1</td>\n",
              "      <td>1</td>\n",
              "      <td>0</td>\n",
              "      <td>0</td>\n",
              "      <td>0</td>\n",
              "      <td>0</td>\n",
              "    </tr>\n",
              "  </tbody>\n",
              "</table>\n",
              "</div>"
            ],
            "text/plain": [
              "       order_id  user_id gender  num_of_item  orderStatus__Cancelled  \\\n",
              "62710       101       75      M            1                       1   \n",
              "\n",
              "       orderStatus__Complete  orderStatus__Processing  orderStatus__Returned  \\\n",
              "62710                      0                        0                      0   \n",
              "\n",
              "       orderStatus__Shipped  \n",
              "62710                     0  "
            ]
          },
          "execution_count": 68,
          "metadata": {},
          "output_type": "execute_result"
        }
      ],
      "source": [
        "orders[orders['order_id'] == 101]"
      ]
    },
    {
      "cell_type": "markdown",
      "metadata": {
        "id": "0eFfEFFLp2hw"
      },
      "source": [
        "^^^^^ Same thing for 'status' in orders and order_items\n",
        "orders[status] == order_items[status]. therefore, we can drop the status column from one of them otherwise it would be redundant information"
      ]
    },
    {
      "cell_type": "code",
      "execution_count": 69,
      "metadata": {
        "colab": {
          "base_uri": "https://localhost:8080/",
          "height": 100
        },
        "id": "vpymCGAcXdSI",
        "outputId": "a9041adf-7b6c-4140-fc78-60d34c1c14df"
      },
      "outputs": [
        {
          "data": {
            "text/html": [
              "<div>\n",
              "<style scoped>\n",
              "    .dataframe tbody tr th:only-of-type {\n",
              "        vertical-align: middle;\n",
              "    }\n",
              "\n",
              "    .dataframe tbody tr th {\n",
              "        vertical-align: top;\n",
              "    }\n",
              "\n",
              "    .dataframe thead th {\n",
              "        text-align: right;\n",
              "    }\n",
              "</style>\n",
              "<table border=\"1\" class=\"dataframe\">\n",
              "  <thead>\n",
              "    <tr style=\"text-align: right;\">\n",
              "      <th></th>\n",
              "      <th>order_id</th>\n",
              "      <th>user_id</th>\n",
              "      <th>gender</th>\n",
              "      <th>num_of_item</th>\n",
              "      <th>orderStatus__Cancelled</th>\n",
              "      <th>orderStatus__Complete</th>\n",
              "      <th>orderStatus__Processing</th>\n",
              "      <th>orderStatus__Returned</th>\n",
              "      <th>orderStatus__Shipped</th>\n",
              "    </tr>\n",
              "  </thead>\n",
              "  <tbody>\n",
              "    <tr>\n",
              "      <th>72063</th>\n",
              "      <td>495</td>\n",
              "      <td>406</td>\n",
              "      <td>M</td>\n",
              "      <td>3</td>\n",
              "      <td>0</td>\n",
              "      <td>1</td>\n",
              "      <td>0</td>\n",
              "      <td>0</td>\n",
              "      <td>0</td>\n",
              "    </tr>\n",
              "  </tbody>\n",
              "</table>\n",
              "</div>"
            ],
            "text/plain": [
              "       order_id  user_id gender  num_of_item  orderStatus__Cancelled  \\\n",
              "72063       495      406      M            3                       0   \n",
              "\n",
              "       orderStatus__Complete  orderStatus__Processing  orderStatus__Returned  \\\n",
              "72063                      1                        0                      0   \n",
              "\n",
              "       orderStatus__Shipped  \n",
              "72063                     0  "
            ]
          },
          "execution_count": 69,
          "metadata": {},
          "output_type": "execute_result"
        }
      ],
      "source": [
        "orders[orders['order_id'] == 495]"
      ]
    },
    {
      "cell_type": "code",
      "execution_count": 70,
      "metadata": {
        "colab": {
          "base_uri": "https://localhost:8080/",
          "height": 213
        },
        "id": "ttzQAN7-XmM4",
        "outputId": "72c80cb0-ac6b-490a-aea1-83cb7ff5df12"
      },
      "outputs": [
        {
          "data": {
            "text/html": [
              "<div>\n",
              "<style scoped>\n",
              "    .dataframe tbody tr th:only-of-type {\n",
              "        vertical-align: middle;\n",
              "    }\n",
              "\n",
              "    .dataframe tbody tr th {\n",
              "        vertical-align: top;\n",
              "    }\n",
              "\n",
              "    .dataframe thead th {\n",
              "        text-align: right;\n",
              "    }\n",
              "</style>\n",
              "<table border=\"1\" class=\"dataframe\">\n",
              "  <thead>\n",
              "    <tr style=\"text-align: right;\">\n",
              "      <th></th>\n",
              "      <th>id</th>\n",
              "      <th>order_id</th>\n",
              "      <th>user_id</th>\n",
              "      <th>product_id</th>\n",
              "      <th>inventory_item_id</th>\n",
              "      <th>created_at</th>\n",
              "      <th>sale_price</th>\n",
              "      <th>itemStatus__Cancelled</th>\n",
              "      <th>itemStatus__Complete</th>\n",
              "      <th>itemStatus__Processing</th>\n",
              "      <th>itemStatus__Returned</th>\n",
              "      <th>itemStatus__Shipped</th>\n",
              "    </tr>\n",
              "  </thead>\n",
              "  <tbody>\n",
              "    <tr>\n",
              "      <th>19367</th>\n",
              "      <td>731</td>\n",
              "      <td>495</td>\n",
              "      <td>406</td>\n",
              "      <td>23156</td>\n",
              "      <td>2012</td>\n",
              "      <td>2023-02-18 02:36:06+00:00</td>\n",
              "      <td>14.33</td>\n",
              "      <td>0</td>\n",
              "      <td>1</td>\n",
              "      <td>0</td>\n",
              "      <td>0</td>\n",
              "      <td>0</td>\n",
              "    </tr>\n",
              "    <tr>\n",
              "      <th>31547</th>\n",
              "      <td>732</td>\n",
              "      <td>495</td>\n",
              "      <td>406</td>\n",
              "      <td>16995</td>\n",
              "      <td>2015</td>\n",
              "      <td>2023-02-19 01:56:09+00:00</td>\n",
              "      <td>18.99</td>\n",
              "      <td>0</td>\n",
              "      <td>1</td>\n",
              "      <td>0</td>\n",
              "      <td>0</td>\n",
              "      <td>0</td>\n",
              "    </tr>\n",
              "    <tr>\n",
              "      <th>146068</th>\n",
              "      <td>730</td>\n",
              "      <td>495</td>\n",
              "      <td>406</td>\n",
              "      <td>28673</td>\n",
              "      <td>2010</td>\n",
              "      <td>2023-02-17 00:21:14+00:00</td>\n",
              "      <td>83.00</td>\n",
              "      <td>0</td>\n",
              "      <td>1</td>\n",
              "      <td>0</td>\n",
              "      <td>0</td>\n",
              "      <td>0</td>\n",
              "    </tr>\n",
              "  </tbody>\n",
              "</table>\n",
              "</div>"
            ],
            "text/plain": [
              "         id  order_id  user_id  product_id  inventory_item_id  \\\n",
              "19367   731       495      406       23156               2012   \n",
              "31547   732       495      406       16995               2015   \n",
              "146068  730       495      406       28673               2010   \n",
              "\n",
              "                       created_at  sale_price  itemStatus__Cancelled  \\\n",
              "19367   2023-02-18 02:36:06+00:00       14.33                      0   \n",
              "31547   2023-02-19 01:56:09+00:00       18.99                      0   \n",
              "146068  2023-02-17 00:21:14+00:00       83.00                      0   \n",
              "\n",
              "        itemStatus__Complete  itemStatus__Processing  itemStatus__Returned  \\\n",
              "19367                      1                       0                     0   \n",
              "31547                      1                       0                     0   \n",
              "146068                     1                       0                     0   \n",
              "\n",
              "        itemStatus__Shipped  \n",
              "19367                     0  \n",
              "31547                     0  \n",
              "146068                    0  "
            ]
          },
          "execution_count": 70,
          "metadata": {},
          "output_type": "execute_result"
        }
      ],
      "source": [
        "order_items[order_items['order_id'] == 495]"
      ]
    },
    {
      "cell_type": "code",
      "execution_count": 71,
      "metadata": {
        "id": "ejmRdRLbgUui"
      },
      "outputs": [],
      "source": [
        "order_items.rename(columns={'created_at':'order_created_at'}, inplace=True)"
      ]
    },
    {
      "cell_type": "code",
      "execution_count": 122,
      "metadata": {},
      "outputs": [
        {
          "data": {
            "text/plain": [
              "Index(['id', 'order_id', 'user_id', 'product_id', 'order_created_at',\n",
              "       'sale_price', 'itemStatus__Cancelled', 'itemStatus__Complete',\n",
              "       'itemStatus__Processing', 'itemStatus__Returned',\n",
              "       'itemStatus__Shipped'],\n",
              "      dtype='object')"
            ]
          },
          "execution_count": 122,
          "metadata": {},
          "output_type": "execute_result"
        }
      ],
      "source": [
        "order_items.columns"
      ]
    },
    {
      "cell_type": "markdown",
      "metadata": {
        "id": "X2ZQ2z7_u5Xq"
      },
      "source": [
        "# MERGING\n",
        "## ORDERS AND ORDER_ITEMS\n",
        "When merging order_items and orders, most of the information is repetitive except for 'num_of_item'. The final merged dataframe of these two should look very similar to order_ites, but it will contain 'num_of_item' and 'gender'"
      ]
    },
    {
      "cell_type": "code",
      "execution_count": 72,
      "metadata": {
        "id": "c3F4akIqWuaN"
      },
      "outputs": [],
      "source": [
        "order_items.drop(columns = ['inventory_item_id'], inplace=True)"
      ]
    },
    {
      "cell_type": "markdown",
      "metadata": {
        "id": "qajrdGQrvZQn"
      },
      "source": [
        "* Drop 'inventory_item_id'"
      ]
    },
    {
      "cell_type": "code",
      "execution_count": 73,
      "metadata": {
        "colab": {
          "base_uri": "https://localhost:8080/",
          "height": 309
        },
        "id": "YDNob96diaXx",
        "outputId": "5029f442-f279-4da4-c487-c14a44a51f62"
      },
      "outputs": [
        {
          "data": {
            "text/html": [
              "<div>\n",
              "<style scoped>\n",
              "    .dataframe tbody tr th:only-of-type {\n",
              "        vertical-align: middle;\n",
              "    }\n",
              "\n",
              "    .dataframe tbody tr th {\n",
              "        vertical-align: top;\n",
              "    }\n",
              "\n",
              "    .dataframe thead th {\n",
              "        text-align: right;\n",
              "    }\n",
              "</style>\n",
              "<table border=\"1\" class=\"dataframe\">\n",
              "  <thead>\n",
              "    <tr style=\"text-align: right;\">\n",
              "      <th></th>\n",
              "      <th>order_id</th>\n",
              "      <th>user_id</th>\n",
              "      <th>gender</th>\n",
              "      <th>num_of_item</th>\n",
              "      <th>orderStatus__Cancelled</th>\n",
              "      <th>orderStatus__Complete</th>\n",
              "      <th>orderStatus__Processing</th>\n",
              "      <th>orderStatus__Returned</th>\n",
              "      <th>orderStatus__Shipped</th>\n",
              "      <th>id</th>\n",
              "      <th>product_id</th>\n",
              "      <th>order_created_at</th>\n",
              "      <th>sale_price</th>\n",
              "      <th>itemStatus__Cancelled</th>\n",
              "      <th>itemStatus__Complete</th>\n",
              "      <th>itemStatus__Processing</th>\n",
              "      <th>itemStatus__Returned</th>\n",
              "      <th>itemStatus__Shipped</th>\n",
              "    </tr>\n",
              "  </thead>\n",
              "  <tbody>\n",
              "    <tr>\n",
              "      <th>0</th>\n",
              "      <td>8</td>\n",
              "      <td>5</td>\n",
              "      <td>F</td>\n",
              "      <td>3</td>\n",
              "      <td>1</td>\n",
              "      <td>0</td>\n",
              "      <td>0</td>\n",
              "      <td>0</td>\n",
              "      <td>0</td>\n",
              "      <td>13</td>\n",
              "      <td>6998</td>\n",
              "      <td>2022-10-22 07:55:58+00:00</td>\n",
              "      <td>15.67</td>\n",
              "      <td>1</td>\n",
              "      <td>0</td>\n",
              "      <td>0</td>\n",
              "      <td>0</td>\n",
              "      <td>0</td>\n",
              "    </tr>\n",
              "    <tr>\n",
              "      <th>1</th>\n",
              "      <td>8</td>\n",
              "      <td>5</td>\n",
              "      <td>F</td>\n",
              "      <td>3</td>\n",
              "      <td>1</td>\n",
              "      <td>0</td>\n",
              "      <td>0</td>\n",
              "      <td>0</td>\n",
              "      <td>0</td>\n",
              "      <td>11</td>\n",
              "      <td>7173</td>\n",
              "      <td>2022-10-20 06:35:35+00:00</td>\n",
              "      <td>24.99</td>\n",
              "      <td>1</td>\n",
              "      <td>0</td>\n",
              "      <td>0</td>\n",
              "      <td>0</td>\n",
              "      <td>0</td>\n",
              "    </tr>\n",
              "    <tr>\n",
              "      <th>2</th>\n",
              "      <td>8</td>\n",
              "      <td>5</td>\n",
              "      <td>F</td>\n",
              "      <td>3</td>\n",
              "      <td>1</td>\n",
              "      <td>0</td>\n",
              "      <td>0</td>\n",
              "      <td>0</td>\n",
              "      <td>0</td>\n",
              "      <td>12</td>\n",
              "      <td>1488</td>\n",
              "      <td>2022-10-24 07:19:09+00:00</td>\n",
              "      <td>24.99</td>\n",
              "      <td>1</td>\n",
              "      <td>0</td>\n",
              "      <td>0</td>\n",
              "      <td>0</td>\n",
              "      <td>0</td>\n",
              "    </tr>\n",
              "    <tr>\n",
              "      <th>3</th>\n",
              "      <td>60</td>\n",
              "      <td>44</td>\n",
              "      <td>F</td>\n",
              "      <td>1</td>\n",
              "      <td>1</td>\n",
              "      <td>0</td>\n",
              "      <td>0</td>\n",
              "      <td>0</td>\n",
              "      <td>0</td>\n",
              "      <td>96</td>\n",
              "      <td>14717</td>\n",
              "      <td>2023-01-20 00:35:38+00:00</td>\n",
              "      <td>16.99</td>\n",
              "      <td>1</td>\n",
              "      <td>0</td>\n",
              "      <td>0</td>\n",
              "      <td>0</td>\n",
              "      <td>0</td>\n",
              "    </tr>\n",
              "    <tr>\n",
              "      <th>4</th>\n",
              "      <td>64</td>\n",
              "      <td>46</td>\n",
              "      <td>F</td>\n",
              "      <td>1</td>\n",
              "      <td>1</td>\n",
              "      <td>0</td>\n",
              "      <td>0</td>\n",
              "      <td>0</td>\n",
              "      <td>0</td>\n",
              "      <td>100</td>\n",
              "      <td>9588</td>\n",
              "      <td>2021-12-06 06:35:44+00:00</td>\n",
              "      <td>36.00</td>\n",
              "      <td>1</td>\n",
              "      <td>0</td>\n",
              "      <td>0</td>\n",
              "      <td>0</td>\n",
              "      <td>0</td>\n",
              "    </tr>\n",
              "  </tbody>\n",
              "</table>\n",
              "</div>"
            ],
            "text/plain": [
              "   order_id  user_id gender  num_of_item  orderStatus__Cancelled  \\\n",
              "0         8        5      F            3                       1   \n",
              "1         8        5      F            3                       1   \n",
              "2         8        5      F            3                       1   \n",
              "3        60       44      F            1                       1   \n",
              "4        64       46      F            1                       1   \n",
              "\n",
              "   orderStatus__Complete  orderStatus__Processing  orderStatus__Returned  \\\n",
              "0                      0                        0                      0   \n",
              "1                      0                        0                      0   \n",
              "2                      0                        0                      0   \n",
              "3                      0                        0                      0   \n",
              "4                      0                        0                      0   \n",
              "\n",
              "   orderStatus__Shipped   id  product_id           order_created_at  \\\n",
              "0                     0   13        6998  2022-10-22 07:55:58+00:00   \n",
              "1                     0   11        7173  2022-10-20 06:35:35+00:00   \n",
              "2                     0   12        1488  2022-10-24 07:19:09+00:00   \n",
              "3                     0   96       14717  2023-01-20 00:35:38+00:00   \n",
              "4                     0  100        9588  2021-12-06 06:35:44+00:00   \n",
              "\n",
              "   sale_price  itemStatus__Cancelled  itemStatus__Complete  \\\n",
              "0       15.67                      1                     0   \n",
              "1       24.99                      1                     0   \n",
              "2       24.99                      1                     0   \n",
              "3       16.99                      1                     0   \n",
              "4       36.00                      1                     0   \n",
              "\n",
              "   itemStatus__Processing  itemStatus__Returned  itemStatus__Shipped  \n",
              "0                       0                     0                    0  \n",
              "1                       0                     0                    0  \n",
              "2                       0                     0                    0  \n",
              "3                       0                     0                    0  \n",
              "4                       0                     0                    0  "
            ]
          },
          "execution_count": 73,
          "metadata": {},
          "output_type": "execute_result"
        }
      ],
      "source": [
        "orders_andItems = pd.merge(orders, order_items, on=['order_id', 'user_id'], suffixes=('_order', '_item'))\n",
        "orders_andItems.head()"
      ]
    },
    {
      "cell_type": "markdown",
      "metadata": {
        "id": "WAnV6qAyg3MK"
      },
      "source": [
        "* Here you can see that 'status' is repetitive and the same in both 'orders' and 'order_items'"
      ]
    },
    {
      "cell_type": "code",
      "execution_count": 74,
      "metadata": {
        "colab": {
          "base_uri": "https://localhost:8080/",
          "height": 362
        },
        "id": "jGIG8YcFzD1s",
        "outputId": "92ee157b-0c5a-4ce7-c0a7-e676c6ac42ba"
      },
      "outputs": [
        {
          "data": {
            "text/plain": [
              "order_id                   0\n",
              "user_id                    0\n",
              "gender                     0\n",
              "num_of_item                0\n",
              "orderStatus__Cancelled     0\n",
              "orderStatus__Complete      0\n",
              "orderStatus__Processing    0\n",
              "orderStatus__Returned      0\n",
              "orderStatus__Shipped       0\n",
              "dtype: int64"
            ]
          },
          "execution_count": 74,
          "metadata": {},
          "output_type": "execute_result"
        }
      ],
      "source": [
        "orders.isna().sum()"
      ]
    },
    {
      "cell_type": "code",
      "execution_count": 75,
      "metadata": {
        "id": "kYxHV9sqjVcC"
      },
      "outputs": [],
      "source": [
        "orders_andItems.drop(columns = ['orderStatus__Cancelled', 'orderStatus__Complete', 'orderStatus__Processing', 'orderStatus__Returned', 'orderStatus__Shipped'], inplace=True)"
      ]
    },
    {
      "cell_type": "code",
      "execution_count": 76,
      "metadata": {
        "colab": {
          "base_uri": "https://localhost:8080/",
          "height": 309
        },
        "id": "xNRRors-wPBP",
        "outputId": "5d965dc3-b726-4ea2-b8d4-e7b0d6baf9f7"
      },
      "outputs": [
        {
          "data": {
            "text/html": [
              "<div>\n",
              "<style scoped>\n",
              "    .dataframe tbody tr th:only-of-type {\n",
              "        vertical-align: middle;\n",
              "    }\n",
              "\n",
              "    .dataframe tbody tr th {\n",
              "        vertical-align: top;\n",
              "    }\n",
              "\n",
              "    .dataframe thead th {\n",
              "        text-align: right;\n",
              "    }\n",
              "</style>\n",
              "<table border=\"1\" class=\"dataframe\">\n",
              "  <thead>\n",
              "    <tr style=\"text-align: right;\">\n",
              "      <th></th>\n",
              "      <th>order_id</th>\n",
              "      <th>user_id</th>\n",
              "      <th>gender</th>\n",
              "      <th>num_of_item</th>\n",
              "      <th>id</th>\n",
              "      <th>product_id</th>\n",
              "      <th>order_created_at</th>\n",
              "      <th>sale_price</th>\n",
              "      <th>itemStatus__Cancelled</th>\n",
              "      <th>itemStatus__Complete</th>\n",
              "      <th>itemStatus__Processing</th>\n",
              "      <th>itemStatus__Returned</th>\n",
              "      <th>itemStatus__Shipped</th>\n",
              "    </tr>\n",
              "  </thead>\n",
              "  <tbody>\n",
              "    <tr>\n",
              "      <th>0</th>\n",
              "      <td>8</td>\n",
              "      <td>5</td>\n",
              "      <td>F</td>\n",
              "      <td>3</td>\n",
              "      <td>13</td>\n",
              "      <td>6998</td>\n",
              "      <td>2022-10-22 07:55:58+00:00</td>\n",
              "      <td>15.67</td>\n",
              "      <td>1</td>\n",
              "      <td>0</td>\n",
              "      <td>0</td>\n",
              "      <td>0</td>\n",
              "      <td>0</td>\n",
              "    </tr>\n",
              "    <tr>\n",
              "      <th>1</th>\n",
              "      <td>8</td>\n",
              "      <td>5</td>\n",
              "      <td>F</td>\n",
              "      <td>3</td>\n",
              "      <td>11</td>\n",
              "      <td>7173</td>\n",
              "      <td>2022-10-20 06:35:35+00:00</td>\n",
              "      <td>24.99</td>\n",
              "      <td>1</td>\n",
              "      <td>0</td>\n",
              "      <td>0</td>\n",
              "      <td>0</td>\n",
              "      <td>0</td>\n",
              "    </tr>\n",
              "    <tr>\n",
              "      <th>2</th>\n",
              "      <td>8</td>\n",
              "      <td>5</td>\n",
              "      <td>F</td>\n",
              "      <td>3</td>\n",
              "      <td>12</td>\n",
              "      <td>1488</td>\n",
              "      <td>2022-10-24 07:19:09+00:00</td>\n",
              "      <td>24.99</td>\n",
              "      <td>1</td>\n",
              "      <td>0</td>\n",
              "      <td>0</td>\n",
              "      <td>0</td>\n",
              "      <td>0</td>\n",
              "    </tr>\n",
              "    <tr>\n",
              "      <th>3</th>\n",
              "      <td>60</td>\n",
              "      <td>44</td>\n",
              "      <td>F</td>\n",
              "      <td>1</td>\n",
              "      <td>96</td>\n",
              "      <td>14717</td>\n",
              "      <td>2023-01-20 00:35:38+00:00</td>\n",
              "      <td>16.99</td>\n",
              "      <td>1</td>\n",
              "      <td>0</td>\n",
              "      <td>0</td>\n",
              "      <td>0</td>\n",
              "      <td>0</td>\n",
              "    </tr>\n",
              "    <tr>\n",
              "      <th>4</th>\n",
              "      <td>64</td>\n",
              "      <td>46</td>\n",
              "      <td>F</td>\n",
              "      <td>1</td>\n",
              "      <td>100</td>\n",
              "      <td>9588</td>\n",
              "      <td>2021-12-06 06:35:44+00:00</td>\n",
              "      <td>36.00</td>\n",
              "      <td>1</td>\n",
              "      <td>0</td>\n",
              "      <td>0</td>\n",
              "      <td>0</td>\n",
              "      <td>0</td>\n",
              "    </tr>\n",
              "  </tbody>\n",
              "</table>\n",
              "</div>"
            ],
            "text/plain": [
              "   order_id  user_id gender  num_of_item   id  product_id  \\\n",
              "0         8        5      F            3   13        6998   \n",
              "1         8        5      F            3   11        7173   \n",
              "2         8        5      F            3   12        1488   \n",
              "3        60       44      F            1   96       14717   \n",
              "4        64       46      F            1  100        9588   \n",
              "\n",
              "            order_created_at  sale_price  itemStatus__Cancelled  \\\n",
              "0  2022-10-22 07:55:58+00:00       15.67                      1   \n",
              "1  2022-10-20 06:35:35+00:00       24.99                      1   \n",
              "2  2022-10-24 07:19:09+00:00       24.99                      1   \n",
              "3  2023-01-20 00:35:38+00:00       16.99                      1   \n",
              "4  2021-12-06 06:35:44+00:00       36.00                      1   \n",
              "\n",
              "   itemStatus__Complete  itemStatus__Processing  itemStatus__Returned  \\\n",
              "0                     0                       0                     0   \n",
              "1                     0                       0                     0   \n",
              "2                     0                       0                     0   \n",
              "3                     0                       0                     0   \n",
              "4                     0                       0                     0   \n",
              "\n",
              "   itemStatus__Shipped  \n",
              "0                    0  \n",
              "1                    0  \n",
              "2                    0  \n",
              "3                    0  \n",
              "4                    0  "
            ]
          },
          "execution_count": 76,
          "metadata": {},
          "output_type": "execute_result"
        }
      ],
      "source": [
        "orders_andItems.head()"
      ]
    },
    {
      "cell_type": "markdown",
      "metadata": {
        "id": "d1ZFeo1gwUxP"
      },
      "source": [
        "* Dropped 'orderstatus...' because the information was repetitive (same for each instance in both 'orders' and 'order_items', just repeated')"
      ]
    },
    {
      "cell_type": "code",
      "execution_count": 77,
      "metadata": {
        "id": "-hjbP-f9lHFB"
      },
      "outputs": [],
      "source": [
        "orders_andItems.rename(columns={'itemStatus__Cancelled':'status_cancelled', 'itemStatus__Complete':'status_complete', 'itemStatus__Processing':'status_processing', 'itemStatus__Returned':'status_returned','itemStatus__Shipped':'status__shipped'}, inplace=True)\n"
      ]
    },
    {
      "cell_type": "markdown",
      "metadata": {
        "id": "OiegDsPagq8c"
      },
      "source": [
        "* Remanmed the status columns for clarity"
      ]
    },
    {
      "cell_type": "code",
      "execution_count": 78,
      "metadata": {
        "colab": {
          "base_uri": "https://localhost:8080/",
          "height": 309
        },
        "id": "oUmJ8IqanhYZ",
        "outputId": "6fc5476a-bb85-405d-baf5-27128bdfadda"
      },
      "outputs": [
        {
          "data": {
            "text/html": [
              "<div>\n",
              "<style scoped>\n",
              "    .dataframe tbody tr th:only-of-type {\n",
              "        vertical-align: middle;\n",
              "    }\n",
              "\n",
              "    .dataframe tbody tr th {\n",
              "        vertical-align: top;\n",
              "    }\n",
              "\n",
              "    .dataframe thead th {\n",
              "        text-align: right;\n",
              "    }\n",
              "</style>\n",
              "<table border=\"1\" class=\"dataframe\">\n",
              "  <thead>\n",
              "    <tr style=\"text-align: right;\">\n",
              "      <th></th>\n",
              "      <th>order_id</th>\n",
              "      <th>user_id</th>\n",
              "      <th>gender</th>\n",
              "      <th>num_of_item</th>\n",
              "      <th>id</th>\n",
              "      <th>product_id</th>\n",
              "      <th>order_created_at</th>\n",
              "      <th>sale_price</th>\n",
              "      <th>status_cancelled</th>\n",
              "      <th>status_complete</th>\n",
              "      <th>status_processing</th>\n",
              "      <th>status_returned</th>\n",
              "      <th>status__shipped</th>\n",
              "    </tr>\n",
              "  </thead>\n",
              "  <tbody>\n",
              "    <tr>\n",
              "      <th>0</th>\n",
              "      <td>8</td>\n",
              "      <td>5</td>\n",
              "      <td>F</td>\n",
              "      <td>3</td>\n",
              "      <td>13</td>\n",
              "      <td>6998</td>\n",
              "      <td>2022-10-22 07:55:58+00:00</td>\n",
              "      <td>15.67</td>\n",
              "      <td>1</td>\n",
              "      <td>0</td>\n",
              "      <td>0</td>\n",
              "      <td>0</td>\n",
              "      <td>0</td>\n",
              "    </tr>\n",
              "    <tr>\n",
              "      <th>1</th>\n",
              "      <td>8</td>\n",
              "      <td>5</td>\n",
              "      <td>F</td>\n",
              "      <td>3</td>\n",
              "      <td>11</td>\n",
              "      <td>7173</td>\n",
              "      <td>2022-10-20 06:35:35+00:00</td>\n",
              "      <td>24.99</td>\n",
              "      <td>1</td>\n",
              "      <td>0</td>\n",
              "      <td>0</td>\n",
              "      <td>0</td>\n",
              "      <td>0</td>\n",
              "    </tr>\n",
              "    <tr>\n",
              "      <th>2</th>\n",
              "      <td>8</td>\n",
              "      <td>5</td>\n",
              "      <td>F</td>\n",
              "      <td>3</td>\n",
              "      <td>12</td>\n",
              "      <td>1488</td>\n",
              "      <td>2022-10-24 07:19:09+00:00</td>\n",
              "      <td>24.99</td>\n",
              "      <td>1</td>\n",
              "      <td>0</td>\n",
              "      <td>0</td>\n",
              "      <td>0</td>\n",
              "      <td>0</td>\n",
              "    </tr>\n",
              "    <tr>\n",
              "      <th>3</th>\n",
              "      <td>60</td>\n",
              "      <td>44</td>\n",
              "      <td>F</td>\n",
              "      <td>1</td>\n",
              "      <td>96</td>\n",
              "      <td>14717</td>\n",
              "      <td>2023-01-20 00:35:38+00:00</td>\n",
              "      <td>16.99</td>\n",
              "      <td>1</td>\n",
              "      <td>0</td>\n",
              "      <td>0</td>\n",
              "      <td>0</td>\n",
              "      <td>0</td>\n",
              "    </tr>\n",
              "    <tr>\n",
              "      <th>4</th>\n",
              "      <td>64</td>\n",
              "      <td>46</td>\n",
              "      <td>F</td>\n",
              "      <td>1</td>\n",
              "      <td>100</td>\n",
              "      <td>9588</td>\n",
              "      <td>2021-12-06 06:35:44+00:00</td>\n",
              "      <td>36.00</td>\n",
              "      <td>1</td>\n",
              "      <td>0</td>\n",
              "      <td>0</td>\n",
              "      <td>0</td>\n",
              "      <td>0</td>\n",
              "    </tr>\n",
              "  </tbody>\n",
              "</table>\n",
              "</div>"
            ],
            "text/plain": [
              "   order_id  user_id gender  num_of_item   id  product_id  \\\n",
              "0         8        5      F            3   13        6998   \n",
              "1         8        5      F            3   11        7173   \n",
              "2         8        5      F            3   12        1488   \n",
              "3        60       44      F            1   96       14717   \n",
              "4        64       46      F            1  100        9588   \n",
              "\n",
              "            order_created_at  sale_price  status_cancelled  status_complete  \\\n",
              "0  2022-10-22 07:55:58+00:00       15.67                 1                0   \n",
              "1  2022-10-20 06:35:35+00:00       24.99                 1                0   \n",
              "2  2022-10-24 07:19:09+00:00       24.99                 1                0   \n",
              "3  2023-01-20 00:35:38+00:00       16.99                 1                0   \n",
              "4  2021-12-06 06:35:44+00:00       36.00                 1                0   \n",
              "\n",
              "   status_processing  status_returned  status__shipped  \n",
              "0                  0                0                0  \n",
              "1                  0                0                0  \n",
              "2                  0                0                0  \n",
              "3                  0                0                0  \n",
              "4                  0                0                0  "
            ]
          },
          "execution_count": 78,
          "metadata": {},
          "output_type": "execute_result"
        }
      ],
      "source": [
        "orders_andItems.head()"
      ]
    },
    {
      "cell_type": "markdown",
      "metadata": {
        "id": "v26ZgdL0xHfM"
      },
      "source": [
        "## MERGING ORDERS AND USERS"
      ]
    },
    {
      "cell_type": "code",
      "execution_count": 79,
      "metadata": {
        "colab": {
          "base_uri": "https://localhost:8080/",
          "height": 204
        },
        "id": "EJYxbZZuuq_9",
        "outputId": "87ee8f6c-cbb3-42ec-c36e-14a749f111c7"
      },
      "outputs": [
        {
          "data": {
            "text/html": [
              "<div>\n",
              "<style scoped>\n",
              "    .dataframe tbody tr th:only-of-type {\n",
              "        vertical-align: middle;\n",
              "    }\n",
              "\n",
              "    .dataframe tbody tr th {\n",
              "        vertical-align: top;\n",
              "    }\n",
              "\n",
              "    .dataframe thead th {\n",
              "        text-align: right;\n",
              "    }\n",
              "</style>\n",
              "<table border=\"1\" class=\"dataframe\">\n",
              "  <thead>\n",
              "    <tr style=\"text-align: right;\">\n",
              "      <th></th>\n",
              "      <th>id</th>\n",
              "      <th>age</th>\n",
              "      <th>gender</th>\n",
              "      <th>state</th>\n",
              "      <th>postal_code</th>\n",
              "      <th>traffic_source</th>\n",
              "    </tr>\n",
              "  </thead>\n",
              "  <tbody>\n",
              "    <tr>\n",
              "      <th>113</th>\n",
              "      <td>5399</td>\n",
              "      <td>44</td>\n",
              "      <td>M</td>\n",
              "      <td>Alabama</td>\n",
              "      <td>36303</td>\n",
              "      <td>Organic</td>\n",
              "    </tr>\n",
              "    <tr>\n",
              "      <th>114</th>\n",
              "      <td>42412</td>\n",
              "      <td>55</td>\n",
              "      <td>F</td>\n",
              "      <td>Alabama</td>\n",
              "      <td>36303</td>\n",
              "      <td>Facebook</td>\n",
              "    </tr>\n",
              "    <tr>\n",
              "      <th>115</th>\n",
              "      <td>60930</td>\n",
              "      <td>38</td>\n",
              "      <td>M</td>\n",
              "      <td>Alabama</td>\n",
              "      <td>36303</td>\n",
              "      <td>Search</td>\n",
              "    </tr>\n",
              "    <tr>\n",
              "      <th>116</th>\n",
              "      <td>72320</td>\n",
              "      <td>18</td>\n",
              "      <td>F</td>\n",
              "      <td>Alabama</td>\n",
              "      <td>36303</td>\n",
              "      <td>Search</td>\n",
              "    </tr>\n",
              "    <tr>\n",
              "      <th>117</th>\n",
              "      <td>88924</td>\n",
              "      <td>38</td>\n",
              "      <td>M</td>\n",
              "      <td>Alabama</td>\n",
              "      <td>36303</td>\n",
              "      <td>Search</td>\n",
              "    </tr>\n",
              "  </tbody>\n",
              "</table>\n",
              "</div>"
            ],
            "text/plain": [
              "        id  age gender    state postal_code traffic_source\n",
              "113   5399   44      M  Alabama       36303        Organic\n",
              "114  42412   55      F  Alabama       36303       Facebook\n",
              "115  60930   38      M  Alabama       36303         Search\n",
              "116  72320   18      F  Alabama       36303         Search\n",
              "117  88924   38      M  Alabama       36303         Search"
            ]
          },
          "execution_count": 79,
          "metadata": {},
          "output_type": "execute_result"
        }
      ],
      "source": [
        "users.head()"
      ]
    },
    {
      "cell_type": "code",
      "execution_count": 80,
      "metadata": {
        "id": "dHUl-qt036QW"
      },
      "outputs": [],
      "source": [
        "users.rename(columns={'id':'user_id'}, inplace=True)"
      ]
    },
    {
      "cell_type": "code",
      "execution_count": 81,
      "metadata": {
        "colab": {
          "base_uri": "https://localhost:8080/",
          "height": 309
        },
        "id": "gwz3Iz_ZxOoB",
        "outputId": "655b48cf-47ee-43c1-f2fd-76f339e698f9"
      },
      "outputs": [
        {
          "data": {
            "text/html": [
              "<div>\n",
              "<style scoped>\n",
              "    .dataframe tbody tr th:only-of-type {\n",
              "        vertical-align: middle;\n",
              "    }\n",
              "\n",
              "    .dataframe tbody tr th {\n",
              "        vertical-align: top;\n",
              "    }\n",
              "\n",
              "    .dataframe thead th {\n",
              "        text-align: right;\n",
              "    }\n",
              "</style>\n",
              "<table border=\"1\" class=\"dataframe\">\n",
              "  <thead>\n",
              "    <tr style=\"text-align: right;\">\n",
              "      <th></th>\n",
              "      <th>order_id</th>\n",
              "      <th>user_id</th>\n",
              "      <th>gender_orders</th>\n",
              "      <th>num_of_item</th>\n",
              "      <th>id</th>\n",
              "      <th>product_id</th>\n",
              "      <th>order_created_at</th>\n",
              "      <th>sale_price</th>\n",
              "      <th>status_cancelled</th>\n",
              "      <th>status_complete</th>\n",
              "      <th>status_processing</th>\n",
              "      <th>status_returned</th>\n",
              "      <th>status__shipped</th>\n",
              "      <th>age</th>\n",
              "      <th>gender_users</th>\n",
              "      <th>state</th>\n",
              "      <th>postal_code</th>\n",
              "      <th>traffic_source</th>\n",
              "    </tr>\n",
              "  </thead>\n",
              "  <tbody>\n",
              "    <tr>\n",
              "      <th>0</th>\n",
              "      <td>64</td>\n",
              "      <td>46</td>\n",
              "      <td>F</td>\n",
              "      <td>1</td>\n",
              "      <td>100</td>\n",
              "      <td>9588</td>\n",
              "      <td>2021-12-06 06:35:44+00:00</td>\n",
              "      <td>36.000000</td>\n",
              "      <td>1</td>\n",
              "      <td>0</td>\n",
              "      <td>0</td>\n",
              "      <td>0</td>\n",
              "      <td>0</td>\n",
              "      <td>40</td>\n",
              "      <td>F</td>\n",
              "      <td>New York</td>\n",
              "      <td>10474</td>\n",
              "      <td>Search</td>\n",
              "    </tr>\n",
              "    <tr>\n",
              "      <th>1</th>\n",
              "      <td>185</td>\n",
              "      <td>149</td>\n",
              "      <td>F</td>\n",
              "      <td>2</td>\n",
              "      <td>279</td>\n",
              "      <td>1238</td>\n",
              "      <td>2021-08-30 08:34:34+00:00</td>\n",
              "      <td>31.920000</td>\n",
              "      <td>1</td>\n",
              "      <td>0</td>\n",
              "      <td>0</td>\n",
              "      <td>0</td>\n",
              "      <td>0</td>\n",
              "      <td>22</td>\n",
              "      <td>F</td>\n",
              "      <td>Florida</td>\n",
              "      <td>33317</td>\n",
              "      <td>Facebook</td>\n",
              "    </tr>\n",
              "    <tr>\n",
              "      <th>2</th>\n",
              "      <td>185</td>\n",
              "      <td>149</td>\n",
              "      <td>F</td>\n",
              "      <td>2</td>\n",
              "      <td>278</td>\n",
              "      <td>5485</td>\n",
              "      <td>2021-09-02 10:08:47+00:00</td>\n",
              "      <td>34.990002</td>\n",
              "      <td>1</td>\n",
              "      <td>0</td>\n",
              "      <td>0</td>\n",
              "      <td>0</td>\n",
              "      <td>0</td>\n",
              "      <td>22</td>\n",
              "      <td>F</td>\n",
              "      <td>Florida</td>\n",
              "      <td>33317</td>\n",
              "      <td>Facebook</td>\n",
              "    </tr>\n",
              "    <tr>\n",
              "      <th>3</th>\n",
              "      <td>248</td>\n",
              "      <td>207</td>\n",
              "      <td>F</td>\n",
              "      <td>2</td>\n",
              "      <td>369</td>\n",
              "      <td>3939</td>\n",
              "      <td>2024-01-12 04:58:51+00:00</td>\n",
              "      <td>11.810000</td>\n",
              "      <td>1</td>\n",
              "      <td>0</td>\n",
              "      <td>0</td>\n",
              "      <td>0</td>\n",
              "      <td>0</td>\n",
              "      <td>53</td>\n",
              "      <td>F</td>\n",
              "      <td>New Jersey</td>\n",
              "      <td>8037</td>\n",
              "      <td>Search</td>\n",
              "    </tr>\n",
              "    <tr>\n",
              "      <th>4</th>\n",
              "      <td>248</td>\n",
              "      <td>207</td>\n",
              "      <td>F</td>\n",
              "      <td>2</td>\n",
              "      <td>370</td>\n",
              "      <td>2777</td>\n",
              "      <td>2024-01-16 03:05:17+00:00</td>\n",
              "      <td>18.990000</td>\n",
              "      <td>1</td>\n",
              "      <td>0</td>\n",
              "      <td>0</td>\n",
              "      <td>0</td>\n",
              "      <td>0</td>\n",
              "      <td>53</td>\n",
              "      <td>F</td>\n",
              "      <td>New Jersey</td>\n",
              "      <td>8037</td>\n",
              "      <td>Search</td>\n",
              "    </tr>\n",
              "  </tbody>\n",
              "</table>\n",
              "</div>"
            ],
            "text/plain": [
              "   order_id  user_id gender_orders  num_of_item   id  product_id  \\\n",
              "0        64       46             F            1  100        9588   \n",
              "1       185      149             F            2  279        1238   \n",
              "2       185      149             F            2  278        5485   \n",
              "3       248      207             F            2  369        3939   \n",
              "4       248      207             F            2  370        2777   \n",
              "\n",
              "            order_created_at  sale_price  status_cancelled  status_complete  \\\n",
              "0  2021-12-06 06:35:44+00:00   36.000000                 1                0   \n",
              "1  2021-08-30 08:34:34+00:00   31.920000                 1                0   \n",
              "2  2021-09-02 10:08:47+00:00   34.990002                 1                0   \n",
              "3  2024-01-12 04:58:51+00:00   11.810000                 1                0   \n",
              "4  2024-01-16 03:05:17+00:00   18.990000                 1                0   \n",
              "\n",
              "   status_processing  status_returned  status__shipped  age gender_users  \\\n",
              "0                  0                0                0   40            F   \n",
              "1                  0                0                0   22            F   \n",
              "2                  0                0                0   22            F   \n",
              "3                  0                0                0   53            F   \n",
              "4                  0                0                0   53            F   \n",
              "\n",
              "        state postal_code traffic_source  \n",
              "0    New York       10474         Search  \n",
              "1     Florida       33317       Facebook  \n",
              "2     Florida       33317       Facebook  \n",
              "3  New Jersey        8037         Search  \n",
              "4  New Jersey        8037         Search  "
            ]
          },
          "execution_count": 81,
          "metadata": {},
          "output_type": "execute_result"
        }
      ],
      "source": [
        "orders_users = pd.merge(orders_andItems, users, on=['user_id', 'user_id'], suffixes=('_orders', '_users'))\n",
        "orders_users.head()"
      ]
    },
    {
      "cell_type": "markdown",
      "metadata": {
        "id": "_DRiojfGykXd"
      },
      "source": [
        "There is also repetitive information here.\n",
        "'gender_users' and 'gender_orders' is the same and can be dropped"
      ]
    },
    {
      "cell_type": "code",
      "execution_count": 82,
      "metadata": {
        "id": "3IJTOCVoyvr9"
      },
      "outputs": [],
      "source": [
        "orders_users.drop(columns = ['gender_users'], inplace=True)"
      ]
    },
    {
      "cell_type": "code",
      "execution_count": 83,
      "metadata": {
        "id": "MvGnR1URyzL-"
      },
      "outputs": [],
      "source": [
        "orders_users.rename(columns={'gender_orders':'gender'}, inplace=True)"
      ]
    },
    {
      "cell_type": "code",
      "execution_count": 84,
      "metadata": {
        "colab": {
          "base_uri": "https://localhost:8080/",
          "height": 610
        },
        "id": "tkuF5K-gy3j9",
        "outputId": "70b38ef4-e0cd-41d4-f506-0a71188b33ac"
      },
      "outputs": [
        {
          "data": {
            "text/plain": [
              "order_id             0\n",
              "user_id              0\n",
              "gender               0\n",
              "num_of_item          0\n",
              "id                   0\n",
              "product_id           0\n",
              "order_created_at     0\n",
              "sale_price           0\n",
              "status_cancelled     0\n",
              "status_complete      0\n",
              "status_processing    0\n",
              "status_returned      0\n",
              "status__shipped      0\n",
              "age                  0\n",
              "state                0\n",
              "postal_code          0\n",
              "traffic_source       0\n",
              "dtype: int64"
            ]
          },
          "execution_count": 84,
          "metadata": {},
          "output_type": "execute_result"
        }
      ],
      "source": [
        "orders_users.isna().sum()"
      ]
    },
    {
      "cell_type": "markdown",
      "metadata": {
        "id": "WCGPfNkK08LZ"
      },
      "source": [
        "## MERGING ORDERS, USERS, AND PRODUCTS"
      ]
    },
    {
      "cell_type": "code",
      "execution_count": 85,
      "metadata": {
        "colab": {
          "base_uri": "https://localhost:8080/",
          "height": 204
        },
        "id": "Eu6e3MYhy7uo",
        "outputId": "4a0f8285-6a6e-47e1-bc09-91aa39cc959a"
      },
      "outputs": [
        {
          "data": {
            "text/html": [
              "<div>\n",
              "<style scoped>\n",
              "    .dataframe tbody tr th:only-of-type {\n",
              "        vertical-align: middle;\n",
              "    }\n",
              "\n",
              "    .dataframe tbody tr th {\n",
              "        vertical-align: top;\n",
              "    }\n",
              "\n",
              "    .dataframe thead th {\n",
              "        text-align: right;\n",
              "    }\n",
              "</style>\n",
              "<table border=\"1\" class=\"dataframe\">\n",
              "  <thead>\n",
              "    <tr style=\"text-align: right;\">\n",
              "      <th></th>\n",
              "      <th>id</th>\n",
              "      <th>cost</th>\n",
              "      <th>category</th>\n",
              "      <th>name</th>\n",
              "      <th>brand</th>\n",
              "      <th>retail_price</th>\n",
              "      <th>department</th>\n",
              "    </tr>\n",
              "  </thead>\n",
              "  <tbody>\n",
              "    <tr>\n",
              "      <th>0</th>\n",
              "      <td>13842</td>\n",
              "      <td>2.51875</td>\n",
              "      <td>Accessories</td>\n",
              "      <td>Low Profile Dyed Cotton Twill Cap - Navy W39S55D</td>\n",
              "      <td>MG</td>\n",
              "      <td>6.25</td>\n",
              "      <td>Women</td>\n",
              "    </tr>\n",
              "    <tr>\n",
              "      <th>1</th>\n",
              "      <td>13928</td>\n",
              "      <td>2.33835</td>\n",
              "      <td>Accessories</td>\n",
              "      <td>Low Profile Dyed Cotton Twill Cap - Putty W39S55D</td>\n",
              "      <td>MG</td>\n",
              "      <td>5.95</td>\n",
              "      <td>Women</td>\n",
              "    </tr>\n",
              "    <tr>\n",
              "      <th>2</th>\n",
              "      <td>14115</td>\n",
              "      <td>4.87956</td>\n",
              "      <td>Accessories</td>\n",
              "      <td>Enzyme Regular Solid Army Caps-Black W35S45D</td>\n",
              "      <td>MG</td>\n",
              "      <td>10.99</td>\n",
              "      <td>Women</td>\n",
              "    </tr>\n",
              "    <tr>\n",
              "      <th>3</th>\n",
              "      <td>14157</td>\n",
              "      <td>4.64877</td>\n",
              "      <td>Accessories</td>\n",
              "      <td>Enzyme Regular Solid Army Caps-Olive W35S45D (...</td>\n",
              "      <td>MG</td>\n",
              "      <td>10.99</td>\n",
              "      <td>Women</td>\n",
              "    </tr>\n",
              "    <tr>\n",
              "      <th>4</th>\n",
              "      <td>14273</td>\n",
              "      <td>6.50793</td>\n",
              "      <td>Accessories</td>\n",
              "      <td>Washed Canvas Ivy Cap - Black W11S64C</td>\n",
              "      <td>MG</td>\n",
              "      <td>15.99</td>\n",
              "      <td>Women</td>\n",
              "    </tr>\n",
              "  </tbody>\n",
              "</table>\n",
              "</div>"
            ],
            "text/plain": [
              "      id     cost     category  \\\n",
              "0  13842  2.51875  Accessories   \n",
              "1  13928  2.33835  Accessories   \n",
              "2  14115  4.87956  Accessories   \n",
              "3  14157  4.64877  Accessories   \n",
              "4  14273  6.50793  Accessories   \n",
              "\n",
              "                                                name brand  retail_price  \\\n",
              "0   Low Profile Dyed Cotton Twill Cap - Navy W39S55D    MG          6.25   \n",
              "1  Low Profile Dyed Cotton Twill Cap - Putty W39S55D    MG          5.95   \n",
              "2       Enzyme Regular Solid Army Caps-Black W35S45D    MG         10.99   \n",
              "3  Enzyme Regular Solid Army Caps-Olive W35S45D (...    MG         10.99   \n",
              "4              Washed Canvas Ivy Cap - Black W11S64C    MG         15.99   \n",
              "\n",
              "  department  \n",
              "0      Women  \n",
              "1      Women  \n",
              "2      Women  \n",
              "3      Women  \n",
              "4      Women  "
            ]
          },
          "execution_count": 85,
          "metadata": {},
          "output_type": "execute_result"
        }
      ],
      "source": [
        "products.head()"
      ]
    },
    {
      "cell_type": "code",
      "execution_count": 86,
      "metadata": {
        "id": "at_Ogn4H1VyX"
      },
      "outputs": [],
      "source": [
        "products.rename(columns={'id':'product_id'}, inplace=True)"
      ]
    },
    {
      "cell_type": "code",
      "execution_count": 87,
      "metadata": {
        "colab": {
          "base_uri": "https://localhost:8080/",
          "height": 309
        },
        "id": "9uJnFrji0_6r",
        "outputId": "1384639a-cdc3-45a6-935e-94be80e227b9"
      },
      "outputs": [
        {
          "data": {
            "text/html": [
              "<div>\n",
              "<style scoped>\n",
              "    .dataframe tbody tr th:only-of-type {\n",
              "        vertical-align: middle;\n",
              "    }\n",
              "\n",
              "    .dataframe tbody tr th {\n",
              "        vertical-align: top;\n",
              "    }\n",
              "\n",
              "    .dataframe thead th {\n",
              "        text-align: right;\n",
              "    }\n",
              "</style>\n",
              "<table border=\"1\" class=\"dataframe\">\n",
              "  <thead>\n",
              "    <tr style=\"text-align: right;\">\n",
              "      <th></th>\n",
              "      <th>order_id</th>\n",
              "      <th>user_id</th>\n",
              "      <th>gender</th>\n",
              "      <th>num_of_item</th>\n",
              "      <th>id</th>\n",
              "      <th>product_id</th>\n",
              "      <th>order_created_at</th>\n",
              "      <th>sale_price</th>\n",
              "      <th>status_cancelled</th>\n",
              "      <th>status_complete</th>\n",
              "      <th>status_processing</th>\n",
              "      <th>status_returned</th>\n",
              "      <th>status__shipped</th>\n",
              "      <th>age</th>\n",
              "      <th>state</th>\n",
              "      <th>postal_code</th>\n",
              "      <th>traffic_source</th>\n",
              "    </tr>\n",
              "  </thead>\n",
              "  <tbody>\n",
              "    <tr>\n",
              "      <th>0</th>\n",
              "      <td>64</td>\n",
              "      <td>46</td>\n",
              "      <td>F</td>\n",
              "      <td>1</td>\n",
              "      <td>100</td>\n",
              "      <td>9588</td>\n",
              "      <td>2021-12-06 06:35:44+00:00</td>\n",
              "      <td>36.000000</td>\n",
              "      <td>1</td>\n",
              "      <td>0</td>\n",
              "      <td>0</td>\n",
              "      <td>0</td>\n",
              "      <td>0</td>\n",
              "      <td>40</td>\n",
              "      <td>New York</td>\n",
              "      <td>10474</td>\n",
              "      <td>Search</td>\n",
              "    </tr>\n",
              "    <tr>\n",
              "      <th>1</th>\n",
              "      <td>185</td>\n",
              "      <td>149</td>\n",
              "      <td>F</td>\n",
              "      <td>2</td>\n",
              "      <td>279</td>\n",
              "      <td>1238</td>\n",
              "      <td>2021-08-30 08:34:34+00:00</td>\n",
              "      <td>31.920000</td>\n",
              "      <td>1</td>\n",
              "      <td>0</td>\n",
              "      <td>0</td>\n",
              "      <td>0</td>\n",
              "      <td>0</td>\n",
              "      <td>22</td>\n",
              "      <td>Florida</td>\n",
              "      <td>33317</td>\n",
              "      <td>Facebook</td>\n",
              "    </tr>\n",
              "    <tr>\n",
              "      <th>2</th>\n",
              "      <td>185</td>\n",
              "      <td>149</td>\n",
              "      <td>F</td>\n",
              "      <td>2</td>\n",
              "      <td>278</td>\n",
              "      <td>5485</td>\n",
              "      <td>2021-09-02 10:08:47+00:00</td>\n",
              "      <td>34.990002</td>\n",
              "      <td>1</td>\n",
              "      <td>0</td>\n",
              "      <td>0</td>\n",
              "      <td>0</td>\n",
              "      <td>0</td>\n",
              "      <td>22</td>\n",
              "      <td>Florida</td>\n",
              "      <td>33317</td>\n",
              "      <td>Facebook</td>\n",
              "    </tr>\n",
              "    <tr>\n",
              "      <th>3</th>\n",
              "      <td>248</td>\n",
              "      <td>207</td>\n",
              "      <td>F</td>\n",
              "      <td>2</td>\n",
              "      <td>369</td>\n",
              "      <td>3939</td>\n",
              "      <td>2024-01-12 04:58:51+00:00</td>\n",
              "      <td>11.810000</td>\n",
              "      <td>1</td>\n",
              "      <td>0</td>\n",
              "      <td>0</td>\n",
              "      <td>0</td>\n",
              "      <td>0</td>\n",
              "      <td>53</td>\n",
              "      <td>New Jersey</td>\n",
              "      <td>8037</td>\n",
              "      <td>Search</td>\n",
              "    </tr>\n",
              "    <tr>\n",
              "      <th>4</th>\n",
              "      <td>248</td>\n",
              "      <td>207</td>\n",
              "      <td>F</td>\n",
              "      <td>2</td>\n",
              "      <td>370</td>\n",
              "      <td>2777</td>\n",
              "      <td>2024-01-16 03:05:17+00:00</td>\n",
              "      <td>18.990000</td>\n",
              "      <td>1</td>\n",
              "      <td>0</td>\n",
              "      <td>0</td>\n",
              "      <td>0</td>\n",
              "      <td>0</td>\n",
              "      <td>53</td>\n",
              "      <td>New Jersey</td>\n",
              "      <td>8037</td>\n",
              "      <td>Search</td>\n",
              "    </tr>\n",
              "  </tbody>\n",
              "</table>\n",
              "</div>"
            ],
            "text/plain": [
              "   order_id  user_id gender  num_of_item   id  product_id  \\\n",
              "0        64       46      F            1  100        9588   \n",
              "1       185      149      F            2  279        1238   \n",
              "2       185      149      F            2  278        5485   \n",
              "3       248      207      F            2  369        3939   \n",
              "4       248      207      F            2  370        2777   \n",
              "\n",
              "            order_created_at  sale_price  status_cancelled  status_complete  \\\n",
              "0  2021-12-06 06:35:44+00:00   36.000000                 1                0   \n",
              "1  2021-08-30 08:34:34+00:00   31.920000                 1                0   \n",
              "2  2021-09-02 10:08:47+00:00   34.990002                 1                0   \n",
              "3  2024-01-12 04:58:51+00:00   11.810000                 1                0   \n",
              "4  2024-01-16 03:05:17+00:00   18.990000                 1                0   \n",
              "\n",
              "   status_processing  status_returned  status__shipped  age       state  \\\n",
              "0                  0                0                0   40    New York   \n",
              "1                  0                0                0   22     Florida   \n",
              "2                  0                0                0   22     Florida   \n",
              "3                  0                0                0   53  New Jersey   \n",
              "4                  0                0                0   53  New Jersey   \n",
              "\n",
              "  postal_code traffic_source  \n",
              "0       10474         Search  \n",
              "1       33317       Facebook  \n",
              "2       33317       Facebook  \n",
              "3        8037         Search  \n",
              "4        8037         Search  "
            ]
          },
          "execution_count": 87,
          "metadata": {},
          "output_type": "execute_result"
        }
      ],
      "source": [
        "orders_users.head()"
      ]
    },
    {
      "cell_type": "code",
      "execution_count": 88,
      "metadata": {
        "colab": {
          "base_uri": "https://localhost:8080/",
          "height": 666
        },
        "id": "3tBwNsHn1CKq",
        "outputId": "e78e58c8-daf7-44ff-bc29-8b3c897fd5d5"
      },
      "outputs": [
        {
          "data": {
            "text/html": [
              "<div>\n",
              "<style scoped>\n",
              "    .dataframe tbody tr th:only-of-type {\n",
              "        vertical-align: middle;\n",
              "    }\n",
              "\n",
              "    .dataframe tbody tr th {\n",
              "        vertical-align: top;\n",
              "    }\n",
              "\n",
              "    .dataframe thead th {\n",
              "        text-align: right;\n",
              "    }\n",
              "</style>\n",
              "<table border=\"1\" class=\"dataframe\">\n",
              "  <thead>\n",
              "    <tr style=\"text-align: right;\">\n",
              "      <th></th>\n",
              "      <th>order_id</th>\n",
              "      <th>user_id</th>\n",
              "      <th>gender</th>\n",
              "      <th>num_of_item</th>\n",
              "      <th>id</th>\n",
              "      <th>product_id</th>\n",
              "      <th>order_created_at</th>\n",
              "      <th>sale_price</th>\n",
              "      <th>status_cancelled</th>\n",
              "      <th>status_complete</th>\n",
              "      <th>status_processing</th>\n",
              "      <th>status_returned</th>\n",
              "      <th>status__shipped</th>\n",
              "      <th>age</th>\n",
              "      <th>state</th>\n",
              "      <th>postal_code</th>\n",
              "      <th>traffic_source</th>\n",
              "      <th>cost</th>\n",
              "      <th>category</th>\n",
              "      <th>name</th>\n",
              "      <th>brand</th>\n",
              "      <th>retail_price</th>\n",
              "      <th>department</th>\n",
              "    </tr>\n",
              "  </thead>\n",
              "  <tbody>\n",
              "    <tr>\n",
              "      <th>0</th>\n",
              "      <td>64</td>\n",
              "      <td>46</td>\n",
              "      <td>F</td>\n",
              "      <td>1</td>\n",
              "      <td>100</td>\n",
              "      <td>9588</td>\n",
              "      <td>2021-12-06 06:35:44+00:00</td>\n",
              "      <td>36.000000</td>\n",
              "      <td>1</td>\n",
              "      <td>0</td>\n",
              "      <td>0</td>\n",
              "      <td>0</td>\n",
              "      <td>0</td>\n",
              "      <td>40</td>\n",
              "      <td>New York</td>\n",
              "      <td>10474</td>\n",
              "      <td>Search</td>\n",
              "      <td>22.068000</td>\n",
              "      <td>Sleep &amp; Lounge</td>\n",
              "      <td>Calvin Klein Women's Nocturnal Elegance Camisole</td>\n",
              "      <td>Calvin Klein</td>\n",
              "      <td>36.000000</td>\n",
              "      <td>Women</td>\n",
              "    </tr>\n",
              "    <tr>\n",
              "      <th>1</th>\n",
              "      <td>185</td>\n",
              "      <td>149</td>\n",
              "      <td>F</td>\n",
              "      <td>2</td>\n",
              "      <td>279</td>\n",
              "      <td>1238</td>\n",
              "      <td>2021-08-30 08:34:34+00:00</td>\n",
              "      <td>31.920000</td>\n",
              "      <td>1</td>\n",
              "      <td>0</td>\n",
              "      <td>0</td>\n",
              "      <td>0</td>\n",
              "      <td>0</td>\n",
              "      <td>22</td>\n",
              "      <td>Florida</td>\n",
              "      <td>33317</td>\n",
              "      <td>Facebook</td>\n",
              "      <td>15.513120</td>\n",
              "      <td>Sweaters</td>\n",
              "      <td>Sag Harbor Women's Plus-Size Long Sleeve Cashm...</td>\n",
              "      <td>Sag Harbor</td>\n",
              "      <td>31.920000</td>\n",
              "      <td>Women</td>\n",
              "    </tr>\n",
              "    <tr>\n",
              "      <th>2</th>\n",
              "      <td>185</td>\n",
              "      <td>149</td>\n",
              "      <td>F</td>\n",
              "      <td>2</td>\n",
              "      <td>278</td>\n",
              "      <td>5485</td>\n",
              "      <td>2021-09-02 10:08:47+00:00</td>\n",
              "      <td>34.990002</td>\n",
              "      <td>1</td>\n",
              "      <td>0</td>\n",
              "      <td>0</td>\n",
              "      <td>0</td>\n",
              "      <td>0</td>\n",
              "      <td>22</td>\n",
              "      <td>Florida</td>\n",
              "      <td>33317</td>\n",
              "      <td>Facebook</td>\n",
              "      <td>18.019851</td>\n",
              "      <td>Pants &amp; Capris</td>\n",
              "      <td>Woman Within Plus Size Freedom pants pigment dyed</td>\n",
              "      <td>Woman Within</td>\n",
              "      <td>34.990002</td>\n",
              "      <td>Women</td>\n",
              "    </tr>\n",
              "    <tr>\n",
              "      <th>3</th>\n",
              "      <td>248</td>\n",
              "      <td>207</td>\n",
              "      <td>F</td>\n",
              "      <td>2</td>\n",
              "      <td>369</td>\n",
              "      <td>3939</td>\n",
              "      <td>2024-01-12 04:58:51+00:00</td>\n",
              "      <td>11.810000</td>\n",
              "      <td>1</td>\n",
              "      <td>0</td>\n",
              "      <td>0</td>\n",
              "      <td>0</td>\n",
              "      <td>0</td>\n",
              "      <td>53</td>\n",
              "      <td>New Jersey</td>\n",
              "      <td>8037</td>\n",
              "      <td>Search</td>\n",
              "      <td>5.468030</td>\n",
              "      <td>Dresses</td>\n",
              "      <td>Allegra K XS Beige Applique Round Neck Accordi...</td>\n",
              "      <td>Allegra K</td>\n",
              "      <td>11.810000</td>\n",
              "      <td>Women</td>\n",
              "    </tr>\n",
              "    <tr>\n",
              "      <th>4</th>\n",
              "      <td>248</td>\n",
              "      <td>207</td>\n",
              "      <td>F</td>\n",
              "      <td>2</td>\n",
              "      <td>370</td>\n",
              "      <td>2777</td>\n",
              "      <td>2024-01-16 03:05:17+00:00</td>\n",
              "      <td>18.990000</td>\n",
              "      <td>1</td>\n",
              "      <td>0</td>\n",
              "      <td>0</td>\n",
              "      <td>0</td>\n",
              "      <td>0</td>\n",
              "      <td>53</td>\n",
              "      <td>New Jersey</td>\n",
              "      <td>8037</td>\n",
              "      <td>Search</td>\n",
              "      <td>7.292160</td>\n",
              "      <td>Active</td>\n",
              "      <td>MJ Soffe Juniors Yoga Roll-Top Pant</td>\n",
              "      <td>MJ Soffe</td>\n",
              "      <td>18.990000</td>\n",
              "      <td>Women</td>\n",
              "    </tr>\n",
              "  </tbody>\n",
              "</table>\n",
              "</div>"
            ],
            "text/plain": [
              "   order_id  user_id gender  num_of_item   id  product_id  \\\n",
              "0        64       46      F            1  100        9588   \n",
              "1       185      149      F            2  279        1238   \n",
              "2       185      149      F            2  278        5485   \n",
              "3       248      207      F            2  369        3939   \n",
              "4       248      207      F            2  370        2777   \n",
              "\n",
              "            order_created_at  sale_price  status_cancelled  status_complete  \\\n",
              "0  2021-12-06 06:35:44+00:00   36.000000                 1                0   \n",
              "1  2021-08-30 08:34:34+00:00   31.920000                 1                0   \n",
              "2  2021-09-02 10:08:47+00:00   34.990002                 1                0   \n",
              "3  2024-01-12 04:58:51+00:00   11.810000                 1                0   \n",
              "4  2024-01-16 03:05:17+00:00   18.990000                 1                0   \n",
              "\n",
              "   status_processing  status_returned  status__shipped  age       state  \\\n",
              "0                  0                0                0   40    New York   \n",
              "1                  0                0                0   22     Florida   \n",
              "2                  0                0                0   22     Florida   \n",
              "3                  0                0                0   53  New Jersey   \n",
              "4                  0                0                0   53  New Jersey   \n",
              "\n",
              "  postal_code traffic_source       cost        category  \\\n",
              "0       10474         Search  22.068000  Sleep & Lounge   \n",
              "1       33317       Facebook  15.513120        Sweaters   \n",
              "2       33317       Facebook  18.019851  Pants & Capris   \n",
              "3        8037         Search   5.468030         Dresses   \n",
              "4        8037         Search   7.292160          Active   \n",
              "\n",
              "                                                name         brand  \\\n",
              "0   Calvin Klein Women's Nocturnal Elegance Camisole  Calvin Klein   \n",
              "1  Sag Harbor Women's Plus-Size Long Sleeve Cashm...    Sag Harbor   \n",
              "2  Woman Within Plus Size Freedom pants pigment dyed  Woman Within   \n",
              "3  Allegra K XS Beige Applique Round Neck Accordi...     Allegra K   \n",
              "4                MJ Soffe Juniors Yoga Roll-Top Pant      MJ Soffe   \n",
              "\n",
              "   retail_price department  \n",
              "0     36.000000      Women  \n",
              "1     31.920000      Women  \n",
              "2     34.990002      Women  \n",
              "3     11.810000      Women  \n",
              "4     18.990000      Women  "
            ]
          },
          "execution_count": 88,
          "metadata": {},
          "output_type": "execute_result"
        }
      ],
      "source": [
        "orders_users_products = pd.merge(orders_users, products, on=['product_id', 'product_id'], suffixes=('_orders', '_products'))\n",
        "pd.set_option('display.max_columns', None)\n",
        "orders_users_products.head()"
      ]
    },
    {
      "cell_type": "markdown",
      "metadata": {
        "id": "fQkrm3xf19aj"
      },
      "source": [
        "Repetitive column\n",
        "orders_users[sale_price] == products[retail_price]\n",
        "We can drop one"
      ]
    },
    {
      "cell_type": "code",
      "execution_count": 89,
      "metadata": {
        "id": "6yltOt0d1gWf"
      },
      "outputs": [],
      "source": [
        "orders_users_products.drop(columns = ['sale_price'], inplace=True)"
      ]
    },
    {
      "cell_type": "code",
      "execution_count": 90,
      "metadata": {
        "colab": {
          "base_uri": "https://localhost:8080/",
          "height": 765
        },
        "id": "nfAWmLCg2PGG",
        "outputId": "b0c7cc10-027d-4058-b1dc-45fba35d40bc"
      },
      "outputs": [
        {
          "data": {
            "text/plain": [
              "order_id             0\n",
              "user_id              0\n",
              "gender               0\n",
              "num_of_item          0\n",
              "id                   0\n",
              "product_id           0\n",
              "order_created_at     0\n",
              "status_cancelled     0\n",
              "status_complete      0\n",
              "status_processing    0\n",
              "status_returned      0\n",
              "status__shipped      0\n",
              "age                  0\n",
              "state                0\n",
              "postal_code          0\n",
              "traffic_source       0\n",
              "cost                 0\n",
              "category             0\n",
              "name                 0\n",
              "brand                0\n",
              "retail_price         0\n",
              "department           0\n",
              "dtype: int64"
            ]
          },
          "execution_count": 90,
          "metadata": {},
          "output_type": "execute_result"
        }
      ],
      "source": [
        "orders_users_products.isna().sum()"
      ]
    },
    {
      "cell_type": "markdown",
      "metadata": {
        "id": "XM1Ol-qH3pfn"
      },
      "source": [
        "### CHECKING WORK\n",
        "Down below just checking to make sure everything makes sense (product_ids match up, order_ids contain correct amount of orders)"
      ]
    },
    {
      "cell_type": "code",
      "execution_count": 91,
      "metadata": {
        "colab": {
          "base_uri": "https://localhost:8080/",
          "height": 301
        },
        "id": "TAIjIer12pKo",
        "outputId": "0a3e24b6-ae0c-41f9-c4d4-46d45623b0bc"
      },
      "outputs": [
        {
          "data": {
            "text/html": [
              "<div>\n",
              "<style scoped>\n",
              "    .dataframe tbody tr th:only-of-type {\n",
              "        vertical-align: middle;\n",
              "    }\n",
              "\n",
              "    .dataframe tbody tr th {\n",
              "        vertical-align: top;\n",
              "    }\n",
              "\n",
              "    .dataframe thead th {\n",
              "        text-align: right;\n",
              "    }\n",
              "</style>\n",
              "<table border=\"1\" class=\"dataframe\">\n",
              "  <thead>\n",
              "    <tr style=\"text-align: right;\">\n",
              "      <th></th>\n",
              "      <th>order_id</th>\n",
              "      <th>user_id</th>\n",
              "      <th>gender</th>\n",
              "      <th>num_of_item</th>\n",
              "      <th>id</th>\n",
              "      <th>product_id</th>\n",
              "      <th>order_created_at</th>\n",
              "      <th>status_cancelled</th>\n",
              "      <th>status_complete</th>\n",
              "      <th>status_processing</th>\n",
              "      <th>status_returned</th>\n",
              "      <th>status__shipped</th>\n",
              "      <th>age</th>\n",
              "      <th>state</th>\n",
              "      <th>postal_code</th>\n",
              "      <th>traffic_source</th>\n",
              "      <th>cost</th>\n",
              "      <th>category</th>\n",
              "      <th>name</th>\n",
              "      <th>brand</th>\n",
              "      <th>retail_price</th>\n",
              "      <th>department</th>\n",
              "    </tr>\n",
              "  </thead>\n",
              "  <tbody>\n",
              "    <tr>\n",
              "      <th>11082</th>\n",
              "      <td>112736</td>\n",
              "      <td>90067</td>\n",
              "      <td>F</td>\n",
              "      <td>2</td>\n",
              "      <td>163681</td>\n",
              "      <td>9588</td>\n",
              "      <td>2022-11-27 13:28:30+00:00</td>\n",
              "      <td>0</td>\n",
              "      <td>0</td>\n",
              "      <td>1</td>\n",
              "      <td>0</td>\n",
              "      <td>0</td>\n",
              "      <td>34</td>\n",
              "      <td>South Carolina</td>\n",
              "      <td>29588</td>\n",
              "      <td>Search</td>\n",
              "      <td>22.068</td>\n",
              "      <td>Sleep &amp; Lounge</td>\n",
              "      <td>Calvin Klein Women's Nocturnal Elegance Camisole</td>\n",
              "      <td>Calvin Klein</td>\n",
              "      <td>36.0</td>\n",
              "      <td>Women</td>\n",
              "    </tr>\n",
              "    <tr>\n",
              "      <th>11083</th>\n",
              "      <td>112736</td>\n",
              "      <td>90067</td>\n",
              "      <td>F</td>\n",
              "      <td>2</td>\n",
              "      <td>163682</td>\n",
              "      <td>15787</td>\n",
              "      <td>2022-11-25 11:37:23+00:00</td>\n",
              "      <td>0</td>\n",
              "      <td>0</td>\n",
              "      <td>1</td>\n",
              "      <td>0</td>\n",
              "      <td>0</td>\n",
              "      <td>34</td>\n",
              "      <td>South Carolina</td>\n",
              "      <td>29588</td>\n",
              "      <td>Search</td>\n",
              "      <td>29.792</td>\n",
              "      <td>Plus</td>\n",
              "      <td>Wacoal Women's Feather Embroidery Full Figure ...</td>\n",
              "      <td>Wacoal</td>\n",
              "      <td>56.0</td>\n",
              "      <td>Women</td>\n",
              "    </tr>\n",
              "  </tbody>\n",
              "</table>\n",
              "</div>"
            ],
            "text/plain": [
              "       order_id  user_id gender  num_of_item      id  product_id  \\\n",
              "11082    112736    90067      F            2  163681        9588   \n",
              "11083    112736    90067      F            2  163682       15787   \n",
              "\n",
              "                order_created_at  status_cancelled  status_complete  \\\n",
              "11082  2022-11-27 13:28:30+00:00                 0                0   \n",
              "11083  2022-11-25 11:37:23+00:00                 0                0   \n",
              "\n",
              "       status_processing  status_returned  status__shipped  age  \\\n",
              "11082                  1                0                0   34   \n",
              "11083                  1                0                0   34   \n",
              "\n",
              "                state postal_code traffic_source    cost        category  \\\n",
              "11082  South Carolina       29588         Search  22.068  Sleep & Lounge   \n",
              "11083  South Carolina       29588         Search  29.792            Plus   \n",
              "\n",
              "                                                    name         brand  \\\n",
              "11082   Calvin Klein Women's Nocturnal Elegance Camisole  Calvin Klein   \n",
              "11083  Wacoal Women's Feather Embroidery Full Figure ...        Wacoal   \n",
              "\n",
              "       retail_price department  \n",
              "11082          36.0      Women  \n",
              "11083          56.0      Women  "
            ]
          },
          "execution_count": 91,
          "metadata": {},
          "output_type": "execute_result"
        }
      ],
      "source": [
        "orders_users_products[orders_users_products['order_id'] == 112736]"
      ]
    },
    {
      "cell_type": "code",
      "execution_count": 92,
      "metadata": {
        "colab": {
          "base_uri": "https://localhost:8080/",
          "height": 301
        },
        "id": "pxzyNYG13CkA",
        "outputId": "0a1d8f78-cfa1-428b-ec6f-b5975a667f44"
      },
      "outputs": [
        {
          "data": {
            "text/html": [
              "<div>\n",
              "<style scoped>\n",
              "    .dataframe tbody tr th:only-of-type {\n",
              "        vertical-align: middle;\n",
              "    }\n",
              "\n",
              "    .dataframe tbody tr th {\n",
              "        vertical-align: top;\n",
              "    }\n",
              "\n",
              "    .dataframe thead th {\n",
              "        text-align: right;\n",
              "    }\n",
              "</style>\n",
              "<table border=\"1\" class=\"dataframe\">\n",
              "  <thead>\n",
              "    <tr style=\"text-align: right;\">\n",
              "      <th></th>\n",
              "      <th>order_id</th>\n",
              "      <th>user_id</th>\n",
              "      <th>gender</th>\n",
              "      <th>num_of_item</th>\n",
              "      <th>id</th>\n",
              "      <th>product_id</th>\n",
              "      <th>order_created_at</th>\n",
              "      <th>status_cancelled</th>\n",
              "      <th>status_complete</th>\n",
              "      <th>status_processing</th>\n",
              "      <th>status_returned</th>\n",
              "      <th>status__shipped</th>\n",
              "      <th>age</th>\n",
              "      <th>state</th>\n",
              "      <th>postal_code</th>\n",
              "      <th>traffic_source</th>\n",
              "      <th>cost</th>\n",
              "      <th>category</th>\n",
              "      <th>name</th>\n",
              "      <th>brand</th>\n",
              "      <th>retail_price</th>\n",
              "      <th>department</th>\n",
              "    </tr>\n",
              "  </thead>\n",
              "  <tbody>\n",
              "    <tr>\n",
              "      <th>0</th>\n",
              "      <td>64</td>\n",
              "      <td>46</td>\n",
              "      <td>F</td>\n",
              "      <td>1</td>\n",
              "      <td>100</td>\n",
              "      <td>9588</td>\n",
              "      <td>2021-12-06 06:35:44+00:00</td>\n",
              "      <td>1</td>\n",
              "      <td>0</td>\n",
              "      <td>0</td>\n",
              "      <td>0</td>\n",
              "      <td>0</td>\n",
              "      <td>40</td>\n",
              "      <td>New York</td>\n",
              "      <td>10474</td>\n",
              "      <td>Search</td>\n",
              "      <td>22.068</td>\n",
              "      <td>Sleep &amp; Lounge</td>\n",
              "      <td>Calvin Klein Women's Nocturnal Elegance Camisole</td>\n",
              "      <td>Calvin Klein</td>\n",
              "      <td>36.0</td>\n",
              "      <td>Women</td>\n",
              "    </tr>\n",
              "    <tr>\n",
              "      <th>11082</th>\n",
              "      <td>112736</td>\n",
              "      <td>90067</td>\n",
              "      <td>F</td>\n",
              "      <td>2</td>\n",
              "      <td>163681</td>\n",
              "      <td>9588</td>\n",
              "      <td>2022-11-27 13:28:30+00:00</td>\n",
              "      <td>0</td>\n",
              "      <td>0</td>\n",
              "      <td>1</td>\n",
              "      <td>0</td>\n",
              "      <td>0</td>\n",
              "      <td>34</td>\n",
              "      <td>South Carolina</td>\n",
              "      <td>29588</td>\n",
              "      <td>Search</td>\n",
              "      <td>22.068</td>\n",
              "      <td>Sleep &amp; Lounge</td>\n",
              "      <td>Calvin Klein Women's Nocturnal Elegance Camisole</td>\n",
              "      <td>Calvin Klein</td>\n",
              "      <td>36.0</td>\n",
              "      <td>Women</td>\n",
              "    </tr>\n",
              "  </tbody>\n",
              "</table>\n",
              "</div>"
            ],
            "text/plain": [
              "       order_id  user_id gender  num_of_item      id  product_id  \\\n",
              "0            64       46      F            1     100        9588   \n",
              "11082    112736    90067      F            2  163681        9588   \n",
              "\n",
              "                order_created_at  status_cancelled  status_complete  \\\n",
              "0      2021-12-06 06:35:44+00:00                 1                0   \n",
              "11082  2022-11-27 13:28:30+00:00                 0                0   \n",
              "\n",
              "       status_processing  status_returned  status__shipped  age  \\\n",
              "0                      0                0                0   40   \n",
              "11082                  1                0                0   34   \n",
              "\n",
              "                state postal_code traffic_source    cost        category  \\\n",
              "0            New York       10474         Search  22.068  Sleep & Lounge   \n",
              "11082  South Carolina       29588         Search  22.068  Sleep & Lounge   \n",
              "\n",
              "                                                   name         brand  \\\n",
              "0      Calvin Klein Women's Nocturnal Elegance Camisole  Calvin Klein   \n",
              "11082  Calvin Klein Women's Nocturnal Elegance Camisole  Calvin Klein   \n",
              "\n",
              "       retail_price department  \n",
              "0              36.0      Women  \n",
              "11082          36.0      Women  "
            ]
          },
          "execution_count": 92,
          "metadata": {},
          "output_type": "execute_result"
        }
      ],
      "source": [
        "orders_users_products[orders_users_products['product_id'] == 9588]"
      ]
    },
    {
      "cell_type": "markdown",
      "metadata": {
        "id": "QUn2WH_936H_"
      },
      "source": [
        "# MERGING ORDERS, PRODUCTS, USERS WITH EVENTS"
      ]
    },
    {
      "cell_type": "markdown",
      "metadata": {
        "id": "el5nt9ALGAXD"
      },
      "source": [
        "- id: Unique identifier for each event.\n",
        "- user_id: Identifier for the user associated with the event.\n",
        "- sequence_number: Sequence number of the event.\n",
        "- session_id: Identifier for the session during which the event occurred.\n",
        "- created_at: Timestamp indicating when the event took place.\n",
        "- ip_address: IP address from which the event originated.\n",
        "- city: City where the event occurred.\n",
        "- state: State where the event occurred.\n",
        "- postal_code: Postal code of the event location.\n",
        "- browser: Web browser used during the event.\n",
        "- traffic_source: Source of the traffic leading to the event.\n",
        "- uri: Uniform Resource Identifier associated with the event.\n",
        "- event_type: Type of event recorded."
      ]
    },
    {
      "cell_type": "code",
      "execution_count": 93,
      "metadata": {
        "colab": {
          "base_uri": "https://localhost:8080/",
          "height": 479
        },
        "id": "bjdAKWqo3jdL",
        "outputId": "5e59a362-8742-4ce9-c34c-0fbbbf0d17f5"
      },
      "outputs": [
        {
          "data": {
            "text/html": [
              "<div>\n",
              "<style scoped>\n",
              "    .dataframe tbody tr th:only-of-type {\n",
              "        vertical-align: middle;\n",
              "    }\n",
              "\n",
              "    .dataframe tbody tr th {\n",
              "        vertical-align: top;\n",
              "    }\n",
              "\n",
              "    .dataframe thead th {\n",
              "        text-align: right;\n",
              "    }\n",
              "</style>\n",
              "<table border=\"1\" class=\"dataframe\">\n",
              "  <thead>\n",
              "    <tr style=\"text-align: right;\">\n",
              "      <th></th>\n",
              "      <th>id</th>\n",
              "      <th>user_id</th>\n",
              "      <th>sequence_number</th>\n",
              "      <th>session_id</th>\n",
              "      <th>created_at</th>\n",
              "      <th>ip_address</th>\n",
              "      <th>city</th>\n",
              "      <th>state</th>\n",
              "      <th>postal_code</th>\n",
              "      <th>browser</th>\n",
              "      <th>traffic_source</th>\n",
              "      <th>uri</th>\n",
              "      <th>event_type</th>\n",
              "    </tr>\n",
              "  </thead>\n",
              "  <tbody>\n",
              "    <tr>\n",
              "      <th>0</th>\n",
              "      <td>2244720</td>\n",
              "      <td>NaN</td>\n",
              "      <td>3</td>\n",
              "      <td>9cadf286-9b30-459e-9a57-14fc2dac8cc9</td>\n",
              "      <td>2022-06-19 12:07:00+00:00</td>\n",
              "      <td>3.149.42.105</td>\n",
              "      <td>New York</td>\n",
              "      <td>New York</td>\n",
              "      <td>10023</td>\n",
              "      <td>Chrome</td>\n",
              "      <td>Adwords</td>\n",
              "      <td>/cancel</td>\n",
              "      <td>cancel</td>\n",
              "    </tr>\n",
              "    <tr>\n",
              "      <th>1</th>\n",
              "      <td>1347063</td>\n",
              "      <td>NaN</td>\n",
              "      <td>3</td>\n",
              "      <td>84ae95f4-d7cd-4bde-a003-21d305b2e824</td>\n",
              "      <td>2023-10-11 01:41:00+00:00</td>\n",
              "      <td>68.124.172.198</td>\n",
              "      <td>New York</td>\n",
              "      <td>New York</td>\n",
              "      <td>10306</td>\n",
              "      <td>Firefox</td>\n",
              "      <td>Email</td>\n",
              "      <td>/cancel</td>\n",
              "      <td>cancel</td>\n",
              "    </tr>\n",
              "    <tr>\n",
              "      <th>2</th>\n",
              "      <td>1670844</td>\n",
              "      <td>NaN</td>\n",
              "      <td>3</td>\n",
              "      <td>94c3d822-49e6-4fb7-8ed7-713667f99d68</td>\n",
              "      <td>2021-03-18 19:20:00+00:00</td>\n",
              "      <td>177.217.215.96</td>\n",
              "      <td>New York</td>\n",
              "      <td>New York</td>\n",
              "      <td>10457</td>\n",
              "      <td>Chrome</td>\n",
              "      <td>YouTube</td>\n",
              "      <td>/cancel</td>\n",
              "      <td>cancel</td>\n",
              "    </tr>\n",
              "    <tr>\n",
              "      <th>3</th>\n",
              "      <td>2007823</td>\n",
              "      <td>NaN</td>\n",
              "      <td>3</td>\n",
              "      <td>4c248995-3e0b-41b5-a81a-2705279aeab9</td>\n",
              "      <td>2023-09-26 08:45:00+00:00</td>\n",
              "      <td>37.255.80.241</td>\n",
              "      <td>New York</td>\n",
              "      <td>New York</td>\n",
              "      <td>10457</td>\n",
              "      <td>Firefox</td>\n",
              "      <td>Adwords</td>\n",
              "      <td>/cancel</td>\n",
              "      <td>cancel</td>\n",
              "    </tr>\n",
              "    <tr>\n",
              "      <th>4</th>\n",
              "      <td>1517051</td>\n",
              "      <td>NaN</td>\n",
              "      <td>3</td>\n",
              "      <td>36b7879c-523f-4ec8-9a90-d1ac9fae1166</td>\n",
              "      <td>2022-04-19 08:36:00+00:00</td>\n",
              "      <td>76.11.158.90</td>\n",
              "      <td>New York</td>\n",
              "      <td>New York</td>\n",
              "      <td>10469</td>\n",
              "      <td>Other</td>\n",
              "      <td>Adwords</td>\n",
              "      <td>/cancel</td>\n",
              "      <td>cancel</td>\n",
              "    </tr>\n",
              "  </tbody>\n",
              "</table>\n",
              "</div>"
            ],
            "text/plain": [
              "        id  user_id  sequence_number                            session_id  \\\n",
              "0  2244720      NaN                3  9cadf286-9b30-459e-9a57-14fc2dac8cc9   \n",
              "1  1347063      NaN                3  84ae95f4-d7cd-4bde-a003-21d305b2e824   \n",
              "2  1670844      NaN                3  94c3d822-49e6-4fb7-8ed7-713667f99d68   \n",
              "3  2007823      NaN                3  4c248995-3e0b-41b5-a81a-2705279aeab9   \n",
              "4  1517051      NaN                3  36b7879c-523f-4ec8-9a90-d1ac9fae1166   \n",
              "\n",
              "                  created_at      ip_address      city     state  postal_code  \\\n",
              "0  2022-06-19 12:07:00+00:00    3.149.42.105  New York  New York        10023   \n",
              "1  2023-10-11 01:41:00+00:00  68.124.172.198  New York  New York        10306   \n",
              "2  2021-03-18 19:20:00+00:00  177.217.215.96  New York  New York        10457   \n",
              "3  2023-09-26 08:45:00+00:00   37.255.80.241  New York  New York        10457   \n",
              "4  2022-04-19 08:36:00+00:00    76.11.158.90  New York  New York        10469   \n",
              "\n",
              "   browser traffic_source      uri event_type  \n",
              "0   Chrome        Adwords  /cancel     cancel  \n",
              "1  Firefox          Email  /cancel     cancel  \n",
              "2   Chrome        YouTube  /cancel     cancel  \n",
              "3  Firefox        Adwords  /cancel     cancel  \n",
              "4    Other        Adwords  /cancel     cancel  "
            ]
          },
          "execution_count": 93,
          "metadata": {},
          "output_type": "execute_result"
        }
      ],
      "source": [
        "US_events.head()"
      ]
    },
    {
      "cell_type": "code",
      "execution_count": 94,
      "metadata": {
        "colab": {
          "base_uri": "https://localhost:8080/"
        },
        "id": "vKucUtGAE4ij",
        "outputId": "48a2206c-cba8-4aad-c325-c13c6a76fcdc"
      },
      "outputs": [
        {
          "data": {
            "text/plain": [
              "array([ 3, 12,  2,  6,  4,  9,  7,  1, 10,  5,  8, 11, 13])"
            ]
          },
          "execution_count": 94,
          "metadata": {},
          "output_type": "execute_result"
        }
      ],
      "source": [
        "US_events['sequence_number'].unique()"
      ]
    },
    {
      "cell_type": "code",
      "execution_count": 95,
      "metadata": {
        "colab": {
          "base_uri": "https://localhost:8080/"
        },
        "id": "ZSxhjj13G6t6",
        "outputId": "3a17fc6b-1aa8-4ebb-a263-2ae2ec124dc2"
      },
      "outputs": [
        {
          "data": {
            "text/plain": [
              "array(['/cancel', '/cart',\n",
              "       '/department/men/category/sleep&lounge/brand/perryellis', ...,\n",
              "       '/product/14065', '/product/4490', '/product/25595'], dtype=object)"
            ]
          },
          "execution_count": 95,
          "metadata": {},
          "output_type": "execute_result"
        }
      ],
      "source": [
        "US_events['uri'].unique()"
      ]
    },
    {
      "cell_type": "code",
      "execution_count": 96,
      "metadata": {
        "colab": {
          "base_uri": "https://localhost:8080/",
          "height": 486
        },
        "id": "iiDJNQOGAQ8w",
        "outputId": "abeecdef-2c6e-43be-ebc0-ab90e7e2f4ca"
      },
      "outputs": [
        {
          "data": {
            "text/plain": [
              "id                      0\n",
              "user_id            252555\n",
              "sequence_number         0\n",
              "session_id              0\n",
              "created_at              0\n",
              "ip_address              0\n",
              "city                 4071\n",
              "state                   0\n",
              "postal_code             0\n",
              "browser                 0\n",
              "traffic_source          0\n",
              "uri                     0\n",
              "event_type              0\n",
              "dtype: int64"
            ]
          },
          "execution_count": 96,
          "metadata": {},
          "output_type": "execute_result"
        }
      ],
      "source": [
        "US_events.isna().sum()"
      ]
    },
    {
      "cell_type": "markdown",
      "metadata": {
        "id": "neb56cpmGiEN"
      },
      "source": [
        "* Drop instances where 'user_id' is null\n",
        "* Drop 'session_id', 'created_at', 'ip_address', 'uri'"
      ]
    },
    {
      "cell_type": "markdown",
      "metadata": {
        "id": "0sEVBT3GbgC_"
      },
      "source": [
        "- Upon further inspection of the data, 'created_at' might be userful to keep, so for now we should keep it."
      ]
    },
    {
      "cell_type": "code",
      "execution_count": 97,
      "metadata": {
        "id": "ZWFLaOcZF1EO"
      },
      "outputs": [],
      "source": [
        "US_events.drop(columns=['session_id', 'ip_address', 'uri', 'city'], inplace = True)"
      ]
    },
    {
      "cell_type": "code",
      "execution_count": 98,
      "metadata": {
        "id": "aeO17SC3LiFJ"
      },
      "outputs": [],
      "source": [
        "US_events.dropna(subset = ['user_id'], inplace = True)"
      ]
    },
    {
      "cell_type": "code",
      "execution_count": 99,
      "metadata": {
        "colab": {
          "base_uri": "https://localhost:8080/",
          "height": 362
        },
        "id": "yds4iqo4NaHX",
        "outputId": "2ba855ec-a33b-4c6b-b505-145472b221ac"
      },
      "outputs": [
        {
          "data": {
            "text/plain": [
              "id                 0\n",
              "user_id            0\n",
              "sequence_number    0\n",
              "created_at         0\n",
              "state              0\n",
              "postal_code        0\n",
              "browser            0\n",
              "traffic_source     0\n",
              "event_type         0\n",
              "dtype: int64"
            ]
          },
          "execution_count": 99,
          "metadata": {},
          "output_type": "execute_result"
        }
      ],
      "source": [
        "US_events.isna().sum()"
      ]
    },
    {
      "cell_type": "code",
      "execution_count": 100,
      "metadata": {
        "colab": {
          "base_uri": "https://localhost:8080/"
        },
        "id": "srmHYW15LoOz",
        "outputId": "cc908c80-b080-4f8c-a4bb-e30f1b55c0a6"
      },
      "outputs": [
        {
          "data": {
            "text/plain": [
              "(289408, 9)"
            ]
          },
          "execution_count": 100,
          "metadata": {},
          "output_type": "execute_result"
        }
      ],
      "source": [
        "US_events.shape"
      ]
    },
    {
      "cell_type": "code",
      "execution_count": 101,
      "metadata": {
        "colab": {
          "base_uri": "https://localhost:8080/",
          "height": 666
        },
        "id": "3Qv5ZuL3jS7Y",
        "outputId": "89adc5fe-f0cf-4bb3-e375-f41ff12f533f"
      },
      "outputs": [
        {
          "data": {
            "text/html": [
              "<div>\n",
              "<style scoped>\n",
              "    .dataframe tbody tr th:only-of-type {\n",
              "        vertical-align: middle;\n",
              "    }\n",
              "\n",
              "    .dataframe tbody tr th {\n",
              "        vertical-align: top;\n",
              "    }\n",
              "\n",
              "    .dataframe thead th {\n",
              "        text-align: right;\n",
              "    }\n",
              "</style>\n",
              "<table border=\"1\" class=\"dataframe\">\n",
              "  <thead>\n",
              "    <tr style=\"text-align: right;\">\n",
              "      <th></th>\n",
              "      <th>order_id</th>\n",
              "      <th>user_id</th>\n",
              "      <th>gender</th>\n",
              "      <th>num_of_item</th>\n",
              "      <th>id</th>\n",
              "      <th>product_id</th>\n",
              "      <th>order_created_at</th>\n",
              "      <th>status_cancelled</th>\n",
              "      <th>status_complete</th>\n",
              "      <th>status_processing</th>\n",
              "      <th>status_returned</th>\n",
              "      <th>status__shipped</th>\n",
              "      <th>age</th>\n",
              "      <th>state</th>\n",
              "      <th>postal_code</th>\n",
              "      <th>traffic_source</th>\n",
              "      <th>cost</th>\n",
              "      <th>category</th>\n",
              "      <th>name</th>\n",
              "      <th>brand</th>\n",
              "      <th>retail_price</th>\n",
              "      <th>department</th>\n",
              "    </tr>\n",
              "  </thead>\n",
              "  <tbody>\n",
              "    <tr>\n",
              "      <th>0</th>\n",
              "      <td>64</td>\n",
              "      <td>46</td>\n",
              "      <td>F</td>\n",
              "      <td>1</td>\n",
              "      <td>100</td>\n",
              "      <td>9588</td>\n",
              "      <td>2021-12-06 06:35:44+00:00</td>\n",
              "      <td>1</td>\n",
              "      <td>0</td>\n",
              "      <td>0</td>\n",
              "      <td>0</td>\n",
              "      <td>0</td>\n",
              "      <td>40</td>\n",
              "      <td>New York</td>\n",
              "      <td>10474</td>\n",
              "      <td>Search</td>\n",
              "      <td>22.068000</td>\n",
              "      <td>Sleep &amp; Lounge</td>\n",
              "      <td>Calvin Klein Women's Nocturnal Elegance Camisole</td>\n",
              "      <td>Calvin Klein</td>\n",
              "      <td>36.000000</td>\n",
              "      <td>Women</td>\n",
              "    </tr>\n",
              "    <tr>\n",
              "      <th>1</th>\n",
              "      <td>185</td>\n",
              "      <td>149</td>\n",
              "      <td>F</td>\n",
              "      <td>2</td>\n",
              "      <td>279</td>\n",
              "      <td>1238</td>\n",
              "      <td>2021-08-30 08:34:34+00:00</td>\n",
              "      <td>1</td>\n",
              "      <td>0</td>\n",
              "      <td>0</td>\n",
              "      <td>0</td>\n",
              "      <td>0</td>\n",
              "      <td>22</td>\n",
              "      <td>Florida</td>\n",
              "      <td>33317</td>\n",
              "      <td>Facebook</td>\n",
              "      <td>15.513120</td>\n",
              "      <td>Sweaters</td>\n",
              "      <td>Sag Harbor Women's Plus-Size Long Sleeve Cashm...</td>\n",
              "      <td>Sag Harbor</td>\n",
              "      <td>31.920000</td>\n",
              "      <td>Women</td>\n",
              "    </tr>\n",
              "    <tr>\n",
              "      <th>2</th>\n",
              "      <td>185</td>\n",
              "      <td>149</td>\n",
              "      <td>F</td>\n",
              "      <td>2</td>\n",
              "      <td>278</td>\n",
              "      <td>5485</td>\n",
              "      <td>2021-09-02 10:08:47+00:00</td>\n",
              "      <td>1</td>\n",
              "      <td>0</td>\n",
              "      <td>0</td>\n",
              "      <td>0</td>\n",
              "      <td>0</td>\n",
              "      <td>22</td>\n",
              "      <td>Florida</td>\n",
              "      <td>33317</td>\n",
              "      <td>Facebook</td>\n",
              "      <td>18.019851</td>\n",
              "      <td>Pants &amp; Capris</td>\n",
              "      <td>Woman Within Plus Size Freedom pants pigment dyed</td>\n",
              "      <td>Woman Within</td>\n",
              "      <td>34.990002</td>\n",
              "      <td>Women</td>\n",
              "    </tr>\n",
              "    <tr>\n",
              "      <th>3</th>\n",
              "      <td>248</td>\n",
              "      <td>207</td>\n",
              "      <td>F</td>\n",
              "      <td>2</td>\n",
              "      <td>369</td>\n",
              "      <td>3939</td>\n",
              "      <td>2024-01-12 04:58:51+00:00</td>\n",
              "      <td>1</td>\n",
              "      <td>0</td>\n",
              "      <td>0</td>\n",
              "      <td>0</td>\n",
              "      <td>0</td>\n",
              "      <td>53</td>\n",
              "      <td>New Jersey</td>\n",
              "      <td>8037</td>\n",
              "      <td>Search</td>\n",
              "      <td>5.468030</td>\n",
              "      <td>Dresses</td>\n",
              "      <td>Allegra K XS Beige Applique Round Neck Accordi...</td>\n",
              "      <td>Allegra K</td>\n",
              "      <td>11.810000</td>\n",
              "      <td>Women</td>\n",
              "    </tr>\n",
              "    <tr>\n",
              "      <th>4</th>\n",
              "      <td>248</td>\n",
              "      <td>207</td>\n",
              "      <td>F</td>\n",
              "      <td>2</td>\n",
              "      <td>370</td>\n",
              "      <td>2777</td>\n",
              "      <td>2024-01-16 03:05:17+00:00</td>\n",
              "      <td>1</td>\n",
              "      <td>0</td>\n",
              "      <td>0</td>\n",
              "      <td>0</td>\n",
              "      <td>0</td>\n",
              "      <td>53</td>\n",
              "      <td>New Jersey</td>\n",
              "      <td>8037</td>\n",
              "      <td>Search</td>\n",
              "      <td>7.292160</td>\n",
              "      <td>Active</td>\n",
              "      <td>MJ Soffe Juniors Yoga Roll-Top Pant</td>\n",
              "      <td>MJ Soffe</td>\n",
              "      <td>18.990000</td>\n",
              "      <td>Women</td>\n",
              "    </tr>\n",
              "  </tbody>\n",
              "</table>\n",
              "</div>"
            ],
            "text/plain": [
              "   order_id  user_id gender  num_of_item   id  product_id  \\\n",
              "0        64       46      F            1  100        9588   \n",
              "1       185      149      F            2  279        1238   \n",
              "2       185      149      F            2  278        5485   \n",
              "3       248      207      F            2  369        3939   \n",
              "4       248      207      F            2  370        2777   \n",
              "\n",
              "            order_created_at  status_cancelled  status_complete  \\\n",
              "0  2021-12-06 06:35:44+00:00                 1                0   \n",
              "1  2021-08-30 08:34:34+00:00                 1                0   \n",
              "2  2021-09-02 10:08:47+00:00                 1                0   \n",
              "3  2024-01-12 04:58:51+00:00                 1                0   \n",
              "4  2024-01-16 03:05:17+00:00                 1                0   \n",
              "\n",
              "   status_processing  status_returned  status__shipped  age       state  \\\n",
              "0                  0                0                0   40    New York   \n",
              "1                  0                0                0   22     Florida   \n",
              "2                  0                0                0   22     Florida   \n",
              "3                  0                0                0   53  New Jersey   \n",
              "4                  0                0                0   53  New Jersey   \n",
              "\n",
              "  postal_code traffic_source       cost        category  \\\n",
              "0       10474         Search  22.068000  Sleep & Lounge   \n",
              "1       33317       Facebook  15.513120        Sweaters   \n",
              "2       33317       Facebook  18.019851  Pants & Capris   \n",
              "3        8037         Search   5.468030         Dresses   \n",
              "4        8037         Search   7.292160          Active   \n",
              "\n",
              "                                                name         brand  \\\n",
              "0   Calvin Klein Women's Nocturnal Elegance Camisole  Calvin Klein   \n",
              "1  Sag Harbor Women's Plus-Size Long Sleeve Cashm...    Sag Harbor   \n",
              "2  Woman Within Plus Size Freedom pants pigment dyed  Woman Within   \n",
              "3  Allegra K XS Beige Applique Round Neck Accordi...     Allegra K   \n",
              "4                MJ Soffe Juniors Yoga Roll-Top Pant      MJ Soffe   \n",
              "\n",
              "   retail_price department  \n",
              "0     36.000000      Women  \n",
              "1     31.920000      Women  \n",
              "2     34.990002      Women  \n",
              "3     11.810000      Women  \n",
              "4     18.990000      Women  "
            ]
          },
          "execution_count": 101,
          "metadata": {},
          "output_type": "execute_result"
        }
      ],
      "source": [
        "orders_users_products.head()"
      ]
    },
    {
      "cell_type": "code",
      "execution_count": 126,
      "metadata": {},
      "outputs": [],
      "source": [
        "## Added by Asmi on Sep 19 to save df to csv\n",
        "\n",
        "import os\n",
        "filename = os.path.join(os.getcwd(), \"clean_data\", \"us_events.csv\")\n",
        "US_events.to_csv(filename, index=None)\n",
        "filename = os.path.join(os.getcwd(), \"clean_data\", \"orders_users_products.csv\")\n",
        "orders_users_products.to_csv(filename, index=None)"
      ]
    },
    {
      "cell_type": "code",
      "execution_count": 102,
      "metadata": {
        "id": "OsfTEwtRLrkH"
      },
      "outputs": [],
      "source": [
        "#all_data2 = pd.merge(orders_users_products, US_events, on=['user_id', 'user_id'], suffixes=('_orders', '_events'))\n",
        "#pd.set_option('display.max_columns', None)"
      ]
    },
    {
      "cell_type": "markdown",
      "metadata": {
        "id": "lFP32T5pbu7G"
      },
      "source": [
        "* Commenting out the merging for now due to the issue listed below vvvv"
      ]
    },
    {
      "cell_type": "markdown",
      "metadata": {
        "id": "87gQ0sxKX4Oj"
      },
      "source": [
        "### ISSUE\n",
        "So here I noticed an issue because when I merged, the top 5 columns are all from the same user. The item that they ordered was dulicated many times dependent upon how many events they had made.\n",
        "- This doesnt make sense because the number of items in each purchase was only one.\n",
        "- Below, as I did more analysis, you can see the user (user 46 is being used in this example) only placed 2 orders with 1 item each.\n",
        "- Therefore, it doesn't make sense that there are so many rows for this user"
      ]
    },
    {
      "cell_type": "code",
      "execution_count": 103,
      "metadata": {
        "colab": {
          "base_uri": "https://localhost:8080/",
          "height": 359
        },
        "id": "5LBaKKjpXX9o",
        "outputId": "082ede3e-dfd0-48dc-cedd-95895d264bec"
      },
      "outputs": [
        {
          "data": {
            "text/html": [
              "<div>\n",
              "<style scoped>\n",
              "    .dataframe tbody tr th:only-of-type {\n",
              "        vertical-align: middle;\n",
              "    }\n",
              "\n",
              "    .dataframe tbody tr th {\n",
              "        vertical-align: top;\n",
              "    }\n",
              "\n",
              "    .dataframe thead th {\n",
              "        text-align: right;\n",
              "    }\n",
              "</style>\n",
              "<table border=\"1\" class=\"dataframe\">\n",
              "  <thead>\n",
              "    <tr style=\"text-align: right;\">\n",
              "      <th></th>\n",
              "      <th>id</th>\n",
              "      <th>user_id</th>\n",
              "      <th>sequence_number</th>\n",
              "      <th>created_at</th>\n",
              "      <th>state</th>\n",
              "      <th>postal_code</th>\n",
              "      <th>browser</th>\n",
              "      <th>traffic_source</th>\n",
              "      <th>event_type</th>\n",
              "    </tr>\n",
              "  </thead>\n",
              "  <tbody>\n",
              "    <tr>\n",
              "      <th>7150</th>\n",
              "      <td>790</td>\n",
              "      <td>46.0</td>\n",
              "      <td>2</td>\n",
              "      <td>2020-08-05 07:18:05+00:00</td>\n",
              "      <td>New York</td>\n",
              "      <td>10474</td>\n",
              "      <td>Chrome</td>\n",
              "      <td>Email</td>\n",
              "      <td>department</td>\n",
              "    </tr>\n",
              "    <tr>\n",
              "      <th>59831</th>\n",
              "      <td>793</td>\n",
              "      <td>46.0</td>\n",
              "      <td>5</td>\n",
              "      <td>2020-08-05 07:21:32+00:00</td>\n",
              "      <td>New York</td>\n",
              "      <td>10474</td>\n",
              "      <td>Chrome</td>\n",
              "      <td>Email</td>\n",
              "      <td>purchase</td>\n",
              "    </tr>\n",
              "    <tr>\n",
              "      <th>19313</th>\n",
              "      <td>798</td>\n",
              "      <td>46.0</td>\n",
              "      <td>5</td>\n",
              "      <td>2021-12-06 06:35:04+00:00</td>\n",
              "      <td>New York</td>\n",
              "      <td>10474</td>\n",
              "      <td>Chrome</td>\n",
              "      <td>Email</td>\n",
              "      <td>purchase</td>\n",
              "    </tr>\n",
              "    <tr>\n",
              "      <th>18533</th>\n",
              "      <td>797</td>\n",
              "      <td>46.0</td>\n",
              "      <td>4</td>\n",
              "      <td>2021-12-06 06:32:22+00:00</td>\n",
              "      <td>New York</td>\n",
              "      <td>10474</td>\n",
              "      <td>Chrome</td>\n",
              "      <td>Email</td>\n",
              "      <td>cart</td>\n",
              "    </tr>\n",
              "    <tr>\n",
              "      <th>25400</th>\n",
              "      <td>795</td>\n",
              "      <td>46.0</td>\n",
              "      <td>2</td>\n",
              "      <td>2021-12-06 06:30:19+00:00</td>\n",
              "      <td>New York</td>\n",
              "      <td>10474</td>\n",
              "      <td>Chrome</td>\n",
              "      <td>Email</td>\n",
              "      <td>department</td>\n",
              "    </tr>\n",
              "    <tr>\n",
              "      <th>30665</th>\n",
              "      <td>796</td>\n",
              "      <td>46.0</td>\n",
              "      <td>3</td>\n",
              "      <td>2021-12-06 06:30:19+00:00</td>\n",
              "      <td>New York</td>\n",
              "      <td>10474</td>\n",
              "      <td>Chrome</td>\n",
              "      <td>Email</td>\n",
              "      <td>product</td>\n",
              "    </tr>\n",
              "    <tr>\n",
              "      <th>31589</th>\n",
              "      <td>792</td>\n",
              "      <td>46.0</td>\n",
              "      <td>4</td>\n",
              "      <td>2020-08-05 07:20:45+00:00</td>\n",
              "      <td>New York</td>\n",
              "      <td>10474</td>\n",
              "      <td>Chrome</td>\n",
              "      <td>Email</td>\n",
              "      <td>cart</td>\n",
              "    </tr>\n",
              "    <tr>\n",
              "      <th>61761</th>\n",
              "      <td>789</td>\n",
              "      <td>46.0</td>\n",
              "      <td>1</td>\n",
              "      <td>2020-08-05 07:16:13+00:00</td>\n",
              "      <td>New York</td>\n",
              "      <td>10474</td>\n",
              "      <td>Chrome</td>\n",
              "      <td>Email</td>\n",
              "      <td>home</td>\n",
              "    </tr>\n",
              "    <tr>\n",
              "      <th>16020</th>\n",
              "      <td>791</td>\n",
              "      <td>46.0</td>\n",
              "      <td>3</td>\n",
              "      <td>2020-08-05 07:18:15+00:00</td>\n",
              "      <td>New York</td>\n",
              "      <td>10474</td>\n",
              "      <td>Chrome</td>\n",
              "      <td>Email</td>\n",
              "      <td>product</td>\n",
              "    </tr>\n",
              "    <tr>\n",
              "      <th>87753</th>\n",
              "      <td>794</td>\n",
              "      <td>46.0</td>\n",
              "      <td>1</td>\n",
              "      <td>2021-12-06 06:27:45+00:00</td>\n",
              "      <td>New York</td>\n",
              "      <td>10474</td>\n",
              "      <td>Chrome</td>\n",
              "      <td>Email</td>\n",
              "      <td>home</td>\n",
              "    </tr>\n",
              "  </tbody>\n",
              "</table>\n",
              "</div>"
            ],
            "text/plain": [
              "        id  user_id  sequence_number                 created_at     state  \\\n",
              "7150   790     46.0                2  2020-08-05 07:18:05+00:00  New York   \n",
              "59831  793     46.0                5  2020-08-05 07:21:32+00:00  New York   \n",
              "19313  798     46.0                5  2021-12-06 06:35:04+00:00  New York   \n",
              "18533  797     46.0                4  2021-12-06 06:32:22+00:00  New York   \n",
              "25400  795     46.0                2  2021-12-06 06:30:19+00:00  New York   \n",
              "30665  796     46.0                3  2021-12-06 06:30:19+00:00  New York   \n",
              "31589  792     46.0                4  2020-08-05 07:20:45+00:00  New York   \n",
              "61761  789     46.0                1  2020-08-05 07:16:13+00:00  New York   \n",
              "16020  791     46.0                3  2020-08-05 07:18:15+00:00  New York   \n",
              "87753  794     46.0                1  2021-12-06 06:27:45+00:00  New York   \n",
              "\n",
              "       postal_code browser traffic_source  event_type  \n",
              "7150         10474  Chrome          Email  department  \n",
              "59831        10474  Chrome          Email    purchase  \n",
              "19313        10474  Chrome          Email    purchase  \n",
              "18533        10474  Chrome          Email        cart  \n",
              "25400        10474  Chrome          Email  department  \n",
              "30665        10474  Chrome          Email     product  \n",
              "31589        10474  Chrome          Email        cart  \n",
              "61761        10474  Chrome          Email        home  \n",
              "16020        10474  Chrome          Email     product  \n",
              "87753        10474  Chrome          Email        home  "
            ]
          },
          "execution_count": 103,
          "metadata": {},
          "output_type": "execute_result"
        }
      ],
      "source": [
        "US_events[US_events['user_id'] == 46]"
      ]
    },
    {
      "cell_type": "markdown",
      "metadata": {
        "id": "_84TSRbPoeY8"
      },
      "source": [
        "On attempt to merge, each event (even cart, depeartment, etc.) would be associated with a purchase and specific order from the table below."
      ]
    },
    {
      "cell_type": "code",
      "execution_count": 104,
      "metadata": {
        "colab": {
          "base_uri": "https://localhost:8080/",
          "height": 284
        },
        "id": "2shkw6rGn-6c",
        "outputId": "c9f293a8-2deb-4edb-f18d-f07c7b71668a"
      },
      "outputs": [
        {
          "data": {
            "text/html": [
              "<div>\n",
              "<style scoped>\n",
              "    .dataframe tbody tr th:only-of-type {\n",
              "        vertical-align: middle;\n",
              "    }\n",
              "\n",
              "    .dataframe tbody tr th {\n",
              "        vertical-align: top;\n",
              "    }\n",
              "\n",
              "    .dataframe thead th {\n",
              "        text-align: right;\n",
              "    }\n",
              "</style>\n",
              "<table border=\"1\" class=\"dataframe\">\n",
              "  <thead>\n",
              "    <tr style=\"text-align: right;\">\n",
              "      <th></th>\n",
              "      <th>order_id</th>\n",
              "      <th>user_id</th>\n",
              "      <th>gender</th>\n",
              "      <th>num_of_item</th>\n",
              "      <th>id</th>\n",
              "      <th>product_id</th>\n",
              "      <th>order_created_at</th>\n",
              "      <th>status_cancelled</th>\n",
              "      <th>status_complete</th>\n",
              "      <th>status_processing</th>\n",
              "      <th>status_returned</th>\n",
              "      <th>status__shipped</th>\n",
              "      <th>age</th>\n",
              "      <th>state</th>\n",
              "      <th>postal_code</th>\n",
              "      <th>traffic_source</th>\n",
              "      <th>cost</th>\n",
              "      <th>category</th>\n",
              "      <th>name</th>\n",
              "      <th>brand</th>\n",
              "      <th>retail_price</th>\n",
              "      <th>department</th>\n",
              "    </tr>\n",
              "  </thead>\n",
              "  <tbody>\n",
              "    <tr>\n",
              "      <th>0</th>\n",
              "      <td>64</td>\n",
              "      <td>46</td>\n",
              "      <td>F</td>\n",
              "      <td>1</td>\n",
              "      <td>100</td>\n",
              "      <td>9588</td>\n",
              "      <td>2021-12-06 06:35:44+00:00</td>\n",
              "      <td>1</td>\n",
              "      <td>0</td>\n",
              "      <td>0</td>\n",
              "      <td>0</td>\n",
              "      <td>0</td>\n",
              "      <td>40</td>\n",
              "      <td>New York</td>\n",
              "      <td>10474</td>\n",
              "      <td>Search</td>\n",
              "      <td>22.068</td>\n",
              "      <td>Sleep &amp; Lounge</td>\n",
              "      <td>Calvin Klein Women's Nocturnal Elegance Camisole</td>\n",
              "      <td>Calvin Klein</td>\n",
              "      <td>36.0</td>\n",
              "      <td>Women</td>\n",
              "    </tr>\n",
              "    <tr>\n",
              "      <th>13373</th>\n",
              "      <td>63</td>\n",
              "      <td>46</td>\n",
              "      <td>F</td>\n",
              "      <td>1</td>\n",
              "      <td>99</td>\n",
              "      <td>12957</td>\n",
              "      <td>2020-08-05 07:22:23+00:00</td>\n",
              "      <td>0</td>\n",
              "      <td>0</td>\n",
              "      <td>0</td>\n",
              "      <td>0</td>\n",
              "      <td>1</td>\n",
              "      <td>40</td>\n",
              "      <td>New York</td>\n",
              "      <td>10474</td>\n",
              "      <td>Search</td>\n",
              "      <td>69.913</td>\n",
              "      <td>Swim</td>\n",
              "      <td>Seafolly Women's Seaview Boyleg Maillot</td>\n",
              "      <td>Seafolly</td>\n",
              "      <td>151.0</td>\n",
              "      <td>Women</td>\n",
              "    </tr>\n",
              "  </tbody>\n",
              "</table>\n",
              "</div>"
            ],
            "text/plain": [
              "       order_id  user_id gender  num_of_item   id  product_id  \\\n",
              "0            64       46      F            1  100        9588   \n",
              "13373        63       46      F            1   99       12957   \n",
              "\n",
              "                order_created_at  status_cancelled  status_complete  \\\n",
              "0      2021-12-06 06:35:44+00:00                 1                0   \n",
              "13373  2020-08-05 07:22:23+00:00                 0                0   \n",
              "\n",
              "       status_processing  status_returned  status__shipped  age     state  \\\n",
              "0                      0                0                0   40  New York   \n",
              "13373                  0                0                1   40  New York   \n",
              "\n",
              "      postal_code traffic_source    cost        category  \\\n",
              "0           10474         Search  22.068  Sleep & Lounge   \n",
              "13373       10474         Search  69.913            Swim   \n",
              "\n",
              "                                                   name         brand  \\\n",
              "0      Calvin Klein Women's Nocturnal Elegance Camisole  Calvin Klein   \n",
              "13373           Seafolly Women's Seaview Boyleg Maillot      Seafolly   \n",
              "\n",
              "       retail_price department  \n",
              "0              36.0      Women  \n",
              "13373         151.0      Women  "
            ]
          },
          "execution_count": 104,
          "metadata": {},
          "output_type": "execute_result"
        }
      ],
      "source": [
        "orders_users_products[orders_users_products['user_id'] == 46]"
      ]
    },
    {
      "cell_type": "markdown",
      "metadata": {
        "id": "G2xukiy_YU4h"
      },
      "source": [
        "- The issue is that the customer has made ONLY 2 purchases. The data (order, order_items, and products) are all associated with orders/purchasing events.\n",
        "- An 'event' seems to be defined when a user makes an action on the webpage (home, product, department, cart, purchase)\n",
        "- This information is useful, however for merging purposes with the other datasets, we CANNOT associated a 'home' or 'department' event with a product or an order. Orders are only based on PURCHASES, not when the user navigates back to the home page."
      ]
    },
    {
      "cell_type": "markdown",
      "metadata": {
        "id": "oKJoYfUsZWg8"
      },
      "source": [
        "- For this reason, only 'purchase' events should be kept, and the rest should be dropped (for now)\n",
        "- Other events could be of use for recommendation purposes (such as a product was put in a cart but never purchased) but we also don't have any associating product ID for any of the events (ex. we wouldn't know WHICH product this user put in their cart and never purchased, we would only know that they added a product to their cart and never purchased it)"
      ]
    },
    {
      "cell_type": "code",
      "execution_count": 105,
      "metadata": {
        "colab": {
          "base_uri": "https://localhost:8080/",
          "height": 131
        },
        "id": "QVGP0rUprEtp",
        "outputId": "36d5bee1-a5f0-4550-b35a-d2b31ce830c9"
      },
      "outputs": [
        {
          "data": {
            "text/html": [
              "<div>\n",
              "<style scoped>\n",
              "    .dataframe tbody tr th:only-of-type {\n",
              "        vertical-align: middle;\n",
              "    }\n",
              "\n",
              "    .dataframe tbody tr th {\n",
              "        vertical-align: top;\n",
              "    }\n",
              "\n",
              "    .dataframe thead th {\n",
              "        text-align: right;\n",
              "    }\n",
              "</style>\n",
              "<table border=\"1\" class=\"dataframe\">\n",
              "  <thead>\n",
              "    <tr style=\"text-align: right;\">\n",
              "      <th></th>\n",
              "      <th>order_id</th>\n",
              "      <th>user_id</th>\n",
              "      <th>gender</th>\n",
              "      <th>num_of_item</th>\n",
              "      <th>orderStatus__Cancelled</th>\n",
              "      <th>orderStatus__Complete</th>\n",
              "      <th>orderStatus__Processing</th>\n",
              "      <th>orderStatus__Returned</th>\n",
              "      <th>orderStatus__Shipped</th>\n",
              "    </tr>\n",
              "  </thead>\n",
              "  <tbody>\n",
              "    <tr>\n",
              "      <th>25070</th>\n",
              "      <td>1403</td>\n",
              "      <td>1123</td>\n",
              "      <td>F</td>\n",
              "      <td>1</td>\n",
              "      <td>0</td>\n",
              "      <td>0</td>\n",
              "      <td>1</td>\n",
              "      <td>0</td>\n",
              "      <td>0</td>\n",
              "    </tr>\n",
              "    <tr>\n",
              "      <th>44103</th>\n",
              "      <td>1402</td>\n",
              "      <td>1123</td>\n",
              "      <td>F</td>\n",
              "      <td>3</td>\n",
              "      <td>0</td>\n",
              "      <td>0</td>\n",
              "      <td>0</td>\n",
              "      <td>0</td>\n",
              "      <td>1</td>\n",
              "    </tr>\n",
              "  </tbody>\n",
              "</table>\n",
              "</div>"
            ],
            "text/plain": [
              "       order_id  user_id gender  num_of_item  orderStatus__Cancelled  \\\n",
              "25070      1403     1123      F            1                       0   \n",
              "44103      1402     1123      F            3                       0   \n",
              "\n",
              "       orderStatus__Complete  orderStatus__Processing  orderStatus__Returned  \\\n",
              "25070                      0                        1                      0   \n",
              "44103                      0                        0                      0   \n",
              "\n",
              "       orderStatus__Shipped  \n",
              "25070                     0  \n",
              "44103                     1  "
            ]
          },
          "execution_count": 105,
          "metadata": {},
          "output_type": "execute_result"
        }
      ],
      "source": [
        "orders[orders['user_id'] == 1123]"
      ]
    },
    {
      "cell_type": "code",
      "execution_count": 106,
      "metadata": {
        "colab": {
          "base_uri": "https://localhost:8080/",
          "height": 261
        },
        "id": "uOeJ4ulYrU7x",
        "outputId": "ff3c389f-31a8-426f-ee9e-d48af429e677"
      },
      "outputs": [
        {
          "data": {
            "text/html": [
              "<div>\n",
              "<style scoped>\n",
              "    .dataframe tbody tr th:only-of-type {\n",
              "        vertical-align: middle;\n",
              "    }\n",
              "\n",
              "    .dataframe tbody tr th {\n",
              "        vertical-align: top;\n",
              "    }\n",
              "\n",
              "    .dataframe thead th {\n",
              "        text-align: right;\n",
              "    }\n",
              "</style>\n",
              "<table border=\"1\" class=\"dataframe\">\n",
              "  <thead>\n",
              "    <tr style=\"text-align: right;\">\n",
              "      <th></th>\n",
              "      <th>id</th>\n",
              "      <th>order_id</th>\n",
              "      <th>user_id</th>\n",
              "      <th>product_id</th>\n",
              "      <th>order_created_at</th>\n",
              "      <th>sale_price</th>\n",
              "      <th>itemStatus__Cancelled</th>\n",
              "      <th>itemStatus__Complete</th>\n",
              "      <th>itemStatus__Processing</th>\n",
              "      <th>itemStatus__Returned</th>\n",
              "      <th>itemStatus__Shipped</th>\n",
              "    </tr>\n",
              "  </thead>\n",
              "  <tbody>\n",
              "    <tr>\n",
              "      <th>91138</th>\n",
              "      <td>2070</td>\n",
              "      <td>1402</td>\n",
              "      <td>1123</td>\n",
              "      <td>8727</td>\n",
              "      <td>2023-07-09 11:13:50+00:00</td>\n",
              "      <td>39.990002</td>\n",
              "      <td>0</td>\n",
              "      <td>0</td>\n",
              "      <td>0</td>\n",
              "      <td>0</td>\n",
              "      <td>1</td>\n",
              "    </tr>\n",
              "    <tr>\n",
              "      <th>115942</th>\n",
              "      <td>2071</td>\n",
              "      <td>1403</td>\n",
              "      <td>1123</td>\n",
              "      <td>13325</td>\n",
              "      <td>2022-03-09 10:13:08+00:00</td>\n",
              "      <td>54.000000</td>\n",
              "      <td>0</td>\n",
              "      <td>0</td>\n",
              "      <td>1</td>\n",
              "      <td>0</td>\n",
              "      <td>0</td>\n",
              "    </tr>\n",
              "    <tr>\n",
              "      <th>153887</th>\n",
              "      <td>2068</td>\n",
              "      <td>1402</td>\n",
              "      <td>1123</td>\n",
              "      <td>3159</td>\n",
              "      <td>2023-07-08 10:52:58+00:00</td>\n",
              "      <td>98.000000</td>\n",
              "      <td>0</td>\n",
              "      <td>0</td>\n",
              "      <td>0</td>\n",
              "      <td>0</td>\n",
              "      <td>1</td>\n",
              "    </tr>\n",
              "    <tr>\n",
              "      <th>166991</th>\n",
              "      <td>2069</td>\n",
              "      <td>1402</td>\n",
              "      <td>1123</td>\n",
              "      <td>8679</td>\n",
              "      <td>2023-07-07 11:05:18+00:00</td>\n",
              "      <td>139.990005</td>\n",
              "      <td>0</td>\n",
              "      <td>0</td>\n",
              "      <td>0</td>\n",
              "      <td>0</td>\n",
              "      <td>1</td>\n",
              "    </tr>\n",
              "  </tbody>\n",
              "</table>\n",
              "</div>"
            ],
            "text/plain": [
              "          id  order_id  user_id  product_id           order_created_at  \\\n",
              "91138   2070      1402     1123        8727  2023-07-09 11:13:50+00:00   \n",
              "115942  2071      1403     1123       13325  2022-03-09 10:13:08+00:00   \n",
              "153887  2068      1402     1123        3159  2023-07-08 10:52:58+00:00   \n",
              "166991  2069      1402     1123        8679  2023-07-07 11:05:18+00:00   \n",
              "\n",
              "        sale_price  itemStatus__Cancelled  itemStatus__Complete  \\\n",
              "91138    39.990002                      0                     0   \n",
              "115942   54.000000                      0                     0   \n",
              "153887   98.000000                      0                     0   \n",
              "166991  139.990005                      0                     0   \n",
              "\n",
              "        itemStatus__Processing  itemStatus__Returned  itemStatus__Shipped  \n",
              "91138                        0                     0                    1  \n",
              "115942                       1                     0                    0  \n",
              "153887                       0                     0                    1  \n",
              "166991                       0                     0                    1  "
            ]
          },
          "execution_count": 106,
          "metadata": {},
          "output_type": "execute_result"
        }
      ],
      "source": [
        "order_items[order_items['user_id'] == 1123]"
      ]
    },
    {
      "cell_type": "code",
      "execution_count": 107,
      "metadata": {
        "colab": {
          "base_uri": "https://localhost:8080/",
          "height": 173
        },
        "id": "IJkunEpBrKra",
        "outputId": "078573c3-19e3-4083-c705-963b3ff77645"
      },
      "outputs": [
        {
          "data": {
            "text/html": [
              "<div>\n",
              "<style scoped>\n",
              "    .dataframe tbody tr th:only-of-type {\n",
              "        vertical-align: middle;\n",
              "    }\n",
              "\n",
              "    .dataframe tbody tr th {\n",
              "        vertical-align: top;\n",
              "    }\n",
              "\n",
              "    .dataframe thead th {\n",
              "        text-align: right;\n",
              "    }\n",
              "</style>\n",
              "<table border=\"1\" class=\"dataframe\">\n",
              "  <thead>\n",
              "    <tr style=\"text-align: right;\">\n",
              "      <th></th>\n",
              "      <th>id</th>\n",
              "      <th>user_id</th>\n",
              "      <th>sequence_number</th>\n",
              "      <th>created_at</th>\n",
              "      <th>state</th>\n",
              "      <th>postal_code</th>\n",
              "      <th>browser</th>\n",
              "      <th>traffic_source</th>\n",
              "      <th>event_type</th>\n",
              "    </tr>\n",
              "  </thead>\n",
              "  <tbody>\n",
              "    <tr>\n",
              "      <th>1118</th>\n",
              "      <td>15035</td>\n",
              "      <td>1123.0</td>\n",
              "      <td>3</td>\n",
              "      <td>2023-07-06 10:42:16+00:00</td>\n",
              "      <td>Texas</td>\n",
              "      <td>76182</td>\n",
              "      <td>Chrome</td>\n",
              "      <td>Adwords</td>\n",
              "      <td>cart</td>\n",
              "    </tr>\n",
              "    <tr>\n",
              "      <th>23221</th>\n",
              "      <td>15058</td>\n",
              "      <td>1123.0</td>\n",
              "      <td>6</td>\n",
              "      <td>2023-07-06 11:10:07+00:00</td>\n",
              "      <td>Texas</td>\n",
              "      <td>76182</td>\n",
              "      <td>Chrome</td>\n",
              "      <td>Email</td>\n",
              "      <td>cart</td>\n",
              "    </tr>\n",
              "    <tr>\n",
              "      <th>61297</th>\n",
              "      <td>15055</td>\n",
              "      <td>1123.0</td>\n",
              "      <td>3</td>\n",
              "      <td>2023-07-06 11:06:32+00:00</td>\n",
              "      <td>Texas</td>\n",
              "      <td>76182</td>\n",
              "      <td>Chrome</td>\n",
              "      <td>Email</td>\n",
              "      <td>cart</td>\n",
              "    </tr>\n",
              "    <tr>\n",
              "      <th>68239</th>\n",
              "      <td>15043</td>\n",
              "      <td>1123.0</td>\n",
              "      <td>1</td>\n",
              "      <td>2023-07-06 10:49:04+00:00</td>\n",
              "      <td>Texas</td>\n",
              "      <td>76182</td>\n",
              "      <td>Chrome</td>\n",
              "      <td>YouTube</td>\n",
              "      <td>department</td>\n",
              "    </tr>\n",
              "    <tr>\n",
              "      <th>72435</th>\n",
              "      <td>15041</td>\n",
              "      <td>1123.0</td>\n",
              "      <td>9</td>\n",
              "      <td>2023-07-06 10:51:14+00:00</td>\n",
              "      <td>Texas</td>\n",
              "      <td>76182</td>\n",
              "      <td>Chrome</td>\n",
              "      <td>Adwords</td>\n",
              "      <td>cart</td>\n",
              "    </tr>\n",
              "    <tr>\n",
              "      <th>76733</th>\n",
              "      <td>15052</td>\n",
              "      <td>1123.0</td>\n",
              "      <td>10</td>\n",
              "      <td>2023-07-07 11:05:18+00:00</td>\n",
              "      <td>Texas</td>\n",
              "      <td>76182</td>\n",
              "      <td>Chrome</td>\n",
              "      <td>YouTube</td>\n",
              "      <td>purchase</td>\n",
              "    </tr>\n",
              "    <tr>\n",
              "      <th>16571</th>\n",
              "      <td>15064</td>\n",
              "      <td>1123.0</td>\n",
              "      <td>2</td>\n",
              "      <td>2022-03-09 10:05:09+00:00</td>\n",
              "      <td>Texas</td>\n",
              "      <td>76182</td>\n",
              "      <td>Chrome</td>\n",
              "      <td>Adwords</td>\n",
              "      <td>department</td>\n",
              "    </tr>\n",
              "    <tr>\n",
              "      <th>73929</th>\n",
              "      <td>15034</td>\n",
              "      <td>1123.0</td>\n",
              "      <td>2</td>\n",
              "      <td>2023-07-06 10:41:12+00:00</td>\n",
              "      <td>Texas</td>\n",
              "      <td>76182</td>\n",
              "      <td>Chrome</td>\n",
              "      <td>Adwords</td>\n",
              "      <td>product</td>\n",
              "    </tr>\n",
              "    <tr>\n",
              "      <th>76226</th>\n",
              "      <td>15045</td>\n",
              "      <td>1123.0</td>\n",
              "      <td>3</td>\n",
              "      <td>2023-07-06 10:52:44+00:00</td>\n",
              "      <td>Texas</td>\n",
              "      <td>76182</td>\n",
              "      <td>Chrome</td>\n",
              "      <td>YouTube</td>\n",
              "      <td>cart</td>\n",
              "    </tr>\n",
              "    <tr>\n",
              "      <th>89469</th>\n",
              "      <td>15063</td>\n",
              "      <td>1123.0</td>\n",
              "      <td>1</td>\n",
              "      <td>2022-03-09 10:04:15+00:00</td>\n",
              "      <td>Texas</td>\n",
              "      <td>76182</td>\n",
              "      <td>Chrome</td>\n",
              "      <td>Adwords</td>\n",
              "      <td>home</td>\n",
              "    </tr>\n",
              "    <tr>\n",
              "      <th>8217</th>\n",
              "      <td>15061</td>\n",
              "      <td>1123.0</td>\n",
              "      <td>9</td>\n",
              "      <td>2023-07-06 11:13:10+00:00</td>\n",
              "      <td>Texas</td>\n",
              "      <td>76182</td>\n",
              "      <td>Chrome</td>\n",
              "      <td>Email</td>\n",
              "      <td>cart</td>\n",
              "    </tr>\n",
              "    <tr>\n",
              "      <th>20655</th>\n",
              "      <td>15053</td>\n",
              "      <td>1123.0</td>\n",
              "      <td>1</td>\n",
              "      <td>2023-07-06 11:02:50+00:00</td>\n",
              "      <td>Texas</td>\n",
              "      <td>76182</td>\n",
              "      <td>Chrome</td>\n",
              "      <td>Email</td>\n",
              "      <td>department</td>\n",
              "    </tr>\n",
              "    <tr>\n",
              "      <th>22549</th>\n",
              "      <td>15037</td>\n",
              "      <td>1123.0</td>\n",
              "      <td>5</td>\n",
              "      <td>2023-07-06 10:43:44+00:00</td>\n",
              "      <td>Texas</td>\n",
              "      <td>76182</td>\n",
              "      <td>Chrome</td>\n",
              "      <td>Adwords</td>\n",
              "      <td>product</td>\n",
              "    </tr>\n",
              "    <tr>\n",
              "      <th>54028</th>\n",
              "      <td>15059</td>\n",
              "      <td>1123.0</td>\n",
              "      <td>7</td>\n",
              "      <td>2023-07-06 11:10:15+00:00</td>\n",
              "      <td>Texas</td>\n",
              "      <td>76182</td>\n",
              "      <td>Chrome</td>\n",
              "      <td>Email</td>\n",
              "      <td>department</td>\n",
              "    </tr>\n",
              "    <tr>\n",
              "      <th>67006</th>\n",
              "      <td>15054</td>\n",
              "      <td>1123.0</td>\n",
              "      <td>2</td>\n",
              "      <td>2023-07-06 11:03:58+00:00</td>\n",
              "      <td>Texas</td>\n",
              "      <td>76182</td>\n",
              "      <td>Chrome</td>\n",
              "      <td>Email</td>\n",
              "      <td>product</td>\n",
              "    </tr>\n",
              "    <tr>\n",
              "      <th>39563</th>\n",
              "      <td>15038</td>\n",
              "      <td>1123.0</td>\n",
              "      <td>6</td>\n",
              "      <td>2023-07-06 10:44:44+00:00</td>\n",
              "      <td>Texas</td>\n",
              "      <td>76182</td>\n",
              "      <td>Chrome</td>\n",
              "      <td>Adwords</td>\n",
              "      <td>cart</td>\n",
              "    </tr>\n",
              "    <tr>\n",
              "      <th>46348</th>\n",
              "      <td>15039</td>\n",
              "      <td>1123.0</td>\n",
              "      <td>7</td>\n",
              "      <td>2023-07-06 10:47:13+00:00</td>\n",
              "      <td>Texas</td>\n",
              "      <td>76182</td>\n",
              "      <td>Chrome</td>\n",
              "      <td>Adwords</td>\n",
              "      <td>department</td>\n",
              "    </tr>\n",
              "    <tr>\n",
              "      <th>59331</th>\n",
              "      <td>15044</td>\n",
              "      <td>1123.0</td>\n",
              "      <td>2</td>\n",
              "      <td>2023-07-06 10:50:39+00:00</td>\n",
              "      <td>Texas</td>\n",
              "      <td>76182</td>\n",
              "      <td>Chrome</td>\n",
              "      <td>YouTube</td>\n",
              "      <td>product</td>\n",
              "    </tr>\n",
              "    <tr>\n",
              "      <th>81746</th>\n",
              "      <td>15060</td>\n",
              "      <td>1123.0</td>\n",
              "      <td>8</td>\n",
              "      <td>2023-07-06 11:13:07+00:00</td>\n",
              "      <td>Texas</td>\n",
              "      <td>76182</td>\n",
              "      <td>Chrome</td>\n",
              "      <td>Email</td>\n",
              "      <td>product</td>\n",
              "    </tr>\n",
              "    <tr>\n",
              "      <th>17105</th>\n",
              "      <td>15036</td>\n",
              "      <td>1123.0</td>\n",
              "      <td>4</td>\n",
              "      <td>2023-07-06 10:43:33+00:00</td>\n",
              "      <td>Texas</td>\n",
              "      <td>76182</td>\n",
              "      <td>Chrome</td>\n",
              "      <td>Adwords</td>\n",
              "      <td>department</td>\n",
              "    </tr>\n",
              "    <tr>\n",
              "      <th>18993</th>\n",
              "      <td>15040</td>\n",
              "      <td>1123.0</td>\n",
              "      <td>8</td>\n",
              "      <td>2023-07-06 10:48:37+00:00</td>\n",
              "      <td>Texas</td>\n",
              "      <td>76182</td>\n",
              "      <td>Chrome</td>\n",
              "      <td>Adwords</td>\n",
              "      <td>product</td>\n",
              "    </tr>\n",
              "    <tr>\n",
              "      <th>24544</th>\n",
              "      <td>15050</td>\n",
              "      <td>1123.0</td>\n",
              "      <td>8</td>\n",
              "      <td>2023-07-06 11:02:55+00:00</td>\n",
              "      <td>Texas</td>\n",
              "      <td>76182</td>\n",
              "      <td>Chrome</td>\n",
              "      <td>YouTube</td>\n",
              "      <td>product</td>\n",
              "    </tr>\n",
              "    <tr>\n",
              "      <th>30083</th>\n",
              "      <td>15047</td>\n",
              "      <td>1123.0</td>\n",
              "      <td>5</td>\n",
              "      <td>2023-07-06 10:57:53+00:00</td>\n",
              "      <td>Texas</td>\n",
              "      <td>76182</td>\n",
              "      <td>Chrome</td>\n",
              "      <td>YouTube</td>\n",
              "      <td>product</td>\n",
              "    </tr>\n",
              "    <tr>\n",
              "      <th>33679</th>\n",
              "      <td>15049</td>\n",
              "      <td>1123.0</td>\n",
              "      <td>7</td>\n",
              "      <td>2023-07-06 11:00:30+00:00</td>\n",
              "      <td>Texas</td>\n",
              "      <td>76182</td>\n",
              "      <td>Chrome</td>\n",
              "      <td>YouTube</td>\n",
              "      <td>department</td>\n",
              "    </tr>\n",
              "    <tr>\n",
              "      <th>41171</th>\n",
              "      <td>15057</td>\n",
              "      <td>1123.0</td>\n",
              "      <td>5</td>\n",
              "      <td>2023-07-06 11:07:16+00:00</td>\n",
              "      <td>Texas</td>\n",
              "      <td>76182</td>\n",
              "      <td>Chrome</td>\n",
              "      <td>Email</td>\n",
              "      <td>product</td>\n",
              "    </tr>\n",
              "    <tr>\n",
              "      <th>44828</th>\n",
              "      <td>15033</td>\n",
              "      <td>1123.0</td>\n",
              "      <td>1</td>\n",
              "      <td>2023-07-06 10:40:30+00:00</td>\n",
              "      <td>Texas</td>\n",
              "      <td>76182</td>\n",
              "      <td>Chrome</td>\n",
              "      <td>Adwords</td>\n",
              "      <td>department</td>\n",
              "    </tr>\n",
              "    <tr>\n",
              "      <th>57615</th>\n",
              "      <td>15065</td>\n",
              "      <td>1123.0</td>\n",
              "      <td>3</td>\n",
              "      <td>2022-03-09 10:07:32+00:00</td>\n",
              "      <td>Texas</td>\n",
              "      <td>76182</td>\n",
              "      <td>Chrome</td>\n",
              "      <td>Adwords</td>\n",
              "      <td>product</td>\n",
              "    </tr>\n",
              "    <tr>\n",
              "      <th>83473</th>\n",
              "      <td>15046</td>\n",
              "      <td>1123.0</td>\n",
              "      <td>4</td>\n",
              "      <td>2023-07-06 10:55:02+00:00</td>\n",
              "      <td>Texas</td>\n",
              "      <td>76182</td>\n",
              "      <td>Chrome</td>\n",
              "      <td>YouTube</td>\n",
              "      <td>department</td>\n",
              "    </tr>\n",
              "    <tr>\n",
              "      <th>89069</th>\n",
              "      <td>15056</td>\n",
              "      <td>1123.0</td>\n",
              "      <td>4</td>\n",
              "      <td>2023-07-06 11:07:00+00:00</td>\n",
              "      <td>Texas</td>\n",
              "      <td>76182</td>\n",
              "      <td>Chrome</td>\n",
              "      <td>Email</td>\n",
              "      <td>department</td>\n",
              "    </tr>\n",
              "    <tr>\n",
              "      <th>13936</th>\n",
              "      <td>15066</td>\n",
              "      <td>1123.0</td>\n",
              "      <td>4</td>\n",
              "      <td>2022-03-09 10:08:39+00:00</td>\n",
              "      <td>Texas</td>\n",
              "      <td>76182</td>\n",
              "      <td>Chrome</td>\n",
              "      <td>Adwords</td>\n",
              "      <td>cart</td>\n",
              "    </tr>\n",
              "    <tr>\n",
              "      <th>34810</th>\n",
              "      <td>15067</td>\n",
              "      <td>1123.0</td>\n",
              "      <td>5</td>\n",
              "      <td>2022-03-09 10:10:52+00:00</td>\n",
              "      <td>Texas</td>\n",
              "      <td>76182</td>\n",
              "      <td>Chrome</td>\n",
              "      <td>Adwords</td>\n",
              "      <td>purchase</td>\n",
              "    </tr>\n",
              "    <tr>\n",
              "      <th>36089</th>\n",
              "      <td>15048</td>\n",
              "      <td>1123.0</td>\n",
              "      <td>6</td>\n",
              "      <td>2023-07-06 10:59:42+00:00</td>\n",
              "      <td>Texas</td>\n",
              "      <td>76182</td>\n",
              "      <td>Chrome</td>\n",
              "      <td>YouTube</td>\n",
              "      <td>cart</td>\n",
              "    </tr>\n",
              "    <tr>\n",
              "      <th>51483</th>\n",
              "      <td>15042</td>\n",
              "      <td>1123.0</td>\n",
              "      <td>10</td>\n",
              "      <td>2023-07-08 10:52:58+00:00</td>\n",
              "      <td>Texas</td>\n",
              "      <td>76182</td>\n",
              "      <td>Chrome</td>\n",
              "      <td>Adwords</td>\n",
              "      <td>purchase</td>\n",
              "    </tr>\n",
              "    <tr>\n",
              "      <th>69145</th>\n",
              "      <td>15051</td>\n",
              "      <td>1123.0</td>\n",
              "      <td>9</td>\n",
              "      <td>2023-07-06 11:03:14+00:00</td>\n",
              "      <td>Texas</td>\n",
              "      <td>76182</td>\n",
              "      <td>Chrome</td>\n",
              "      <td>YouTube</td>\n",
              "      <td>cart</td>\n",
              "    </tr>\n",
              "    <tr>\n",
              "      <th>79024</th>\n",
              "      <td>15062</td>\n",
              "      <td>1123.0</td>\n",
              "      <td>10</td>\n",
              "      <td>2023-07-09 11:13:50+00:00</td>\n",
              "      <td>Texas</td>\n",
              "      <td>76182</td>\n",
              "      <td>Chrome</td>\n",
              "      <td>Email</td>\n",
              "      <td>purchase</td>\n",
              "    </tr>\n",
              "  </tbody>\n",
              "</table>\n",
              "</div>"
            ],
            "text/plain": [
              "          id  user_id  sequence_number                 created_at  state  \\\n",
              "1118   15035   1123.0                3  2023-07-06 10:42:16+00:00  Texas   \n",
              "23221  15058   1123.0                6  2023-07-06 11:10:07+00:00  Texas   \n",
              "61297  15055   1123.0                3  2023-07-06 11:06:32+00:00  Texas   \n",
              "68239  15043   1123.0                1  2023-07-06 10:49:04+00:00  Texas   \n",
              "72435  15041   1123.0                9  2023-07-06 10:51:14+00:00  Texas   \n",
              "76733  15052   1123.0               10  2023-07-07 11:05:18+00:00  Texas   \n",
              "16571  15064   1123.0                2  2022-03-09 10:05:09+00:00  Texas   \n",
              "73929  15034   1123.0                2  2023-07-06 10:41:12+00:00  Texas   \n",
              "76226  15045   1123.0                3  2023-07-06 10:52:44+00:00  Texas   \n",
              "89469  15063   1123.0                1  2022-03-09 10:04:15+00:00  Texas   \n",
              "8217   15061   1123.0                9  2023-07-06 11:13:10+00:00  Texas   \n",
              "20655  15053   1123.0                1  2023-07-06 11:02:50+00:00  Texas   \n",
              "22549  15037   1123.0                5  2023-07-06 10:43:44+00:00  Texas   \n",
              "54028  15059   1123.0                7  2023-07-06 11:10:15+00:00  Texas   \n",
              "67006  15054   1123.0                2  2023-07-06 11:03:58+00:00  Texas   \n",
              "39563  15038   1123.0                6  2023-07-06 10:44:44+00:00  Texas   \n",
              "46348  15039   1123.0                7  2023-07-06 10:47:13+00:00  Texas   \n",
              "59331  15044   1123.0                2  2023-07-06 10:50:39+00:00  Texas   \n",
              "81746  15060   1123.0                8  2023-07-06 11:13:07+00:00  Texas   \n",
              "17105  15036   1123.0                4  2023-07-06 10:43:33+00:00  Texas   \n",
              "18993  15040   1123.0                8  2023-07-06 10:48:37+00:00  Texas   \n",
              "24544  15050   1123.0                8  2023-07-06 11:02:55+00:00  Texas   \n",
              "30083  15047   1123.0                5  2023-07-06 10:57:53+00:00  Texas   \n",
              "33679  15049   1123.0                7  2023-07-06 11:00:30+00:00  Texas   \n",
              "41171  15057   1123.0                5  2023-07-06 11:07:16+00:00  Texas   \n",
              "44828  15033   1123.0                1  2023-07-06 10:40:30+00:00  Texas   \n",
              "57615  15065   1123.0                3  2022-03-09 10:07:32+00:00  Texas   \n",
              "83473  15046   1123.0                4  2023-07-06 10:55:02+00:00  Texas   \n",
              "89069  15056   1123.0                4  2023-07-06 11:07:00+00:00  Texas   \n",
              "13936  15066   1123.0                4  2022-03-09 10:08:39+00:00  Texas   \n",
              "34810  15067   1123.0                5  2022-03-09 10:10:52+00:00  Texas   \n",
              "36089  15048   1123.0                6  2023-07-06 10:59:42+00:00  Texas   \n",
              "51483  15042   1123.0               10  2023-07-08 10:52:58+00:00  Texas   \n",
              "69145  15051   1123.0                9  2023-07-06 11:03:14+00:00  Texas   \n",
              "79024  15062   1123.0               10  2023-07-09 11:13:50+00:00  Texas   \n",
              "\n",
              "       postal_code browser traffic_source  event_type  \n",
              "1118         76182  Chrome        Adwords        cart  \n",
              "23221        76182  Chrome          Email        cart  \n",
              "61297        76182  Chrome          Email        cart  \n",
              "68239        76182  Chrome        YouTube  department  \n",
              "72435        76182  Chrome        Adwords        cart  \n",
              "76733        76182  Chrome        YouTube    purchase  \n",
              "16571        76182  Chrome        Adwords  department  \n",
              "73929        76182  Chrome        Adwords     product  \n",
              "76226        76182  Chrome        YouTube        cart  \n",
              "89469        76182  Chrome        Adwords        home  \n",
              "8217         76182  Chrome          Email        cart  \n",
              "20655        76182  Chrome          Email  department  \n",
              "22549        76182  Chrome        Adwords     product  \n",
              "54028        76182  Chrome          Email  department  \n",
              "67006        76182  Chrome          Email     product  \n",
              "39563        76182  Chrome        Adwords        cart  \n",
              "46348        76182  Chrome        Adwords  department  \n",
              "59331        76182  Chrome        YouTube     product  \n",
              "81746        76182  Chrome          Email     product  \n",
              "17105        76182  Chrome        Adwords  department  \n",
              "18993        76182  Chrome        Adwords     product  \n",
              "24544        76182  Chrome        YouTube     product  \n",
              "30083        76182  Chrome        YouTube     product  \n",
              "33679        76182  Chrome        YouTube  department  \n",
              "41171        76182  Chrome          Email     product  \n",
              "44828        76182  Chrome        Adwords  department  \n",
              "57615        76182  Chrome        Adwords     product  \n",
              "83473        76182  Chrome        YouTube  department  \n",
              "89069        76182  Chrome          Email  department  \n",
              "13936        76182  Chrome        Adwords        cart  \n",
              "34810        76182  Chrome        Adwords    purchase  \n",
              "36089        76182  Chrome        YouTube        cart  \n",
              "51483        76182  Chrome        Adwords    purchase  \n",
              "69145        76182  Chrome        YouTube        cart  \n",
              "79024        76182  Chrome          Email    purchase  "
            ]
          },
          "execution_count": 107,
          "metadata": {},
          "output_type": "execute_result"
        }
      ],
      "source": [
        "US_events[US_events['user_id'] == 1123]"
      ]
    },
    {
      "cell_type": "markdown",
      "metadata": {
        "id": "R7G7C-m2rhlO"
      },
      "source": [
        "Analysis above proves that events are concurent with items, not orders, which could have also cause an issue when merging\n",
        "(orders_users_products contains a row for each **item** purchases. If events were classified as 'purchase' upon the purchase of an order, then repetitive events would be valid. However, a purchase event seems to represent an item purchased, not an order."
      ]
    },
    {
      "cell_type": "code",
      "execution_count": 108,
      "metadata": {
        "id": "7YLBXbGVoW43"
      },
      "outputs": [],
      "source": [
        "US_events = US_events.loc[US_events['event_type'] == 'purchase']"
      ]
    },
    {
      "cell_type": "markdown",
      "metadata": {
        "id": "gsAtqiLZhhPa"
      },
      "source": [
        "## MERGING KEYS\n",
        "* If we attempt to merge on only 'user_id', each purchase event that the user has made will be associated with each and every order item, leading to repetitive information. This is because events only includes 'user_id' as a key to connect it to the other tables, however we have no way of knowing which item the purchase event is associated with.\n",
        "* For this reason, we use double keys 'user_id' and 'order_created_at' in order to merge"
      ]
    },
    {
      "cell_type": "code",
      "execution_count": 109,
      "metadata": {
        "colab": {
          "base_uri": "https://localhost:8080/"
        },
        "id": "JiYJVR7PjoyR",
        "outputId": "86437278-2fec-4d59-a214-2bc2ddb8fcac"
      },
      "outputs": [
        {
          "data": {
            "text/plain": [
              "(40513, 9)"
            ]
          },
          "execution_count": 109,
          "metadata": {},
          "output_type": "execute_result"
        }
      ],
      "source": [
        "US_events.shape"
      ]
    },
    {
      "cell_type": "code",
      "execution_count": 110,
      "metadata": {
        "colab": {
          "base_uri": "https://localhost:8080/"
        },
        "id": "q1g659xum2MO",
        "outputId": "82eefc9e-606e-4e6b-eacd-7e5f58721779"
      },
      "outputs": [
        {
          "data": {
            "text/plain": [
              "(38152, 22)"
            ]
          },
          "execution_count": 110,
          "metadata": {},
          "output_type": "execute_result"
        }
      ],
      "source": [
        "orders_users_products.shape"
      ]
    },
    {
      "cell_type": "markdown",
      "metadata": {
        "id": "8TOJHTyxov33"
      },
      "source": [
        "US_events has around 40,000 examples, and orders_users_products has around 38,000. This means our final dataset after merging should be around this size"
      ]
    },
    {
      "cell_type": "code",
      "execution_count": 111,
      "metadata": {
        "id": "ENXjBJX7jOGZ"
      },
      "outputs": [],
      "source": [
        "all_data2 = pd.merge(\n",
        "    orders_users_products,\n",
        "    US_events,\n",
        "    left_on=['user_id', 'order_created_at'],\n",
        "    right_on=['user_id', 'created_at'],\n",
        "    suffixes=('_orders', '_events')\n",
        ")"
      ]
    },
    {
      "cell_type": "code",
      "execution_count": 112,
      "metadata": {
        "colab": {
          "base_uri": "https://localhost:8080/"
        },
        "id": "E9is2l-uTCe2",
        "outputId": "b022b0b1-47bc-4c64-99e2-08e5142bb94f"
      },
      "outputs": [
        {
          "data": {
            "text/plain": [
              "(19696, 30)"
            ]
          },
          "execution_count": 112,
          "metadata": {},
          "output_type": "execute_result"
        }
      ],
      "source": [
        "all_data2.shape"
      ]
    },
    {
      "cell_type": "code",
      "execution_count": 113,
      "metadata": {
        "colab": {
          "base_uri": "https://localhost:8080/",
          "height": 584
        },
        "id": "dVkGVHnMpXPJ",
        "outputId": "13fd40dd-4324-42e1-888a-82d3dbe890dd"
      },
      "outputs": [
        {
          "data": {
            "text/html": [
              "<div>\n",
              "<style scoped>\n",
              "    .dataframe tbody tr th:only-of-type {\n",
              "        vertical-align: middle;\n",
              "    }\n",
              "\n",
              "    .dataframe tbody tr th {\n",
              "        vertical-align: top;\n",
              "    }\n",
              "\n",
              "    .dataframe thead th {\n",
              "        text-align: right;\n",
              "    }\n",
              "</style>\n",
              "<table border=\"1\" class=\"dataframe\">\n",
              "  <thead>\n",
              "    <tr style=\"text-align: right;\">\n",
              "      <th></th>\n",
              "      <th>order_id</th>\n",
              "      <th>user_id</th>\n",
              "      <th>gender</th>\n",
              "      <th>num_of_item</th>\n",
              "      <th>id_orders</th>\n",
              "      <th>product_id</th>\n",
              "      <th>order_created_at</th>\n",
              "      <th>status_cancelled</th>\n",
              "      <th>status_complete</th>\n",
              "      <th>status_processing</th>\n",
              "      <th>status_returned</th>\n",
              "      <th>status__shipped</th>\n",
              "      <th>age</th>\n",
              "      <th>state_orders</th>\n",
              "      <th>postal_code_orders</th>\n",
              "      <th>traffic_source_orders</th>\n",
              "      <th>cost</th>\n",
              "      <th>category</th>\n",
              "      <th>name</th>\n",
              "      <th>brand</th>\n",
              "      <th>retail_price</th>\n",
              "      <th>department</th>\n",
              "      <th>id_events</th>\n",
              "      <th>sequence_number</th>\n",
              "      <th>created_at</th>\n",
              "      <th>state_events</th>\n",
              "      <th>postal_code_events</th>\n",
              "      <th>browser</th>\n",
              "      <th>traffic_source_events</th>\n",
              "      <th>event_type</th>\n",
              "    </tr>\n",
              "  </thead>\n",
              "  <tbody>\n",
              "    <tr>\n",
              "      <th>7706</th>\n",
              "      <td>33505</td>\n",
              "      <td>26850</td>\n",
              "      <td>F</td>\n",
              "      <td>2</td>\n",
              "      <td>48709</td>\n",
              "      <td>226</td>\n",
              "      <td>2023-03-26 15:04:22+00:00</td>\n",
              "      <td>0</td>\n",
              "      <td>0</td>\n",
              "      <td>0</td>\n",
              "      <td>0</td>\n",
              "      <td>1</td>\n",
              "      <td>13</td>\n",
              "      <td>Massachusetts</td>\n",
              "      <td>1701</td>\n",
              "      <td>Search</td>\n",
              "      <td>6.230040</td>\n",
              "      <td>Tops &amp; Tees</td>\n",
              "      <td>Allegra K Woman Sheer Long Sleeve Doll Collar ...</td>\n",
              "      <td>Allegra K</td>\n",
              "      <td>10.760000</td>\n",
              "      <td>Women</td>\n",
              "      <td>350586</td>\n",
              "      <td>7</td>\n",
              "      <td>2023-03-26 15:04:22+00:00</td>\n",
              "      <td>Massachusetts</td>\n",
              "      <td>1701</td>\n",
              "      <td>Chrome</td>\n",
              "      <td>Email</td>\n",
              "      <td>purchase</td>\n",
              "    </tr>\n",
              "    <tr>\n",
              "      <th>7707</th>\n",
              "      <td>33505</td>\n",
              "      <td>26850</td>\n",
              "      <td>F</td>\n",
              "      <td>2</td>\n",
              "      <td>48710</td>\n",
              "      <td>5485</td>\n",
              "      <td>2023-03-25 13:52:09+00:00</td>\n",
              "      <td>0</td>\n",
              "      <td>0</td>\n",
              "      <td>0</td>\n",
              "      <td>0</td>\n",
              "      <td>1</td>\n",
              "      <td>13</td>\n",
              "      <td>Massachusetts</td>\n",
              "      <td>1701</td>\n",
              "      <td>Search</td>\n",
              "      <td>18.019851</td>\n",
              "      <td>Pants &amp; Capris</td>\n",
              "      <td>Woman Within Plus Size Freedom pants pigment dyed</td>\n",
              "      <td>Woman Within</td>\n",
              "      <td>34.990002</td>\n",
              "      <td>Women</td>\n",
              "      <td>350593</td>\n",
              "      <td>7</td>\n",
              "      <td>2023-03-25 13:52:09+00:00</td>\n",
              "      <td>Massachusetts</td>\n",
              "      <td>1701</td>\n",
              "      <td>Chrome</td>\n",
              "      <td>Facebook</td>\n",
              "      <td>purchase</td>\n",
              "    </tr>\n",
              "    <tr>\n",
              "      <th>7708</th>\n",
              "      <td>33507</td>\n",
              "      <td>26850</td>\n",
              "      <td>F</td>\n",
              "      <td>2</td>\n",
              "      <td>48713</td>\n",
              "      <td>11590</td>\n",
              "      <td>2023-09-05 14:06:35+00:00</td>\n",
              "      <td>0</td>\n",
              "      <td>0</td>\n",
              "      <td>0</td>\n",
              "      <td>0</td>\n",
              "      <td>1</td>\n",
              "      <td>13</td>\n",
              "      <td>Massachusetts</td>\n",
              "      <td>1701</td>\n",
              "      <td>Search</td>\n",
              "      <td>5.136560</td>\n",
              "      <td>Intimates</td>\n",
              "      <td>Half Slip White18-L</td>\n",
              "      <td>Ilusion</td>\n",
              "      <td>8.980000</td>\n",
              "      <td>Women</td>\n",
              "      <td>350612</td>\n",
              "      <td>7</td>\n",
              "      <td>2023-09-05 14:06:35+00:00</td>\n",
              "      <td>Massachusetts</td>\n",
              "      <td>1701</td>\n",
              "      <td>Chrome</td>\n",
              "      <td>Email</td>\n",
              "      <td>purchase</td>\n",
              "    </tr>\n",
              "    <tr>\n",
              "      <th>7709</th>\n",
              "      <td>33507</td>\n",
              "      <td>26850</td>\n",
              "      <td>F</td>\n",
              "      <td>2</td>\n",
              "      <td>48712</td>\n",
              "      <td>13336</td>\n",
              "      <td>2023-09-04 15:58:11+00:00</td>\n",
              "      <td>0</td>\n",
              "      <td>0</td>\n",
              "      <td>0</td>\n",
              "      <td>0</td>\n",
              "      <td>1</td>\n",
              "      <td>13</td>\n",
              "      <td>Massachusetts</td>\n",
              "      <td>1701</td>\n",
              "      <td>Search</td>\n",
              "      <td>8.686050</td>\n",
              "      <td>Swim</td>\n",
              "      <td>Bloom's Outlet Sexy Halter Teddy One Piece Mon...</td>\n",
              "      <td>Bloom's Outlet</td>\n",
              "      <td>21.990000</td>\n",
              "      <td>Women</td>\n",
              "      <td>350605</td>\n",
              "      <td>7</td>\n",
              "      <td>2023-09-04 15:58:11+00:00</td>\n",
              "      <td>Massachusetts</td>\n",
              "      <td>1701</td>\n",
              "      <td>Chrome</td>\n",
              "      <td>Organic</td>\n",
              "      <td>purchase</td>\n",
              "    </tr>\n",
              "  </tbody>\n",
              "</table>\n",
              "</div>"
            ],
            "text/plain": [
              "      order_id  user_id gender  num_of_item  id_orders  product_id  \\\n",
              "7706     33505    26850      F            2      48709         226   \n",
              "7707     33505    26850      F            2      48710        5485   \n",
              "7708     33507    26850      F            2      48713       11590   \n",
              "7709     33507    26850      F            2      48712       13336   \n",
              "\n",
              "               order_created_at  status_cancelled  status_complete  \\\n",
              "7706  2023-03-26 15:04:22+00:00                 0                0   \n",
              "7707  2023-03-25 13:52:09+00:00                 0                0   \n",
              "7708  2023-09-05 14:06:35+00:00                 0                0   \n",
              "7709  2023-09-04 15:58:11+00:00                 0                0   \n",
              "\n",
              "      status_processing  status_returned  status__shipped  age   state_orders  \\\n",
              "7706                  0                0                1   13  Massachusetts   \n",
              "7707                  0                0                1   13  Massachusetts   \n",
              "7708                  0                0                1   13  Massachusetts   \n",
              "7709                  0                0                1   13  Massachusetts   \n",
              "\n",
              "     postal_code_orders traffic_source_orders       cost        category  \\\n",
              "7706               1701                Search   6.230040     Tops & Tees   \n",
              "7707               1701                Search  18.019851  Pants & Capris   \n",
              "7708               1701                Search   5.136560       Intimates   \n",
              "7709               1701                Search   8.686050            Swim   \n",
              "\n",
              "                                                   name           brand  \\\n",
              "7706  Allegra K Woman Sheer Long Sleeve Doll Collar ...       Allegra K   \n",
              "7707  Woman Within Plus Size Freedom pants pigment dyed    Woman Within   \n",
              "7708                                Half Slip White18-L         Ilusion   \n",
              "7709  Bloom's Outlet Sexy Halter Teddy One Piece Mon...  Bloom's Outlet   \n",
              "\n",
              "      retail_price department  id_events  sequence_number  \\\n",
              "7706     10.760000      Women     350586                7   \n",
              "7707     34.990002      Women     350593                7   \n",
              "7708      8.980000      Women     350612                7   \n",
              "7709     21.990000      Women     350605                7   \n",
              "\n",
              "                     created_at   state_events  postal_code_events browser  \\\n",
              "7706  2023-03-26 15:04:22+00:00  Massachusetts                1701  Chrome   \n",
              "7707  2023-03-25 13:52:09+00:00  Massachusetts                1701  Chrome   \n",
              "7708  2023-09-05 14:06:35+00:00  Massachusetts                1701  Chrome   \n",
              "7709  2023-09-04 15:58:11+00:00  Massachusetts                1701  Chrome   \n",
              "\n",
              "     traffic_source_events event_type  \n",
              "7706                 Email   purchase  \n",
              "7707              Facebook   purchase  \n",
              "7708                 Email   purchase  \n",
              "7709               Organic   purchase  "
            ]
          },
          "execution_count": 113,
          "metadata": {},
          "output_type": "execute_result"
        }
      ],
      "source": [
        "all_data2[all_data2['user_id']== 26850]"
      ]
    },
    {
      "cell_type": "code",
      "execution_count": 114,
      "metadata": {
        "colab": {
          "base_uri": "https://localhost:8080/",
          "height": 1000
        },
        "id": "gyzjaoC8TWsD",
        "outputId": "beaad98a-cd8a-41f1-b383-61a16d23e827"
      },
      "outputs": [
        {
          "data": {
            "text/plain": [
              "order_id                 0\n",
              "user_id                  0\n",
              "gender                   0\n",
              "num_of_item              0\n",
              "id_orders                0\n",
              "product_id               0\n",
              "order_created_at         0\n",
              "status_cancelled         0\n",
              "status_complete          0\n",
              "status_processing        0\n",
              "status_returned          0\n",
              "status__shipped          0\n",
              "age                      0\n",
              "state_orders             0\n",
              "postal_code_orders       0\n",
              "traffic_source_orders    0\n",
              "cost                     0\n",
              "category                 0\n",
              "name                     0\n",
              "brand                    0\n",
              "retail_price             0\n",
              "department               0\n",
              "id_events                0\n",
              "sequence_number          0\n",
              "created_at               0\n",
              "state_events             0\n",
              "postal_code_events       0\n",
              "browser                  0\n",
              "traffic_source_events    0\n",
              "event_type               0\n",
              "dtype: int64"
            ]
          },
          "execution_count": 114,
          "metadata": {},
          "output_type": "execute_result"
        }
      ],
      "source": [
        "all_data2.isna().sum()"
      ]
    },
    {
      "cell_type": "markdown",
      "metadata": {
        "id": "5hpwTDQNps7D"
      },
      "source": [
        "# MERGING CONCLUSION\n",
        "* There was significant information loss upon merging with 'created_at' and 'user_id' (final dataset is only 19k instances, while it shoul've been around 38k), however the format is correctly merged.\n",
        "* This information loss is likely due to the fact that 'created_at' is in specific date_time format, and instances that did not have this column formatted correctly are dropped upon merging."
      ]
    },
    {
      "cell_type": "markdown",
      "metadata": {
        "id": "QbydOfxelugS"
      },
      "source": [
        "# Further analysis\n",
        "* Inspecting data due to suspect of information loss."
      ]
    },
    {
      "cell_type": "code",
      "execution_count": 115,
      "metadata": {
        "colab": {
          "base_uri": "https://localhost:8080/",
          "height": 598
        },
        "id": "Xd8gQ5fEkwty",
        "outputId": "9c1b7b48-65a0-4f99-a0bc-c1710e3f2ce9"
      },
      "outputs": [
        {
          "data": {
            "text/html": [
              "<div>\n",
              "<style scoped>\n",
              "    .dataframe tbody tr th:only-of-type {\n",
              "        vertical-align: middle;\n",
              "    }\n",
              "\n",
              "    .dataframe tbody tr th {\n",
              "        vertical-align: top;\n",
              "    }\n",
              "\n",
              "    .dataframe thead th {\n",
              "        text-align: right;\n",
              "    }\n",
              "</style>\n",
              "<table border=\"1\" class=\"dataframe\">\n",
              "  <thead>\n",
              "    <tr style=\"text-align: right;\">\n",
              "      <th></th>\n",
              "      <th>order_id</th>\n",
              "      <th>user_id</th>\n",
              "      <th>gender</th>\n",
              "      <th>num_of_item</th>\n",
              "      <th>id</th>\n",
              "      <th>product_id</th>\n",
              "      <th>order_created_at</th>\n",
              "      <th>status_cancelled</th>\n",
              "      <th>status_complete</th>\n",
              "      <th>status_processing</th>\n",
              "      <th>status_returned</th>\n",
              "      <th>status__shipped</th>\n",
              "      <th>age</th>\n",
              "      <th>state</th>\n",
              "      <th>postal_code</th>\n",
              "      <th>traffic_source</th>\n",
              "      <th>cost</th>\n",
              "      <th>category</th>\n",
              "      <th>name</th>\n",
              "      <th>brand</th>\n",
              "      <th>retail_price</th>\n",
              "      <th>department</th>\n",
              "    </tr>\n",
              "  </thead>\n",
              "  <tbody>\n",
              "    <tr>\n",
              "      <th>4000</th>\n",
              "      <td>33241</td>\n",
              "      <td>26631</td>\n",
              "      <td>F</td>\n",
              "      <td>2</td>\n",
              "      <td>48325</td>\n",
              "      <td>4028</td>\n",
              "      <td>2024-01-17 03:47:47+00:00</td>\n",
              "      <td>0</td>\n",
              "      <td>1</td>\n",
              "      <td>0</td>\n",
              "      <td>0</td>\n",
              "      <td>0</td>\n",
              "      <td>60</td>\n",
              "      <td>California</td>\n",
              "      <td>93726</td>\n",
              "      <td>Organic</td>\n",
              "      <td>22.794001</td>\n",
              "      <td>Dresses</td>\n",
              "      <td>London Times Women's Printed Stretch Satin She...</td>\n",
              "      <td>London Times</td>\n",
              "      <td>52.400002</td>\n",
              "      <td>Women</td>\n",
              "    </tr>\n",
              "    <tr>\n",
              "      <th>4001</th>\n",
              "      <td>33248</td>\n",
              "      <td>26637</td>\n",
              "      <td>F</td>\n",
              "      <td>1</td>\n",
              "      <td>48335</td>\n",
              "      <td>1775</td>\n",
              "      <td>2022-10-23 22:07:02+00:00</td>\n",
              "      <td>0</td>\n",
              "      <td>1</td>\n",
              "      <td>0</td>\n",
              "      <td>0</td>\n",
              "      <td>0</td>\n",
              "      <td>55</td>\n",
              "      <td>Texas</td>\n",
              "      <td>78617</td>\n",
              "      <td>Organic</td>\n",
              "      <td>22.918500</td>\n",
              "      <td>Fashion Hoodies &amp; Sweatshirts</td>\n",
              "      <td>Billabong Open Roadz Pullover Hoodie - Women's</td>\n",
              "      <td>Billabong</td>\n",
              "      <td>49.500000</td>\n",
              "      <td>Women</td>\n",
              "    </tr>\n",
              "    <tr>\n",
              "      <th>4002</th>\n",
              "      <td>33265</td>\n",
              "      <td>26646</td>\n",
              "      <td>F</td>\n",
              "      <td>3</td>\n",
              "      <td>48362</td>\n",
              "      <td>116</td>\n",
              "      <td>2023-02-21 08:01:28+00:00</td>\n",
              "      <td>0</td>\n",
              "      <td>1</td>\n",
              "      <td>0</td>\n",
              "      <td>0</td>\n",
              "      <td>0</td>\n",
              "      <td>49</td>\n",
              "      <td>Washington</td>\n",
              "      <td>98001</td>\n",
              "      <td>Email</td>\n",
              "      <td>13.303500</td>\n",
              "      <td>Tops &amp; Tees</td>\n",
              "      <td>Nollie Womens Winterlite Crew Print Shirt</td>\n",
              "      <td>NOLLIE</td>\n",
              "      <td>24.500000</td>\n",
              "      <td>Women</td>\n",
              "    </tr>\n",
              "    <tr>\n",
              "      <th>4003</th>\n",
              "      <td>33265</td>\n",
              "      <td>26646</td>\n",
              "      <td>F</td>\n",
              "      <td>3</td>\n",
              "      <td>48361</td>\n",
              "      <td>2303</td>\n",
              "      <td>2023-02-19 08:22:35+00:00</td>\n",
              "      <td>0</td>\n",
              "      <td>1</td>\n",
              "      <td>0</td>\n",
              "      <td>0</td>\n",
              "      <td>0</td>\n",
              "      <td>49</td>\n",
              "      <td>Washington</td>\n",
              "      <td>98001</td>\n",
              "      <td>Email</td>\n",
              "      <td>43.945000</td>\n",
              "      <td>Fashion Hoodies &amp; Sweatshirts</td>\n",
              "      <td>Mod-O-Doc Women's Sherpa Zip Hoodie</td>\n",
              "      <td>Mod-O-Doc</td>\n",
              "      <td>87.889999</td>\n",
              "      <td>Women</td>\n",
              "    </tr>\n",
              "    <tr>\n",
              "      <th>4004</th>\n",
              "      <td>33380</td>\n",
              "      <td>26737</td>\n",
              "      <td>F</td>\n",
              "      <td>1</td>\n",
              "      <td>48529</td>\n",
              "      <td>4652</td>\n",
              "      <td>2020-09-04 08:28:47+00:00</td>\n",
              "      <td>0</td>\n",
              "      <td>1</td>\n",
              "      <td>0</td>\n",
              "      <td>0</td>\n",
              "      <td>0</td>\n",
              "      <td>36</td>\n",
              "      <td>Arizona</td>\n",
              "      <td>85017</td>\n",
              "      <td>Search</td>\n",
              "      <td>34.162000</td>\n",
              "      <td>Jeans</td>\n",
              "      <td>Levi's Women's Plus Triple Needle Stitch Skinn...</td>\n",
              "      <td>Levi's</td>\n",
              "      <td>58.000000</td>\n",
              "      <td>Women</td>\n",
              "    </tr>\n",
              "  </tbody>\n",
              "</table>\n",
              "</div>"
            ],
            "text/plain": [
              "      order_id  user_id gender  num_of_item     id  product_id  \\\n",
              "4000     33241    26631      F            2  48325        4028   \n",
              "4001     33248    26637      F            1  48335        1775   \n",
              "4002     33265    26646      F            3  48362         116   \n",
              "4003     33265    26646      F            3  48361        2303   \n",
              "4004     33380    26737      F            1  48529        4652   \n",
              "\n",
              "               order_created_at  status_cancelled  status_complete  \\\n",
              "4000  2024-01-17 03:47:47+00:00                 0                1   \n",
              "4001  2022-10-23 22:07:02+00:00                 0                1   \n",
              "4002  2023-02-21 08:01:28+00:00                 0                1   \n",
              "4003  2023-02-19 08:22:35+00:00                 0                1   \n",
              "4004  2020-09-04 08:28:47+00:00                 0                1   \n",
              "\n",
              "      status_processing  status_returned  status__shipped  age       state  \\\n",
              "4000                  0                0                0   60  California   \n",
              "4001                  0                0                0   55       Texas   \n",
              "4002                  0                0                0   49  Washington   \n",
              "4003                  0                0                0   49  Washington   \n",
              "4004                  0                0                0   36     Arizona   \n",
              "\n",
              "     postal_code traffic_source       cost                       category  \\\n",
              "4000       93726        Organic  22.794001                        Dresses   \n",
              "4001       78617        Organic  22.918500  Fashion Hoodies & Sweatshirts   \n",
              "4002       98001          Email  13.303500                    Tops & Tees   \n",
              "4003       98001          Email  43.945000  Fashion Hoodies & Sweatshirts   \n",
              "4004       85017         Search  34.162000                          Jeans   \n",
              "\n",
              "                                                   name         brand  \\\n",
              "4000  London Times Women's Printed Stretch Satin She...  London Times   \n",
              "4001     Billabong Open Roadz Pullover Hoodie - Women's     Billabong   \n",
              "4002          Nollie Womens Winterlite Crew Print Shirt        NOLLIE   \n",
              "4003                Mod-O-Doc Women's Sherpa Zip Hoodie     Mod-O-Doc   \n",
              "4004  Levi's Women's Plus Triple Needle Stitch Skinn...        Levi's   \n",
              "\n",
              "      retail_price department  \n",
              "4000     52.400002      Women  \n",
              "4001     49.500000      Women  \n",
              "4002     24.500000      Women  \n",
              "4003     87.889999      Women  \n",
              "4004     58.000000      Women  "
            ]
          },
          "execution_count": 115,
          "metadata": {},
          "output_type": "execute_result"
        }
      ],
      "source": [
        "orders_users_products[4000:4005]"
      ]
    },
    {
      "cell_type": "markdown",
      "metadata": {
        "id": "st2598Bnl7yw"
      },
      "source": [
        "* Above, user 21155 placed an order that included 4 items"
      ]
    },
    {
      "cell_type": "code",
      "execution_count": 116,
      "metadata": {
        "colab": {
          "base_uri": "https://localhost:8080/",
          "height": 465
        },
        "id": "paSmlEvQk2ok",
        "outputId": "2032a2d0-4724-4e30-f748-1b7b14972d0b"
      },
      "outputs": [
        {
          "data": {
            "text/html": [
              "<div>\n",
              "<style scoped>\n",
              "    .dataframe tbody tr th:only-of-type {\n",
              "        vertical-align: middle;\n",
              "    }\n",
              "\n",
              "    .dataframe tbody tr th {\n",
              "        vertical-align: top;\n",
              "    }\n",
              "\n",
              "    .dataframe thead th {\n",
              "        text-align: right;\n",
              "    }\n",
              "</style>\n",
              "<table border=\"1\" class=\"dataframe\">\n",
              "  <thead>\n",
              "    <tr style=\"text-align: right;\">\n",
              "      <th></th>\n",
              "      <th>order_id</th>\n",
              "      <th>user_id</th>\n",
              "      <th>gender</th>\n",
              "      <th>num_of_item</th>\n",
              "      <th>id</th>\n",
              "      <th>product_id</th>\n",
              "      <th>order_created_at</th>\n",
              "      <th>status_cancelled</th>\n",
              "      <th>status_complete</th>\n",
              "      <th>status_processing</th>\n",
              "      <th>status_returned</th>\n",
              "      <th>status__shipped</th>\n",
              "      <th>age</th>\n",
              "      <th>state</th>\n",
              "      <th>postal_code</th>\n",
              "      <th>traffic_source</th>\n",
              "      <th>cost</th>\n",
              "      <th>category</th>\n",
              "      <th>name</th>\n",
              "      <th>brand</th>\n",
              "      <th>retail_price</th>\n",
              "      <th>department</th>\n",
              "    </tr>\n",
              "  </thead>\n",
              "  <tbody>\n",
              "    <tr>\n",
              "      <th>3717</th>\n",
              "      <td>26496</td>\n",
              "      <td>21155</td>\n",
              "      <td>F</td>\n",
              "      <td>1</td>\n",
              "      <td>38464</td>\n",
              "      <td>13959</td>\n",
              "      <td>2020-02-09 05:29:50+00:00</td>\n",
              "      <td>0</td>\n",
              "      <td>1</td>\n",
              "      <td>0</td>\n",
              "      <td>0</td>\n",
              "      <td>0</td>\n",
              "      <td>18</td>\n",
              "      <td>Maryland</td>\n",
              "      <td>20772</td>\n",
              "      <td>Search</td>\n",
              "      <td>15.408619</td>\n",
              "      <td>Accessories</td>\n",
              "      <td>Suncloud Optics Aviator Sunglasses</td>\n",
              "      <td>Suncloud</td>\n",
              "      <td>35.259998</td>\n",
              "      <td>Women</td>\n",
              "    </tr>\n",
              "    <tr>\n",
              "      <th>8403</th>\n",
              "      <td>26497</td>\n",
              "      <td>21155</td>\n",
              "      <td>F</td>\n",
              "      <td>4</td>\n",
              "      <td>38465</td>\n",
              "      <td>6267</td>\n",
              "      <td>2021-04-30 05:38:27+00:00</td>\n",
              "      <td>0</td>\n",
              "      <td>0</td>\n",
              "      <td>1</td>\n",
              "      <td>0</td>\n",
              "      <td>0</td>\n",
              "      <td>18</td>\n",
              "      <td>Maryland</td>\n",
              "      <td>20772</td>\n",
              "      <td>Search</td>\n",
              "      <td>5.591780</td>\n",
              "      <td>Leggings</td>\n",
              "      <td>'Sexy Legs' Elliptical Pattern Fashion Leggings</td>\n",
              "      <td>Nollia</td>\n",
              "      <td>8.990000</td>\n",
              "      <td>Women</td>\n",
              "    </tr>\n",
              "    <tr>\n",
              "      <th>8404</th>\n",
              "      <td>26497</td>\n",
              "      <td>21155</td>\n",
              "      <td>F</td>\n",
              "      <td>4</td>\n",
              "      <td>38466</td>\n",
              "      <td>12393</td>\n",
              "      <td>2021-04-30 06:06:15+00:00</td>\n",
              "      <td>0</td>\n",
              "      <td>0</td>\n",
              "      <td>1</td>\n",
              "      <td>0</td>\n",
              "      <td>0</td>\n",
              "      <td>18</td>\n",
              "      <td>Maryland</td>\n",
              "      <td>20772</td>\n",
              "      <td>Search</td>\n",
              "      <td>16.032100</td>\n",
              "      <td>Intimates</td>\n",
              "      <td>Heart Mesh Bra &amp; G-string Lingerie Set</td>\n",
              "      <td>Vx Intimate Inc</td>\n",
              "      <td>30.950001</td>\n",
              "      <td>Women</td>\n",
              "    </tr>\n",
              "    <tr>\n",
              "      <th>8405</th>\n",
              "      <td>26497</td>\n",
              "      <td>21155</td>\n",
              "      <td>F</td>\n",
              "      <td>4</td>\n",
              "      <td>38467</td>\n",
              "      <td>11740</td>\n",
              "      <td>2021-05-02 07:41:25+00:00</td>\n",
              "      <td>0</td>\n",
              "      <td>0</td>\n",
              "      <td>1</td>\n",
              "      <td>0</td>\n",
              "      <td>0</td>\n",
              "      <td>18</td>\n",
              "      <td>Maryland</td>\n",
              "      <td>20772</td>\n",
              "      <td>Search</td>\n",
              "      <td>21.388861</td>\n",
              "      <td>Intimates</td>\n",
              "      <td>Coquette 3678 Pinstripe Woven Cami Top W/ Padd...</td>\n",
              "      <td>Coquette</td>\n",
              "      <td>43.740002</td>\n",
              "      <td>Women</td>\n",
              "    </tr>\n",
              "  </tbody>\n",
              "</table>\n",
              "</div>"
            ],
            "text/plain": [
              "      order_id  user_id gender  num_of_item     id  product_id  \\\n",
              "3717     26496    21155      F            1  38464       13959   \n",
              "8403     26497    21155      F            4  38465        6267   \n",
              "8404     26497    21155      F            4  38466       12393   \n",
              "8405     26497    21155      F            4  38467       11740   \n",
              "\n",
              "               order_created_at  status_cancelled  status_complete  \\\n",
              "3717  2020-02-09 05:29:50+00:00                 0                1   \n",
              "8403  2021-04-30 05:38:27+00:00                 0                0   \n",
              "8404  2021-04-30 06:06:15+00:00                 0                0   \n",
              "8405  2021-05-02 07:41:25+00:00                 0                0   \n",
              "\n",
              "      status_processing  status_returned  status__shipped  age     state  \\\n",
              "3717                  0                0                0   18  Maryland   \n",
              "8403                  1                0                0   18  Maryland   \n",
              "8404                  1                0                0   18  Maryland   \n",
              "8405                  1                0                0   18  Maryland   \n",
              "\n",
              "     postal_code traffic_source       cost     category  \\\n",
              "3717       20772         Search  15.408619  Accessories   \n",
              "8403       20772         Search   5.591780     Leggings   \n",
              "8404       20772         Search  16.032100    Intimates   \n",
              "8405       20772         Search  21.388861    Intimates   \n",
              "\n",
              "                                                   name            brand  \\\n",
              "3717                 Suncloud Optics Aviator Sunglasses         Suncloud   \n",
              "8403    'Sexy Legs' Elliptical Pattern Fashion Leggings           Nollia   \n",
              "8404             Heart Mesh Bra & G-string Lingerie Set  Vx Intimate Inc   \n",
              "8405  Coquette 3678 Pinstripe Woven Cami Top W/ Padd...         Coquette   \n",
              "\n",
              "      retail_price department  \n",
              "3717     35.259998      Women  \n",
              "8403      8.990000      Women  \n",
              "8404     30.950001      Women  \n",
              "8405     43.740002      Women  "
            ]
          },
          "execution_count": 116,
          "metadata": {},
          "output_type": "execute_result"
        }
      ],
      "source": [
        "orders_users_products[orders_users_products['user_id'] == 21155]"
      ]
    },
    {
      "cell_type": "markdown",
      "metadata": {
        "id": "sOqhRQnemDEh"
      },
      "source": [
        "* In the previously merged dataset, only 3 of 4 items from this order are included. Further analysis conducted below shows that product with id '1112' is not included in the products table, and therefore this loss was not a result of an improper merge."
      ]
    },
    {
      "cell_type": "code",
      "execution_count": 117,
      "metadata": {
        "colab": {
          "base_uri": "https://localhost:8080/",
          "height": 309
        },
        "id": "MdcAGqbYk7fh",
        "outputId": "2cfa7ef1-ec61-4e87-e183-ed60165053c4"
      },
      "outputs": [
        {
          "data": {
            "text/html": [
              "<div>\n",
              "<style scoped>\n",
              "    .dataframe tbody tr th:only-of-type {\n",
              "        vertical-align: middle;\n",
              "    }\n",
              "\n",
              "    .dataframe tbody tr th {\n",
              "        vertical-align: top;\n",
              "    }\n",
              "\n",
              "    .dataframe thead th {\n",
              "        text-align: right;\n",
              "    }\n",
              "</style>\n",
              "<table border=\"1\" class=\"dataframe\">\n",
              "  <thead>\n",
              "    <tr style=\"text-align: right;\">\n",
              "      <th></th>\n",
              "      <th>id</th>\n",
              "      <th>order_id</th>\n",
              "      <th>user_id</th>\n",
              "      <th>product_id</th>\n",
              "      <th>order_created_at</th>\n",
              "      <th>sale_price</th>\n",
              "      <th>itemStatus__Cancelled</th>\n",
              "      <th>itemStatus__Complete</th>\n",
              "      <th>itemStatus__Processing</th>\n",
              "      <th>itemStatus__Returned</th>\n",
              "      <th>itemStatus__Shipped</th>\n",
              "    </tr>\n",
              "  </thead>\n",
              "  <tbody>\n",
              "    <tr>\n",
              "      <th>5108</th>\n",
              "      <td>38465</td>\n",
              "      <td>26497</td>\n",
              "      <td>21155</td>\n",
              "      <td>6267</td>\n",
              "      <td>2021-04-30 05:38:27+00:00</td>\n",
              "      <td>8.990000</td>\n",
              "      <td>0</td>\n",
              "      <td>0</td>\n",
              "      <td>1</td>\n",
              "      <td>0</td>\n",
              "      <td>0</td>\n",
              "    </tr>\n",
              "    <tr>\n",
              "      <th>69154</th>\n",
              "      <td>38466</td>\n",
              "      <td>26497</td>\n",
              "      <td>21155</td>\n",
              "      <td>12393</td>\n",
              "      <td>2021-04-30 06:06:15+00:00</td>\n",
              "      <td>30.950001</td>\n",
              "      <td>0</td>\n",
              "      <td>0</td>\n",
              "      <td>1</td>\n",
              "      <td>0</td>\n",
              "      <td>0</td>\n",
              "    </tr>\n",
              "    <tr>\n",
              "      <th>80130</th>\n",
              "      <td>38464</td>\n",
              "      <td>26496</td>\n",
              "      <td>21155</td>\n",
              "      <td>13959</td>\n",
              "      <td>2020-02-09 05:29:50+00:00</td>\n",
              "      <td>35.259998</td>\n",
              "      <td>0</td>\n",
              "      <td>1</td>\n",
              "      <td>0</td>\n",
              "      <td>0</td>\n",
              "      <td>0</td>\n",
              "    </tr>\n",
              "    <tr>\n",
              "      <th>96979</th>\n",
              "      <td>38467</td>\n",
              "      <td>26497</td>\n",
              "      <td>21155</td>\n",
              "      <td>11740</td>\n",
              "      <td>2021-05-02 07:41:25+00:00</td>\n",
              "      <td>43.740002</td>\n",
              "      <td>0</td>\n",
              "      <td>0</td>\n",
              "      <td>1</td>\n",
              "      <td>0</td>\n",
              "      <td>0</td>\n",
              "    </tr>\n",
              "    <tr>\n",
              "      <th>180419</th>\n",
              "      <td>38468</td>\n",
              "      <td>26497</td>\n",
              "      <td>21155</td>\n",
              "      <td>1112</td>\n",
              "      <td>2021-04-29 08:56:35+00:00</td>\n",
              "      <td>344.000000</td>\n",
              "      <td>0</td>\n",
              "      <td>0</td>\n",
              "      <td>1</td>\n",
              "      <td>0</td>\n",
              "      <td>0</td>\n",
              "    </tr>\n",
              "  </tbody>\n",
              "</table>\n",
              "</div>"
            ],
            "text/plain": [
              "           id  order_id  user_id  product_id           order_created_at  \\\n",
              "5108    38465     26497    21155        6267  2021-04-30 05:38:27+00:00   \n",
              "69154   38466     26497    21155       12393  2021-04-30 06:06:15+00:00   \n",
              "80130   38464     26496    21155       13959  2020-02-09 05:29:50+00:00   \n",
              "96979   38467     26497    21155       11740  2021-05-02 07:41:25+00:00   \n",
              "180419  38468     26497    21155        1112  2021-04-29 08:56:35+00:00   \n",
              "\n",
              "        sale_price  itemStatus__Cancelled  itemStatus__Complete  \\\n",
              "5108      8.990000                      0                     0   \n",
              "69154    30.950001                      0                     0   \n",
              "80130    35.259998                      0                     1   \n",
              "96979    43.740002                      0                     0   \n",
              "180419  344.000000                      0                     0   \n",
              "\n",
              "        itemStatus__Processing  itemStatus__Returned  itemStatus__Shipped  \n",
              "5108                         1                     0                    0  \n",
              "69154                        1                     0                    0  \n",
              "80130                        0                     0                    0  \n",
              "96979                        1                     0                    0  \n",
              "180419                       1                     0                    0  "
            ]
          },
          "execution_count": 117,
          "metadata": {},
          "output_type": "execute_result"
        }
      ],
      "source": [
        "order_items[order_items['user_id'] == 21155]"
      ]
    },
    {
      "cell_type": "code",
      "execution_count": 118,
      "metadata": {
        "colab": {
          "base_uri": "https://localhost:8080/",
          "height": 53
        },
        "id": "7rox4o1hlILM",
        "outputId": "cb6c0480-cfac-4288-8341-71b6803b9dae"
      },
      "outputs": [
        {
          "data": {
            "text/html": [
              "<div>\n",
              "<style scoped>\n",
              "    .dataframe tbody tr th:only-of-type {\n",
              "        vertical-align: middle;\n",
              "    }\n",
              "\n",
              "    .dataframe tbody tr th {\n",
              "        vertical-align: top;\n",
              "    }\n",
              "\n",
              "    .dataframe thead th {\n",
              "        text-align: right;\n",
              "    }\n",
              "</style>\n",
              "<table border=\"1\" class=\"dataframe\">\n",
              "  <thead>\n",
              "    <tr style=\"text-align: right;\">\n",
              "      <th></th>\n",
              "      <th>product_id</th>\n",
              "      <th>cost</th>\n",
              "      <th>category</th>\n",
              "      <th>name</th>\n",
              "      <th>brand</th>\n",
              "      <th>retail_price</th>\n",
              "      <th>department</th>\n",
              "    </tr>\n",
              "  </thead>\n",
              "  <tbody>\n",
              "  </tbody>\n",
              "</table>\n",
              "</div>"
            ],
            "text/plain": [
              "Empty DataFrame\n",
              "Columns: [product_id, cost, category, name, brand, retail_price, department]\n",
              "Index: []"
            ]
          },
          "execution_count": 118,
          "metadata": {},
          "output_type": "execute_result"
        }
      ],
      "source": [
        "products[products['product_id'] == '1112']"
      ]
    },
    {
      "cell_type": "code",
      "execution_count": 119,
      "metadata": {
        "colab": {
          "base_uri": "https://localhost:8080/",
          "height": 53
        },
        "id": "UdN54NJVlUqQ",
        "outputId": "73b7641d-9e14-4bec-c53b-0b6613f12986"
      },
      "outputs": [
        {
          "data": {
            "text/html": [
              "<div>\n",
              "<style scoped>\n",
              "    .dataframe tbody tr th:only-of-type {\n",
              "        vertical-align: middle;\n",
              "    }\n",
              "\n",
              "    .dataframe tbody tr th {\n",
              "        vertical-align: top;\n",
              "    }\n",
              "\n",
              "    .dataframe thead th {\n",
              "        text-align: right;\n",
              "    }\n",
              "</style>\n",
              "<table border=\"1\" class=\"dataframe\">\n",
              "  <thead>\n",
              "    <tr style=\"text-align: right;\">\n",
              "      <th></th>\n",
              "      <th>id</th>\n",
              "      <th>cost</th>\n",
              "      <th>category</th>\n",
              "      <th>name</th>\n",
              "      <th>brand</th>\n",
              "      <th>retail_price</th>\n",
              "      <th>department</th>\n",
              "      <th>sku</th>\n",
              "      <th>distribution_center_id</th>\n",
              "    </tr>\n",
              "  </thead>\n",
              "  <tbody>\n",
              "  </tbody>\n",
              "</table>\n",
              "</div>"
            ],
            "text/plain": [
              "Empty DataFrame\n",
              "Columns: [id, cost, category, name, brand, retail_price, department, sku, distribution_center_id]\n",
              "Index: []"
            ]
          },
          "execution_count": 119,
          "metadata": {},
          "output_type": "execute_result"
        }
      ],
      "source": [
        "raw_products = pd.read_csv('https://github.com/ardahk/amex/raw/main/data/products.csv')\n",
        "raw_products[raw_products['id'] == '1112']"
      ]
    },
    {
      "cell_type": "markdown",
      "metadata": {
        "id": "QWW6zQjImY69"
      },
      "source": [
        "Takeaway: Not all products are included in the products dataset, so some reduced size in the data when merging is normal."
      ]
    }
  ],
  "metadata": {
    "colab": {
      "provenance": []
    },
    "kernelspec": {
      "display_name": "Python 3",
      "name": "python3"
    },
    "language_info": {
      "codemirror_mode": {
        "name": "ipython",
        "version": 3
      },
      "file_extension": ".py",
      "mimetype": "text/x-python",
      "name": "python",
      "nbconvert_exporter": "python",
      "pygments_lexer": "ipython3",
      "version": "3.12.4"
    }
  },
  "nbformat": 4,
  "nbformat_minor": 0
}
