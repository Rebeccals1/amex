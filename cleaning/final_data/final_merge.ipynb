{
 "cells": [
  {
   "cell_type": "code",
   "execution_count": 1,
   "metadata": {},
   "outputs": [],
   "source": [
    "import pandas as pd\n",
    "import numpy as np\n",
    "import seaborn as sns\n",
    "import matplotlib as mpl\n",
    "import matplotlib.pyplot as plt"
   ]
  },
  {
   "cell_type": "code",
   "execution_count": 6,
   "metadata": {},
   "outputs": [],
   "source": [
    "orders_users = '../clean_data/orders_users_products.csv'\n",
    "events_path = '../clean_data/us_events.csv'\n",
    "orders_users_products = pd.read_csv(orders_users)\n",
    "events = pd.read_csv(events_path)\n"
   ]
  },
  {
   "cell_type": "code",
   "execution_count": 13,
   "metadata": {},
   "outputs": [
    {
     "name": "stdout",
     "output_type": "stream",
     "text": [
      "<class 'pandas.core.frame.DataFrame'>\n",
      "RangeIndex: 40513 entries, 0 to 40512\n",
      "Data columns (total 9 columns):\n",
      " #   Column           Non-Null Count  Dtype  \n",
      "---  ------           --------------  -----  \n",
      " 0   id               40513 non-null  int64  \n",
      " 1   user_id          40513 non-null  float64\n",
      " 2   sequence_number  40513 non-null  int64  \n",
      " 3   created_at       40513 non-null  object \n",
      " 4   state            40513 non-null  object \n",
      " 5   postal_code      40513 non-null  int64  \n",
      " 6   browser          40513 non-null  object \n",
      " 7   traffic_source   40513 non-null  object \n",
      " 8   event_type       40513 non-null  object \n",
      "dtypes: float64(1), int64(3), object(5)\n",
      "memory usage: 2.8+ MB\n"
     ]
    }
   ],
   "source": [
    "events.info()\n"
   ]
  },
  {
   "cell_type": "code",
   "execution_count": 15,
   "metadata": {},
   "outputs": [
    {
     "name": "stdout",
     "output_type": "stream",
     "text": [
      "<class 'pandas.core.frame.DataFrame'>\n",
      "RangeIndex: 38152 entries, 0 to 38151\n",
      "Data columns (total 22 columns):\n",
      " #   Column             Non-Null Count  Dtype  \n",
      "---  ------             --------------  -----  \n",
      " 0   order_id           38152 non-null  int64  \n",
      " 1   user_id            38152 non-null  int64  \n",
      " 2   gender             38152 non-null  object \n",
      " 3   num_of_item        38152 non-null  int64  \n",
      " 4   id                 38152 non-null  int64  \n",
      " 5   product_id         38152 non-null  int64  \n",
      " 6   order_created_at   38152 non-null  object \n",
      " 7   status_cancelled   38152 non-null  int64  \n",
      " 8   status_complete    38152 non-null  int64  \n",
      " 9   status_processing  38152 non-null  int64  \n",
      " 10  status_returned    38152 non-null  int64  \n",
      " 11  status__shipped    38152 non-null  int64  \n",
      " 12  age                38152 non-null  int64  \n",
      " 13  state              38152 non-null  object \n",
      " 14  postal_code        38152 non-null  int64  \n",
      " 15  traffic_source     38152 non-null  object \n",
      " 16  cost               38152 non-null  float64\n",
      " 17  category           38152 non-null  object \n",
      " 18  name               38152 non-null  object \n",
      " 19  brand              38152 non-null  object \n",
      " 20  retail_price       38152 non-null  float64\n",
      " 21  department         38152 non-null  object \n",
      "dtypes: float64(2), int64(12), object(8)\n",
      "memory usage: 6.4+ MB\n"
     ]
    }
   ],
   "source": [
    "orders_users_products.info()"
   ]
  },
  {
   "cell_type": "code",
   "execution_count": null,
   "metadata": {},
   "outputs": [],
   "source": []
  }
 ],
 "metadata": {
  "kernelspec": {
   "display_name": ".venv",
   "language": "python",
   "name": "python3"
  },
  "language_info": {
   "codemirror_mode": {
    "name": "ipython",
    "version": 3
   },
   "file_extension": ".py",
   "mimetype": "text/x-python",
   "name": "python",
   "nbconvert_exporter": "python",
   "pygments_lexer": "ipython3",
   "version": "3.12.4"
  }
 },
 "nbformat": 4,
 "nbformat_minor": 2
}
