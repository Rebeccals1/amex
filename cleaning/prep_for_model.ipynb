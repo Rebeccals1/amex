{
 "cells": [
  {
   "cell_type": "markdown",
   "metadata": {},
   "source": [
    "## Preparing the cleaned data for model training (Demo)\n"
   ]
  },
  {
   "cell_type": "markdown",
   "metadata": {},
   "source": [
    "Process Overview:\n",
    "1. Separating us_events into browsing and purchase\n",
    "2. Merging purchase  with orders_users_products\n",
    "3. Performing one-hot-encoding/normalization of features where necessary\n",
    "4. Performing high level analysis on both datasets to evaluate their fitness for use in model training\n",
    "5. Making recommendations for model use"
   ]
  },
  {
   "cell_type": "code",
   "execution_count": 2,
   "metadata": {},
   "outputs": [],
   "source": [
    "#Importing the necessary libraries\n",
    "import pandas as pd\n",
    "import os"
   ]
  },
  {
   "cell_type": "code",
   "execution_count": 8,
   "metadata": {},
   "outputs": [],
   "source": [
    "#Reading in the datasets\n",
    "filename = os.path.join(os.getcwd(), \"clean_data\", \"us_events.csv\")\n",
    "us_events = pd.read_csv(filename)\n",
    "\n",
    "filename = os.path.join(os.getcwd(), \"clean_data\", \"orders_users_products.csv\")\n",
    "orders_users_products = pd.read_csv(filename)"
   ]
  },
  {
   "cell_type": "code",
   "execution_count": 5,
   "metadata": {},
   "outputs": [
    {
     "name": "stdout",
     "output_type": "stream",
     "text": [
      "(40513, 9)\n",
      "(38152, 22)\n"
     ]
    }
   ],
   "source": [
    "#Checking if they were imported correctly\n",
    "print(us_events.shape)\n",
    "print(orders_users_products.shape)"
   ]
  },
  {
   "cell_type": "code",
   "execution_count": 9,
   "metadata": {},
   "outputs": [
    {
     "data": {
      "text/html": [
       "<div>\n",
       "<style scoped>\n",
       "    .dataframe tbody tr th:only-of-type {\n",
       "        vertical-align: middle;\n",
       "    }\n",
       "\n",
       "    .dataframe tbody tr th {\n",
       "        vertical-align: top;\n",
       "    }\n",
       "\n",
       "    .dataframe thead th {\n",
       "        text-align: right;\n",
       "    }\n",
       "</style>\n",
       "<table border=\"1\" class=\"dataframe\">\n",
       "  <thead>\n",
       "    <tr style=\"text-align: right;\">\n",
       "      <th></th>\n",
       "      <th>id</th>\n",
       "      <th>user_id</th>\n",
       "      <th>sequence_number</th>\n",
       "      <th>created_at</th>\n",
       "      <th>state</th>\n",
       "      <th>postal_code</th>\n",
       "      <th>browser</th>\n",
       "      <th>traffic_source</th>\n",
       "      <th>event_type</th>\n",
       "    </tr>\n",
       "  </thead>\n",
       "  <tbody>\n",
       "    <tr>\n",
       "      <th>0</th>\n",
       "      <td>276386</td>\n",
       "      <td>21148.0</td>\n",
       "      <td>5</td>\n",
       "      <td>2021-11-01 08:13:46+00:00</td>\n",
       "      <td>New York</td>\n",
       "      <td>10009</td>\n",
       "      <td>Chrome</td>\n",
       "      <td>Email</td>\n",
       "      <td>purchase</td>\n",
       "    </tr>\n",
       "    <tr>\n",
       "      <th>1</th>\n",
       "      <td>903745</td>\n",
       "      <td>69070.0</td>\n",
       "      <td>10</td>\n",
       "      <td>2023-02-17 09:24:58+00:00</td>\n",
       "      <td>New York</td>\n",
       "      <td>10009</td>\n",
       "      <td>Safari</td>\n",
       "      <td>Adwords</td>\n",
       "      <td>purchase</td>\n",
       "    </tr>\n",
       "    <tr>\n",
       "      <th>2</th>\n",
       "      <td>707607</td>\n",
       "      <td>54080.0</td>\n",
       "      <td>7</td>\n",
       "      <td>2023-09-10 11:13:08+00:00</td>\n",
       "      <td>New York</td>\n",
       "      <td>10012</td>\n",
       "      <td>Firefox</td>\n",
       "      <td>Email</td>\n",
       "      <td>purchase</td>\n",
       "    </tr>\n",
       "    <tr>\n",
       "      <th>3</th>\n",
       "      <td>161771</td>\n",
       "      <td>12535.0</td>\n",
       "      <td>7</td>\n",
       "      <td>2023-12-29 02:38:30+00:00</td>\n",
       "      <td>New York</td>\n",
       "      <td>10016</td>\n",
       "      <td>Firefox</td>\n",
       "      <td>Email</td>\n",
       "      <td>purchase</td>\n",
       "    </tr>\n",
       "    <tr>\n",
       "      <th>4</th>\n",
       "      <td>368472</td>\n",
       "      <td>28182.0</td>\n",
       "      <td>7</td>\n",
       "      <td>2020-09-23 08:39:16+00:00</td>\n",
       "      <td>New York</td>\n",
       "      <td>10029</td>\n",
       "      <td>Safari</td>\n",
       "      <td>Organic</td>\n",
       "      <td>purchase</td>\n",
       "    </tr>\n",
       "  </tbody>\n",
       "</table>\n",
       "</div>"
      ],
      "text/plain": [
       "       id  user_id  sequence_number                 created_at     state  \\\n",
       "0  276386  21148.0                5  2021-11-01 08:13:46+00:00  New York   \n",
       "1  903745  69070.0               10  2023-02-17 09:24:58+00:00  New York   \n",
       "2  707607  54080.0                7  2023-09-10 11:13:08+00:00  New York   \n",
       "3  161771  12535.0                7  2023-12-29 02:38:30+00:00  New York   \n",
       "4  368472  28182.0                7  2020-09-23 08:39:16+00:00  New York   \n",
       "\n",
       "   postal_code  browser traffic_source event_type  \n",
       "0        10009   Chrome          Email   purchase  \n",
       "1        10009   Safari        Adwords   purchase  \n",
       "2        10012  Firefox          Email   purchase  \n",
       "3        10016  Firefox          Email   purchase  \n",
       "4        10029   Safari        Organic   purchase  "
      ]
     },
     "execution_count": 9,
     "metadata": {},
     "output_type": "execute_result"
    }
   ],
   "source": [
    "us_events.head()"
   ]
  },
  {
   "cell_type": "code",
   "execution_count": 15,
   "metadata": {},
   "outputs": [
    {
     "data": {
      "text/plain": [
       "array(['purchase'], dtype=object)"
      ]
     },
     "execution_count": 15,
     "metadata": {},
     "output_type": "execute_result"
    }
   ],
   "source": [
    "#Separating us_events into browsing and purchase\n",
    "us_events['event_type'].unique()\n",
    "\n",
    "#browsing = us_events[us_events['event_type'] != 'purchase']\n",
    "#purchase = us_events[us_events['event_type'] == 'purchase']"
   ]
  },
  {
   "cell_type": "code",
   "execution_count": null,
   "metadata": {},
   "outputs": [],
   "source": []
  }
 ],
 "metadata": {
  "kernelspec": {
   "display_name": ".venv",
   "language": "python",
   "name": "python3"
  },
  "language_info": {
   "codemirror_mode": {
    "name": "ipython",
    "version": 3
   },
   "file_extension": ".py",
   "mimetype": "text/x-python",
   "name": "python",
   "nbconvert_exporter": "python",
   "pygments_lexer": "ipython3",
   "version": "3.12.4"
  }
 },
 "nbformat": 4,
 "nbformat_minor": 2
}
