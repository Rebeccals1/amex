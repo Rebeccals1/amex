{
 "cells": [
  {
   "cell_type": "code",
   "execution_count": 14,
   "metadata": {},
   "outputs": [],
   "source": [
    "import pandas as pd\n",
    "import numpy as np\n",
    "import os\n"
   ]
  },
  {
   "cell_type": "code",
   "execution_count": 15,
   "metadata": {},
   "outputs": [
    {
     "name": "stdout",
     "output_type": "stream",
     "text": [
      "<class 'pandas.core.frame.DataFrame'>\n",
      "RangeIndex: 181759 entries, 0 to 181758\n",
      "Data columns (total 11 columns):\n",
      " #   Column             Non-Null Count   Dtype  \n",
      "---  ------             --------------   -----  \n",
      " 0   id                 181759 non-null  int64  \n",
      " 1   order_id           181759 non-null  int64  \n",
      " 2   user_id            181759 non-null  int64  \n",
      " 3   product_id         181759 non-null  int64  \n",
      " 4   inventory_item_id  181759 non-null  int64  \n",
      " 5   status             181759 non-null  object \n",
      " 6   created_at         181759 non-null  object \n",
      " 7   shipped_at         118281 non-null  object \n",
      " 8   delivered_at       63841 non-null   object \n",
      " 9   returned_at        18232 non-null   object \n",
      " 10  sale_price         181759 non-null  float64\n",
      "dtypes: float64(1), int64(5), object(5)\n",
      "memory usage: 15.3+ MB\n"
     ]
    }
   ],
   "source": [
    "path = '../data/order_items.csv'\n",
    "orders = pd.read_csv(path)\n",
    "orders.info()"
   ]
  },
  {
   "cell_type": "code",
   "execution_count": 17,
   "metadata": {},
   "outputs": [
    {
     "name": "stdout",
     "output_type": "stream",
     "text": [
      "<class 'pandas.core.frame.DataFrame'>\n",
      "Index: 125226 entries, 0 to 181758\n",
      "Data columns (total 8 columns):\n",
      " #   Column             Non-Null Count   Dtype  \n",
      "---  ------             --------------   -----  \n",
      " 0   id                 125226 non-null  int64  \n",
      " 1   order_id           125226 non-null  int64  \n",
      " 2   user_id            125226 non-null  int64  \n",
      " 3   product_id         125226 non-null  int64  \n",
      " 4   inventory_item_id  125226 non-null  int64  \n",
      " 5   status             125226 non-null  object \n",
      " 6   returned_at        12530 non-null   object \n",
      " 7   sale_price         125226 non-null  float64\n",
      "dtypes: float64(1), int64(5), object(2)\n",
      "memory usage: 8.6+ MB\n"
     ]
    }
   ],
   "source": [
    "orders = orders.drop_duplicates(subset='order_id', keep='first')\n",
    "orders.info()"
   ]
  },
  {
   "cell_type": "code",
   "execution_count": 20,
   "metadata": {},
   "outputs": [],
   "source": [
    "orders['returned'] = orders['returned_at'].apply(lambda x: 0 if pd.isnull(x) else 1)"
   ]
  },
  {
   "cell_type": "code",
   "execution_count": 21,
   "metadata": {},
   "outputs": [
    {
     "name": "stdout",
     "output_type": "stream",
     "text": [
      "<class 'pandas.core.frame.DataFrame'>\n",
      "Index: 125226 entries, 0 to 181758\n",
      "Data columns (total 9 columns):\n",
      " #   Column             Non-Null Count   Dtype  \n",
      "---  ------             --------------   -----  \n",
      " 0   id                 125226 non-null  int64  \n",
      " 1   order_id           125226 non-null  int64  \n",
      " 2   user_id            125226 non-null  int64  \n",
      " 3   product_id         125226 non-null  int64  \n",
      " 4   inventory_item_id  125226 non-null  int64  \n",
      " 5   status             125226 non-null  object \n",
      " 6   returned_at        12530 non-null   object \n",
      " 7   sale_price         125226 non-null  float64\n",
      " 8   returned           125226 non-null  int64  \n",
      "dtypes: float64(1), int64(6), object(2)\n",
      "memory usage: 9.6+ MB\n"
     ]
    }
   ],
   "source": [
    "orders.info()"
   ]
  },
  {
   "cell_type": "code",
   "execution_count": 16,
   "metadata": {},
   "outputs": [
    {
     "name": "stdout",
     "output_type": "stream",
     "text": [
      "<class 'pandas.core.frame.DataFrame'>\n",
      "RangeIndex: 181759 entries, 0 to 181758\n",
      "Data columns (total 8 columns):\n",
      " #   Column             Non-Null Count   Dtype  \n",
      "---  ------             --------------   -----  \n",
      " 0   id                 181759 non-null  int64  \n",
      " 1   order_id           181759 non-null  int64  \n",
      " 2   user_id            181759 non-null  int64  \n",
      " 3   product_id         181759 non-null  int64  \n",
      " 4   inventory_item_id  181759 non-null  int64  \n",
      " 5   status             181759 non-null  object \n",
      " 6   returned_at        18232 non-null   object \n",
      " 7   sale_price         181759 non-null  float64\n",
      "dtypes: float64(1), int64(5), object(2)\n",
      "memory usage: 11.1+ MB\n"
     ]
    }
   ],
   "source": [
    "orders = orders.drop(columns=['created_at', 'shipped_at', 'delivered_at'])\n",
    "orders.info()"
   ]
  },
  {
   "cell_type": "code",
   "execution_count": 4,
   "metadata": {},
   "outputs": [],
   "source": []
  },
  {
   "cell_type": "code",
   "execution_count": 5,
   "metadata": {},
   "outputs": [],
   "source": [
    "orders = orders.drop(columns=['returned_at'])"
   ]
  },
  {
   "cell_type": "code",
   "execution_count": 6,
   "metadata": {},
   "outputs": [
    {
     "name": "stdout",
     "output_type": "stream",
     "text": [
      "<class 'pandas.core.frame.DataFrame'>\n",
      "RangeIndex: 125226 entries, 0 to 125225\n",
      "Data columns (total 6 columns):\n",
      " #   Column       Non-Null Count   Dtype \n",
      "---  ------       --------------   ----- \n",
      " 0   order_id     125226 non-null  int64 \n",
      " 1   user_id      125226 non-null  int64 \n",
      " 2   status       125226 non-null  object\n",
      " 3   gender       125226 non-null  object\n",
      " 4   num_of_item  125226 non-null  int64 \n",
      " 5   returned     125226 non-null  int64 \n",
      "dtypes: int64(4), object(2)\n",
      "memory usage: 5.7+ MB\n"
     ]
    }
   ],
   "source": [
    "orders.info()"
   ]
  },
  {
   "cell_type": "code",
   "execution_count": 10,
   "metadata": {},
   "outputs": [],
   "source": [
    "folder_path = './final_data'\n",
    "csv_file_path = os.path.join(folder_path, 'orders_final.csv')\n",
    "orders.to_csv(csv_file_path, index=False)"
   ]
  },
  {
   "cell_type": "code",
   "execution_count": null,
   "metadata": {},
   "outputs": [],
   "source": []
  }
 ],
 "metadata": {
  "kernelspec": {
   "display_name": ".venv",
   "language": "python",
   "name": "python3"
  },
  "language_info": {
   "codemirror_mode": {
    "name": "ipython",
    "version": 3
   },
   "file_extension": ".py",
   "mimetype": "text/x-python",
   "name": "python",
   "nbconvert_exporter": "python",
   "pygments_lexer": "ipython3",
   "version": "3.12.4"
  }
 },
 "nbformat": 4,
 "nbformat_minor": 2
}
