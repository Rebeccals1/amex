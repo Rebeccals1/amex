{
 "cells": [
  {
   "cell_type": "markdown",
   "metadata": {},
   "source": [
    "# CLEANING EVENTS"
   ]
  },
  {
   "cell_type": "code",
   "execution_count": 35,
   "metadata": {},
   "outputs": [],
   "source": [
    "import pandas as pd\n",
    "import numpy as np"
   ]
  },
  {
   "cell_type": "code",
   "execution_count": 36,
   "metadata": {},
   "outputs": [
    {
     "data": {
      "text/html": [
       "<div>\n",
       "<style scoped>\n",
       "    .dataframe tbody tr th:only-of-type {\n",
       "        vertical-align: middle;\n",
       "    }\n",
       "\n",
       "    .dataframe tbody tr th {\n",
       "        vertical-align: top;\n",
       "    }\n",
       "\n",
       "    .dataframe thead th {\n",
       "        text-align: right;\n",
       "    }\n",
       "</style>\n",
       "<table border=\"1\" class=\"dataframe\">\n",
       "  <thead>\n",
       "    <tr style=\"text-align: right;\">\n",
       "      <th></th>\n",
       "      <th>id</th>\n",
       "      <th>user_id</th>\n",
       "      <th>sequence_number</th>\n",
       "      <th>session_id</th>\n",
       "      <th>created_at</th>\n",
       "      <th>ip_address</th>\n",
       "      <th>city</th>\n",
       "      <th>state</th>\n",
       "      <th>postal_code</th>\n",
       "      <th>browser</th>\n",
       "      <th>traffic_source</th>\n",
       "      <th>uri</th>\n",
       "      <th>event_type</th>\n",
       "    </tr>\n",
       "  </thead>\n",
       "  <tbody>\n",
       "    <tr>\n",
       "      <th>0</th>\n",
       "      <td>2198523</td>\n",
       "      <td>NaN</td>\n",
       "      <td>3</td>\n",
       "      <td>83889ed2-2adc-4b9a-af5d-154f6998e778</td>\n",
       "      <td>2021-06-17 17:30:00+00:00</td>\n",
       "      <td>138.143.9.202</td>\n",
       "      <td>São Paulo</td>\n",
       "      <td>São Paulo</td>\n",
       "      <td>02675-031</td>\n",
       "      <td>Chrome</td>\n",
       "      <td>Adwords</td>\n",
       "      <td>/cancel</td>\n",
       "      <td>cancel</td>\n",
       "    </tr>\n",
       "    <tr>\n",
       "      <th>1</th>\n",
       "      <td>1773216</td>\n",
       "      <td>NaN</td>\n",
       "      <td>3</td>\n",
       "      <td>7a3fc3f2-e84f-44fe-8876-eff76741f7a3</td>\n",
       "      <td>2020-08-07 08:41:00+00:00</td>\n",
       "      <td>85.114.141.79</td>\n",
       "      <td>Santa Isabel</td>\n",
       "      <td>São Paulo</td>\n",
       "      <td>07500-000</td>\n",
       "      <td>Safari</td>\n",
       "      <td>Adwords</td>\n",
       "      <td>/cancel</td>\n",
       "      <td>cancel</td>\n",
       "    </tr>\n",
       "    <tr>\n",
       "      <th>2</th>\n",
       "      <td>2380515</td>\n",
       "      <td>NaN</td>\n",
       "      <td>3</td>\n",
       "      <td>13d9b2fb-eee1-43fd-965c-267b38dd7125</td>\n",
       "      <td>2021-02-15 18:48:00+00:00</td>\n",
       "      <td>169.250.255.132</td>\n",
       "      <td>Mairiporã</td>\n",
       "      <td>São Paulo</td>\n",
       "      <td>07600-000</td>\n",
       "      <td>IE</td>\n",
       "      <td>Adwords</td>\n",
       "      <td>/cancel</td>\n",
       "      <td>cancel</td>\n",
       "    </tr>\n",
       "    <tr>\n",
       "      <th>3</th>\n",
       "      <td>2250597</td>\n",
       "      <td>NaN</td>\n",
       "      <td>3</td>\n",
       "      <td>96f1d44e-9621-463c-954c-d8deb7fffe7f</td>\n",
       "      <td>2022-03-30 10:56:00+00:00</td>\n",
       "      <td>137.25.222.160</td>\n",
       "      <td>Cajamar</td>\n",
       "      <td>São Paulo</td>\n",
       "      <td>07750-000</td>\n",
       "      <td>Chrome</td>\n",
       "      <td>Adwords</td>\n",
       "      <td>/cancel</td>\n",
       "      <td>cancel</td>\n",
       "    </tr>\n",
       "    <tr>\n",
       "      <th>4</th>\n",
       "      <td>1834446</td>\n",
       "      <td>NaN</td>\n",
       "      <td>3</td>\n",
       "      <td>d09dce10-a7cb-47d3-a9af-44975566fa03</td>\n",
       "      <td>2019-09-05 01:18:00+00:00</td>\n",
       "      <td>161.114.4.174</td>\n",
       "      <td>São Paulo</td>\n",
       "      <td>São Paulo</td>\n",
       "      <td>09581-680</td>\n",
       "      <td>Chrome</td>\n",
       "      <td>Email</td>\n",
       "      <td>/cancel</td>\n",
       "      <td>cancel</td>\n",
       "    </tr>\n",
       "  </tbody>\n",
       "</table>\n",
       "</div>"
      ],
      "text/plain": [
       "        id  user_id  sequence_number                            session_id  \\\n",
       "0  2198523      NaN                3  83889ed2-2adc-4b9a-af5d-154f6998e778   \n",
       "1  1773216      NaN                3  7a3fc3f2-e84f-44fe-8876-eff76741f7a3   \n",
       "2  2380515      NaN                3  13d9b2fb-eee1-43fd-965c-267b38dd7125   \n",
       "3  2250597      NaN                3  96f1d44e-9621-463c-954c-d8deb7fffe7f   \n",
       "4  1834446      NaN                3  d09dce10-a7cb-47d3-a9af-44975566fa03   \n",
       "\n",
       "                  created_at       ip_address          city      state  \\\n",
       "0  2021-06-17 17:30:00+00:00    138.143.9.202     São Paulo  São Paulo   \n",
       "1  2020-08-07 08:41:00+00:00    85.114.141.79  Santa Isabel  São Paulo   \n",
       "2  2021-02-15 18:48:00+00:00  169.250.255.132     Mairiporã  São Paulo   \n",
       "3  2022-03-30 10:56:00+00:00   137.25.222.160       Cajamar  São Paulo   \n",
       "4  2019-09-05 01:18:00+00:00    161.114.4.174     São Paulo  São Paulo   \n",
       "\n",
       "  postal_code browser traffic_source      uri event_type  \n",
       "0   02675-031  Chrome        Adwords  /cancel     cancel  \n",
       "1   07500-000  Safari        Adwords  /cancel     cancel  \n",
       "2   07600-000      IE        Adwords  /cancel     cancel  \n",
       "3   07750-000  Chrome        Adwords  /cancel     cancel  \n",
       "4   09581-680  Chrome          Email  /cancel     cancel  "
      ]
     },
     "execution_count": 36,
     "metadata": {},
     "output_type": "execute_result"
    }
   ],
   "source": [
    "events = pd.read_csv('events.csv')\n",
    "events.head()"
   ]
  },
  {
   "cell_type": "markdown",
   "metadata": {},
   "source": [
    "From viewing the head of the data, we can see that 'city' and 'state' contain information from places outside of the United States."
   ]
  },
  {
   "cell_type": "code",
   "execution_count": 37,
   "metadata": {},
   "outputs": [
    {
     "data": {
      "text/plain": [
       "(2431963, 13)"
      ]
     },
     "execution_count": 37,
     "metadata": {},
     "output_type": "execute_result"
    }
   ],
   "source": [
    "events.shape"
   ]
  },
  {
   "cell_type": "markdown",
   "metadata": {},
   "source": [
    "Events has 2431963 rows and 13 columns before removal of non-US countries. "
   ]
  },
  {
   "cell_type": "code",
   "execution_count": 38,
   "metadata": {},
   "outputs": [
    {
     "data": {
      "text/plain": [
       "(231,)"
      ]
     },
     "execution_count": 38,
     "metadata": {},
     "output_type": "execute_result"
    }
   ],
   "source": [
    "events['state'].unique().shape"
   ]
  },
  {
   "cell_type": "markdown",
   "metadata": {},
   "source": [
    "Events has 231 unique states before removal of non-US countries."
   ]
  },
  {
   "cell_type": "code",
   "execution_count": 39,
   "metadata": {},
   "outputs": [
    {
     "name": "stdout",
     "output_type": "stream",
     "text": [
      "             State\n",
      "0          Alabama\n",
      "1           Alaska\n",
      "2          Arizona\n",
      "3         Arkansas\n",
      "4       California\n",
      "5         Colorado\n",
      "6      Connecticut\n",
      "7         Delaware\n",
      "8          Florida\n",
      "9          Georgia\n",
      "10          Hawaii\n",
      "11           Idaho\n",
      "12        Illinois\n",
      "13         Indiana\n",
      "14            Iowa\n",
      "15          Kansas\n",
      "16        Kentucky\n",
      "17       Louisiana\n",
      "18           Maine\n",
      "19        Maryland\n",
      "20   Massachusetts\n",
      "21        Michigan\n",
      "22       Minnesota\n",
      "23     Mississippi\n",
      "24        Missouri\n",
      "25         Montana\n",
      "26        Nebraska\n",
      "27          Nevada\n",
      "28   New Hampshire\n",
      "29      New Jersey\n",
      "30      New Mexico\n",
      "31        New York\n",
      "32  North Carolina\n",
      "33    North Dakota\n",
      "34            Ohio\n",
      "35        Oklahoma\n",
      "36          Oregon\n",
      "37    Pennsylvania\n",
      "38    Rhode Island\n",
      "39  South Carolina\n",
      "40    South Dakota\n",
      "41       Tennessee\n",
      "42           Texas\n",
      "43            Utah\n",
      "44         Vermont\n",
      "45        Virginia\n",
      "46      Washington\n",
      "47   West Virginia\n",
      "48       Wisconsin\n",
      "49         Wyoming\n"
     ]
    }
   ],
   "source": [
    "states = [\n",
    "    \"Alabama\", \"Alaska\", \"Arizona\", \"Arkansas\", \"California\", \"Colorado\", \n",
    "    \"Connecticut\", \"Delaware\", \"Florida\", \"Georgia\", \"Hawaii\", \"Idaho\", \n",
    "    \"Illinois\", \"Indiana\", \"Iowa\", \"Kansas\", \"Kentucky\", \"Louisiana\", \n",
    "    \"Maine\", \"Maryland\", \"Massachusetts\", \"Michigan\", \"Minnesota\", \n",
    "    \"Mississippi\", \"Missouri\", \"Montana\", \"Nebraska\", \"Nevada\", \n",
    "    \"New Hampshire\", \"New Jersey\", \"New Mexico\", \"New York\", \n",
    "    \"North Carolina\", \"North Dakota\", \"Ohio\", \"Oklahoma\", \"Oregon\", \n",
    "    \"Pennsylvania\", \"Rhode Island\", \"South Carolina\", \"South Dakota\", \n",
    "    \"Tennessee\", \"Texas\", \"Utah\", \"Vermont\", \"Virginia\", \n",
    "    \"Washington\", \"West Virginia\", \"Wisconsin\", \"Wyoming\"\n",
    "]\n",
    "\n",
    "df_states = pd.DataFrame(states, columns=[\"State\"])\n",
    "print(df_states)"
   ]
  },
  {
   "cell_type": "markdown",
   "metadata": {},
   "source": [
    "Dataframe of all US states for filtration purposes"
   ]
  },
  {
   "cell_type": "code",
   "execution_count": 40,
   "metadata": {},
   "outputs": [],
   "source": [
    "US_events = events[events['state'].str.lower().isin(df_states['State'].str.lower().tolist())]"
   ]
  },
  {
   "cell_type": "markdown",
   "metadata": {},
   "source": [
    "New dataframe for US events, filtered using the 'df_states' dataframe to only include rows with states in the US. \n",
    ".str.lower() was used to make sure capitalization didn't matter."
   ]
  },
  {
   "cell_type": "code",
   "execution_count": 41,
   "metadata": {},
   "outputs": [
    {
     "data": {
      "text/plain": [
       "(541963, 13)"
      ]
     },
     "execution_count": 41,
     "metadata": {},
     "output_type": "execute_result"
    }
   ],
   "source": [
    "US_events.shape"
   ]
  },
  {
   "cell_type": "markdown",
   "metadata": {},
   "source": [
    "After removal of non-US states, US_events contains 541963 rows and 13 columns."
   ]
  },
  {
   "cell_type": "code",
   "execution_count": 44,
   "metadata": {},
   "outputs": [
    {
     "name": "stderr",
     "output_type": "stream",
     "text": [
      "/Users/paigecaskey/Desktop/work/code study/pyenvy/lib/python3.10/site-packages/numpy/_core/fromnumeric.py:57: FutureWarning: 'DataFrame.swapaxes' is deprecated and will be removed in a future version. Please use 'DataFrame.transpose' instead.\n",
      "  return bound(*args, **kwds)\n"
     ]
    }
   ],
   "source": [
    "split = np.array_split(US_events, 6)\n",
    "for i in range(6):\n",
    "    split[i].to_csv(f'US_events_{i}.csv', index=False)"
   ]
  },
  {
   "cell_type": "markdown",
   "metadata": {},
   "source": [
    "Export US_events to 6 different files for space purposes."
   ]
  }
 ],
 "metadata": {
  "kernelspec": {
   "display_name": "pyenvy",
   "language": "python",
   "name": "python3"
  },
  "language_info": {
   "codemirror_mode": {
    "name": "ipython",
    "version": 3
   },
   "file_extension": ".py",
   "mimetype": "text/x-python",
   "name": "python",
   "nbconvert_exporter": "python",
   "pygments_lexer": "ipython3",
   "version": "3.10.2"
  }
 },
 "nbformat": 4,
 "nbformat_minor": 2
}
